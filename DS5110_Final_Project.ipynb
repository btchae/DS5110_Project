{
 "cells": [
  {
   "cell_type": "markdown",
   "metadata": {},
   "source": [
    "## DS 5110 Final Project - Hospital Mortality\n",
    "## The Grim Reapers\n",
    "### By: Elena Tsvetskova, Brian Chae, Ryan Viti (rrv7eb)"
   ]
  },
  {
   "cell_type": "code",
   "execution_count": 1,
   "metadata": {},
   "outputs": [
    {
     "data": {
      "text/plain": [
       "91713"
      ]
     },
     "execution_count": 1,
     "metadata": {},
     "output_type": "execute_result"
    }
   ],
   "source": [
    "# importing necessary libraries and packages\n",
    "from pyspark.sql import SparkSession\n",
    "import pyspark.sql.functions as F\n",
    "from pyspark.sql.functions import round, col, isnan, when, count, countDistinct, mean, floor, asc, desc\n",
    "from pyspark.ml.feature import Imputer, VectorAssembler, StandardScaler\n",
    "from pyspark.ml.stat import Correlation\n",
    "import numpy as np\n",
    "import seaborn as sns\n",
    "import matplotlib.pyplot as plt\n",
    "\n",
    "# session initialization\n",
    "spark = SparkSession.builder \\\n",
    "        .master(\"local\") \\\n",
    "        .appName(\"Team 3 Final Project\") \\\n",
    "        .getOrCreate()\n",
    "\n",
    "filename = \"hospital_mortality.csv\"\n",
    "\n",
    "data = spark.read.csv(filename, inferSchema=True, header=True)\n",
    "data.count()"
   ]
  },
  {
   "cell_type": "code",
   "execution_count": 2,
   "metadata": {},
   "outputs": [
    {
     "name": "stdout",
     "output_type": "stream",
     "text": [
      "root\n",
      " |-- encounter_id: integer (nullable = true)\n",
      " |-- patient_id: integer (nullable = true)\n",
      " |-- hospital_id: integer (nullable = true)\n",
      " |-- age: integer (nullable = true)\n",
      " |-- bmi: double (nullable = true)\n",
      " |-- elective_surgery: integer (nullable = true)\n",
      " |-- ethnicity: string (nullable = true)\n",
      " |-- gender: string (nullable = true)\n",
      " |-- height: double (nullable = true)\n",
      " |-- icu_admit_source: string (nullable = true)\n",
      " |-- icu_id: integer (nullable = true)\n",
      " |-- icu_stay_type: string (nullable = true)\n",
      " |-- icu_type: string (nullable = true)\n",
      " |-- pre_icu_los_days: double (nullable = true)\n",
      " |-- weight: double (nullable = true)\n",
      " |-- apache_2_diagnosis: integer (nullable = true)\n",
      " |-- apache_3j_diagnosis: double (nullable = true)\n",
      " |-- apache_post_operative: integer (nullable = true)\n",
      " |-- arf_apache: integer (nullable = true)\n",
      " |-- gcs_eyes_apache: integer (nullable = true)\n",
      " |-- gcs_motor_apache: integer (nullable = true)\n",
      " |-- gcs_unable_apache: integer (nullable = true)\n",
      " |-- gcs_verbal_apache: integer (nullable = true)\n",
      " |-- heart_rate_apache: integer (nullable = true)\n",
      " |-- intubated_apache: integer (nullable = true)\n",
      " |-- map_apache: integer (nullable = true)\n",
      " |-- resprate_apache: double (nullable = true)\n",
      " |-- temp_apache: double (nullable = true)\n",
      " |-- ventilated_apache: integer (nullable = true)\n",
      " |-- d1_diasbp_max: integer (nullable = true)\n",
      " |-- d1_diasbp_min: integer (nullable = true)\n",
      " |-- d1_diasbp_noninvasive_max: integer (nullable = true)\n",
      " |-- d1_diasbp_noninvasive_min: integer (nullable = true)\n",
      " |-- d1_heartrate_max: integer (nullable = true)\n",
      " |-- d1_heartrate_min: integer (nullable = true)\n",
      " |-- d1_mbp_max: integer (nullable = true)\n",
      " |-- d1_mbp_min: integer (nullable = true)\n",
      " |-- d1_mbp_noninvasive_max: integer (nullable = true)\n",
      " |-- d1_mbp_noninvasive_min: integer (nullable = true)\n",
      " |-- d1_resprate_max: integer (nullable = true)\n",
      " |-- d1_resprate_min: integer (nullable = true)\n",
      " |-- d1_spo2_max: integer (nullable = true)\n",
      " |-- d1_spo2_min: integer (nullable = true)\n",
      " |-- d1_sysbp_max: integer (nullable = true)\n",
      " |-- d1_sysbp_min: integer (nullable = true)\n",
      " |-- d1_sysbp_noninvasive_max: integer (nullable = true)\n",
      " |-- d1_sysbp_noninvasive_min: double (nullable = true)\n",
      " |-- d1_temp_max: double (nullable = true)\n",
      " |-- d1_temp_min: double (nullable = true)\n",
      " |-- h1_diasbp_max: integer (nullable = true)\n",
      " |-- h1_diasbp_min: integer (nullable = true)\n",
      " |-- h1_diasbp_noninvasive_max: integer (nullable = true)\n",
      " |-- h1_diasbp_noninvasive_min: integer (nullable = true)\n",
      " |-- h1_heartrate_max: integer (nullable = true)\n",
      " |-- h1_heartrate_min: integer (nullable = true)\n",
      " |-- h1_mbp_max: integer (nullable = true)\n",
      " |-- h1_mbp_min: integer (nullable = true)\n",
      " |-- h1_mbp_noninvasive_max: integer (nullable = true)\n",
      " |-- h1_mbp_noninvasive_min: integer (nullable = true)\n",
      " |-- h1_resprate_max: integer (nullable = true)\n",
      " |-- h1_resprate_min: integer (nullable = true)\n",
      " |-- h1_spo2_max: integer (nullable = true)\n",
      " |-- h1_spo2_min: integer (nullable = true)\n",
      " |-- h1_sysbp_max: integer (nullable = true)\n",
      " |-- h1_sysbp_min: integer (nullable = true)\n",
      " |-- h1_sysbp_noninvasive_max: integer (nullable = true)\n",
      " |-- h1_sysbp_noninvasive_min: integer (nullable = true)\n",
      " |-- d1_glucose_max: integer (nullable = true)\n",
      " |-- d1_glucose_min: integer (nullable = true)\n",
      " |-- d1_potassium_max: double (nullable = true)\n",
      " |-- d1_potassium_min: double (nullable = true)\n",
      " |-- apache_4a_hospital_death_prob: double (nullable = true)\n",
      " |-- apache_4a_icu_death_prob: double (nullable = true)\n",
      " |-- aids: integer (nullable = true)\n",
      " |-- cirrhosis: integer (nullable = true)\n",
      " |-- diabetes_mellitus: integer (nullable = true)\n",
      " |-- hepatic_failure: integer (nullable = true)\n",
      " |-- immunosuppression: integer (nullable = true)\n",
      " |-- leukemia: integer (nullable = true)\n",
      " |-- lymphoma: integer (nullable = true)\n",
      " |-- solid_tumor_with_metastasis: integer (nullable = true)\n",
      " |-- apache_3j_bodysystem: string (nullable = true)\n",
      " |-- apache_2_bodysystem: string (nullable = true)\n",
      " |-- _c83: string (nullable = true)\n",
      " |-- hospital_death: integer (nullable = true)\n",
      "\n"
     ]
    }
   ],
   "source": [
    "# printing original dataset schema\n",
    "data.printSchema()"
   ]
  },
  {
   "cell_type": "markdown",
   "metadata": {},
   "source": [
    "## Data Preprocessing / EDA"
   ]
  },
  {
   "cell_type": "code",
   "execution_count": 3,
   "metadata": {},
   "outputs": [],
   "source": [
    "data = data.drop(\"_c83\", \"patient_id\", \"encounter_id\", \"hospital_id\", \"icu_id\", \"icu_stay_type\") # id columns and column with no information\n",
    "colsToDrop = [] # keeping a running list of columns to drop for the end of preprocessing"
   ]
  },
  {
   "cell_type": "markdown",
   "metadata": {},
   "source": [
    "147 unique hospitals and 241 unique ICU's in the dataset, which could provide information about survival."
   ]
  },
  {
   "cell_type": "markdown",
   "metadata": {},
   "source": [
    "### Experimenting with NA Origins for Certain Columns"
   ]
  },
  {
   "cell_type": "code",
   "execution_count": 4,
   "metadata": {},
   "outputs": [
    {
     "name": "stdout",
     "output_type": "stream",
     "text": [
      "+----+----+----------------+---------+------+------+----------------+--------+----------------+------+------------------+-------------------+---------------------+----------+---------------+----------------+-----------------+-----------------+-----------------+----------------+----------+---------------+-----------+-----------------+-------------+-------------+-------------------------+-------------------------+----------------+----------------+----------+----------+----------------------+----------------------+---------------+---------------+-----------+-----------+------------+------------+------------------------+------------------------+-----------+-----------+-------------+-------------+-------------------------+-------------------------+----------------+----------------+----------+----------+----------------------+----------------------+---------------+---------------+-----------+-----------+------------+------------+------------------------+------------------------+--------------+--------------+----------------+----------------+-----------------------------+------------------------+----+---------+-----------------+---------------+-----------------+--------+--------+---------------------------+--------------------+-------------------+--------------+\n",
      "| age| bmi|elective_surgery|ethnicity|gender|height|icu_admit_source|icu_type|pre_icu_los_days|weight|apache_2_diagnosis|apache_3j_diagnosis|apache_post_operative|arf_apache|gcs_eyes_apache|gcs_motor_apache|gcs_unable_apache|gcs_verbal_apache|heart_rate_apache|intubated_apache|map_apache|resprate_apache|temp_apache|ventilated_apache|d1_diasbp_max|d1_diasbp_min|d1_diasbp_noninvasive_max|d1_diasbp_noninvasive_min|d1_heartrate_max|d1_heartrate_min|d1_mbp_max|d1_mbp_min|d1_mbp_noninvasive_max|d1_mbp_noninvasive_min|d1_resprate_max|d1_resprate_min|d1_spo2_max|d1_spo2_min|d1_sysbp_max|d1_sysbp_min|d1_sysbp_noninvasive_max|d1_sysbp_noninvasive_min|d1_temp_max|d1_temp_min|h1_diasbp_max|h1_diasbp_min|h1_diasbp_noninvasive_max|h1_diasbp_noninvasive_min|h1_heartrate_max|h1_heartrate_min|h1_mbp_max|h1_mbp_min|h1_mbp_noninvasive_max|h1_mbp_noninvasive_min|h1_resprate_max|h1_resprate_min|h1_spo2_max|h1_spo2_min|h1_sysbp_max|h1_sysbp_min|h1_sysbp_noninvasive_max|h1_sysbp_noninvasive_min|d1_glucose_max|d1_glucose_min|d1_potassium_max|d1_potassium_min|apache_4a_hospital_death_prob|apache_4a_icu_death_prob|aids|cirrhosis|diabetes_mellitus|hepatic_failure|immunosuppression|leukemia|lymphoma|solid_tumor_with_metastasis|apache_3j_bodysystem|apache_2_bodysystem|hospital_death|\n",
      "+----+----+----------------+---------+------+------+----------------+--------+----------------+------+------------------+-------------------+---------------------+----------+---------------+----------------+-----------------+-----------------+-----------------+----------------+----------+---------------+-----------+-----------------+-------------+-------------+-------------------------+-------------------------+----------------+----------------+----------+----------+----------------------+----------------------+---------------+---------------+-----------+-----------+------------+------------+------------------------+------------------------+-----------+-----------+-------------+-------------+-------------------------+-------------------------+----------------+----------------+----------+----------+----------------------+----------------------+---------------+---------------+-----------+-----------+------------+------------+------------------------+------------------------+--------------+--------------+----------------+----------------+-----------------------------+------------------------+----+---------+-----------------+---------------+-----------------+--------+--------+---------------------------+--------------------+-------------------+--------------+\n",
      "|4228|3429|               0|     1395|    25|  1334|             112|       0|               0|  2720|              1662|               1101|                    0|       715|           1901|            1901|             1037|             1901|              878|             715|       994|           1234|       4108|              715|          165|          165|                     1040|                     1040|             145|             145|       220|       220|                  1479|                  1479|            385|            385|        333|        333|         159|         159|                    1027|                    1027|       2324|       2324|         3619|         3619|                     7350|                     7350|            2790|            2790|      4639|      4639|                  9084|                  9084|           4357|           4357|       4185|       4185|        3611|        3611|                    7341|                    7341|          5807|          5807|            9585|            9585|                         7947|                    7947| 715|      715|              715|            715|              715|     715|     715|                        715|                1662|               1662|             0|\n",
      "+----+----+----------------+---------+------+------+----------------+--------+----------------+------+------------------+-------------------+---------------------+----------+---------------+----------------+-----------------+-----------------+-----------------+----------------+----------+---------------+-----------+-----------------+-------------+-------------+-------------------------+-------------------------+----------------+----------------+----------+----------+----------------------+----------------------+---------------+---------------+-----------+-----------+------------+------------+------------------------+------------------------+-----------+-----------+-------------+-------------+-------------------------+-------------------------+----------------+----------------+----------+----------+----------------------+----------------------+---------------+---------------+-----------+-----------+------------+------------+------------------------+------------------------+--------------+--------------+----------------+----------------+-----------------------------+------------------------+----+---------+-----------------+---------------+-----------------+--------+--------+---------------------------+--------------------+-------------------+--------------+\n",
      "\n"
     ]
    }
   ],
   "source": [
    "# Quantifying amount of null values in each column of the dataset\n",
    "\n",
    "naCountsDf = data.select([count(when(col(c).isNull(), c)).alias(c) for c in data.columns])\n",
    "naCountsDf.show()"
   ]
  },
  {
   "cell_type": "code",
   "execution_count": 5,
   "metadata": {},
   "outputs": [
    {
     "name": "stdout",
     "output_type": "stream",
     "text": [
      "+-------------------------+-------------------------+----------------------+----------------------+------------------------+------------------------+-------------------------+-------------------------+----------------------+----------------------+------------------------+------------------------+\n",
      "|d1_diasbp_noninvasive_max|d1_diasbp_noninvasive_min|d1_mbp_noninvasive_max|d1_mbp_noninvasive_min|d1_sysbp_noninvasive_max|d1_sysbp_noninvasive_min|h1_diasbp_noninvasive_max|h1_diasbp_noninvasive_min|h1_mbp_noninvasive_max|h1_mbp_noninvasive_min|h1_sysbp_noninvasive_max|h1_sysbp_noninvasive_min|\n",
      "+-------------------------+-------------------------+----------------------+----------------------+------------------------+------------------------+-------------------------+-------------------------+----------------------+----------------------+------------------------+------------------------+\n",
      "|                     1040|                     1040|                  1479|                  1479|                    1027|                    1027|                     7350|                     7350|                  9084|                  9084|                    7341|                    7341|\n",
      "+-------------------------+-------------------------+----------------------+----------------------+------------------------+------------------------+-------------------------+-------------------------+----------------------+----------------------+------------------------+------------------------+\n",
      "\n"
     ]
    }
   ],
   "source": [
    "naCountsNoninvasive = naCountsDf.select(*filter(lambda col: 'noninvasive' in col, naCountsDf.columns))\n",
    "naCountsNoninvasive.show()"
   ]
  },
  {
   "cell_type": "code",
   "execution_count": 6,
   "metadata": {},
   "outputs": [
    {
     "name": "stdout",
     "output_type": "stream",
     "text": [
      "+-------------+-------------+----------+----------+------------+------------+-------------+-------------+----------+----------+\n",
      "|d1_diasbp_max|d1_diasbp_min|d1_mbp_max|d1_mbp_min|d1_sysbp_max|d1_sysbp_min|h1_diasbp_max|h1_diasbp_min|h1_mbp_max|h1_mbp_min|\n",
      "+-------------+-------------+----------+----------+------------+------------+-------------+-------------+----------+----------+\n",
      "|          165|          165|       220|       220|         159|         159|         3619|         3619|      4639|      4639|\n",
      "+-------------+-------------+----------+----------+------------+------------+-------------+-------------+----------+----------+\n",
      "\n"
     ]
    }
   ],
   "source": [
    "naCountsInvasive = naCountsDf.select([col for col in naCountsDf.columns if (col.startswith((\"h1_diasbp\",\"d1_diasbp\",\"h1_mbp\", \"d1_sysbp\",\"d1_mbp\")) and ('noninvasive' not in col))])\n",
    "naCountsInvasive.show()"
   ]
  },
  {
   "cell_type": "markdown",
   "metadata": {},
   "source": [
    "Dropping noninvasive measurement columns due to their higher frequency of NAs, overall higher accuracy of its invasive counterparts, and potential for high correlations between them."
   ]
  },
  {
   "cell_type": "code",
   "execution_count": 7,
   "metadata": {},
   "outputs": [
    {
     "data": {
      "text/plain": [
       "67"
      ]
     },
     "execution_count": 7,
     "metadata": {},
     "output_type": "execute_result"
    }
   ],
   "source": [
    "# dropping noninvasive measurements due to high frequency of NA and lower accuracy of a noninvasive measurement\n",
    "condition = lambda col: 'noninvasive' in col\n",
    "data = data.drop(*filter(condition, data.columns))\n",
    "# amount of columns remaining after dropping\n",
    "len(data.columns)"
   ]
  },
  {
   "cell_type": "code",
   "execution_count": 42,
   "metadata": {},
   "outputs": [
    {
     "data": {
      "text/plain": [
       "encounter_id                   False\n",
       "patient_id                     False\n",
       "hospital_id                    False\n",
       "age                             True\n",
       "bmi                             True\n",
       "                               ...  \n",
       "lymphoma                        True\n",
       "solid_tumor_with_metastasis     True\n",
       "apache_3j_bodysystem            True\n",
       "apache_2_bodysystem             True\n",
       "hospital_death                 False\n",
       "Length: 84, dtype: bool"
      ]
     },
     "execution_count": 42,
     "metadata": {},
     "output_type": "execute_result"
    }
   ],
   "source": [
    "import pandas as pd\n",
    "eda_viz_df = pd.read_csv('hospital_mortality.csv')\n",
    "eda_viz_df = eda_viz_df.drop(columns=['Unnamed: 83'])\n",
    "eda_viz_df.isna().any()"
   ]
  },
  {
   "cell_type": "code",
   "execution_count": 43,
   "metadata": {},
   "outputs": [
    {
     "data": {
      "image/png": "[encoded data removed]",
      "text/plain": [
       "<Figure size 640x480 with 1 Axes>"
      ]
     },
     "metadata": {},
     "output_type": "display_data"
    }
   ],
   "source": [
    "import matplotlib.pyplot as plt\n",
    "def plot_nas(df: pd.DataFrame):\n",
    "    if df.isnull().sum().sum() != 0:\n",
    "        na_df = (df.isnull().sum() / len(df)) * 100      \n",
    "        na_df = na_df.drop(na_df[na_df == 0].index).sort_values(ascending=False)\n",
    "        na_df = na_df.drop(na_df[na_df < 3].index).sort_values(ascending=False)#added to make chart smaller\n",
    "        missing_data = pd.DataFrame({'Missing Ratio %' :na_df})\n",
    "        missing_data.plot(kind = \"barh\")\n",
    "        plot_width, plot_height = (10,10)\n",
    "        plt.rcParams['figure.figsize'] = (plot_width,plot_height)\n",
    "        plt.show()\n",
    "    else:\n",
    "        print('No NAs found')\n",
    "plot_nas(eda_viz_df)"
   ]
  },
  {
   "cell_type": "code",
   "execution_count": 44,
   "metadata": {},
   "outputs": [
    {
     "data": {
      "text/html": [
       "<div>\n",
       "<style scoped>\n",
       "    .dataframe tbody tr th:only-of-type {\n",
       "        vertical-align: middle;\n",
       "    }\n",
       "\n",
       "    .dataframe tbody tr th {\n",
       "        vertical-align: top;\n",
       "    }\n",
       "\n",
       "    .dataframe thead th {\n",
       "        text-align: right;\n",
       "    }\n",
       "</style>\n",
       "<table border=\"1\" class=\"dataframe\">\n",
       "  <thead>\n",
       "    <tr style=\"text-align: right;\">\n",
       "      <th></th>\n",
       "      <th>hospital_id</th>\n",
       "      <th>icu_admit_source</th>\n",
       "      <th>d1_potassium_min</th>\n",
       "    </tr>\n",
       "  </thead>\n",
       "  <tbody>\n",
       "    <tr>\n",
       "      <th>0</th>\n",
       "      <td>118</td>\n",
       "      <td>Floor</td>\n",
       "      <td>3.4</td>\n",
       "    </tr>\n",
       "    <tr>\n",
       "      <th>1</th>\n",
       "      <td>81</td>\n",
       "      <td>Floor</td>\n",
       "      <td>3.8</td>\n",
       "    </tr>\n",
       "    <tr>\n",
       "      <th>2</th>\n",
       "      <td>118</td>\n",
       "      <td>Accident &amp; Emergency</td>\n",
       "      <td>NaN</td>\n",
       "    </tr>\n",
       "    <tr>\n",
       "      <th>3</th>\n",
       "      <td>118</td>\n",
       "      <td>Operating Room / Recovery</td>\n",
       "      <td>3.5</td>\n",
       "    </tr>\n",
       "    <tr>\n",
       "      <th>4</th>\n",
       "      <td>33</td>\n",
       "      <td>Accident &amp; Emergency</td>\n",
       "      <td>NaN</td>\n",
       "    </tr>\n",
       "    <tr>\n",
       "      <th>...</th>\n",
       "      <td>...</td>\n",
       "      <td>...</td>\n",
       "      <td>...</td>\n",
       "    </tr>\n",
       "    <tr>\n",
       "      <th>91708</th>\n",
       "      <td>30</td>\n",
       "      <td>Floor</td>\n",
       "      <td>4.2</td>\n",
       "    </tr>\n",
       "    <tr>\n",
       "      <th>91709</th>\n",
       "      <td>121</td>\n",
       "      <td>Floor</td>\n",
       "      <td>3.8</td>\n",
       "    </tr>\n",
       "    <tr>\n",
       "      <th>91710</th>\n",
       "      <td>195</td>\n",
       "      <td>Accident &amp; Emergency</td>\n",
       "      <td>3.2</td>\n",
       "    </tr>\n",
       "    <tr>\n",
       "      <th>91711</th>\n",
       "      <td>66</td>\n",
       "      <td>Accident &amp; Emergency</td>\n",
       "      <td>NaN</td>\n",
       "    </tr>\n",
       "    <tr>\n",
       "      <th>91712</th>\n",
       "      <td>104</td>\n",
       "      <td>Operating Room / Recovery</td>\n",
       "      <td>4.9</td>\n",
       "    </tr>\n",
       "  </tbody>\n",
       "</table>\n",
       "<p>91713 rows × 3 columns</p>\n",
       "</div>"
      ],
      "text/plain": [
       "       hospital_id           icu_admit_source  d1_potassium_min\n",
       "0              118                      Floor               3.4\n",
       "1               81                      Floor               3.8\n",
       "2              118       Accident & Emergency               NaN\n",
       "3              118  Operating Room / Recovery               3.5\n",
       "4               33       Accident & Emergency               NaN\n",
       "...            ...                        ...               ...\n",
       "91708           30                      Floor               4.2\n",
       "91709          121                      Floor               3.8\n",
       "91710          195       Accident & Emergency               3.2\n",
       "91711           66       Accident & Emergency               NaN\n",
       "91712          104  Operating Room / Recovery               4.9\n",
       "\n",
       "[91713 rows x 3 columns]"
      ]
     },
     "execution_count": 44,
     "metadata": {},
     "output_type": "execute_result"
    }
   ],
   "source": [
    "df_new = eda_viz_df[['hospital_id', 'icu_admit_source', 'd1_potassium_min']]\n",
    "df_new"
   ]
  },
  {
   "cell_type": "code",
   "execution_count": 45,
   "metadata": {},
   "outputs": [
    {
     "data": {
      "text/plain": [
       "array([118,  33,  83, 149,  46,  77,  31, 151,  69,  81, 113,  63, 168,\n",
       "       137, 140, 102,  89, 150,  34, 124,  68, 198, 129,   4,  91, 138,\n",
       "       174, 169,  57, 177, 134,  85,  78,  95, 155, 105, 116,  98,   5,\n",
       "        76, 128,  79,  32,  44, 112, 136,  55, 161, 147,  23, 179,  88,\n",
       "       119, 171,  17,  72, 130, 204,  10, 109, 117, 202,  70,  62,  16,\n",
       "       199,  54, 160, 107,  87,  20, 100, 132,  14, 186,  53,  21, 182,\n",
       "        99,  71,  24, 189,  60, 200,  26, 133, 194, 111,  27,   8, 176,\n",
       "        90,  80, 187, 101,  39, 192,  43,  19, 145,  94,  40,  50, 180,\n",
       "         9, 159, 166, 125,  37, 135, 185,  92,  64, 157,  51, 139,  13,\n",
       "       158,  47, 103, 196,  18, 197, 181,  38,   2, 188,  15,  49,  35,\n",
       "       146, 142, 167,  29,  36,   6, 121,  30, 183, 195, 104,  66, 184])"
      ]
     },
     "execution_count": 45,
     "metadata": {},
     "output_type": "execute_result"
    }
   ],
   "source": [
    "#Seeing if hospital_id has something to do with measuring potassium\n",
    "df_new[df_new['d1_potassium_min'].isnull()].hospital_id.unique()"
   ]
  },
  {
   "cell_type": "code",
   "execution_count": 46,
   "metadata": {},
   "outputs": [
    {
     "data": {
      "text/plain": [
       "array(['Accident & Emergency', 'Operating Room / Recovery', 'Floor',\n",
       "       'Other ICU', 'Other Hospital', nan], dtype=object)"
      ]
     },
     "execution_count": 46,
     "metadata": {},
     "output_type": "execute_result"
    }
   ],
   "source": [
    "#Seeing if ICU admit source has something to do with measuring potassium\n",
    "df_new[df_new['d1_potassium_min'].isnull()].icu_admit_source.unique()"
   ]
  },
  {
   "cell_type": "code",
   "execution_count": 47,
   "metadata": {},
   "outputs": [
    {
     "data": {
      "text/html": [
       "<div>\n",
       "<style scoped>\n",
       "    .dataframe tbody tr th:only-of-type {\n",
       "        vertical-align: middle;\n",
       "    }\n",
       "\n",
       "    .dataframe tbody tr th {\n",
       "        vertical-align: top;\n",
       "    }\n",
       "\n",
       "    .dataframe thead th {\n",
       "        text-align: right;\n",
       "    }\n",
       "</style>\n",
       "<table border=\"1\" class=\"dataframe\">\n",
       "  <thead>\n",
       "    <tr style=\"text-align: right;\">\n",
       "      <th></th>\n",
       "      <th>hospital_id</th>\n",
       "      <th>icu_admit_source</th>\n",
       "      <th>h1_mbp_noninvasive_min</th>\n",
       "    </tr>\n",
       "  </thead>\n",
       "  <tbody>\n",
       "    <tr>\n",
       "      <th>0</th>\n",
       "      <td>118</td>\n",
       "      <td>Floor</td>\n",
       "      <td>85.0</td>\n",
       "    </tr>\n",
       "    <tr>\n",
       "      <th>1</th>\n",
       "      <td>81</td>\n",
       "      <td>Floor</td>\n",
       "      <td>57.0</td>\n",
       "    </tr>\n",
       "    <tr>\n",
       "      <th>2</th>\n",
       "      <td>118</td>\n",
       "      <td>Accident &amp; Emergency</td>\n",
       "      <td>83.0</td>\n",
       "    </tr>\n",
       "    <tr>\n",
       "      <th>3</th>\n",
       "      <td>118</td>\n",
       "      <td>Operating Room / Recovery</td>\n",
       "      <td>NaN</td>\n",
       "    </tr>\n",
       "    <tr>\n",
       "      <th>4</th>\n",
       "      <td>33</td>\n",
       "      <td>Accident &amp; Emergency</td>\n",
       "      <td>92.0</td>\n",
       "    </tr>\n",
       "    <tr>\n",
       "      <th>...</th>\n",
       "      <td>...</td>\n",
       "      <td>...</td>\n",
       "      <td>...</td>\n",
       "    </tr>\n",
       "    <tr>\n",
       "      <th>91708</th>\n",
       "      <td>30</td>\n",
       "      <td>Floor</td>\n",
       "      <td>55.0</td>\n",
       "    </tr>\n",
       "    <tr>\n",
       "      <th>91709</th>\n",
       "      <td>121</td>\n",
       "      <td>Floor</td>\n",
       "      <td>68.0</td>\n",
       "    </tr>\n",
       "    <tr>\n",
       "      <th>91710</th>\n",
       "      <td>195</td>\n",
       "      <td>Accident &amp; Emergency</td>\n",
       "      <td>NaN</td>\n",
       "    </tr>\n",
       "    <tr>\n",
       "      <th>91711</th>\n",
       "      <td>66</td>\n",
       "      <td>Accident &amp; Emergency</td>\n",
       "      <td>NaN</td>\n",
       "    </tr>\n",
       "    <tr>\n",
       "      <th>91712</th>\n",
       "      <td>104</td>\n",
       "      <td>Operating Room / Recovery</td>\n",
       "      <td>56.0</td>\n",
       "    </tr>\n",
       "  </tbody>\n",
       "</table>\n",
       "<p>91713 rows × 3 columns</p>\n",
       "</div>"
      ],
      "text/plain": [
       "       hospital_id           icu_admit_source  h1_mbp_noninvasive_min\n",
       "0              118                      Floor                    85.0\n",
       "1               81                      Floor                    57.0\n",
       "2              118       Accident & Emergency                    83.0\n",
       "3              118  Operating Room / Recovery                     NaN\n",
       "4               33       Accident & Emergency                    92.0\n",
       "...            ...                        ...                     ...\n",
       "91708           30                      Floor                    55.0\n",
       "91709          121                      Floor                    68.0\n",
       "91710          195       Accident & Emergency                     NaN\n",
       "91711           66       Accident & Emergency                     NaN\n",
       "91712          104  Operating Room / Recovery                    56.0\n",
       "\n",
       "[91713 rows x 3 columns]"
      ]
     },
     "execution_count": 47,
     "metadata": {},
     "output_type": "execute_result"
    }
   ],
   "source": [
    "df_new1 = eda_viz_df[['hospital_id', 'icu_admit_source', 'h1_mbp_noninvasive_min']]\n",
    "df_new1"
   ]
  },
  {
   "cell_type": "code",
   "execution_count": 48,
   "metadata": {},
   "outputs": [
    {
     "data": {
      "text/plain": [
       "array([118,  83, 149,  31,  77,  46,  33,  81,  69, 151,  63, 113,  89,\n",
       "       137, 168,  34,  91, 198, 129, 102, 140, 124, 150,  68,  74,   4,\n",
       "       138, 169, 174,  78,  85,  57, 134, 155, 177,  95,  76,   5, 116,\n",
       "       105,  98, 171, 161, 128, 147, 112,  55, 136,  23,  32, 179,  17,\n",
       "        79,  44, 119,  88, 204, 109,  10, 202, 117,  70,  16, 199,  62,\n",
       "        54, 160, 186, 107, 100,  14,  53,  87, 132,  20,  21,  99,  71,\n",
       "       182,  24,  60, 200,  84, 189, 133,  26, 194,  27,   8, 111, 176,\n",
       "        39, 187,  80, 101,  90,  19,  43, 192, 145,  40, 180,   9,  94,\n",
       "        50,  93, 125,  64, 185, 135, 139, 157,  37,  92,  13, 159,  51,\n",
       "       166, 196,  47, 103,  18, 197,  38, 181, 158, 142, 188,  35,   2,\n",
       "        49, 146,  15,  36,  29, 167,  30, 121, 104, 195, 183,   6,   3,\n",
       "       184,  66])"
      ]
     },
     "execution_count": 48,
     "metadata": {},
     "output_type": "execute_result"
    }
   ],
   "source": [
    "#Seeing if hospital_id has something to do with measuring mbp\n",
    "df_new1[df_new1['h1_mbp_noninvasive_min'].isnull()].hospital_id.unique()"
   ]
  },
  {
   "cell_type": "code",
   "execution_count": 49,
   "metadata": {},
   "outputs": [
    {
     "data": {
      "text/plain": [
       "array(['Operating Room / Recovery', 'Accident & Emergency', 'Floor',\n",
       "       'Other Hospital', 'Other ICU', nan], dtype=object)"
      ]
     },
     "execution_count": 49,
     "metadata": {},
     "output_type": "execute_result"
    }
   ],
   "source": [
    "#Seeing if ICU admit source has something to do with measuring mbp\n",
    "df_new1[df_new1['h1_mbp_noninvasive_min'].isnull()].icu_admit_source.unique()"
   ]
  },
  {
   "cell_type": "code",
   "execution_count": 64,
   "metadata": {},
   "outputs": [
    {
     "data": {
      "image/png": "[encoded data removed]",
      "text/plain": [
       "<Figure size 500x500 with 1 Axes>"
      ]
     },
     "metadata": {},
     "output_type": "display_data"
    }
   ],
   "source": [
    "#Deathrate by gender\n",
    "def plot_gender(df: pd.DataFrame):\n",
    "    a = df[['gender','hospital_death']][(df['gender']=='M') & (df['hospital_death']==1)]\n",
    "    b = df[['gender','hospital_death']][(df['gender']=='F') & (df['hospital_death']==1)]\n",
    "    d_ratem = len(a)/df['gender'].value_counts()['M']\n",
    "    d_ratef = len(b)/(df['gender'].value_counts()['F'])\n",
    "    g_data = pd.DataFrame({\n",
    "        'Gender': ['M', 'F'],\n",
    "        'Death_rate': [d_ratem*100, d_ratef*100]\n",
    "    })\n",
    "    g_data.index = g_data['Gender']\n",
    "    g_data.plot(kind='bar')\n",
    "    plot_width, plot_height = (8,5)\n",
    "    plt.rcParams['figure.figsize'] = (plot_width,plot_height)\n",
    "    plt.show()\n",
    "plot_gender(eda_viz_df)"
   ]
  },
  {
   "cell_type": "code",
   "execution_count": 55,
   "metadata": {},
   "outputs": [
    {
     "data": {
      "image/png": "[encoded data removed]",
      "text/plain": [
       "<Figure size 500x300 with 1 Axes>"
      ]
     },
     "metadata": {},
     "output_type": "display_data"
    }
   ],
   "source": [
    "#Deathrate by Ethnicity\n",
    "def plot_ethnicity(df: pd.DataFrame):\n",
    "    a = df[['ethnicity','hospital_death']][(df['ethnicity']=='Caucasian') & (df['hospital_death']==1)]\n",
    "    b = df[['ethnicity','hospital_death']][(df['ethnicity']=='Hispanic') & (df['hospital_death']==1)]\n",
    "    c = df[['ethnicity','hospital_death']][(df['ethnicity']=='African American') & (df['hospital_death']==1)]\n",
    "    d = df[['ethnicity','hospital_death']][(df['ethnicity']=='Asian') & (df['hospital_death']==1)]\n",
    "    e = df[['ethnicity','hospital_death']][(df['ethnicity']=='Native American') & (df['hospital_death']==1)]\n",
    "    f = df[['ethnicity','hospital_death']][(df['ethnicity']=='Other/Unknown') & (df['hospital_death']==1)]\n",
    "    d_ratew = len(a)/df['ethnicity'].value_counts()['Caucasian']\n",
    "    d_rateh = len(b)/df['ethnicity'].value_counts()['Hispanic']\n",
    "    d_rateb = len(c)/df['ethnicity'].value_counts()['African American']\n",
    "    d_ratea = len(d)/df['ethnicity'].value_counts()['Asian']\n",
    "    d_raten = len(e)/df['ethnicity'].value_counts()['Native American']\n",
    "    d_rateo = len(f)/df['ethnicity'].value_counts()['Other/Unknown']\n",
    "    g_data = pd.DataFrame({\n",
    "        'Ethnicity': ['Caucasian', 'Hispanic', 'African American', 'Asian', 'Native American', 'Other/Unknown'],\n",
    "        'Death_rate': [d_ratew*100, d_rateh*100, d_rateb*100, d_ratea*100, d_raten*100, d_rateo*100]\n",
    "    })\n",
    "    g_data.index = g_data['Ethnicity']\n",
    "    g_data.plot(kind='bar')\n",
    "    plot_width, plot_height = (2,2)\n",
    "    plt.rcParams['figure.figsize'] = (plot_width,plot_height)\n",
    "    plt.show()\n",
    "plot_ethnicity(eda_viz_df)"
   ]
  },
  {
   "cell_type": "code",
   "execution_count": 8,
   "metadata": {},
   "outputs": [
    {
     "data": {
      "image/png": "[encoded data removed]",
      "text/plain": [
       "<Figure size 500x500 with 1 Axes>"
      ]
     },
     "metadata": {},
     "output_type": "display_data"
    }
   ],
   "source": [
    "pandas_df = data.toPandas()\n",
    "sns.catplot(x=\"icu_admit_source\",y=\"hospital_death\",kind=\"bar\",data=pandas_df)\n",
    "plt.xticks(rotation=90)\n",
    "plt.xlabel(\"ICU Admit Source\")\n",
    "plt.ylabel(\"Hospital Death Ratio\")\n",
    "plt.savefig(\"ICU_admit_source.png\")\n",
    "plt.show()"
   ]
  },
  {
   "cell_type": "markdown",
   "metadata": {},
   "source": [
    "There are significant differences in death rates by the ICU admit source; this could be a potentially predictive variable."
   ]
  },
  {
   "cell_type": "code",
   "execution_count": 9,
   "metadata": {},
   "outputs": [],
   "source": [
    "# continuing null value analysis on our dataset\n",
    "num_nulls_df = data.withColumn('numNulls', sum(data[col].isNull().cast('int') for col in data.columns))\n",
    "less_nulls_df = num_nulls_df.filter(col('h1_mbp_min').isNotNull())\n",
    "x = range(1,11)\n",
    "y = []\n",
    "for i in range(1, 11):\n",
    "    y.append(less_nulls_df.filter(less_nulls_df.numNulls < i).count())"
   ]
  },
  {
   "cell_type": "code",
   "execution_count": 10,
   "metadata": {},
   "outputs": [
    {
     "data": {
      "image/png": "[encoded data removed]",
      "text/plain": [
       "<Figure size 640x480 with 1 Axes>"
      ]
     },
     "metadata": {},
     "output_type": "display_data"
    }
   ],
   "source": [
    "plt.title('# of Records Left Given Amount of Nulls Allowed per Row')\n",
    "plt.xlabel('# of Nulls')\n",
    "plt.ylabel('# of Records')\n",
    "plt.plot(x, y)\n",
    "plt.show()"
   ]
  },
  {
   "cell_type": "code",
   "execution_count": 11,
   "metadata": {},
   "outputs": [
    {
     "name": "stdout",
     "output_type": "stream",
     "text": [
      "+--------------------------------+\n",
      "|avg(numNulls AS `AVG Nulls/Row`)|\n",
      "+--------------------------------+\n",
      "|               4.505564741795981|\n",
      "+--------------------------------+\n",
      "\n"
     ]
    }
   ],
   "source": [
    "# Computing the average number of nulls per row, for reference\n",
    "num_nulls_column = num_nulls_df.select(\"numNulls\")\n",
    "filtered = num_nulls_column.filter(col(\"numNulls\")!= 0)\n",
    "filtered.select(mean(col(\"numNulls\").alias(\"AVG Nulls/Row\"))).show()"
   ]
  },
  {
   "cell_type": "markdown",
   "metadata": {},
   "source": [
    "#### Using a threshold of 5 nulls per row, due to the apparent elbow in our Records vs. Nulls plot.  Also, this value of nulls is around the average number of nulls present in our most recent working version of the dataset."
   ]
  },
  {
   "cell_type": "code",
   "execution_count": 12,
   "metadata": {},
   "outputs": [],
   "source": [
    "less_nulls_df = less_nulls_df.filter(less_nulls_df.numNulls < 5)\n",
    "# dropping these columns due to having a similar role to our label variable, as well as the high number of NAs per column weighed against the information provided in a healthcare context\n",
    "colsToDrop.append(\"apache_4a_hospital_death_prob\")\n",
    "colsToDrop.append(\"apache_4a_icu_death_prob\")\n",
    "colsToDrop.append(\"d1_potassium_max\")\n",
    "colsToDrop.append(\"d1_potassium_min\")\n",
    "colsToDrop.append(\"numNulls\")"
   ]
  },
  {
   "cell_type": "code",
   "execution_count": 13,
   "metadata": {},
   "outputs": [
    {
     "name": "stdout",
     "output_type": "stream",
     "text": [
      "root\n",
      " |-- age: integer (nullable = true)\n",
      " |-- bmi: double (nullable = true)\n",
      " |-- elective_surgery: integer (nullable = true)\n",
      " |-- ethnicity: string (nullable = true)\n",
      " |-- gender: string (nullable = true)\n",
      " |-- height: double (nullable = true)\n",
      " |-- icu_admit_source: string (nullable = true)\n",
      " |-- icu_type: string (nullable = true)\n",
      " |-- pre_icu_los_days: double (nullable = true)\n",
      " |-- weight: double (nullable = true)\n",
      " |-- apache_2_diagnosis: integer (nullable = true)\n",
      " |-- apache_3j_diagnosis: double (nullable = true)\n",
      " |-- apache_post_operative: integer (nullable = true)\n",
      " |-- arf_apache: integer (nullable = true)\n",
      " |-- gcs_eyes_apache: integer (nullable = true)\n",
      " |-- gcs_motor_apache: integer (nullable = true)\n",
      " |-- gcs_unable_apache: integer (nullable = true)\n",
      " |-- gcs_verbal_apache: integer (nullable = true)\n",
      " |-- heart_rate_apache: integer (nullable = true)\n",
      " |-- intubated_apache: integer (nullable = true)\n",
      " |-- map_apache: integer (nullable = true)\n",
      " |-- resprate_apache: double (nullable = true)\n",
      " |-- temp_apache: double (nullable = true)\n",
      " |-- ventilated_apache: integer (nullable = true)\n",
      " |-- d1_diasbp_max: integer (nullable = true)\n",
      " |-- d1_diasbp_min: integer (nullable = true)\n",
      " |-- d1_heartrate_max: integer (nullable = true)\n",
      " |-- d1_heartrate_min: integer (nullable = true)\n",
      " |-- d1_mbp_max: integer (nullable = true)\n",
      " |-- d1_mbp_min: integer (nullable = true)\n",
      " |-- d1_resprate_max: integer (nullable = true)\n",
      " |-- d1_resprate_min: integer (nullable = true)\n",
      " |-- d1_spo2_max: integer (nullable = true)\n",
      " |-- d1_spo2_min: integer (nullable = true)\n",
      " |-- d1_sysbp_max: integer (nullable = true)\n",
      " |-- d1_sysbp_min: integer (nullable = true)\n",
      " |-- d1_temp_max: double (nullable = true)\n",
      " |-- d1_temp_min: double (nullable = true)\n",
      " |-- h1_diasbp_max: integer (nullable = true)\n",
      " |-- h1_diasbp_min: integer (nullable = true)\n",
      " |-- h1_heartrate_max: integer (nullable = true)\n",
      " |-- h1_heartrate_min: integer (nullable = true)\n",
      " |-- h1_mbp_max: integer (nullable = true)\n",
      " |-- h1_mbp_min: integer (nullable = true)\n",
      " |-- h1_resprate_max: integer (nullable = true)\n",
      " |-- h1_resprate_min: integer (nullable = true)\n",
      " |-- h1_spo2_max: integer (nullable = true)\n",
      " |-- h1_spo2_min: integer (nullable = true)\n",
      " |-- h1_sysbp_max: integer (nullable = true)\n",
      " |-- h1_sysbp_min: integer (nullable = true)\n",
      " |-- d1_glucose_max: integer (nullable = true)\n",
      " |-- d1_glucose_min: integer (nullable = true)\n",
      " |-- aids: integer (nullable = true)\n",
      " |-- cirrhosis: integer (nullable = true)\n",
      " |-- diabetes_mellitus: integer (nullable = true)\n",
      " |-- hepatic_failure: integer (nullable = true)\n",
      " |-- immunosuppression: integer (nullable = true)\n",
      " |-- leukemia: integer (nullable = true)\n",
      " |-- lymphoma: integer (nullable = true)\n",
      " |-- solid_tumor_with_metastasis: integer (nullable = true)\n",
      " |-- apache_3j_bodysystem: string (nullable = true)\n",
      " |-- apache_2_bodysystem: string (nullable = true)\n",
      " |-- hospital_death: integer (nullable = true)\n",
      "\n"
     ]
    }
   ],
   "source": [
    "df_cleaned = less_nulls_df.drop(*colsToDrop)\n",
    "df_cleaned.printSchema()"
   ]
  },
  {
   "cell_type": "code",
   "execution_count": 14,
   "metadata": {},
   "outputs": [
    {
     "data": {
      "text/plain": [
       "83672"
      ]
     },
     "execution_count": 14,
     "metadata": {},
     "output_type": "execute_result"
    }
   ],
   "source": [
    "df_cleaned_numRows = df_cleaned.count()\n",
    "df_cleaned_numRows"
   ]
  },
  {
   "cell_type": "markdown",
   "metadata": {},
   "source": [
    "### Decimal Ratio of Columns Containing Nulls"
   ]
  },
  {
   "cell_type": "code",
   "execution_count": 15,
   "metadata": {},
   "outputs": [
    {
     "name": "stdout",
     "output_type": "stream",
     "text": [
      "+-----+----+----------------+---------+------+------+----------------+--------+----------------+------+------------------+-------------------+---------------------+----------+---------------+----------------+-----------------+-----------------+-----------------+----------------+----------+---------------+-----------+-----------------+-------------+-------------+----------------+----------------+----------+----------+---------------+---------------+-----------+-----------+------------+------------+-----------+-----------+-------------+-------------+----------------+----------------+----------+----------+---------------+---------------+-----------+-----------+------------+------------+--------------+--------------+----+---------+-----------------+---------------+-----------------+--------+--------+---------------------------+--------------------+-------------------+--------------+\n",
      "|  age| bmi|elective_surgery|ethnicity|gender|height|icu_admit_source|icu_type|pre_icu_los_days|weight|apache_2_diagnosis|apache_3j_diagnosis|apache_post_operative|arf_apache|gcs_eyes_apache|gcs_motor_apache|gcs_unable_apache|gcs_verbal_apache|heart_rate_apache|intubated_apache|map_apache|resprate_apache|temp_apache|ventilated_apache|d1_diasbp_max|d1_diasbp_min|d1_heartrate_max|d1_heartrate_min|d1_mbp_max|d1_mbp_min|d1_resprate_max|d1_resprate_min|d1_spo2_max|d1_spo2_min|d1_sysbp_max|d1_sysbp_min|d1_temp_max|d1_temp_min|h1_diasbp_max|h1_diasbp_min|h1_heartrate_max|h1_heartrate_min|h1_mbp_max|h1_mbp_min|h1_resprate_max|h1_resprate_min|h1_spo2_max|h1_spo2_min|h1_sysbp_max|h1_sysbp_min|d1_glucose_max|d1_glucose_min|aids|cirrhosis|diabetes_mellitus|hepatic_failure|immunosuppression|leukemia|lymphoma|solid_tumor_with_metastasis|apache_3j_bodysystem|apache_2_bodysystem|hospital_death|\n",
      "+-----+----+----------------+---------+------+------+----------------+--------+----------------+------+------------------+-------------------+---------------------+----------+---------------+----------------+-----------------+-----------------+-----------------+----------------+----------+---------------+-----------+-----------------+-------------+-------------+----------------+----------------+----------+----------+---------------+---------------+-----------+-----------+------------+------------+-----------+-----------+-------------+-------------+----------------+----------------+----------+----------+---------------+---------------+-----------+-----------+------------+------------+--------------+--------------+----+---------+-----------------+---------------+-----------------+--------+--------+---------------------------+--------------------+-------------------+--------------+\n",
      "|0.036|0.03|             0.0|    0.012|   0.0| 0.009|           0.001|     0.0|             0.0| 0.023|             0.006|              0.001|                  0.0|       0.0|          0.009|           0.009|            0.001|            0.009|              0.0|             0.0|       0.0|          0.001|      0.025|              0.0|          0.0|          0.0|             0.0|             0.0|       0.0|       0.0|            0.0|            0.0|      0.001|      0.001|         0.0|         0.0|      0.015|      0.015|          0.0|          0.0|           0.001|           0.001|       0.0|       0.0|          0.014|          0.014|      0.011|      0.011|         0.0|         0.0|         0.045|         0.045| 0.0|      0.0|              0.0|            0.0|              0.0|     0.0|     0.0|                        0.0|               0.006|              0.006|           0.0|\n",
      "+-----+----+----------------+---------+------+------+----------------+--------+----------------+------+------------------+-------------------+---------------------+----------+---------------+----------------+-----------------+-----------------+-----------------+----------------+----------+---------------+-----------+-----------------+-------------+-------------+----------------+----------------+----------+----------+---------------+---------------+-----------+-----------+------------+------------+-----------+-----------+-------------+-------------+----------------+----------------+----------+----------+---------------+---------------+-----------+-----------+------------+------------+--------------+--------------+----+---------+-----------------+---------------+-----------------+--------+--------+---------------------------+--------------------+-------------------+--------------+\n",
      "\n"
     ]
    }
   ],
   "source": [
    "df_NA_check = df_cleaned.select([round((count(when(col(c).isNull(), c))/df_cleaned_numRows),3).alias(c) for c in df_cleaned.columns])\n",
    "df_NA_check.show()"
   ]
  },
  {
   "cell_type": "markdown",
   "metadata": {},
   "source": [
    "Single imputation is ill-advised based on multiple research studies when dealing with healthcare data, so we will avoid this and instead, since the ratio of NAs in every column falls below 0.05, will feasibly drop the remaining rows containing null values."
   ]
  },
  {
   "cell_type": "code",
   "execution_count": 16,
   "metadata": {},
   "outputs": [
    {
     "name": "stdout",
     "output_type": "stream",
     "text": [
      "Number of patients' records saved via cleaning + EDA: 8329\n",
      "Final # of Records in Cleaned Dataset: 68594\n"
     ]
    }
   ],
   "source": [
    "print(\"Number of patients' records saved via cleaning + EDA: {}\".format((df_cleaned.dropna().count()-data.dropna().count())))\n",
    "df_cleaned = df_cleaned.dropna()\n",
    "print(\"Final # of Records in Cleaned Dataset:\", df_cleaned.count())"
   ]
  },
  {
   "cell_type": "markdown",
   "metadata": {},
   "source": [
    "## Feature Engineering / Inspection"
   ]
  },
  {
   "cell_type": "markdown",
   "metadata": {},
   "source": [
    "**ICU Admit Source**"
   ]
  },
  {
   "cell_type": "code",
   "execution_count": 17,
   "metadata": {},
   "outputs": [
    {
     "name": "stdout",
     "output_type": "stream",
     "text": [
      "+--------------------+-----+\n",
      "|    icu_admit_source|count|\n",
      "+--------------------+-----+\n",
      "|Operating Room / ...|14531|\n",
      "|Accident & Emergency|40170|\n",
      "|               Floor|11538|\n",
      "|      Other Hospital| 1901|\n",
      "|           Other ICU|  454|\n",
      "+--------------------+-----+\n",
      "\n"
     ]
    }
   ],
   "source": [
    "df_cleaned.groupBy(\"icu_admit_source\").count().show()"
   ]
  },
  {
   "cell_type": "code",
   "execution_count": 18,
   "metadata": {},
   "outputs": [
    {
     "name": "stdout",
     "output_type": "stream",
     "text": [
      "+--------------------+-----+\n",
      "|    icu_admit_source|count|\n",
      "+--------------------+-----+\n",
      "|Operating Room / ...|14531|\n",
      "|Accident & Emergency|40170|\n",
      "|               Floor|11538|\n",
      "|               Other| 2355|\n",
      "+--------------------+-----+\n",
      "\n"
     ]
    }
   ],
   "source": [
    "df_cleaned = df_cleaned.withColumn(\"icu_admit_source\", when(df_cleaned.icu_admit_source== \"Other Hospital\",\"Other\")\n",
    "                                 .when(df_cleaned.icu_admit_source== \"Other ICU\",\"Other\")\n",
    "                                 .when(df_cleaned.icu_admit_source== \"Operating/Recovery\", \"Operating & Recovery\")\n",
    "                                 .otherwise(df_cleaned.icu_admit_source))\n",
    "df_cleaned.groupBy(\"icu_admit_source\").count().show()"
   ]
  },
  {
   "cell_type": "markdown",
   "metadata": {},
   "source": [
    "**APACHE (Acute Physiology, Age, and Chronic Health Evaluation) Diagnosis Codes**"
   ]
  },
  {
   "cell_type": "code",
   "execution_count": 19,
   "metadata": {},
   "outputs": [
    {
     "name": "stdout",
     "output_type": "stream",
     "text": [
      "+------------------+-----+\n",
      "|apache_2_diagnosis|count|\n",
      "+------------------+-----+\n",
      "|               113| 9378|\n",
      "|               301| 5000|\n",
      "|               302| 4733|\n",
      "|               308| 3314|\n",
      "|               112| 3222|\n",
      "|               124| 2939|\n",
      "|               122| 2750|\n",
      "|               117| 2718|\n",
      "|               303| 2585|\n",
      "|               304| 2383|\n",
      "|               110| 2377|\n",
      "|               203| 2182|\n",
      "|               202| 1991|\n",
      "|               106| 1807|\n",
      "|               305| 1726|\n",
      "|               123| 1692|\n",
      "|               121| 1689|\n",
      "|               114| 1657|\n",
      "|               102| 1500|\n",
      "|               307| 1444|\n",
      "+------------------+-----+\n",
      "only showing top 20 rows\n",
      "\n"
     ]
    }
   ],
   "source": [
    "df_cleaned.groupBy(\"apache_2_diagnosis\").count().orderBy(col(\"count\").desc()).show()"
   ]
  },
  {
   "cell_type": "code",
   "execution_count": 20,
   "metadata": {},
   "outputs": [
    {
     "name": "stdout",
     "output_type": "stream",
     "text": [
      "+-------------------+-----+\n",
      "|apache_3j_diagnosis|count|\n",
      "+-------------------+-----+\n",
      "|               1409|   86|\n",
      "|               1202|  237|\n",
      "|                502| 2233|\n",
      "|                602|  662|\n",
      "|               1211|  179|\n",
      "|               1403|   81|\n",
      "|               1505|  452|\n",
      "|                202|  157|\n",
      "|                406|  109|\n",
      "|               1302|  400|\n",
      "|               1210|   36|\n",
      "|               1212|  567|\n",
      "|                110|  155|\n",
      "|                902|   67|\n",
      "|               1407|   25|\n",
      "|                212| 1733|\n",
      "|               1501|   86|\n",
      "|                402|  243|\n",
      "|               1405|  645|\n",
      "|                201|  260|\n",
      "+-------------------+-----+\n",
      "only showing top 20 rows\n",
      "\n"
     ]
    }
   ],
   "source": [
    "df_cleaned.orderBy(col(\"apache_3j_diagnosis\").asc()).groupBy(floor(\"apache_3j_diagnosis\").alias(\"apache_3j_diagnosis\")).count().show()"
   ]
  },
  {
   "cell_type": "markdown",
   "metadata": {},
   "source": [
    "Dropping 'apache_2_diagnosis' due to apparent disconnect between any relevant APACHE II diagnosis scores in existence via research (range from 0 to 71).  This column appears to actually represent APACHE III diagnosis codes and seems incorrectly labeled.  We will drop the 3j_diagnosis column but keep the bodysystem identification based on the diagnosis code (i.e. the bodysystem columns acts as a lookup table for the diagnosis code!)."
   ]
  },
  {
   "cell_type": "code",
   "execution_count": 21,
   "metadata": {},
   "outputs": [],
   "source": [
    "df_cleaned = df_cleaned.drop(\"apache_2_diagnosis\", \"apache_3j_diagnosis\", \"gcs_unable\", \"apache_2_bodysystem\")"
   ]
  },
  {
   "cell_type": "code",
   "execution_count": 22,
   "metadata": {},
   "outputs": [
    {
     "name": "stdout",
     "output_type": "stream",
     "text": [
      "+--------------------+-----+\n",
      "|apache_3j_bodysystem|count|\n",
      "+--------------------+-----+\n",
      "|        Neurological| 8914|\n",
      "|Musculoskeletal/Skin|  845|\n",
      "|       Genitourinary| 1669|\n",
      "|       Gynecological|  231|\n",
      "|              Sepsis| 9378|\n",
      "|       Hematological|  483|\n",
      "|           Metabolic| 5886|\n",
      "|      Cardiovascular|22446|\n",
      "|              Trauma| 2870|\n",
      "|    Gastrointestinal| 6933|\n",
      "|         Respiratory| 8939|\n",
      "+--------------------+-----+\n",
      "\n"
     ]
    }
   ],
   "source": [
    "df_cleaned.groupBy(\"apache_3j_bodysystem\").count().show() # wide distribution of categories, could be useful information"
   ]
  },
  {
   "cell_type": "code",
   "execution_count": 23,
   "metadata": {},
   "outputs": [
    {
     "name": "stdout",
     "output_type": "stream",
     "text": [
      "+------------+-----+\n",
      "|    icu_type|count|\n",
      "+------------+-----+\n",
      "|Med-Surg ICU|36555|\n",
      "|   Neuro ICU| 5731|\n",
      "|        MICU| 6336|\n",
      "|       CSICU| 4112|\n",
      "| Cardiac ICU| 3504|\n",
      "|        SICU| 4156|\n",
      "|   CCU-CTICU| 5231|\n",
      "|       CTICU| 2969|\n",
      "+------------+-----+\n",
      "\n"
     ]
    }
   ],
   "source": [
    "df_cleaned.groupBy(\"icu_type\").count().show() # many categories, could provide good information"
   ]
  },
  {
   "cell_type": "code",
   "execution_count": 24,
   "metadata": {},
   "outputs": [
    {
     "name": "stdout",
     "output_type": "stream",
     "text": [
      "root\n",
      " |-- age: integer (nullable = true)\n",
      " |-- bmi: double (nullable = true)\n",
      " |-- elective_surgery: integer (nullable = true)\n",
      " |-- ethnicity: string (nullable = true)\n",
      " |-- gender: string (nullable = true)\n",
      " |-- height: double (nullable = true)\n",
      " |-- icu_admit_source: string (nullable = true)\n",
      " |-- icu_type: string (nullable = true)\n",
      " |-- pre_icu_los_days: double (nullable = true)\n",
      " |-- weight: double (nullable = true)\n",
      " |-- apache_post_operative: integer (nullable = true)\n",
      " |-- arf_apache: integer (nullable = true)\n",
      " |-- gcs_eyes_apache: integer (nullable = true)\n",
      " |-- gcs_motor_apache: integer (nullable = true)\n",
      " |-- gcs_unable_apache: integer (nullable = true)\n",
      " |-- gcs_verbal_apache: integer (nullable = true)\n",
      " |-- heart_rate_apache: integer (nullable = true)\n",
      " |-- intubated_apache: integer (nullable = true)\n",
      " |-- map_apache: integer (nullable = true)\n",
      " |-- resprate_apache: double (nullable = true)\n",
      " |-- temp_apache: double (nullable = true)\n",
      " |-- ventilated_apache: integer (nullable = true)\n",
      " |-- d1_diasbp_max: integer (nullable = true)\n",
      " |-- d1_diasbp_min: integer (nullable = true)\n",
      " |-- d1_heartrate_max: integer (nullable = true)\n",
      " |-- d1_heartrate_min: integer (nullable = true)\n",
      " |-- d1_mbp_max: integer (nullable = true)\n",
      " |-- d1_mbp_min: integer (nullable = true)\n",
      " |-- d1_resprate_max: integer (nullable = true)\n",
      " |-- d1_resprate_min: integer (nullable = true)\n",
      " |-- d1_spo2_max: integer (nullable = true)\n",
      " |-- d1_spo2_min: integer (nullable = true)\n",
      " |-- d1_sysbp_max: integer (nullable = true)\n",
      " |-- d1_sysbp_min: integer (nullable = true)\n",
      " |-- d1_temp_max: double (nullable = true)\n",
      " |-- d1_temp_min: double (nullable = true)\n",
      " |-- h1_diasbp_max: integer (nullable = true)\n",
      " |-- h1_diasbp_min: integer (nullable = true)\n",
      " |-- h1_heartrate_max: integer (nullable = true)\n",
      " |-- h1_heartrate_min: integer (nullable = true)\n",
      " |-- h1_mbp_max: integer (nullable = true)\n",
      " |-- h1_mbp_min: integer (nullable = true)\n",
      " |-- h1_resprate_max: integer (nullable = true)\n",
      " |-- h1_resprate_min: integer (nullable = true)\n",
      " |-- h1_spo2_max: integer (nullable = true)\n",
      " |-- h1_spo2_min: integer (nullable = true)\n",
      " |-- h1_sysbp_max: integer (nullable = true)\n",
      " |-- h1_sysbp_min: integer (nullable = true)\n",
      " |-- d1_glucose_max: integer (nullable = true)\n",
      " |-- d1_glucose_min: integer (nullable = true)\n",
      " |-- aids: integer (nullable = true)\n",
      " |-- cirrhosis: integer (nullable = true)\n",
      " |-- diabetes_mellitus: integer (nullable = true)\n",
      " |-- hepatic_failure: integer (nullable = true)\n",
      " |-- immunosuppression: integer (nullable = true)\n",
      " |-- leukemia: integer (nullable = true)\n",
      " |-- lymphoma: integer (nullable = true)\n",
      " |-- solid_tumor_with_metastasis: integer (nullable = true)\n",
      " |-- apache_3j_bodysystem: string (nullable = true)\n",
      " |-- hospital_death: integer (nullable = true)\n",
      "\n"
     ]
    }
   ],
   "source": [
    "# Printing the updated schema after NA handling\n",
    "df_cleaned.printSchema()"
   ]
  },
  {
   "cell_type": "code",
   "execution_count": 25,
   "metadata": {},
   "outputs": [
    {
     "name": "stdout",
     "output_type": "stream",
     "text": [
      "+----+-----+\n",
      "|aids|count|\n",
      "+----+-----+\n",
      "|   1|   66|\n",
      "|   0|68528|\n",
      "+----+-----+\n",
      "\n",
      "+---------+-----+\n",
      "|cirrhosis|count|\n",
      "+---------+-----+\n",
      "|        1| 1176|\n",
      "|        0|67418|\n",
      "+---------+-----+\n",
      "\n",
      "+-----------------+-----+\n",
      "|diabetes_mellitus|count|\n",
      "+-----------------+-----+\n",
      "|                1|16579|\n",
      "|                0|52015|\n",
      "+-----------------+-----+\n",
      "\n",
      "+---------------+-----+\n",
      "|hepatic_failure|count|\n",
      "+---------------+-----+\n",
      "|              1|  984|\n",
      "|              0|67610|\n",
      "+---------------+-----+\n",
      "\n",
      "+--------+-----+\n",
      "|leukemia|count|\n",
      "+--------+-----+\n",
      "|       1|  521|\n",
      "|       0|68073|\n",
      "+--------+-----+\n",
      "\n",
      "+--------+-----+\n",
      "|lymphoma|count|\n",
      "+--------+-----+\n",
      "|       1|  287|\n",
      "|       0|68307|\n",
      "+--------+-----+\n",
      "\n",
      "+---------------------------+-----+\n",
      "|solid_tumor_with_metastasis|count|\n",
      "+---------------------------+-----+\n",
      "|                          1| 1508|\n",
      "|                          0|67086|\n",
      "+---------------------------+-----+\n",
      "\n"
     ]
    }
   ],
   "source": [
    "# Distribution of reported diseases\n",
    "diseases = [\"aids\", \"cirrhosis\", \"diabetes_mellitus\", \"hepatic_failure\", \"leukemia\", \"lymphoma\", \"solid_tumor_with_metastasis\"]\n",
    "for i in diseases:\n",
    "    df_cleaned.select(i).groupBy(i).count().show()"
   ]
  },
  {
   "cell_type": "code",
   "execution_count": 26,
   "metadata": {},
   "outputs": [],
   "source": [
    "# updating schema for disease variables, casting to boolean type\n",
    "for name in diseases:\n",
    "    df_cleaned = df_cleaned.withColumn(name, col(name).cast('boolean'))"
   ]
  },
  {
   "cell_type": "code",
   "execution_count": 27,
   "metadata": {},
   "outputs": [],
   "source": [
    "# Creating GCS total score feature from verbal, eyes, and motor scores\n",
    "df_cleaned = df_cleaned.withColumn(\"GCS_total\", df_cleaned.gcs_eyes_apache + df_cleaned.gcs_verbal_apache + df_cleaned.gcs_motor_apache)"
   ]
  },
  {
   "cell_type": "code",
   "execution_count": 28,
   "metadata": {},
   "outputs": [],
   "source": [
    "# load pyspark modules\n",
    "from pyspark.ml.feature import OneHotEncoder, StringIndexer, Bucketizer\n",
    "\n",
    "#Bucketing total GCS score based on accepted ranges for varying degrees of disease\n",
    "splits = [3, 9, 13, 15]\n",
    "\n",
    "bucketizer_GCS = Bucketizer(splits=splits, inputCol=\"GCS_total\", outputCol=\"GCS_buckets\")\n",
    "\n",
    "df_cleaned = bucketizer_GCS.transform(df_cleaned)\n",
    "\n",
    "#dropping all columns used to create the feature - no longer necessary for analysis\n",
    "df_cleaned = df_cleaned.drop(\"GCS_total\", \"gcs_motor_apache\", \"gcs_verbal_apache\", \"gcs_eyes_apache\")"
   ]
  },
  {
   "cell_type": "code",
   "execution_count": 29,
   "metadata": {},
   "outputs": [
    {
     "data": {
      "image/png": "[encoded data removed]",
      "text/plain": [
       "<Figure size 640x480 with 1 Axes>"
      ]
     },
     "metadata": {},
     "output_type": "display_data"
    }
   ],
   "source": [
    "pandas_df = df_cleaned.toPandas()\n",
    "sns.countplot(x = 'GCS_buckets', color='blue', hue=\"hospital_death\", data=pandas_df)\n",
    "plt.xlabel([\"Severe\",     \"Moderate\",     \"Mild\"])\n",
    "plt.savefig('GCS_buckets')\n",
    "plt.show()"
   ]
  },
  {
   "cell_type": "code",
   "execution_count": 30,
   "metadata": {},
   "outputs": [
    {
     "name": "stdout",
     "output_type": "stream",
     "text": [
      "+--------------+-----+\n",
      "|hospital_death|count|\n",
      "+--------------+-----+\n",
      "|             1| 5603|\n",
      "|             0|62991|\n",
      "+--------------+-----+\n",
      "\n"
     ]
    }
   ],
   "source": [
    "# Outcome variable distribution\n",
    "df_cleaned.groupBy(\"hospital_death\").count().show()"
   ]
  },
  {
   "cell_type": "markdown",
   "metadata": {},
   "source": [
    "A large amount of categories with no feasible way to bucket them - we will drop these two columns due to the nature of the problem."
   ]
  },
  {
   "cell_type": "markdown",
   "metadata": {},
   "source": [
    "#### Finding binary columns and coercing them to binary data type"
   ]
  },
  {
   "cell_type": "code",
   "execution_count": 30,
   "metadata": {},
   "outputs": [],
   "source": [
    "from pyspark.sql.functions import collect_set\n",
    "def get_binary_cols(input_file):\n",
    "    distinct = input_file.select(*[collect_set(c).alias(c) for c in input_file.columns]).take(1)[0]\n",
    "    binary_columns = [c for c in input_file.columns\n",
    "                      if len(distinct[c]) == 2\n",
    "                      and (set(distinct[c]).issubset({'1', '0'}) or set(distinct[c]).issubset({1, 0}))]\n",
    "    return binary_columns\n",
    "binary_columns = get_binary_cols(df_cleaned)"
   ]
  },
  {
   "cell_type": "code",
   "execution_count": 31,
   "metadata": {},
   "outputs": [
    {
     "name": "stdout",
     "output_type": "stream",
     "text": [
      "root\n",
      " |-- age: integer (nullable = true)\n",
      " |-- bmi: double (nullable = true)\n",
      " |-- elective_surgery: boolean (nullable = true)\n",
      " |-- ethnicity: string (nullable = true)\n",
      " |-- gender: string (nullable = true)\n",
      " |-- height: double (nullable = true)\n",
      " |-- icu_admit_source: string (nullable = true)\n",
      " |-- icu_type: string (nullable = true)\n",
      " |-- pre_icu_los_days: double (nullable = true)\n",
      " |-- weight: double (nullable = true)\n",
      " |-- apache_post_operative: boolean (nullable = true)\n",
      " |-- arf_apache: boolean (nullable = true)\n",
      " |-- gcs_unable_apache: integer (nullable = true)\n",
      " |-- heart_rate_apache: integer (nullable = true)\n",
      " |-- intubated_apache: boolean (nullable = true)\n",
      " |-- map_apache: integer (nullable = true)\n",
      " |-- resprate_apache: double (nullable = true)\n",
      " |-- temp_apache: double (nullable = true)\n",
      " |-- ventilated_apache: boolean (nullable = true)\n",
      " |-- d1_diasbp_max: integer (nullable = true)\n",
      " |-- d1_diasbp_min: integer (nullable = true)\n",
      " |-- d1_heartrate_max: integer (nullable = true)\n",
      " |-- d1_heartrate_min: integer (nullable = true)\n",
      " |-- d1_mbp_max: integer (nullable = true)\n",
      " |-- d1_mbp_min: integer (nullable = true)\n",
      " |-- d1_resprate_max: integer (nullable = true)\n",
      " |-- d1_resprate_min: integer (nullable = true)\n",
      " |-- d1_spo2_max: integer (nullable = true)\n",
      " |-- d1_spo2_min: integer (nullable = true)\n",
      " |-- d1_sysbp_max: integer (nullable = true)\n",
      " |-- d1_sysbp_min: integer (nullable = true)\n",
      " |-- d1_temp_max: double (nullable = true)\n",
      " |-- d1_temp_min: double (nullable = true)\n",
      " |-- h1_diasbp_max: integer (nullable = true)\n",
      " |-- h1_diasbp_min: integer (nullable = true)\n",
      " |-- h1_heartrate_max: integer (nullable = true)\n",
      " |-- h1_heartrate_min: integer (nullable = true)\n",
      " |-- h1_mbp_max: integer (nullable = true)\n",
      " |-- h1_mbp_min: integer (nullable = true)\n",
      " |-- h1_resprate_max: integer (nullable = true)\n",
      " |-- h1_resprate_min: integer (nullable = true)\n",
      " |-- h1_spo2_max: integer (nullable = true)\n",
      " |-- h1_spo2_min: integer (nullable = true)\n",
      " |-- h1_sysbp_max: integer (nullable = true)\n",
      " |-- h1_sysbp_min: integer (nullable = true)\n",
      " |-- d1_glucose_max: integer (nullable = true)\n",
      " |-- d1_glucose_min: integer (nullable = true)\n",
      " |-- aids: boolean (nullable = true)\n",
      " |-- cirrhosis: boolean (nullable = true)\n",
      " |-- diabetes_mellitus: boolean (nullable = true)\n",
      " |-- hepatic_failure: boolean (nullable = true)\n",
      " |-- immunosuppression: boolean (nullable = true)\n",
      " |-- leukemia: boolean (nullable = true)\n",
      " |-- lymphoma: boolean (nullable = true)\n",
      " |-- solid_tumor_with_metastasis: boolean (nullable = true)\n",
      " |-- apache_3j_bodysystem: string (nullable = true)\n",
      " |-- hospital_death: boolean (nullable = true)\n",
      " |-- GCS_buckets: double (nullable = true)\n",
      "\n"
     ]
    }
   ],
   "source": [
    "# after cleaning NAs and other column issues, any binary columns in our dataset will either be coded as 0 or 1\n",
    "# hence, the basis for the logic that counting all 0s and 1s should add up to the \n",
    "# number of records in the entire dataset\n",
    "for name in binary_columns:\n",
    "    df_cleaned = df_cleaned.withColumn(name, col(name).cast('boolean'))\n",
    "df_cleaned.printSchema()"
   ]
  },
  {
   "cell_type": "code",
   "execution_count": 32,
   "metadata": {},
   "outputs": [
    {
     "data": {
      "text/plain": [
       "[Row(age=68, bmi=22.73, elective_surgery=False, ethnicity='Caucasian', gender='M', height=180.3, icu_admit_source='Floor', icu_type='CTICU', pre_icu_los_days=0.541666667, weight=73.9, apache_post_operative=False, arf_apache=False, gcs_unable_apache=0, heart_rate_apache=118, intubated_apache=False, map_apache=40, resprate_apache=36.0, temp_apache=39.3, ventilated_apache=False, d1_diasbp_max=68, d1_diasbp_min=37, d1_heartrate_max=119, d1_heartrate_min=72, d1_mbp_max=89, d1_mbp_min=46, d1_resprate_max=34, d1_resprate_min=10, d1_spo2_max=100, d1_spo2_min=74, d1_sysbp_max=131, d1_sysbp_min=73, d1_temp_max=39.9, d1_temp_min=37.2, h1_diasbp_max=68, h1_diasbp_min=63, h1_heartrate_max=119, h1_heartrate_min=108, h1_mbp_max=86, h1_mbp_min=85, h1_resprate_max=26, h1_resprate_min=18, h1_spo2_max=100, h1_spo2_min=74, h1_sysbp_max=131, h1_sysbp_min=115, d1_glucose_max=168, d1_glucose_min=109, aids=False, cirrhosis=False, diabetes_mellitus=True, hepatic_failure=False, immunosuppression=False, leukemia=False, lymphoma=False, solid_tumor_with_metastasis=False, apache_3j_bodysystem='Sepsis', hospital_death=False, GCS_buckets=2.0, ethnicity_index=0.0, gender_index=0.0, icu_admit_source_index=2.0, icu_type_index=7.0, apache_3j_bodysystem_index=1.0),\n",
       " Row(age=77, bmi=27.42, elective_surgery=False, ethnicity='Caucasian', gender='F', height=160.0, icu_admit_source='Floor', icu_type='Med-Surg ICU', pre_icu_los_days=0.927777778, weight=70.2, apache_post_operative=False, arf_apache=False, gcs_unable_apache=0, heart_rate_apache=120, intubated_apache=False, map_apache=46, resprate_apache=33.0, temp_apache=35.1, ventilated_apache=True, d1_diasbp_max=95, d1_diasbp_min=31, d1_heartrate_max=118, d1_heartrate_min=72, d1_mbp_max=120, d1_mbp_min=38, d1_resprate_max=32, d1_resprate_min=12, d1_spo2_max=100, d1_spo2_min=70, d1_sysbp_max=159, d1_sysbp_min=67, d1_temp_max=36.3, d1_temp_min=35.1, h1_diasbp_max=61, h1_diasbp_min=48, h1_heartrate_max=114, h1_heartrate_min=100, h1_mbp_max=85, h1_mbp_min=57, h1_resprate_max=31, h1_resprate_min=28, h1_spo2_max=95, h1_spo2_min=70, h1_sysbp_max=95, h1_sysbp_min=71, d1_glucose_max=145, d1_glucose_min=128, aids=False, cirrhosis=False, diabetes_mellitus=True, hepatic_failure=False, immunosuppression=False, leukemia=False, lymphoma=False, solid_tumor_with_metastasis=False, apache_3j_bodysystem='Respiratory', hospital_death=False, GCS_buckets=0.0, ethnicity_index=0.0, gender_index=1.0, icu_admit_source_index=2.0, icu_type_index=0.0, apache_3j_bodysystem_index=2.0)]"
      ]
     },
     "execution_count": 32,
     "metadata": {},
     "output_type": "execute_result"
    }
   ],
   "source": [
    "from pyspark.ml import Pipeline\n",
    "from pyspark.ml.feature import OneHotEncoder, StringIndexer\n",
    "\n",
    "#create a list of the columns that are string typed\n",
    "categoricalColumns = [item[0] for item in df_cleaned.dtypes if item[1].startswith('string') ]\n",
    "\n",
    "#define a list of stageJs in your pipeline. The string indexer will be one stage\n",
    "stages = []\n",
    "\n",
    "#iterate through all categorical values\n",
    "for categoricalCol in categoricalColumns:\n",
    "    #create a string indexer for those categorical values and assign a new name including the word 'Index'\n",
    "    stringIndexer = StringIndexer(inputCol = categoricalCol, outputCol = categoricalCol + '_index')\n",
    "\n",
    "    #append the string Indexer to our list of stages\n",
    "    stages += [stringIndexer]\n",
    "\n",
    "#Create the pipeline. Assign the stages list to the pipeline key word stages\n",
    "pipeline = Pipeline(stages = stages)\n",
    "#fit the pipeline to our dataframe\n",
    "pipelineModel = pipeline.fit(df_cleaned)\n",
    "#transform the dataframe\n",
    "df= pipelineModel.transform(df_cleaned)\n",
    "df.take(2)"
   ]
  },
  {
   "cell_type": "code",
   "execution_count": 33,
   "metadata": {},
   "outputs": [
    {
     "name": "stdout",
     "output_type": "stream",
     "text": [
      "root\n",
      " |-- age: integer (nullable = true)\n",
      " |-- bmi: double (nullable = true)\n",
      " |-- elective_surgery: boolean (nullable = true)\n",
      " |-- height: double (nullable = true)\n",
      " |-- pre_icu_los_days: double (nullable = true)\n",
      " |-- weight: double (nullable = true)\n",
      " |-- apache_post_operative: boolean (nullable = true)\n",
      " |-- arf_apache: boolean (nullable = true)\n",
      " |-- gcs_unable_apache: integer (nullable = true)\n",
      " |-- heart_rate_apache: integer (nullable = true)\n",
      " |-- intubated_apache: boolean (nullable = true)\n",
      " |-- map_apache: integer (nullable = true)\n",
      " |-- resprate_apache: double (nullable = true)\n",
      " |-- temp_apache: double (nullable = true)\n",
      " |-- ventilated_apache: boolean (nullable = true)\n",
      " |-- d1_diasbp_max: integer (nullable = true)\n",
      " |-- d1_diasbp_min: integer (nullable = true)\n",
      " |-- d1_heartrate_max: integer (nullable = true)\n",
      " |-- d1_heartrate_min: integer (nullable = true)\n",
      " |-- d1_mbp_max: integer (nullable = true)\n",
      " |-- d1_mbp_min: integer (nullable = true)\n",
      " |-- d1_resprate_max: integer (nullable = true)\n",
      " |-- d1_resprate_min: integer (nullable = true)\n",
      " |-- d1_spo2_max: integer (nullable = true)\n",
      " |-- d1_spo2_min: integer (nullable = true)\n",
      " |-- d1_sysbp_max: integer (nullable = true)\n",
      " |-- d1_sysbp_min: integer (nullable = true)\n",
      " |-- d1_temp_max: double (nullable = true)\n",
      " |-- d1_temp_min: double (nullable = true)\n",
      " |-- h1_diasbp_max: integer (nullable = true)\n",
      " |-- h1_diasbp_min: integer (nullable = true)\n",
      " |-- h1_heartrate_max: integer (nullable = true)\n",
      " |-- h1_heartrate_min: integer (nullable = true)\n",
      " |-- h1_mbp_max: integer (nullable = true)\n",
      " |-- h1_mbp_min: integer (nullable = true)\n",
      " |-- h1_resprate_max: integer (nullable = true)\n",
      " |-- h1_resprate_min: integer (nullable = true)\n",
      " |-- h1_spo2_max: integer (nullable = true)\n",
      " |-- h1_spo2_min: integer (nullable = true)\n",
      " |-- h1_sysbp_max: integer (nullable = true)\n",
      " |-- h1_sysbp_min: integer (nullable = true)\n",
      " |-- d1_glucose_max: integer (nullable = true)\n",
      " |-- d1_glucose_min: integer (nullable = true)\n",
      " |-- aids: boolean (nullable = true)\n",
      " |-- cirrhosis: boolean (nullable = true)\n",
      " |-- diabetes_mellitus: boolean (nullable = true)\n",
      " |-- hepatic_failure: boolean (nullable = true)\n",
      " |-- immunosuppression: boolean (nullable = true)\n",
      " |-- leukemia: boolean (nullable = true)\n",
      " |-- lymphoma: boolean (nullable = true)\n",
      " |-- solid_tumor_with_metastasis: boolean (nullable = true)\n",
      " |-- hospital_death: boolean (nullable = true)\n",
      " |-- GCS_buckets: double (nullable = true)\n",
      " |-- ethnicity_index: double (nullable = false)\n",
      " |-- gender_index: double (nullable = false)\n",
      " |-- icu_admit_source_index: double (nullable = false)\n",
      " |-- icu_type_index: double (nullable = false)\n",
      " |-- apache_3j_bodysystem_index: double (nullable = false)\n",
      "\n"
     ]
    }
   ],
   "source": [
    "df_2 = df.drop(\"ethnicity\", \"gender\", \"icu_admit_source\", \"icu_type\", \"icu_stay_type\", \"apache_3j_bodysystem\", \"apache_2_bodysystem\")\n",
    "df_2.printSchema()"
   ]
  },
  {
   "cell_type": "code",
   "execution_count": 52,
   "metadata": {},
   "outputs": [
    {
     "name": "stdout",
     "output_type": "stream",
     "text": [
      "+---+-----+----------------+------+----------------+------+---------------------+----------+-----------------+-----------------+----------------+----------+---------------+-----------+-----------------+-------------+-------------+----------------+----------------+----------+----------+---------------+---------------+-----------+-----------+------------+------------+-----------+-----------+-------------+-------------+----------------+----------------+----------+----------+---------------+---------------+-----------+-----------+------------+------------+--------------+--------------+-----+---------+-----------------+---------------+-----------------+--------+--------+---------------------------+--------------+-----------+---------------+------------+----------------------+--------------+--------------------------+--------------------+--------------------+\n",
      "|age|  bmi|elective_surgery|height|pre_icu_los_days|weight|apache_post_operative|arf_apache|gcs_unable_apache|heart_rate_apache|intubated_apache|map_apache|resprate_apache|temp_apache|ventilated_apache|d1_diasbp_max|d1_diasbp_min|d1_heartrate_max|d1_heartrate_min|d1_mbp_max|d1_mbp_min|d1_resprate_max|d1_resprate_min|d1_spo2_max|d1_spo2_min|d1_sysbp_max|d1_sysbp_min|d1_temp_max|d1_temp_min|h1_diasbp_max|h1_diasbp_min|h1_heartrate_max|h1_heartrate_min|h1_mbp_max|h1_mbp_min|h1_resprate_max|h1_resprate_min|h1_spo2_max|h1_spo2_min|h1_sysbp_max|h1_sysbp_min|d1_glucose_max|d1_glucose_min| aids|cirrhosis|diabetes_mellitus|hepatic_failure|immunosuppression|leukemia|lymphoma|solid_tumor_with_metastasis|hospital_death|GCS_buckets|ethnicity_index|gender_index|icu_admit_source_index|icu_type_index|apache_3j_bodysystem_index|            features|      scaledFeatures|\n",
      "+---+-----+----------------+------+----------------+------+---------------------+----------+-----------------+-----------------+----------------+----------+---------------+-----------+-----------------+-------------+-------------+----------------+----------------+----------+----------+---------------+---------------+-----------+-----------+------------+------------+-----------+-----------+-------------+-------------+----------------+----------------+----------+----------+---------------+---------------+-----------+-----------+------------+------------+--------------+--------------+-----+---------+-----------------+---------------+-----------------+--------+--------+---------------------------+--------------+-----------+---------------+------------+----------------------+--------------+--------------------------+--------------------+--------------------+\n",
      "| 68|22.73|           false| 180.3|     0.541666667|  73.9|                false|     false|                0|              118|           false|        40|           36.0|       39.3|            false|           68|           37|             119|              72|        89|        46|             34|             10|        100|         74|         131|          73|       39.9|       37.2|           68|           63|             119|             108|        86|        85|             26|             18|        100|         74|         131|         115|           168|           109|false|    false|             true|          false|            false|   false|   false|                      false|         false|        2.0|            0.0|         0.0|                   2.0|           7.0|                       1.0|[68.0,22.73,0.0,1...|[0.32126750903291...|\n",
      "+---+-----+----------------+------+----------------+------+---------------------+----------+-----------------+-----------------+----------------+----------+---------------+-----------+-----------------+-------------+-------------+----------------+----------------+----------+----------+---------------+---------------+-----------+-----------+------------+------------+-----------+-----------+-------------+-------------+----------------+----------------+----------+----------+---------------+---------------+-----------+-----------+------------+------------+--------------+--------------+-----+---------+-----------------+---------------+-----------------+--------+--------+---------------------------+--------------+-----------+---------------+------------+----------------------+--------------+--------------------------+--------------------+--------------------+\n",
      "only showing top 1 row\n",
      "\n"
     ]
    }
   ],
   "source": [
    "feature_columns = df_2.select([c for c in df_2.columns if c not in {'hospital_death'}])\n",
    "\n",
    "va = VectorAssembler(inputCols=[c for c in df_2.columns if c not in {'hospital_death'}], outputCol=\"features\")  \n",
    "output = va.transform(df_2)\n",
    "scaler = StandardScaler(\n",
    "    inputCol = 'features', \n",
    "    outputCol = 'scaledFeatures',\n",
    "    withMean = True,\n",
    "    withStd = True\n",
    ").fit(output)\n",
    "\n",
    "# when we transform the dataframe, the old\n",
    "# feature will still remain in it\n",
    "df_scaled = scaler.transform(output)\n",
    "df_scaled.show(1)"
   ]
  },
  {
   "cell_type": "markdown",
   "metadata": {},
   "source": [
    "### Principal Component Analysis"
   ]
  },
  {
   "cell_type": "code",
   "execution_count": 53,
   "metadata": {},
   "outputs": [
    {
     "data": {
      "text/plain": [
       "[Row(age=68, bmi=22.73, elective_surgery=False, height=180.3, pre_icu_los_days=0.541666667, weight=73.9, apache_post_operative=False, arf_apache=False, gcs_unable_apache=0, heart_rate_apache=118, intubated_apache=False, map_apache=40, resprate_apache=36.0, temp_apache=39.3, ventilated_apache=False, d1_diasbp_max=68, d1_diasbp_min=37, d1_heartrate_max=119, d1_heartrate_min=72, d1_mbp_max=89, d1_mbp_min=46, d1_resprate_max=34, d1_resprate_min=10, d1_spo2_max=100, d1_spo2_min=74, d1_sysbp_max=131, d1_sysbp_min=73, d1_temp_max=39.9, d1_temp_min=37.2, h1_diasbp_max=68, h1_diasbp_min=63, h1_heartrate_max=119, h1_heartrate_min=108, h1_mbp_max=86, h1_mbp_min=85, h1_resprate_max=26, h1_resprate_min=18, h1_spo2_max=100, h1_spo2_min=74, h1_sysbp_max=131, h1_sysbp_min=115, d1_glucose_max=168, d1_glucose_min=109, aids=False, cirrhosis=False, diabetes_mellitus=True, hepatic_failure=False, immunosuppression=False, leukemia=False, lymphoma=False, solid_tumor_with_metastasis=False, hospital_death=False, GCS_buckets=2.0, ethnicity_index=0.0, gender_index=0.0, icu_admit_source_index=2.0, icu_type_index=7.0, apache_3j_bodysystem_index=1.0, features=DenseVector([68.0, 22.73, 0.0, 180.3, 0.5417, 73.9, 0.0, 0.0, 0.0, 118.0, 0.0, 40.0, 36.0, 39.3, 0.0, 68.0, 37.0, 119.0, 72.0, 89.0, 46.0, 34.0, 10.0, 100.0, 74.0, 131.0, 73.0, 39.9, 37.2, 68.0, 63.0, 119.0, 108.0, 86.0, 85.0, 26.0, 18.0, 100.0, 74.0, 131.0, 115.0, 168.0, 109.0, 0.0, 0.0, 1.0, 0.0, 0.0, 0.0, 0.0, 0.0, 2.0, 0.0, 0.0, 2.0, 7.0, 1.0]), scaledFeatures=DenseVector([0.3213, -0.7984, -0.4866, 0.9777, -0.1264, -0.4296, -0.5228, -0.176, 0.0, 0.5758, -0.4399, -1.1295, 0.6764, 3.421, -0.7215, -1.0534, -0.9803, 0.7054, 0.0813, -0.7594, -1.195, 0.4898, -0.5637, 0.4652, -1.7516, -0.6855, -1.1544, 3.7208, 1.27, -0.4017, 0.0214, 1.2146, 1.1842, -0.2656, 0.3119, 0.4602, 0.1401, 0.6414, -3.4369, -0.0756, -0.0352, -0.0887, -0.1302, -0.031, -0.1321, 1.7713, -0.1206, -0.1706, -0.0875, -0.0648, -0.1499, 0.5677, -0.4424, -0.9119, 1.5375, 2.4334, -0.5547]), pcaFeatures=DenseVector([-1.9118, -2.8086, 0.4238, -0.4178, -1.5329, -0.4544]))]"
      ]
     },
     "execution_count": 53,
     "metadata": {},
     "output_type": "execute_result"
    }
   ],
   "source": [
    "from pyspark.ml.feature import PCA\n",
    "\n",
    "# PCA using 4 components\n",
    "pca = PCA(k=6, inputCol=\"scaledFeatures\", outputCol=\"pcaFeatures\")\n",
    "model = pca.fit(df_scaled)\n",
    "\n",
    "# extract the transformed features\n",
    "result = model.transform(df_scaled)\n",
    "\n",
    "result.take(1)"
   ]
  },
  {
   "cell_type": "code",
   "execution_count": 54,
   "metadata": {},
   "outputs": [
    {
     "data": {
      "text/plain": [
       "array([12.7356,  8.6669,  5.6215,  4.9237,  4.1614,  3.7771])"
      ]
     },
     "execution_count": 54,
     "metadata": {},
     "output_type": "execute_result"
    }
   ],
   "source": [
    "import numpy as np\n",
    "\n",
    "np.round(100.00*model.explainedVariance.toArray(),4)"
   ]
  },
  {
   "cell_type": "code",
   "execution_count": 55,
   "metadata": {},
   "outputs": [
    {
     "data": {
      "text/html": [
       "<div>\n",
       "<style scoped>\n",
       "    .dataframe tbody tr th:only-of-type {\n",
       "        vertical-align: middle;\n",
       "    }\n",
       "\n",
       "    .dataframe tbody tr th {\n",
       "        vertical-align: top;\n",
       "    }\n",
       "\n",
       "    .dataframe thead th {\n",
       "        text-align: right;\n",
       "    }\n",
       "</style>\n",
       "<table border=\"1\" class=\"dataframe\">\n",
       "  <thead>\n",
       "    <tr style=\"text-align: right;\">\n",
       "      <th></th>\n",
       "      <th>PC1</th>\n",
       "      <th>PC2</th>\n",
       "      <th>PC3</th>\n",
       "      <th>PC4</th>\n",
       "      <th>PC5</th>\n",
       "      <th>PC6</th>\n",
       "    </tr>\n",
       "  </thead>\n",
       "  <tbody>\n",
       "    <tr>\n",
       "      <th>age</th>\n",
       "      <td>-0.0427</td>\n",
       "      <td>0.0713</td>\n",
       "      <td>-0.0710</td>\n",
       "      <td>0.1773</td>\n",
       "      <td>-0.0412</td>\n",
       "      <td>0.2246</td>\n",
       "    </tr>\n",
       "    <tr>\n",
       "      <th>bmi</th>\n",
       "      <td>0.0257</td>\n",
       "      <td>-0.0036</td>\n",
       "      <td>-0.0602</td>\n",
       "      <td>0.0061</td>\n",
       "      <td>-0.4198</td>\n",
       "      <td>-0.2095</td>\n",
       "    </tr>\n",
       "    <tr>\n",
       "      <th>elective_surgery</th>\n",
       "      <td>-0.0611</td>\n",
       "      <td>0.1380</td>\n",
       "      <td>-0.1082</td>\n",
       "      <td>-0.3353</td>\n",
       "      <td>-0.1334</td>\n",
       "      <td>0.2615</td>\n",
       "    </tr>\n",
       "    <tr>\n",
       "      <th>height</th>\n",
       "      <td>0.0345</td>\n",
       "      <td>0.0259</td>\n",
       "      <td>-0.0160</td>\n",
       "      <td>-0.1093</td>\n",
       "      <td>-0.2507</td>\n",
       "      <td>-0.1735</td>\n",
       "    </tr>\n",
       "    <tr>\n",
       "      <th>pre_icu_los_days</th>\n",
       "      <td>-0.0362</td>\n",
       "      <td>-0.0268</td>\n",
       "      <td>-0.0379</td>\n",
       "      <td>-0.0890</td>\n",
       "      <td>-0.0620</td>\n",
       "      <td>0.1642</td>\n",
       "    </tr>\n",
       "    <tr>\n",
       "      <th>weight</th>\n",
       "      <td>0.0399</td>\n",
       "      <td>0.0081</td>\n",
       "      <td>-0.0637</td>\n",
       "      <td>-0.0421</td>\n",
       "      <td>-0.5013</td>\n",
       "      <td>-0.2689</td>\n",
       "    </tr>\n",
       "    <tr>\n",
       "      <th>apache_post_operative</th>\n",
       "      <td>-0.0619</td>\n",
       "      <td>0.1337</td>\n",
       "      <td>-0.1163</td>\n",
       "      <td>-0.3479</td>\n",
       "      <td>-0.1287</td>\n",
       "      <td>0.2562</td>\n",
       "    </tr>\n",
       "    <tr>\n",
       "      <th>arf_apache</th>\n",
       "      <td>-0.0020</td>\n",
       "      <td>0.0031</td>\n",
       "      <td>-0.0337</td>\n",
       "      <td>0.0424</td>\n",
       "      <td>0.0123</td>\n",
       "      <td>-0.0105</td>\n",
       "    </tr>\n",
       "    <tr>\n",
       "      <th>gcs_unable_apache</th>\n",
       "      <td>0.0000</td>\n",
       "      <td>0.0000</td>\n",
       "      <td>-0.0000</td>\n",
       "      <td>0.0000</td>\n",
       "      <td>0.0000</td>\n",
       "      <td>0.0000</td>\n",
       "    </tr>\n",
       "    <tr>\n",
       "      <th>heart_rate_apache</th>\n",
       "      <td>-0.0063</td>\n",
       "      <td>-0.3556</td>\n",
       "      <td>-0.0070</td>\n",
       "      <td>-0.1826</td>\n",
       "      <td>0.0510</td>\n",
       "      <td>-0.0420</td>\n",
       "    </tr>\n",
       "    <tr>\n",
       "      <th>intubated_apache</th>\n",
       "      <td>-0.0693</td>\n",
       "      <td>-0.0357</td>\n",
       "      <td>-0.2795</td>\n",
       "      <td>-0.1701</td>\n",
       "      <td>-0.0439</td>\n",
       "      <td>0.1316</td>\n",
       "    </tr>\n",
       "    <tr>\n",
       "      <th>map_apache</th>\n",
       "      <td>0.2273</td>\n",
       "      <td>-0.0064</td>\n",
       "      <td>-0.1064</td>\n",
       "      <td>-0.0073</td>\n",
       "      <td>-0.0206</td>\n",
       "      <td>0.0582</td>\n",
       "    </tr>\n",
       "    <tr>\n",
       "      <th>resprate_apache</th>\n",
       "      <td>0.0449</td>\n",
       "      <td>-0.1939</td>\n",
       "      <td>0.0570</td>\n",
       "      <td>0.1647</td>\n",
       "      <td>-0.0770</td>\n",
       "      <td>0.3002</td>\n",
       "    </tr>\n",
       "    <tr>\n",
       "      <th>temp_apache</th>\n",
       "      <td>0.0337</td>\n",
       "      <td>-0.0918</td>\n",
       "      <td>0.2088</td>\n",
       "      <td>-0.1134</td>\n",
       "      <td>-0.0635</td>\n",
       "      <td>-0.1290</td>\n",
       "    </tr>\n",
       "    <tr>\n",
       "      <th>ventilated_apache</th>\n",
       "      <td>-0.0742</td>\n",
       "      <td>-0.0681</td>\n",
       "      <td>-0.3156</td>\n",
       "      <td>-0.1528</td>\n",
       "      <td>-0.0656</td>\n",
       "      <td>0.1475</td>\n",
       "    </tr>\n",
       "    <tr>\n",
       "      <th>d1_diasbp_max</th>\n",
       "      <td>0.2129</td>\n",
       "      <td>-0.0880</td>\n",
       "      <td>-0.2338</td>\n",
       "      <td>0.1099</td>\n",
       "      <td>0.0885</td>\n",
       "      <td>-0.1808</td>\n",
       "    </tr>\n",
       "    <tr>\n",
       "      <th>d1_diasbp_min</th>\n",
       "      <td>0.2399</td>\n",
       "      <td>0.0389</td>\n",
       "      <td>0.1884</td>\n",
       "      <td>-0.1824</td>\n",
       "      <td>-0.0419</td>\n",
       "      <td>0.1082</td>\n",
       "    </tr>\n",
       "    <tr>\n",
       "      <th>d1_heartrate_max</th>\n",
       "      <td>-0.0217</td>\n",
       "      <td>-0.3660</td>\n",
       "      <td>-0.0932</td>\n",
       "      <td>-0.1455</td>\n",
       "      <td>0.0629</td>\n",
       "      <td>-0.0610</td>\n",
       "    </tr>\n",
       "    <tr>\n",
       "      <th>d1_heartrate_min</th>\n",
       "      <td>-0.0009</td>\n",
       "      <td>-0.2816</td>\n",
       "      <td>0.1547</td>\n",
       "      <td>-0.2226</td>\n",
       "      <td>-0.0033</td>\n",
       "      <td>-0.0112</td>\n",
       "    </tr>\n",
       "    <tr>\n",
       "      <th>d1_mbp_max</th>\n",
       "      <td>0.2580</td>\n",
       "      <td>-0.0604</td>\n",
       "      <td>-0.2349</td>\n",
       "      <td>0.1157</td>\n",
       "      <td>0.0487</td>\n",
       "      <td>-0.0777</td>\n",
       "    </tr>\n",
       "    <tr>\n",
       "      <th>d1_mbp_min</th>\n",
       "      <td>0.2595</td>\n",
       "      <td>0.0657</td>\n",
       "      <td>0.1926</td>\n",
       "      <td>-0.1389</td>\n",
       "      <td>-0.0626</td>\n",
       "      <td>0.1507</td>\n",
       "    </tr>\n",
       "    <tr>\n",
       "      <th>d1_resprate_max</th>\n",
       "      <td>0.0079</td>\n",
       "      <td>-0.1896</td>\n",
       "      <td>-0.0942</td>\n",
       "      <td>0.1653</td>\n",
       "      <td>-0.0646</td>\n",
       "      <td>0.2360</td>\n",
       "    </tr>\n",
       "    <tr>\n",
       "      <th>d1_resprate_min</th>\n",
       "      <td>0.0387</td>\n",
       "      <td>-0.1372</td>\n",
       "      <td>0.2399</td>\n",
       "      <td>0.1031</td>\n",
       "      <td>-0.0660</td>\n",
       "      <td>0.2025</td>\n",
       "    </tr>\n",
       "    <tr>\n",
       "      <th>d1_spo2_max</th>\n",
       "      <td>-0.0467</td>\n",
       "      <td>0.0196</td>\n",
       "      <td>-0.1759</td>\n",
       "      <td>-0.1228</td>\n",
       "      <td>0.2392</td>\n",
       "      <td>-0.0613</td>\n",
       "    </tr>\n",
       "    <tr>\n",
       "      <th>d1_spo2_min</th>\n",
       "      <td>0.0500</td>\n",
       "      <td>0.1015</td>\n",
       "      <td>0.1738</td>\n",
       "      <td>-0.1839</td>\n",
       "      <td>0.1327</td>\n",
       "      <td>-0.0189</td>\n",
       "    </tr>\n",
       "    <tr>\n",
       "      <th>d1_sysbp_max</th>\n",
       "      <td>0.2487</td>\n",
       "      <td>-0.0038</td>\n",
       "      <td>-0.2228</td>\n",
       "      <td>0.1085</td>\n",
       "      <td>0.0132</td>\n",
       "      <td>-0.0397</td>\n",
       "    </tr>\n",
       "    <tr>\n",
       "      <th>d1_sysbp_min</th>\n",
       "      <td>0.2497</td>\n",
       "      <td>0.1077</td>\n",
       "      <td>0.1829</td>\n",
       "      <td>-0.1066</td>\n",
       "      <td>-0.0725</td>\n",
       "      <td>0.1175</td>\n",
       "    </tr>\n",
       "    <tr>\n",
       "      <th>d1_temp_max</th>\n",
       "      <td>-0.0388</td>\n",
       "      <td>-0.1465</td>\n",
       "      <td>-0.0537</td>\n",
       "      <td>-0.1794</td>\n",
       "      <td>-0.0382</td>\n",
       "      <td>-0.0340</td>\n",
       "    </tr>\n",
       "    <tr>\n",
       "      <th>d1_temp_min</th>\n",
       "      <td>0.0442</td>\n",
       "      <td>-0.0565</td>\n",
       "      <td>0.2450</td>\n",
       "      <td>-0.1010</td>\n",
       "      <td>-0.0571</td>\n",
       "      <td>-0.1312</td>\n",
       "    </tr>\n",
       "    <tr>\n",
       "      <th>h1_diasbp_max</th>\n",
       "      <td>0.2752</td>\n",
       "      <td>-0.0657</td>\n",
       "      <td>-0.1622</td>\n",
       "      <td>-0.0062</td>\n",
       "      <td>0.0779</td>\n",
       "      <td>-0.0864</td>\n",
       "    </tr>\n",
       "    <tr>\n",
       "      <th>h1_diasbp_min</th>\n",
       "      <td>0.2967</td>\n",
       "      <td>-0.0103</td>\n",
       "      <td>0.0649</td>\n",
       "      <td>-0.1014</td>\n",
       "      <td>0.0343</td>\n",
       "      <td>0.0163</td>\n",
       "    </tr>\n",
       "    <tr>\n",
       "      <th>h1_heartrate_max</th>\n",
       "      <td>-0.0029</td>\n",
       "      <td>-0.3799</td>\n",
       "      <td>-0.0182</td>\n",
       "      <td>-0.1554</td>\n",
       "      <td>0.0424</td>\n",
       "      <td>-0.0658</td>\n",
       "    </tr>\n",
       "    <tr>\n",
       "      <th>h1_heartrate_min</th>\n",
       "      <td>0.0029</td>\n",
       "      <td>-0.3683</td>\n",
       "      <td>0.0776</td>\n",
       "      <td>-0.1767</td>\n",
       "      <td>0.0258</td>\n",
       "      <td>-0.0504</td>\n",
       "    </tr>\n",
       "    <tr>\n",
       "      <th>h1_mbp_max</th>\n",
       "      <td>0.3093</td>\n",
       "      <td>-0.0233</td>\n",
       "      <td>-0.1574</td>\n",
       "      <td>-0.0002</td>\n",
       "      <td>0.0394</td>\n",
       "      <td>0.0160</td>\n",
       "    </tr>\n",
       "    <tr>\n",
       "      <th>h1_mbp_min</th>\n",
       "      <td>0.3231</td>\n",
       "      <td>0.0211</td>\n",
       "      <td>0.0569</td>\n",
       "      <td>-0.0620</td>\n",
       "      <td>0.0131</td>\n",
       "      <td>0.0769</td>\n",
       "    </tr>\n",
       "    <tr>\n",
       "      <th>h1_resprate_max</th>\n",
       "      <td>0.0281</td>\n",
       "      <td>-0.2464</td>\n",
       "      <td>-0.0042</td>\n",
       "      <td>0.2170</td>\n",
       "      <td>-0.0733</td>\n",
       "      <td>0.2177</td>\n",
       "    </tr>\n",
       "    <tr>\n",
       "      <th>h1_resprate_min</th>\n",
       "      <td>0.0345</td>\n",
       "      <td>-0.2257</td>\n",
       "      <td>0.1525</td>\n",
       "      <td>0.1783</td>\n",
       "      <td>-0.0728</td>\n",
       "      <td>0.2165</td>\n",
       "    </tr>\n",
       "    <tr>\n",
       "      <th>h1_spo2_max</th>\n",
       "      <td>-0.0151</td>\n",
       "      <td>0.0778</td>\n",
       "      <td>-0.0979</td>\n",
       "      <td>-0.1916</td>\n",
       "      <td>0.2449</td>\n",
       "      <td>-0.0473</td>\n",
       "    </tr>\n",
       "    <tr>\n",
       "      <th>h1_spo2_min</th>\n",
       "      <td>0.0251</td>\n",
       "      <td>0.1025</td>\n",
       "      <td>0.0835</td>\n",
       "      <td>-0.2123</td>\n",
       "      <td>0.1981</td>\n",
       "      <td>-0.0319</td>\n",
       "    </tr>\n",
       "    <tr>\n",
       "      <th>h1_sysbp_max</th>\n",
       "      <td>0.2886</td>\n",
       "      <td>0.0258</td>\n",
       "      <td>-0.1565</td>\n",
       "      <td>0.0213</td>\n",
       "      <td>0.0134</td>\n",
       "      <td>0.0259</td>\n",
       "    </tr>\n",
       "    <tr>\n",
       "      <th>h1_sysbp_min</th>\n",
       "      <td>0.3006</td>\n",
       "      <td>0.0655</td>\n",
       "      <td>0.0486</td>\n",
       "      <td>-0.0315</td>\n",
       "      <td>-0.0056</td>\n",
       "      <td>0.0703</td>\n",
       "    </tr>\n",
       "    <tr>\n",
       "      <th>d1_glucose_max</th>\n",
       "      <td>-0.0035</td>\n",
       "      <td>-0.0750</td>\n",
       "      <td>-0.0757</td>\n",
       "      <td>0.0071</td>\n",
       "      <td>-0.1639</td>\n",
       "      <td>-0.0491</td>\n",
       "    </tr>\n",
       "    <tr>\n",
       "      <th>d1_glucose_min</th>\n",
       "      <td>0.0316</td>\n",
       "      <td>-0.0445</td>\n",
       "      <td>0.0140</td>\n",
       "      <td>0.0156</td>\n",
       "      <td>-0.2118</td>\n",
       "      <td>-0.0331</td>\n",
       "    </tr>\n",
       "    <tr>\n",
       "      <th>aids</th>\n",
       "      <td>0.0032</td>\n",
       "      <td>-0.0103</td>\n",
       "      <td>0.0015</td>\n",
       "      <td>-0.0057</td>\n",
       "      <td>0.0202</td>\n",
       "      <td>0.0084</td>\n",
       "    </tr>\n",
       "    <tr>\n",
       "      <th>cirrhosis</th>\n",
       "      <td>-0.0233</td>\n",
       "      <td>-0.0139</td>\n",
       "      <td>0.0040</td>\n",
       "      <td>0.0182</td>\n",
       "      <td>0.0428</td>\n",
       "      <td>-0.1117</td>\n",
       "    </tr>\n",
       "    <tr>\n",
       "      <th>diabetes_mellitus</th>\n",
       "      <td>-0.0018</td>\n",
       "      <td>0.0027</td>\n",
       "      <td>-0.0337</td>\n",
       "      <td>0.0283</td>\n",
       "      <td>-0.1922</td>\n",
       "      <td>-0.0910</td>\n",
       "    </tr>\n",
       "    <tr>\n",
       "      <th>hepatic_failure</th>\n",
       "      <td>-0.0265</td>\n",
       "      <td>-0.0147</td>\n",
       "      <td>0.0057</td>\n",
       "      <td>0.0197</td>\n",
       "      <td>0.0445</td>\n",
       "      <td>-0.1095</td>\n",
       "    </tr>\n",
       "    <tr>\n",
       "      <th>immunosuppression</th>\n",
       "      <td>-0.0136</td>\n",
       "      <td>-0.0454</td>\n",
       "      <td>0.0198</td>\n",
       "      <td>0.0064</td>\n",
       "      <td>0.0257</td>\n",
       "      <td>0.0488</td>\n",
       "    </tr>\n",
       "    <tr>\n",
       "      <th>leukemia</th>\n",
       "      <td>-0.0119</td>\n",
       "      <td>-0.0194</td>\n",
       "      <td>0.0061</td>\n",
       "      <td>0.0159</td>\n",
       "      <td>0.0031</td>\n",
       "      <td>0.0257</td>\n",
       "    </tr>\n",
       "    <tr>\n",
       "      <th>lymphoma</th>\n",
       "      <td>-0.0071</td>\n",
       "      <td>-0.0155</td>\n",
       "      <td>0.0072</td>\n",
       "      <td>0.0095</td>\n",
       "      <td>-0.0012</td>\n",
       "      <td>0.0158</td>\n",
       "    </tr>\n",
       "    <tr>\n",
       "      <th>solid_tumor_with_metastasis</th>\n",
       "      <td>-0.0106</td>\n",
       "      <td>-0.0274</td>\n",
       "      <td>0.0195</td>\n",
       "      <td>-0.0103</td>\n",
       "      <td>0.0288</td>\n",
       "      <td>0.0565</td>\n",
       "    </tr>\n",
       "    <tr>\n",
       "      <th>GCS_buckets</th>\n",
       "      <td>0.0477</td>\n",
       "      <td>0.0700</td>\n",
       "      <td>0.2773</td>\n",
       "      <td>0.0974</td>\n",
       "      <td>-0.0413</td>\n",
       "      <td>-0.0703</td>\n",
       "    </tr>\n",
       "    <tr>\n",
       "      <th>ethnicity_index</th>\n",
       "      <td>0.0123</td>\n",
       "      <td>-0.0069</td>\n",
       "      <td>0.0404</td>\n",
       "      <td>-0.0359</td>\n",
       "      <td>0.0883</td>\n",
       "      <td>-0.0072</td>\n",
       "    </tr>\n",
       "    <tr>\n",
       "      <th>gender_index</th>\n",
       "      <td>-0.0293</td>\n",
       "      <td>-0.0352</td>\n",
       "      <td>0.0134</td>\n",
       "      <td>0.1009</td>\n",
       "      <td>0.2256</td>\n",
       "      <td>0.1268</td>\n",
       "    </tr>\n",
       "    <tr>\n",
       "      <th>icu_admit_source_index</th>\n",
       "      <td>-0.0376</td>\n",
       "      <td>-0.0037</td>\n",
       "      <td>-0.0619</td>\n",
       "      <td>-0.1064</td>\n",
       "      <td>-0.1024</td>\n",
       "      <td>0.1798</td>\n",
       "    </tr>\n",
       "    <tr>\n",
       "      <th>icu_type_index</th>\n",
       "      <td>-0.0229</td>\n",
       "      <td>0.0928</td>\n",
       "      <td>-0.0826</td>\n",
       "      <td>-0.1248</td>\n",
       "      <td>-0.0985</td>\n",
       "      <td>0.1692</td>\n",
       "    </tr>\n",
       "    <tr>\n",
       "      <th>apache_3j_bodysystem_index</th>\n",
       "      <td>0.0335</td>\n",
       "      <td>-0.0309</td>\n",
       "      <td>0.0763</td>\n",
       "      <td>-0.0544</td>\n",
       "      <td>0.1429</td>\n",
       "      <td>-0.1757</td>\n",
       "    </tr>\n",
       "  </tbody>\n",
       "</table>\n",
       "</div>"
      ],
      "text/plain": [
       "                                PC1     PC2     PC3     PC4     PC5     PC6\n",
       "age                         -0.0427  0.0713 -0.0710  0.1773 -0.0412  0.2246\n",
       "bmi                          0.0257 -0.0036 -0.0602  0.0061 -0.4198 -0.2095\n",
       "elective_surgery            -0.0611  0.1380 -0.1082 -0.3353 -0.1334  0.2615\n",
       "height                       0.0345  0.0259 -0.0160 -0.1093 -0.2507 -0.1735\n",
       "pre_icu_los_days            -0.0362 -0.0268 -0.0379 -0.0890 -0.0620  0.1642\n",
       "weight                       0.0399  0.0081 -0.0637 -0.0421 -0.5013 -0.2689\n",
       "apache_post_operative       -0.0619  0.1337 -0.1163 -0.3479 -0.1287  0.2562\n",
       "arf_apache                  -0.0020  0.0031 -0.0337  0.0424  0.0123 -0.0105\n",
       "gcs_unable_apache            0.0000  0.0000 -0.0000  0.0000  0.0000  0.0000\n",
       "heart_rate_apache           -0.0063 -0.3556 -0.0070 -0.1826  0.0510 -0.0420\n",
       "intubated_apache            -0.0693 -0.0357 -0.2795 -0.1701 -0.0439  0.1316\n",
       "map_apache                   0.2273 -0.0064 -0.1064 -0.0073 -0.0206  0.0582\n",
       "resprate_apache              0.0449 -0.1939  0.0570  0.1647 -0.0770  0.3002\n",
       "temp_apache                  0.0337 -0.0918  0.2088 -0.1134 -0.0635 -0.1290\n",
       "ventilated_apache           -0.0742 -0.0681 -0.3156 -0.1528 -0.0656  0.1475\n",
       "d1_diasbp_max                0.2129 -0.0880 -0.2338  0.1099  0.0885 -0.1808\n",
       "d1_diasbp_min                0.2399  0.0389  0.1884 -0.1824 -0.0419  0.1082\n",
       "d1_heartrate_max            -0.0217 -0.3660 -0.0932 -0.1455  0.0629 -0.0610\n",
       "d1_heartrate_min            -0.0009 -0.2816  0.1547 -0.2226 -0.0033 -0.0112\n",
       "d1_mbp_max                   0.2580 -0.0604 -0.2349  0.1157  0.0487 -0.0777\n",
       "d1_mbp_min                   0.2595  0.0657  0.1926 -0.1389 -0.0626  0.1507\n",
       "d1_resprate_max              0.0079 -0.1896 -0.0942  0.1653 -0.0646  0.2360\n",
       "d1_resprate_min              0.0387 -0.1372  0.2399  0.1031 -0.0660  0.2025\n",
       "d1_spo2_max                 -0.0467  0.0196 -0.1759 -0.1228  0.2392 -0.0613\n",
       "d1_spo2_min                  0.0500  0.1015  0.1738 -0.1839  0.1327 -0.0189\n",
       "d1_sysbp_max                 0.2487 -0.0038 -0.2228  0.1085  0.0132 -0.0397\n",
       "d1_sysbp_min                 0.2497  0.1077  0.1829 -0.1066 -0.0725  0.1175\n",
       "d1_temp_max                 -0.0388 -0.1465 -0.0537 -0.1794 -0.0382 -0.0340\n",
       "d1_temp_min                  0.0442 -0.0565  0.2450 -0.1010 -0.0571 -0.1312\n",
       "h1_diasbp_max                0.2752 -0.0657 -0.1622 -0.0062  0.0779 -0.0864\n",
       "h1_diasbp_min                0.2967 -0.0103  0.0649 -0.1014  0.0343  0.0163\n",
       "h1_heartrate_max            -0.0029 -0.3799 -0.0182 -0.1554  0.0424 -0.0658\n",
       "h1_heartrate_min             0.0029 -0.3683  0.0776 -0.1767  0.0258 -0.0504\n",
       "h1_mbp_max                   0.3093 -0.0233 -0.1574 -0.0002  0.0394  0.0160\n",
       "h1_mbp_min                   0.3231  0.0211  0.0569 -0.0620  0.0131  0.0769\n",
       "h1_resprate_max              0.0281 -0.2464 -0.0042  0.2170 -0.0733  0.2177\n",
       "h1_resprate_min              0.0345 -0.2257  0.1525  0.1783 -0.0728  0.2165\n",
       "h1_spo2_max                 -0.0151  0.0778 -0.0979 -0.1916  0.2449 -0.0473\n",
       "h1_spo2_min                  0.0251  0.1025  0.0835 -0.2123  0.1981 -0.0319\n",
       "h1_sysbp_max                 0.2886  0.0258 -0.1565  0.0213  0.0134  0.0259\n",
       "h1_sysbp_min                 0.3006  0.0655  0.0486 -0.0315 -0.0056  0.0703\n",
       "d1_glucose_max              -0.0035 -0.0750 -0.0757  0.0071 -0.1639 -0.0491\n",
       "d1_glucose_min               0.0316 -0.0445  0.0140  0.0156 -0.2118 -0.0331\n",
       "aids                         0.0032 -0.0103  0.0015 -0.0057  0.0202  0.0084\n",
       "cirrhosis                   -0.0233 -0.0139  0.0040  0.0182  0.0428 -0.1117\n",
       "diabetes_mellitus           -0.0018  0.0027 -0.0337  0.0283 -0.1922 -0.0910\n",
       "hepatic_failure             -0.0265 -0.0147  0.0057  0.0197  0.0445 -0.1095\n",
       "immunosuppression           -0.0136 -0.0454  0.0198  0.0064  0.0257  0.0488\n",
       "leukemia                    -0.0119 -0.0194  0.0061  0.0159  0.0031  0.0257\n",
       "lymphoma                    -0.0071 -0.0155  0.0072  0.0095 -0.0012  0.0158\n",
       "solid_tumor_with_metastasis -0.0106 -0.0274  0.0195 -0.0103  0.0288  0.0565\n",
       "GCS_buckets                  0.0477  0.0700  0.2773  0.0974 -0.0413 -0.0703\n",
       "ethnicity_index              0.0123 -0.0069  0.0404 -0.0359  0.0883 -0.0072\n",
       "gender_index                -0.0293 -0.0352  0.0134  0.1009  0.2256  0.1268\n",
       "icu_admit_source_index      -0.0376 -0.0037 -0.0619 -0.1064 -0.1024  0.1798\n",
       "icu_type_index              -0.0229  0.0928 -0.0826 -0.1248 -0.0985  0.1692\n",
       "apache_3j_bodysystem_index   0.0335 -0.0309  0.0763 -0.0544  0.1429 -0.1757"
      ]
     },
     "execution_count": 55,
     "metadata": {},
     "output_type": "execute_result"
    }
   ],
   "source": [
    "import pandas as pd\n",
    "\n",
    "cols = df_2.drop('hospital_death').columns\n",
    "cols\n",
    "\n",
    "pcs = np.round(model.pc.toArray(),4)\n",
    "df_pc = pd.DataFrame(pcs, columns = ['PC1','PC2','PC3','PC4','PC5','PC6'], index = cols)\n",
    "df_pc"
   ]
  },
  {
   "cell_type": "code",
   "execution_count": 56,
   "metadata": {},
   "outputs": [
    {
     "data": {
      "text/plain": [
       "h1_mbp_min       0.3231\n",
       "h1_mbp_max       0.3093\n",
       "h1_sysbp_min     0.3006\n",
       "h1_diasbp_min    0.2967\n",
       "h1_sysbp_max     0.2886\n",
       "h1_diasbp_max    0.2752\n",
       "d1_mbp_min       0.2595\n",
       "d1_mbp_max       0.2580\n",
       "d1_sysbp_min     0.2497\n",
       "d1_sysbp_max     0.2487\n",
       "d1_diasbp_min    0.2399\n",
       "map_apache       0.2273\n",
       "d1_diasbp_max    0.2129\n",
       "Name: PC1, dtype: float64"
      ]
     },
     "execution_count": 56,
     "metadata": {},
     "output_type": "execute_result"
    }
   ],
   "source": [
    "pc1 = df_pc.loc[:,'PC1'].abs().sort_values(ascending=False)\n",
    "s1 = pc1[pc1 > 0.2]\n",
    "s1"
   ]
  },
  {
   "cell_type": "code",
   "execution_count": 57,
   "metadata": {},
   "outputs": [
    {
     "data": {
      "text/plain": [
       "['h1_mbp_min',\n",
       " 'h1_mbp_max',\n",
       " 'h1_sysbp_min',\n",
       " 'h1_diasbp_min',\n",
       " 'h1_sysbp_max',\n",
       " 'h1_diasbp_max',\n",
       " 'd1_mbp_min',\n",
       " 'd1_mbp_max',\n",
       " 'd1_sysbp_min',\n",
       " 'd1_sysbp_max',\n",
       " 'd1_diasbp_min',\n",
       " 'map_apache',\n",
       " 'd1_diasbp_max']"
      ]
     },
     "execution_count": 57,
     "metadata": {},
     "output_type": "execute_result"
    }
   ],
   "source": [
    "s1index=s1.index\n",
    "s1list = list(s1index)\n",
    "s1list"
   ]
  },
  {
   "cell_type": "code",
   "execution_count": 58,
   "metadata": {},
   "outputs": [
    {
     "data": {
      "text/plain": [
       "h1_heartrate_max     0.3799\n",
       "h1_heartrate_min     0.3683\n",
       "d1_heartrate_max     0.3660\n",
       "heart_rate_apache    0.3556\n",
       "d1_heartrate_min     0.2816\n",
       "h1_resprate_max      0.2464\n",
       "h1_resprate_min      0.2257\n",
       "Name: PC2, dtype: float64"
      ]
     },
     "execution_count": 58,
     "metadata": {},
     "output_type": "execute_result"
    }
   ],
   "source": [
    "pc2 = df_pc.loc[:,'PC2'].abs().sort_values(ascending=False)\n",
    "s2 = pc2[pc2 > 0.2]\n",
    "s2"
   ]
  },
  {
   "cell_type": "code",
   "execution_count": 59,
   "metadata": {},
   "outputs": [
    {
     "data": {
      "text/plain": [
       "Index(['h1_heartrate_max', 'h1_heartrate_min', 'd1_heartrate_max',\n",
       "       'heart_rate_apache', 'd1_heartrate_min', 'h1_resprate_max',\n",
       "       'h1_resprate_min'],\n",
       "      dtype='object')"
      ]
     },
     "execution_count": 59,
     "metadata": {},
     "output_type": "execute_result"
    }
   ],
   "source": [
    "s2index=s2.index\n",
    "s2index"
   ]
  },
  {
   "cell_type": "code",
   "execution_count": 60,
   "metadata": {},
   "outputs": [
    {
     "data": {
      "text/plain": [
       "ventilated_apache    0.3156\n",
       "intubated_apache     0.2795\n",
       "GCS_buckets          0.2773\n",
       "d1_temp_min          0.2450\n",
       "d1_resprate_min      0.2399\n",
       "d1_mbp_max           0.2349\n",
       "d1_diasbp_max        0.2338\n",
       "d1_sysbp_max         0.2228\n",
       "temp_apache          0.2088\n",
       "Name: PC3, dtype: float64"
      ]
     },
     "execution_count": 60,
     "metadata": {},
     "output_type": "execute_result"
    }
   ],
   "source": [
    "pc3 = df_pc.loc[:,'PC3'].abs().sort_values(ascending=False)\n",
    "s3 = pc3[pc3 > 0.2]\n",
    "s3"
   ]
  },
  {
   "cell_type": "code",
   "execution_count": 61,
   "metadata": {},
   "outputs": [
    {
     "data": {
      "text/plain": [
       "Index(['ventilated_apache', 'intubated_apache', 'GCS_buckets', 'd1_temp_min',\n",
       "       'd1_resprate_min', 'd1_mbp_max', 'd1_diasbp_max', 'd1_sysbp_max',\n",
       "       'temp_apache'],\n",
       "      dtype='object')"
      ]
     },
     "execution_count": 61,
     "metadata": {},
     "output_type": "execute_result"
    }
   ],
   "source": [
    "s3index=s3.index\n",
    "s3index"
   ]
  },
  {
   "cell_type": "code",
   "execution_count": 62,
   "metadata": {},
   "outputs": [
    {
     "data": {
      "text/plain": [
       "['GCS_buckets',\n",
       " 'd1_diasbp_max',\n",
       " 'd1_diasbp_min',\n",
       " 'd1_heartrate_max',\n",
       " 'd1_heartrate_min',\n",
       " 'd1_mbp_max',\n",
       " 'd1_mbp_min',\n",
       " 'd1_resprate_min',\n",
       " 'd1_sysbp_max',\n",
       " 'd1_sysbp_min',\n",
       " 'd1_temp_min',\n",
       " 'h1_diasbp_max',\n",
       " 'h1_diasbp_min',\n",
       " 'h1_heartrate_max',\n",
       " 'h1_heartrate_min',\n",
       " 'h1_mbp_max',\n",
       " 'h1_mbp_min',\n",
       " 'h1_resprate_max',\n",
       " 'h1_resprate_min',\n",
       " 'h1_sysbp_max',\n",
       " 'h1_sysbp_min',\n",
       " 'heart_rate_apache',\n",
       " 'intubated_apache',\n",
       " 'map_apache',\n",
       " 'temp_apache',\n",
       " 'ventilated_apache']"
      ]
     },
     "execution_count": 62,
     "metadata": {},
     "output_type": "execute_result"
    }
   ],
   "source": [
    "#Union the series indices\n",
    "\n",
    "important_vars = s3index.union(s2index).union(s1index)\n",
    "list(important_vars)"
   ]
  },
  {
   "cell_type": "markdown",
   "metadata": {},
   "source": [
    "### Checking for collinearity amongst our important variables"
   ]
  },
  {
   "cell_type": "code",
   "execution_count": 63,
   "metadata": {},
   "outputs": [
    {
     "data": {
      "text/plain": [
       "[Row(GCS_buckets=2.0, d1_diasbp_max=68, d1_diasbp_min=37, d1_heartrate_max=119, d1_heartrate_min=72, d1_mbp_max=89, d1_mbp_min=46, d1_resprate_min=10, d1_sysbp_max=131, d1_sysbp_min=73, d1_temp_min=37.2, h1_diasbp_max=68, h1_diasbp_min=63, h1_heartrate_max=119, h1_heartrate_min=108, h1_mbp_max=86, h1_mbp_min=85, h1_resprate_max=26, h1_resprate_min=18, h1_sysbp_max=131, h1_sysbp_min=115, heart_rate_apache=118, intubated_apache=False, map_apache=40, temp_apache=39.3, ventilated_apache=False),\n",
       " Row(GCS_buckets=0.0, d1_diasbp_max=95, d1_diasbp_min=31, d1_heartrate_max=118, d1_heartrate_min=72, d1_mbp_max=120, d1_mbp_min=38, d1_resprate_min=12, d1_sysbp_max=159, d1_sysbp_min=67, d1_temp_min=35.1, h1_diasbp_max=61, h1_diasbp_min=48, h1_heartrate_max=114, h1_heartrate_min=100, h1_mbp_max=85, h1_mbp_min=57, h1_resprate_max=31, h1_resprate_min=28, h1_sysbp_max=95, h1_sysbp_min=71, heart_rate_apache=120, intubated_apache=False, map_apache=46, temp_apache=35.1, ventilated_apache=True)]"
      ]
     },
     "execution_count": 63,
     "metadata": {},
     "output_type": "execute_result"
    }
   ],
   "source": [
    "# first subset our important variables/columns from original df\n",
    "\n",
    "df_important_vars = df_2.select('GCS_buckets',\n",
    " 'd1_diasbp_max',\n",
    " 'd1_diasbp_min',\n",
    " 'd1_heartrate_max',\n",
    " 'd1_heartrate_min',\n",
    " 'd1_mbp_max',\n",
    " 'd1_mbp_min',\n",
    " 'd1_resprate_min',\n",
    " 'd1_sysbp_max',\n",
    " 'd1_sysbp_min',\n",
    " 'd1_temp_min',\n",
    " 'h1_diasbp_max',\n",
    " 'h1_diasbp_min',\n",
    " 'h1_heartrate_max',\n",
    " 'h1_heartrate_min',\n",
    " 'h1_mbp_max',\n",
    " 'h1_mbp_min',\n",
    " 'h1_resprate_max',\n",
    " 'h1_resprate_min',\n",
    " 'h1_sysbp_max',\n",
    " 'h1_sysbp_min',\n",
    " 'heart_rate_apache',\n",
    " 'intubated_apache',\n",
    " 'map_apache',\n",
    " 'temp_apache',\n",
    " 'ventilated_apache')\n",
    "\n",
    "df_important_vars.take(2)"
   ]
  },
  {
   "cell_type": "code",
   "execution_count": 64,
   "metadata": {},
   "outputs": [],
   "source": [
    "features = df_important_vars.rdd.map(lambda row: row[0:])"
   ]
  },
  {
   "cell_type": "code",
   "execution_count": 65,
   "metadata": {},
   "outputs": [],
   "source": [
    "from pyspark.mllib.stat import Statistics\n",
    "\n",
    "corr_mat = Statistics.corr(features, method='spearman')"
   ]
  },
  {
   "cell_type": "code",
   "execution_count": 66,
   "metadata": {},
   "outputs": [
    {
     "data": {
      "text/html": [
       "<div>\n",
       "<style scoped>\n",
       "    .dataframe tbody tr th:only-of-type {\n",
       "        vertical-align: middle;\n",
       "    }\n",
       "\n",
       "    .dataframe tbody tr th {\n",
       "        vertical-align: top;\n",
       "    }\n",
       "\n",
       "    .dataframe thead th {\n",
       "        text-align: right;\n",
       "    }\n",
       "</style>\n",
       "<table border=\"1\" class=\"dataframe\">\n",
       "  <thead>\n",
       "    <tr style=\"text-align: right;\">\n",
       "      <th></th>\n",
       "      <th>GCS_buckets</th>\n",
       "      <th>d1_diasbp_max</th>\n",
       "      <th>d1_diasbp_min</th>\n",
       "      <th>d1_heartrate_max</th>\n",
       "      <th>d1_heartrate_min</th>\n",
       "      <th>d1_mbp_max</th>\n",
       "      <th>d1_mbp_min</th>\n",
       "      <th>d1_resprate_min</th>\n",
       "      <th>d1_sysbp_max</th>\n",
       "      <th>d1_sysbp_min</th>\n",
       "      <th>...</th>\n",
       "      <th>h1_mbp_min</th>\n",
       "      <th>h1_resprate_max</th>\n",
       "      <th>h1_resprate_min</th>\n",
       "      <th>h1_sysbp_max</th>\n",
       "      <th>h1_sysbp_min</th>\n",
       "      <th>heart_rate_apache</th>\n",
       "      <th>intubated_apache</th>\n",
       "      <th>map_apache</th>\n",
       "      <th>temp_apache</th>\n",
       "      <th>ventilated_apache</th>\n",
       "    </tr>\n",
       "  </thead>\n",
       "  <tbody>\n",
       "    <tr>\n",
       "      <th>GCS_buckets</th>\n",
       "      <td>1.000000</td>\n",
       "      <td>-0.017135</td>\n",
       "      <td>0.104490</td>\n",
       "      <td>-0.158100</td>\n",
       "      <td>-0.016801</td>\n",
       "      <td>-0.009172</td>\n",
       "      <td>0.135446</td>\n",
       "      <td>0.037313</td>\n",
       "      <td>-0.018202</td>\n",
       "      <td>0.172461</td>\n",
       "      <td>...</td>\n",
       "      <td>0.115159</td>\n",
       "      <td>0.004088</td>\n",
       "      <td>0.018805</td>\n",
       "      <td>0.018428</td>\n",
       "      <td>0.137519</td>\n",
       "      <td>-0.119817</td>\n",
       "      <td>-0.455115</td>\n",
       "      <td>0.038859</td>\n",
       "      <td>0.084065</td>\n",
       "      <td>-0.560644</td>\n",
       "    </tr>\n",
       "    <tr>\n",
       "      <th>d1_diasbp_max</th>\n",
       "      <td>-0.017135</td>\n",
       "      <td>1.000000</td>\n",
       "      <td>0.164635</td>\n",
       "      <td>0.176458</td>\n",
       "      <td>-0.027199</td>\n",
       "      <td>0.826313</td>\n",
       "      <td>0.139542</td>\n",
       "      <td>-0.051391</td>\n",
       "      <td>0.585959</td>\n",
       "      <td>0.111693</td>\n",
       "      <td>...</td>\n",
       "      <td>0.333586</td>\n",
       "      <td>0.108730</td>\n",
       "      <td>0.028031</td>\n",
       "      <td>0.413791</td>\n",
       "      <td>0.275060</td>\n",
       "      <td>0.123766</td>\n",
       "      <td>-0.054468</td>\n",
       "      <td>0.364922</td>\n",
       "      <td>0.013839</td>\n",
       "      <td>-0.042832</td>\n",
       "    </tr>\n",
       "    <tr>\n",
       "      <th>d1_diasbp_min</th>\n",
       "      <td>0.104490</td>\n",
       "      <td>0.164635</td>\n",
       "      <td>1.000000</td>\n",
       "      <td>-0.081069</td>\n",
       "      <td>0.115692</td>\n",
       "      <td>0.250742</td>\n",
       "      <td>0.875331</td>\n",
       "      <td>0.115479</td>\n",
       "      <td>0.155180</td>\n",
       "      <td>0.650670</td>\n",
       "      <td>...</td>\n",
       "      <td>0.589404</td>\n",
       "      <td>-0.054965</td>\n",
       "      <td>0.029526</td>\n",
       "      <td>0.279538</td>\n",
       "      <td>0.429437</td>\n",
       "      <td>-0.004455</td>\n",
       "      <td>-0.105187</td>\n",
       "      <td>0.474764</td>\n",
       "      <td>0.080017</td>\n",
       "      <td>-0.136519</td>\n",
       "    </tr>\n",
       "    <tr>\n",
       "      <th>d1_heartrate_max</th>\n",
       "      <td>-0.158100</td>\n",
       "      <td>0.176458</td>\n",
       "      <td>-0.081069</td>\n",
       "      <td>1.000000</td>\n",
       "      <td>0.550525</td>\n",
       "      <td>0.094915</td>\n",
       "      <td>-0.150337</td>\n",
       "      <td>0.068540</td>\n",
       "      <td>0.007558</td>\n",
       "      <td>-0.228894</td>\n",
       "      <td>...</td>\n",
       "      <td>-0.079152</td>\n",
       "      <td>0.264757</td>\n",
       "      <td>0.188423</td>\n",
       "      <td>-0.059938</td>\n",
       "      <td>-0.151071</td>\n",
       "      <td>0.852595</td>\n",
       "      <td>0.104529</td>\n",
       "      <td>-0.029311</td>\n",
       "      <td>0.083214</td>\n",
       "      <td>0.161908</td>\n",
       "    </tr>\n",
       "    <tr>\n",
       "      <th>d1_heartrate_min</th>\n",
       "      <td>-0.016801</td>\n",
       "      <td>-0.027199</td>\n",
       "      <td>0.115692</td>\n",
       "      <td>0.550525</td>\n",
       "      <td>1.000000</td>\n",
       "      <td>-0.071458</td>\n",
       "      <td>0.060305</td>\n",
       "      <td>0.242667</td>\n",
       "      <td>-0.141724</td>\n",
       "      <td>-0.004212</td>\n",
       "      <td>...</td>\n",
       "      <td>-0.001960</td>\n",
       "      <td>0.159744</td>\n",
       "      <td>0.226514</td>\n",
       "      <td>-0.121812</td>\n",
       "      <td>-0.064894</td>\n",
       "      <td>0.606681</td>\n",
       "      <td>0.011882</td>\n",
       "      <td>-0.014101</td>\n",
       "      <td>0.168925</td>\n",
       "      <td>0.032118</td>\n",
       "    </tr>\n",
       "    <tr>\n",
       "      <th>d1_mbp_max</th>\n",
       "      <td>-0.009172</td>\n",
       "      <td>0.826313</td>\n",
       "      <td>0.250742</td>\n",
       "      <td>0.094915</td>\n",
       "      <td>-0.071458</td>\n",
       "      <td>1.000000</td>\n",
       "      <td>0.286184</td>\n",
       "      <td>-0.044862</td>\n",
       "      <td>0.740401</td>\n",
       "      <td>0.254180</td>\n",
       "      <td>...</td>\n",
       "      <td>0.462410</td>\n",
       "      <td>0.123607</td>\n",
       "      <td>0.028139</td>\n",
       "      <td>0.540906</td>\n",
       "      <td>0.403164</td>\n",
       "      <td>0.062416</td>\n",
       "      <td>-0.057906</td>\n",
       "      <td>0.487436</td>\n",
       "      <td>0.012319</td>\n",
       "      <td>-0.039664</td>\n",
       "    </tr>\n",
       "    <tr>\n",
       "      <th>d1_mbp_min</th>\n",
       "      <td>0.135446</td>\n",
       "      <td>0.139542</td>\n",
       "      <td>0.875331</td>\n",
       "      <td>-0.150337</td>\n",
       "      <td>0.060305</td>\n",
       "      <td>0.286184</td>\n",
       "      <td>1.000000</td>\n",
       "      <td>0.125034</td>\n",
       "      <td>0.258598</td>\n",
       "      <td>0.790573</td>\n",
       "      <td>...</td>\n",
       "      <td>0.642015</td>\n",
       "      <td>-0.045484</td>\n",
       "      <td>0.029548</td>\n",
       "      <td>0.373866</td>\n",
       "      <td>0.527022</td>\n",
       "      <td>-0.065775</td>\n",
       "      <td>-0.145585</td>\n",
       "      <td>0.532311</td>\n",
       "      <td>0.084044</td>\n",
       "      <td>-0.174435</td>\n",
       "    </tr>\n",
       "    <tr>\n",
       "      <th>d1_resprate_min</th>\n",
       "      <td>0.037313</td>\n",
       "      <td>-0.051391</td>\n",
       "      <td>0.115479</td>\n",
       "      <td>0.068540</td>\n",
       "      <td>0.242667</td>\n",
       "      <td>-0.044862</td>\n",
       "      <td>0.125034</td>\n",
       "      <td>1.000000</td>\n",
       "      <td>-0.043349</td>\n",
       "      <td>0.126249</td>\n",
       "      <td>...</td>\n",
       "      <td>0.081512</td>\n",
       "      <td>0.308906</td>\n",
       "      <td>0.590620</td>\n",
       "      <td>-0.021397</td>\n",
       "      <td>0.079001</td>\n",
       "      <td>0.142290</td>\n",
       "      <td>-0.074182</td>\n",
       "      <td>0.032901</td>\n",
       "      <td>0.118174</td>\n",
       "      <td>-0.061322</td>\n",
       "    </tr>\n",
       "    <tr>\n",
       "      <th>d1_sysbp_max</th>\n",
       "      <td>-0.018202</td>\n",
       "      <td>0.585959</td>\n",
       "      <td>0.155180</td>\n",
       "      <td>0.007558</td>\n",
       "      <td>-0.141724</td>\n",
       "      <td>0.740401</td>\n",
       "      <td>0.258598</td>\n",
       "      <td>-0.043349</td>\n",
       "      <td>1.000000</td>\n",
       "      <td>0.361491</td>\n",
       "      <td>...</td>\n",
       "      <td>0.418009</td>\n",
       "      <td>0.072345</td>\n",
       "      <td>0.005429</td>\n",
       "      <td>0.693431</td>\n",
       "      <td>0.523316</td>\n",
       "      <td>-0.030000</td>\n",
       "      <td>-0.037428</td>\n",
       "      <td>0.435874</td>\n",
       "      <td>0.023270</td>\n",
       "      <td>-0.018233</td>\n",
       "    </tr>\n",
       "    <tr>\n",
       "      <th>d1_sysbp_min</th>\n",
       "      <td>0.172461</td>\n",
       "      <td>0.111693</td>\n",
       "      <td>0.650670</td>\n",
       "      <td>-0.228894</td>\n",
       "      <td>-0.004212</td>\n",
       "      <td>0.254180</td>\n",
       "      <td>0.790573</td>\n",
       "      <td>0.126249</td>\n",
       "      <td>0.361491</td>\n",
       "      <td>1.000000</td>\n",
       "      <td>...</td>\n",
       "      <td>0.565936</td>\n",
       "      <td>-0.088807</td>\n",
       "      <td>0.016400</td>\n",
       "      <td>0.480801</td>\n",
       "      <td>0.654893</td>\n",
       "      <td>-0.146189</td>\n",
       "      <td>-0.173850</td>\n",
       "      <td>0.461744</td>\n",
       "      <td>0.107404</td>\n",
       "      <td>-0.207091</td>\n",
       "    </tr>\n",
       "    <tr>\n",
       "      <th>d1_temp_min</th>\n",
       "      <td>0.090756</td>\n",
       "      <td>0.002803</td>\n",
       "      <td>0.097097</td>\n",
       "      <td>0.060800</td>\n",
       "      <td>0.168904</td>\n",
       "      <td>0.001571</td>\n",
       "      <td>0.102884</td>\n",
       "      <td>0.132328</td>\n",
       "      <td>0.013291</td>\n",
       "      <td>0.127386</td>\n",
       "      <td>...</td>\n",
       "      <td>0.077532</td>\n",
       "      <td>0.056688</td>\n",
       "      <td>0.110457</td>\n",
       "      <td>0.038281</td>\n",
       "      <td>0.101699</td>\n",
       "      <td>0.094855</td>\n",
       "      <td>-0.106840</td>\n",
       "      <td>0.037532</td>\n",
       "      <td>0.856924</td>\n",
       "      <td>-0.130992</td>\n",
       "    </tr>\n",
       "    <tr>\n",
       "      <th>h1_diasbp_max</th>\n",
       "      <td>-0.012824</td>\n",
       "      <td>0.609764</td>\n",
       "      <td>0.383814</td>\n",
       "      <td>0.105574</td>\n",
       "      <td>0.002726</td>\n",
       "      <td>0.567533</td>\n",
       "      <td>0.339594</td>\n",
       "      <td>-0.016652</td>\n",
       "      <td>0.433809</td>\n",
       "      <td>0.260565</td>\n",
       "      <td>...</td>\n",
       "      <td>0.607920</td>\n",
       "      <td>0.110581</td>\n",
       "      <td>-0.000171</td>\n",
       "      <td>0.632958</td>\n",
       "      <td>0.446002</td>\n",
       "      <td>0.093088</td>\n",
       "      <td>-0.040628</td>\n",
       "      <td>0.389114</td>\n",
       "      <td>0.030650</td>\n",
       "      <td>-0.034939</td>\n",
       "    </tr>\n",
       "    <tr>\n",
       "      <th>h1_diasbp_min</th>\n",
       "      <td>0.090762</td>\n",
       "      <td>0.374982</td>\n",
       "      <td>0.628446</td>\n",
       "      <td>-0.007239</td>\n",
       "      <td>0.060838</td>\n",
       "      <td>0.402771</td>\n",
       "      <td>0.569418</td>\n",
       "      <td>0.082206</td>\n",
       "      <td>0.301720</td>\n",
       "      <td>0.461367</td>\n",
       "      <td>...</td>\n",
       "      <td>0.882091</td>\n",
       "      <td>-0.024567</td>\n",
       "      <td>0.099457</td>\n",
       "      <td>0.465034</td>\n",
       "      <td>0.680509</td>\n",
       "      <td>0.044999</td>\n",
       "      <td>-0.113127</td>\n",
       "      <td>0.433398</td>\n",
       "      <td>0.071910</td>\n",
       "      <td>-0.133154</td>\n",
       "    </tr>\n",
       "    <tr>\n",
       "      <th>h1_heartrate_max</th>\n",
       "      <td>-0.105937</td>\n",
       "      <td>0.123098</td>\n",
       "      <td>-0.010357</td>\n",
       "      <td>0.788672</td>\n",
       "      <td>0.622956</td>\n",
       "      <td>0.046383</td>\n",
       "      <td>-0.078431</td>\n",
       "      <td>0.132575</td>\n",
       "      <td>-0.044464</td>\n",
       "      <td>-0.159573</td>\n",
       "      <td>...</td>\n",
       "      <td>-0.033970</td>\n",
       "      <td>0.331267</td>\n",
       "      <td>0.242316</td>\n",
       "      <td>-0.025699</td>\n",
       "      <td>-0.116809</td>\n",
       "      <td>0.741193</td>\n",
       "      <td>0.068560</td>\n",
       "      <td>-0.024786</td>\n",
       "      <td>0.135962</td>\n",
       "      <td>0.112015</td>\n",
       "    </tr>\n",
       "    <tr>\n",
       "      <th>h1_heartrate_min</th>\n",
       "      <td>-0.059401</td>\n",
       "      <td>0.063477</td>\n",
       "      <td>0.045012</td>\n",
       "      <td>0.696660</td>\n",
       "      <td>0.729707</td>\n",
       "      <td>-0.007647</td>\n",
       "      <td>-0.021954</td>\n",
       "      <td>0.207677</td>\n",
       "      <td>-0.091069</td>\n",
       "      <td>-0.096606</td>\n",
       "      <td>...</td>\n",
       "      <td>0.027374</td>\n",
       "      <td>0.260329</td>\n",
       "      <td>0.327689</td>\n",
       "      <td>-0.085828</td>\n",
       "      <td>-0.046322</td>\n",
       "      <td>0.704668</td>\n",
       "      <td>0.037711</td>\n",
       "      <td>-0.026239</td>\n",
       "      <td>0.159549</td>\n",
       "      <td>0.066023</td>\n",
       "    </tr>\n",
       "    <tr>\n",
       "      <th>h1_mbp_max</th>\n",
       "      <td>0.003379</td>\n",
       "      <td>0.501804</td>\n",
       "      <td>0.415645</td>\n",
       "      <td>0.013753</td>\n",
       "      <td>-0.052692</td>\n",
       "      <td>0.637249</td>\n",
       "      <td>0.452348</td>\n",
       "      <td>-0.015945</td>\n",
       "      <td>0.538093</td>\n",
       "      <td>0.396307</td>\n",
       "      <td>...</td>\n",
       "      <td>0.721652</td>\n",
       "      <td>0.101773</td>\n",
       "      <td>-0.006194</td>\n",
       "      <td>0.785481</td>\n",
       "      <td>0.609476</td>\n",
       "      <td>0.016752</td>\n",
       "      <td>-0.047485</td>\n",
       "      <td>0.471635</td>\n",
       "      <td>0.028012</td>\n",
       "      <td>-0.036976</td>\n",
       "    </tr>\n",
       "    <tr>\n",
       "      <th>h1_mbp_min</th>\n",
       "      <td>0.115159</td>\n",
       "      <td>0.333586</td>\n",
       "      <td>0.589404</td>\n",
       "      <td>-0.079152</td>\n",
       "      <td>-0.001960</td>\n",
       "      <td>0.462410</td>\n",
       "      <td>0.642015</td>\n",
       "      <td>0.081512</td>\n",
       "      <td>0.418009</td>\n",
       "      <td>0.565936</td>\n",
       "      <td>...</td>\n",
       "      <td>1.000000</td>\n",
       "      <td>-0.006254</td>\n",
       "      <td>0.091601</td>\n",
       "      <td>0.612623</td>\n",
       "      <td>0.817754</td>\n",
       "      <td>-0.022309</td>\n",
       "      <td>-0.142046</td>\n",
       "      <td>0.492108</td>\n",
       "      <td>0.070038</td>\n",
       "      <td>-0.161623</td>\n",
       "    </tr>\n",
       "    <tr>\n",
       "      <th>h1_resprate_max</th>\n",
       "      <td>0.004088</td>\n",
       "      <td>0.108730</td>\n",
       "      <td>-0.054965</td>\n",
       "      <td>0.264757</td>\n",
       "      <td>0.159744</td>\n",
       "      <td>0.123607</td>\n",
       "      <td>-0.045484</td>\n",
       "      <td>0.308906</td>\n",
       "      <td>0.072345</td>\n",
       "      <td>-0.088807</td>\n",
       "      <td>...</td>\n",
       "      <td>-0.006254</td>\n",
       "      <td>1.000000</td>\n",
       "      <td>0.579331</td>\n",
       "      <td>0.063889</td>\n",
       "      <td>-0.043006</td>\n",
       "      <td>0.239693</td>\n",
       "      <td>-0.049135</td>\n",
       "      <td>0.019497</td>\n",
       "      <td>0.075580</td>\n",
       "      <td>0.005850</td>\n",
       "    </tr>\n",
       "    <tr>\n",
       "      <th>h1_resprate_min</th>\n",
       "      <td>0.018805</td>\n",
       "      <td>0.028031</td>\n",
       "      <td>0.029526</td>\n",
       "      <td>0.188423</td>\n",
       "      <td>0.226514</td>\n",
       "      <td>0.028139</td>\n",
       "      <td>0.029548</td>\n",
       "      <td>0.590620</td>\n",
       "      <td>0.005429</td>\n",
       "      <td>0.016400</td>\n",
       "      <td>...</td>\n",
       "      <td>0.091601</td>\n",
       "      <td>0.579331</td>\n",
       "      <td>1.000000</td>\n",
       "      <td>-0.023762</td>\n",
       "      <td>0.082457</td>\n",
       "      <td>0.223895</td>\n",
       "      <td>-0.074952</td>\n",
       "      <td>0.016662</td>\n",
       "      <td>0.107461</td>\n",
       "      <td>-0.031775</td>\n",
       "    </tr>\n",
       "    <tr>\n",
       "      <th>h1_sysbp_max</th>\n",
       "      <td>0.018428</td>\n",
       "      <td>0.413791</td>\n",
       "      <td>0.279538</td>\n",
       "      <td>-0.059938</td>\n",
       "      <td>-0.121812</td>\n",
       "      <td>0.540906</td>\n",
       "      <td>0.373866</td>\n",
       "      <td>-0.021397</td>\n",
       "      <td>0.693431</td>\n",
       "      <td>0.480801</td>\n",
       "      <td>...</td>\n",
       "      <td>0.612623</td>\n",
       "      <td>0.063889</td>\n",
       "      <td>-0.023762</td>\n",
       "      <td>1.000000</td>\n",
       "      <td>0.743895</td>\n",
       "      <td>-0.067154</td>\n",
       "      <td>-0.051916</td>\n",
       "      <td>0.420803</td>\n",
       "      <td>0.045783</td>\n",
       "      <td>-0.042067</td>\n",
       "    </tr>\n",
       "    <tr>\n",
       "      <th>h1_sysbp_min</th>\n",
       "      <td>0.137519</td>\n",
       "      <td>0.275060</td>\n",
       "      <td>0.429437</td>\n",
       "      <td>-0.151071</td>\n",
       "      <td>-0.064894</td>\n",
       "      <td>0.403164</td>\n",
       "      <td>0.527022</td>\n",
       "      <td>0.079001</td>\n",
       "      <td>0.523316</td>\n",
       "      <td>0.654893</td>\n",
       "      <td>...</td>\n",
       "      <td>0.817754</td>\n",
       "      <td>-0.043006</td>\n",
       "      <td>0.082457</td>\n",
       "      <td>0.743895</td>\n",
       "      <td>1.000000</td>\n",
       "      <td>-0.099292</td>\n",
       "      <td>-0.154772</td>\n",
       "      <td>0.434477</td>\n",
       "      <td>0.093864</td>\n",
       "      <td>-0.174209</td>\n",
       "    </tr>\n",
       "    <tr>\n",
       "      <th>heart_rate_apache</th>\n",
       "      <td>-0.119817</td>\n",
       "      <td>0.123766</td>\n",
       "      <td>-0.004455</td>\n",
       "      <td>0.852595</td>\n",
       "      <td>0.606681</td>\n",
       "      <td>0.062416</td>\n",
       "      <td>-0.065775</td>\n",
       "      <td>0.142290</td>\n",
       "      <td>-0.030000</td>\n",
       "      <td>-0.146189</td>\n",
       "      <td>...</td>\n",
       "      <td>-0.022309</td>\n",
       "      <td>0.239693</td>\n",
       "      <td>0.223895</td>\n",
       "      <td>-0.067154</td>\n",
       "      <td>-0.099292</td>\n",
       "      <td>1.000000</td>\n",
       "      <td>0.075080</td>\n",
       "      <td>0.004470</td>\n",
       "      <td>0.101224</td>\n",
       "      <td>0.113190</td>\n",
       "    </tr>\n",
       "    <tr>\n",
       "      <th>intubated_apache</th>\n",
       "      <td>-0.455115</td>\n",
       "      <td>-0.054468</td>\n",
       "      <td>-0.105187</td>\n",
       "      <td>0.104529</td>\n",
       "      <td>0.011882</td>\n",
       "      <td>-0.057906</td>\n",
       "      <td>-0.145585</td>\n",
       "      <td>-0.074182</td>\n",
       "      <td>-0.037428</td>\n",
       "      <td>-0.173850</td>\n",
       "      <td>...</td>\n",
       "      <td>-0.142046</td>\n",
       "      <td>-0.049135</td>\n",
       "      <td>-0.074952</td>\n",
       "      <td>-0.051916</td>\n",
       "      <td>-0.154772</td>\n",
       "      <td>0.075080</td>\n",
       "      <td>1.000000</td>\n",
       "      <td>-0.066466</td>\n",
       "      <td>-0.104437</td>\n",
       "      <td>0.609664</td>\n",
       "    </tr>\n",
       "    <tr>\n",
       "      <th>map_apache</th>\n",
       "      <td>0.038859</td>\n",
       "      <td>0.364922</td>\n",
       "      <td>0.474764</td>\n",
       "      <td>-0.029311</td>\n",
       "      <td>-0.014101</td>\n",
       "      <td>0.487436</td>\n",
       "      <td>0.532311</td>\n",
       "      <td>0.032901</td>\n",
       "      <td>0.435874</td>\n",
       "      <td>0.461744</td>\n",
       "      <td>...</td>\n",
       "      <td>0.492108</td>\n",
       "      <td>0.019497</td>\n",
       "      <td>0.016662</td>\n",
       "      <td>0.420803</td>\n",
       "      <td>0.434477</td>\n",
       "      <td>0.004470</td>\n",
       "      <td>-0.066466</td>\n",
       "      <td>1.000000</td>\n",
       "      <td>0.031454</td>\n",
       "      <td>-0.074520</td>\n",
       "    </tr>\n",
       "    <tr>\n",
       "      <th>temp_apache</th>\n",
       "      <td>0.084065</td>\n",
       "      <td>0.013839</td>\n",
       "      <td>0.080017</td>\n",
       "      <td>0.083214</td>\n",
       "      <td>0.168925</td>\n",
       "      <td>0.012319</td>\n",
       "      <td>0.084044</td>\n",
       "      <td>0.118174</td>\n",
       "      <td>0.023270</td>\n",
       "      <td>0.107404</td>\n",
       "      <td>...</td>\n",
       "      <td>0.070038</td>\n",
       "      <td>0.075580</td>\n",
       "      <td>0.107461</td>\n",
       "      <td>0.045783</td>\n",
       "      <td>0.093864</td>\n",
       "      <td>0.101224</td>\n",
       "      <td>-0.104437</td>\n",
       "      <td>0.031454</td>\n",
       "      <td>1.000000</td>\n",
       "      <td>-0.121848</td>\n",
       "    </tr>\n",
       "    <tr>\n",
       "      <th>ventilated_apache</th>\n",
       "      <td>-0.560644</td>\n",
       "      <td>-0.042832</td>\n",
       "      <td>-0.136519</td>\n",
       "      <td>0.161908</td>\n",
       "      <td>0.032118</td>\n",
       "      <td>-0.039664</td>\n",
       "      <td>-0.174435</td>\n",
       "      <td>-0.061322</td>\n",
       "      <td>-0.018233</td>\n",
       "      <td>-0.207091</td>\n",
       "      <td>...</td>\n",
       "      <td>-0.161623</td>\n",
       "      <td>0.005850</td>\n",
       "      <td>-0.031775</td>\n",
       "      <td>-0.042067</td>\n",
       "      <td>-0.174209</td>\n",
       "      <td>0.113190</td>\n",
       "      <td>0.609664</td>\n",
       "      <td>-0.074520</td>\n",
       "      <td>-0.121848</td>\n",
       "      <td>1.000000</td>\n",
       "    </tr>\n",
       "  </tbody>\n",
       "</table>\n",
       "<p>26 rows × 26 columns</p>\n",
       "</div>"
      ],
      "text/plain": [
       "                   GCS_buckets  d1_diasbp_max  d1_diasbp_min  \\\n",
       "GCS_buckets           1.000000      -0.017135       0.104490   \n",
       "d1_diasbp_max        -0.017135       1.000000       0.164635   \n",
       "d1_diasbp_min         0.104490       0.164635       1.000000   \n",
       "d1_heartrate_max     -0.158100       0.176458      -0.081069   \n",
       "d1_heartrate_min     -0.016801      -0.027199       0.115692   \n",
       "d1_mbp_max           -0.009172       0.826313       0.250742   \n",
       "d1_mbp_min            0.135446       0.139542       0.875331   \n",
       "d1_resprate_min       0.037313      -0.051391       0.115479   \n",
       "d1_sysbp_max         -0.018202       0.585959       0.155180   \n",
       "d1_sysbp_min          0.172461       0.111693       0.650670   \n",
       "d1_temp_min           0.090756       0.002803       0.097097   \n",
       "h1_diasbp_max        -0.012824       0.609764       0.383814   \n",
       "h1_diasbp_min         0.090762       0.374982       0.628446   \n",
       "h1_heartrate_max     -0.105937       0.123098      -0.010357   \n",
       "h1_heartrate_min     -0.059401       0.063477       0.045012   \n",
       "h1_mbp_max            0.003379       0.501804       0.415645   \n",
       "h1_mbp_min            0.115159       0.333586       0.589404   \n",
       "h1_resprate_max       0.004088       0.108730      -0.054965   \n",
       "h1_resprate_min       0.018805       0.028031       0.029526   \n",
       "h1_sysbp_max          0.018428       0.413791       0.279538   \n",
       "h1_sysbp_min          0.137519       0.275060       0.429437   \n",
       "heart_rate_apache    -0.119817       0.123766      -0.004455   \n",
       "intubated_apache     -0.455115      -0.054468      -0.105187   \n",
       "map_apache            0.038859       0.364922       0.474764   \n",
       "temp_apache           0.084065       0.013839       0.080017   \n",
       "ventilated_apache    -0.560644      -0.042832      -0.136519   \n",
       "\n",
       "                   d1_heartrate_max  d1_heartrate_min  d1_mbp_max  d1_mbp_min  \\\n",
       "GCS_buckets               -0.158100         -0.016801   -0.009172    0.135446   \n",
       "d1_diasbp_max              0.176458         -0.027199    0.826313    0.139542   \n",
       "d1_diasbp_min             -0.081069          0.115692    0.250742    0.875331   \n",
       "d1_heartrate_max           1.000000          0.550525    0.094915   -0.150337   \n",
       "d1_heartrate_min           0.550525          1.000000   -0.071458    0.060305   \n",
       "d1_mbp_max                 0.094915         -0.071458    1.000000    0.286184   \n",
       "d1_mbp_min                -0.150337          0.060305    0.286184    1.000000   \n",
       "d1_resprate_min            0.068540          0.242667   -0.044862    0.125034   \n",
       "d1_sysbp_max               0.007558         -0.141724    0.740401    0.258598   \n",
       "d1_sysbp_min              -0.228894         -0.004212    0.254180    0.790573   \n",
       "d1_temp_min                0.060800          0.168904    0.001571    0.102884   \n",
       "h1_diasbp_max              0.105574          0.002726    0.567533    0.339594   \n",
       "h1_diasbp_min             -0.007239          0.060838    0.402771    0.569418   \n",
       "h1_heartrate_max           0.788672          0.622956    0.046383   -0.078431   \n",
       "h1_heartrate_min           0.696660          0.729707   -0.007647   -0.021954   \n",
       "h1_mbp_max                 0.013753         -0.052692    0.637249    0.452348   \n",
       "h1_mbp_min                -0.079152         -0.001960    0.462410    0.642015   \n",
       "h1_resprate_max            0.264757          0.159744    0.123607   -0.045484   \n",
       "h1_resprate_min            0.188423          0.226514    0.028139    0.029548   \n",
       "h1_sysbp_max              -0.059938         -0.121812    0.540906    0.373866   \n",
       "h1_sysbp_min              -0.151071         -0.064894    0.403164    0.527022   \n",
       "heart_rate_apache          0.852595          0.606681    0.062416   -0.065775   \n",
       "intubated_apache           0.104529          0.011882   -0.057906   -0.145585   \n",
       "map_apache                -0.029311         -0.014101    0.487436    0.532311   \n",
       "temp_apache                0.083214          0.168925    0.012319    0.084044   \n",
       "ventilated_apache          0.161908          0.032118   -0.039664   -0.174435   \n",
       "\n",
       "                   d1_resprate_min  d1_sysbp_max  d1_sysbp_min  ...  \\\n",
       "GCS_buckets               0.037313     -0.018202      0.172461  ...   \n",
       "d1_diasbp_max            -0.051391      0.585959      0.111693  ...   \n",
       "d1_diasbp_min             0.115479      0.155180      0.650670  ...   \n",
       "d1_heartrate_max          0.068540      0.007558     -0.228894  ...   \n",
       "d1_heartrate_min          0.242667     -0.141724     -0.004212  ...   \n",
       "d1_mbp_max               -0.044862      0.740401      0.254180  ...   \n",
       "d1_mbp_min                0.125034      0.258598      0.790573  ...   \n",
       "d1_resprate_min           1.000000     -0.043349      0.126249  ...   \n",
       "d1_sysbp_max             -0.043349      1.000000      0.361491  ...   \n",
       "d1_sysbp_min              0.126249      0.361491      1.000000  ...   \n",
       "d1_temp_min               0.132328      0.013291      0.127386  ...   \n",
       "h1_diasbp_max            -0.016652      0.433809      0.260565  ...   \n",
       "h1_diasbp_min             0.082206      0.301720      0.461367  ...   \n",
       "h1_heartrate_max          0.132575     -0.044464     -0.159573  ...   \n",
       "h1_heartrate_min          0.207677     -0.091069     -0.096606  ...   \n",
       "h1_mbp_max               -0.015945      0.538093      0.396307  ...   \n",
       "h1_mbp_min                0.081512      0.418009      0.565936  ...   \n",
       "h1_resprate_max           0.308906      0.072345     -0.088807  ...   \n",
       "h1_resprate_min           0.590620      0.005429      0.016400  ...   \n",
       "h1_sysbp_max             -0.021397      0.693431      0.480801  ...   \n",
       "h1_sysbp_min              0.079001      0.523316      0.654893  ...   \n",
       "heart_rate_apache         0.142290     -0.030000     -0.146189  ...   \n",
       "intubated_apache         -0.074182     -0.037428     -0.173850  ...   \n",
       "map_apache                0.032901      0.435874      0.461744  ...   \n",
       "temp_apache               0.118174      0.023270      0.107404  ...   \n",
       "ventilated_apache        -0.061322     -0.018233     -0.207091  ...   \n",
       "\n",
       "                   h1_mbp_min  h1_resprate_max  h1_resprate_min  h1_sysbp_max  \\\n",
       "GCS_buckets          0.115159         0.004088         0.018805      0.018428   \n",
       "d1_diasbp_max        0.333586         0.108730         0.028031      0.413791   \n",
       "d1_diasbp_min        0.589404        -0.054965         0.029526      0.279538   \n",
       "d1_heartrate_max    -0.079152         0.264757         0.188423     -0.059938   \n",
       "d1_heartrate_min    -0.001960         0.159744         0.226514     -0.121812   \n",
       "d1_mbp_max           0.462410         0.123607         0.028139      0.540906   \n",
       "d1_mbp_min           0.642015        -0.045484         0.029548      0.373866   \n",
       "d1_resprate_min      0.081512         0.308906         0.590620     -0.021397   \n",
       "d1_sysbp_max         0.418009         0.072345         0.005429      0.693431   \n",
       "d1_sysbp_min         0.565936        -0.088807         0.016400      0.480801   \n",
       "d1_temp_min          0.077532         0.056688         0.110457      0.038281   \n",
       "h1_diasbp_max        0.607920         0.110581        -0.000171      0.632958   \n",
       "h1_diasbp_min        0.882091        -0.024567         0.099457      0.465034   \n",
       "h1_heartrate_max    -0.033970         0.331267         0.242316     -0.025699   \n",
       "h1_heartrate_min     0.027374         0.260329         0.327689     -0.085828   \n",
       "h1_mbp_max           0.721652         0.101773        -0.006194      0.785481   \n",
       "h1_mbp_min           1.000000        -0.006254         0.091601      0.612623   \n",
       "h1_resprate_max     -0.006254         1.000000         0.579331      0.063889   \n",
       "h1_resprate_min      0.091601         0.579331         1.000000     -0.023762   \n",
       "h1_sysbp_max         0.612623         0.063889        -0.023762      1.000000   \n",
       "h1_sysbp_min         0.817754        -0.043006         0.082457      0.743895   \n",
       "heart_rate_apache   -0.022309         0.239693         0.223895     -0.067154   \n",
       "intubated_apache    -0.142046        -0.049135        -0.074952     -0.051916   \n",
       "map_apache           0.492108         0.019497         0.016662      0.420803   \n",
       "temp_apache          0.070038         0.075580         0.107461      0.045783   \n",
       "ventilated_apache   -0.161623         0.005850        -0.031775     -0.042067   \n",
       "\n",
       "                   h1_sysbp_min  heart_rate_apache  intubated_apache  \\\n",
       "GCS_buckets            0.137519          -0.119817         -0.455115   \n",
       "d1_diasbp_max          0.275060           0.123766         -0.054468   \n",
       "d1_diasbp_min          0.429437          -0.004455         -0.105187   \n",
       "d1_heartrate_max      -0.151071           0.852595          0.104529   \n",
       "d1_heartrate_min      -0.064894           0.606681          0.011882   \n",
       "d1_mbp_max             0.403164           0.062416         -0.057906   \n",
       "d1_mbp_min             0.527022          -0.065775         -0.145585   \n",
       "d1_resprate_min        0.079001           0.142290         -0.074182   \n",
       "d1_sysbp_max           0.523316          -0.030000         -0.037428   \n",
       "d1_sysbp_min           0.654893          -0.146189         -0.173850   \n",
       "d1_temp_min            0.101699           0.094855         -0.106840   \n",
       "h1_diasbp_max          0.446002           0.093088         -0.040628   \n",
       "h1_diasbp_min          0.680509           0.044999         -0.113127   \n",
       "h1_heartrate_max      -0.116809           0.741193          0.068560   \n",
       "h1_heartrate_min      -0.046322           0.704668          0.037711   \n",
       "h1_mbp_max             0.609476           0.016752         -0.047485   \n",
       "h1_mbp_min             0.817754          -0.022309         -0.142046   \n",
       "h1_resprate_max       -0.043006           0.239693         -0.049135   \n",
       "h1_resprate_min        0.082457           0.223895         -0.074952   \n",
       "h1_sysbp_max           0.743895          -0.067154         -0.051916   \n",
       "h1_sysbp_min           1.000000          -0.099292         -0.154772   \n",
       "heart_rate_apache     -0.099292           1.000000          0.075080   \n",
       "intubated_apache      -0.154772           0.075080          1.000000   \n",
       "map_apache             0.434477           0.004470         -0.066466   \n",
       "temp_apache            0.093864           0.101224         -0.104437   \n",
       "ventilated_apache     -0.174209           0.113190          0.609664   \n",
       "\n",
       "                   map_apache  temp_apache  ventilated_apache  \n",
       "GCS_buckets          0.038859     0.084065          -0.560644  \n",
       "d1_diasbp_max        0.364922     0.013839          -0.042832  \n",
       "d1_diasbp_min        0.474764     0.080017          -0.136519  \n",
       "d1_heartrate_max    -0.029311     0.083214           0.161908  \n",
       "d1_heartrate_min    -0.014101     0.168925           0.032118  \n",
       "d1_mbp_max           0.487436     0.012319          -0.039664  \n",
       "d1_mbp_min           0.532311     0.084044          -0.174435  \n",
       "d1_resprate_min      0.032901     0.118174          -0.061322  \n",
       "d1_sysbp_max         0.435874     0.023270          -0.018233  \n",
       "d1_sysbp_min         0.461744     0.107404          -0.207091  \n",
       "d1_temp_min          0.037532     0.856924          -0.130992  \n",
       "h1_diasbp_max        0.389114     0.030650          -0.034939  \n",
       "h1_diasbp_min        0.433398     0.071910          -0.133154  \n",
       "h1_heartrate_max    -0.024786     0.135962           0.112015  \n",
       "h1_heartrate_min    -0.026239     0.159549           0.066023  \n",
       "h1_mbp_max           0.471635     0.028012          -0.036976  \n",
       "h1_mbp_min           0.492108     0.070038          -0.161623  \n",
       "h1_resprate_max      0.019497     0.075580           0.005850  \n",
       "h1_resprate_min      0.016662     0.107461          -0.031775  \n",
       "h1_sysbp_max         0.420803     0.045783          -0.042067  \n",
       "h1_sysbp_min         0.434477     0.093864          -0.174209  \n",
       "heart_rate_apache    0.004470     0.101224           0.113190  \n",
       "intubated_apache    -0.066466    -0.104437           0.609664  \n",
       "map_apache           1.000000     0.031454          -0.074520  \n",
       "temp_apache          0.031454     1.000000          -0.121848  \n",
       "ventilated_apache   -0.074520    -0.121848           1.000000  \n",
       "\n",
       "[26 rows x 26 columns]"
      ]
     },
     "execution_count": 66,
     "metadata": {},
     "output_type": "execute_result"
    }
   ],
   "source": [
    "col_names = df_important_vars.columns\n",
    "\n",
    "corr_df = pd.DataFrame(corr_mat)\n",
    "corr_df.index, corr_df.columns = col_names, col_names\n",
    "\n",
    "corr_df"
   ]
  },
  {
   "cell_type": "code",
   "execution_count": 67,
   "metadata": {},
   "outputs": [
    {
     "data": {
      "text/plain": [
       "h1_mbp_min         h1_diasbp_min       0.882091\n",
       "h1_heartrate_max   h1_heartrate_min    0.876911\n",
       "d1_diasbp_min      d1_mbp_min          0.875331\n",
       "d1_temp_min        temp_apache         0.856924\n",
       "h1_diasbp_max      h1_mbp_max          0.853943\n",
       "                                         ...   \n",
       "ventilated_apache  d1_sysbp_min       -0.207091\n",
       "d1_sysbp_min       d1_heartrate_max   -0.228894\n",
       "intubated_apache   GCS_buckets        -0.455115\n",
       "ventilated_apache  GCS_buckets        -0.560644\n",
       "GCS_buckets        GCS_buckets              NaN\n",
       "Length: 326, dtype: float64"
      ]
     },
     "execution_count": 67,
     "metadata": {},
     "output_type": "execute_result"
    }
   ],
   "source": [
    "corr_df = corr_df[corr_df < 1].unstack().transpose()\\\n",
    "        .sort_values( ascending=False)\\\n",
    "        .drop_duplicates()\n",
    "\n",
    "corr_df "
   ]
  },
  {
   "cell_type": "code",
   "execution_count": 68,
   "metadata": {},
   "outputs": [
    {
     "data": {
      "text/plain": [
       "h1_mbp_min         h1_diasbp_min        0.882091\n",
       "h1_heartrate_max   h1_heartrate_min     0.876911\n",
       "d1_diasbp_min      d1_mbp_min           0.875331\n",
       "d1_temp_min        temp_apache          0.856924\n",
       "h1_diasbp_max      h1_mbp_max           0.853943\n",
       "d1_heartrate_max   heart_rate_apache    0.852595\n",
       "d1_diasbp_max      d1_mbp_max           0.826313\n",
       "h1_mbp_min         h1_sysbp_min         0.817754\n",
       "d1_mbp_min         d1_sysbp_min         0.790573\n",
       "h1_heartrate_max   d1_heartrate_max     0.788672\n",
       "h1_sysbp_max       h1_mbp_max           0.785481\n",
       "                   h1_sysbp_min         0.743895\n",
       "heart_rate_apache  h1_heartrate_max     0.741193\n",
       "d1_mbp_max         d1_sysbp_max         0.740401\n",
       "d1_heartrate_min   h1_heartrate_min     0.729707\n",
       "h1_mbp_max         h1_mbp_min           0.721652\n",
       "h1_heartrate_min   heart_rate_apache    0.704668\n",
       "dtype: float64"
      ]
     },
     "execution_count": 68,
     "metadata": {},
     "output_type": "execute_result"
    }
   ],
   "source": [
    "corr_df_final = corr_df[abs(corr_df) >= 0.7]\n",
    "\n",
    "corr_df_final"
   ]
  },
  {
   "cell_type": "markdown",
   "metadata": {},
   "source": [
    "#### Highly correlated variables to remove\n",
    "\n",
    "##### h1_diasbp_min\n",
    "##### h1_heartrate_min\n",
    "##### d1_mbp_min\n",
    "##### temp_apache\n",
    "##### h1_mbp_max\n",
    "##### heart_rate_apache\n",
    "##### d1_mbp_max\n",
    "##### h1_sysbp_min\n",
    "##### d1_heartrate_max\n"
   ]
  },
  {
   "cell_type": "code",
   "execution_count": 69,
   "metadata": {},
   "outputs": [
    {
     "data": {
      "text/plain": [
       "[Row(GCS_buckets=2.0, d1_diasbp_max=68, d1_diasbp_min=37, d1_heartrate_min=72, d1_resprate_min=10, d1_sysbp_max=131, d1_sysbp_min=73, d1_temp_min=37.2, h1_diasbp_max=68, h1_heartrate_max=119, h1_mbp_min=85, h1_resprate_max=26, h1_resprate_min=18, h1_sysbp_max=131, intubated_apache=False, map_apache=40, ventilated_apache=False),\n",
       " Row(GCS_buckets=0.0, d1_diasbp_max=95, d1_diasbp_min=31, d1_heartrate_min=72, d1_resprate_min=12, d1_sysbp_max=159, d1_sysbp_min=67, d1_temp_min=35.1, h1_diasbp_max=61, h1_heartrate_max=114, h1_mbp_min=57, h1_resprate_max=31, h1_resprate_min=28, h1_sysbp_max=95, intubated_apache=False, map_apache=46, ventilated_apache=True)]"
      ]
     },
     "execution_count": 69,
     "metadata": {},
     "output_type": "execute_result"
    }
   ],
   "source": [
    "final_vars = df_2.select('GCS_buckets',\n",
    " 'd1_diasbp_max',\n",
    " 'd1_diasbp_min',\n",
    " 'd1_heartrate_min',\n",
    " 'd1_resprate_min',\n",
    " 'd1_sysbp_max',\n",
    " 'd1_sysbp_min',\n",
    " 'd1_temp_min',\n",
    " 'h1_diasbp_max',\n",
    " 'h1_heartrate_max',\n",
    " 'h1_mbp_min',\n",
    " 'h1_resprate_max',\n",
    " 'h1_resprate_min',\n",
    " 'h1_sysbp_max',\n",
    " 'intubated_apache',\n",
    " 'map_apache',\n",
    " 'ventilated_apache')\n",
    "\n",
    "final_vars.take(2)"
   ]
  },
  {
   "cell_type": "code",
   "execution_count": 70,
   "metadata": {},
   "outputs": [
    {
     "data": {
      "text/html": [
       "<div>\n",
       "<style scoped>\n",
       "    .dataframe tbody tr th:only-of-type {\n",
       "        vertical-align: middle;\n",
       "    }\n",
       "\n",
       "    .dataframe tbody tr th {\n",
       "        vertical-align: top;\n",
       "    }\n",
       "\n",
       "    .dataframe thead th {\n",
       "        text-align: right;\n",
       "    }\n",
       "</style>\n",
       "<table border=\"1\" class=\"dataframe\">\n",
       "  <thead>\n",
       "    <tr style=\"text-align: right;\">\n",
       "      <th></th>\n",
       "      <th>GCS_buckets</th>\n",
       "      <th>d1_diasbp_max</th>\n",
       "      <th>d1_diasbp_min</th>\n",
       "      <th>d1_heartrate_min</th>\n",
       "      <th>d1_resprate_min</th>\n",
       "      <th>d1_sysbp_max</th>\n",
       "      <th>d1_sysbp_min</th>\n",
       "      <th>d1_temp_min</th>\n",
       "      <th>h1_diasbp_max</th>\n",
       "      <th>h1_heartrate_max</th>\n",
       "      <th>h1_mbp_min</th>\n",
       "      <th>h1_resprate_max</th>\n",
       "      <th>h1_resprate_min</th>\n",
       "      <th>h1_sysbp_max</th>\n",
       "      <th>intubated_apache</th>\n",
       "      <th>map_apache</th>\n",
       "      <th>ventilated_apache</th>\n",
       "    </tr>\n",
       "  </thead>\n",
       "  <tbody>\n",
       "    <tr>\n",
       "      <th>GCS_buckets</th>\n",
       "      <td>1.000000</td>\n",
       "      <td>-0.017135</td>\n",
       "      <td>0.104490</td>\n",
       "      <td>-0.016801</td>\n",
       "      <td>0.037313</td>\n",
       "      <td>-0.018202</td>\n",
       "      <td>0.172461</td>\n",
       "      <td>0.090756</td>\n",
       "      <td>-0.012824</td>\n",
       "      <td>-0.105937</td>\n",
       "      <td>0.115159</td>\n",
       "      <td>0.004088</td>\n",
       "      <td>0.018805</td>\n",
       "      <td>0.018428</td>\n",
       "      <td>-0.455115</td>\n",
       "      <td>0.038859</td>\n",
       "      <td>-0.560644</td>\n",
       "    </tr>\n",
       "    <tr>\n",
       "      <th>d1_diasbp_max</th>\n",
       "      <td>-0.017135</td>\n",
       "      <td>1.000000</td>\n",
       "      <td>0.164635</td>\n",
       "      <td>-0.027199</td>\n",
       "      <td>-0.051391</td>\n",
       "      <td>0.585959</td>\n",
       "      <td>0.111693</td>\n",
       "      <td>0.002803</td>\n",
       "      <td>0.609764</td>\n",
       "      <td>0.123098</td>\n",
       "      <td>0.333586</td>\n",
       "      <td>0.108730</td>\n",
       "      <td>0.028031</td>\n",
       "      <td>0.413791</td>\n",
       "      <td>-0.054468</td>\n",
       "      <td>0.364922</td>\n",
       "      <td>-0.042832</td>\n",
       "    </tr>\n",
       "    <tr>\n",
       "      <th>d1_diasbp_min</th>\n",
       "      <td>0.104490</td>\n",
       "      <td>0.164635</td>\n",
       "      <td>1.000000</td>\n",
       "      <td>0.115692</td>\n",
       "      <td>0.115479</td>\n",
       "      <td>0.155180</td>\n",
       "      <td>0.650670</td>\n",
       "      <td>0.097097</td>\n",
       "      <td>0.383814</td>\n",
       "      <td>-0.010357</td>\n",
       "      <td>0.589404</td>\n",
       "      <td>-0.054965</td>\n",
       "      <td>0.029526</td>\n",
       "      <td>0.279538</td>\n",
       "      <td>-0.105187</td>\n",
       "      <td>0.474764</td>\n",
       "      <td>-0.136519</td>\n",
       "    </tr>\n",
       "    <tr>\n",
       "      <th>d1_heartrate_min</th>\n",
       "      <td>-0.016801</td>\n",
       "      <td>-0.027199</td>\n",
       "      <td>0.115692</td>\n",
       "      <td>1.000000</td>\n",
       "      <td>0.242667</td>\n",
       "      <td>-0.141724</td>\n",
       "      <td>-0.004212</td>\n",
       "      <td>0.168904</td>\n",
       "      <td>0.002726</td>\n",
       "      <td>0.622956</td>\n",
       "      <td>-0.001960</td>\n",
       "      <td>0.159744</td>\n",
       "      <td>0.226514</td>\n",
       "      <td>-0.121812</td>\n",
       "      <td>0.011882</td>\n",
       "      <td>-0.014101</td>\n",
       "      <td>0.032118</td>\n",
       "    </tr>\n",
       "    <tr>\n",
       "      <th>d1_resprate_min</th>\n",
       "      <td>0.037313</td>\n",
       "      <td>-0.051391</td>\n",
       "      <td>0.115479</td>\n",
       "      <td>0.242667</td>\n",
       "      <td>1.000000</td>\n",
       "      <td>-0.043349</td>\n",
       "      <td>0.126249</td>\n",
       "      <td>0.132328</td>\n",
       "      <td>-0.016652</td>\n",
       "      <td>0.132575</td>\n",
       "      <td>0.081512</td>\n",
       "      <td>0.308906</td>\n",
       "      <td>0.590620</td>\n",
       "      <td>-0.021397</td>\n",
       "      <td>-0.074182</td>\n",
       "      <td>0.032901</td>\n",
       "      <td>-0.061322</td>\n",
       "    </tr>\n",
       "    <tr>\n",
       "      <th>d1_sysbp_max</th>\n",
       "      <td>-0.018202</td>\n",
       "      <td>0.585959</td>\n",
       "      <td>0.155180</td>\n",
       "      <td>-0.141724</td>\n",
       "      <td>-0.043349</td>\n",
       "      <td>1.000000</td>\n",
       "      <td>0.361491</td>\n",
       "      <td>0.013291</td>\n",
       "      <td>0.433809</td>\n",
       "      <td>-0.044464</td>\n",
       "      <td>0.418009</td>\n",
       "      <td>0.072345</td>\n",
       "      <td>0.005429</td>\n",
       "      <td>0.693431</td>\n",
       "      <td>-0.037428</td>\n",
       "      <td>0.435874</td>\n",
       "      <td>-0.018233</td>\n",
       "    </tr>\n",
       "    <tr>\n",
       "      <th>d1_sysbp_min</th>\n",
       "      <td>0.172461</td>\n",
       "      <td>0.111693</td>\n",
       "      <td>0.650670</td>\n",
       "      <td>-0.004212</td>\n",
       "      <td>0.126249</td>\n",
       "      <td>0.361491</td>\n",
       "      <td>1.000000</td>\n",
       "      <td>0.127386</td>\n",
       "      <td>0.260565</td>\n",
       "      <td>-0.159573</td>\n",
       "      <td>0.565936</td>\n",
       "      <td>-0.088807</td>\n",
       "      <td>0.016400</td>\n",
       "      <td>0.480801</td>\n",
       "      <td>-0.173850</td>\n",
       "      <td>0.461744</td>\n",
       "      <td>-0.207091</td>\n",
       "    </tr>\n",
       "    <tr>\n",
       "      <th>d1_temp_min</th>\n",
       "      <td>0.090756</td>\n",
       "      <td>0.002803</td>\n",
       "      <td>0.097097</td>\n",
       "      <td>0.168904</td>\n",
       "      <td>0.132328</td>\n",
       "      <td>0.013291</td>\n",
       "      <td>0.127386</td>\n",
       "      <td>1.000000</td>\n",
       "      <td>0.023757</td>\n",
       "      <td>0.116832</td>\n",
       "      <td>0.077532</td>\n",
       "      <td>0.056688</td>\n",
       "      <td>0.110457</td>\n",
       "      <td>0.038281</td>\n",
       "      <td>-0.106840</td>\n",
       "      <td>0.037532</td>\n",
       "      <td>-0.130992</td>\n",
       "    </tr>\n",
       "    <tr>\n",
       "      <th>h1_diasbp_max</th>\n",
       "      <td>-0.012824</td>\n",
       "      <td>0.609764</td>\n",
       "      <td>0.383814</td>\n",
       "      <td>0.002726</td>\n",
       "      <td>-0.016652</td>\n",
       "      <td>0.433809</td>\n",
       "      <td>0.260565</td>\n",
       "      <td>0.023757</td>\n",
       "      <td>1.000000</td>\n",
       "      <td>0.153073</td>\n",
       "      <td>0.607920</td>\n",
       "      <td>0.110581</td>\n",
       "      <td>-0.000171</td>\n",
       "      <td>0.632958</td>\n",
       "      <td>-0.040628</td>\n",
       "      <td>0.389114</td>\n",
       "      <td>-0.034939</td>\n",
       "    </tr>\n",
       "    <tr>\n",
       "      <th>h1_heartrate_max</th>\n",
       "      <td>-0.105937</td>\n",
       "      <td>0.123098</td>\n",
       "      <td>-0.010357</td>\n",
       "      <td>0.622956</td>\n",
       "      <td>0.132575</td>\n",
       "      <td>-0.044464</td>\n",
       "      <td>-0.159573</td>\n",
       "      <td>0.116832</td>\n",
       "      <td>0.153073</td>\n",
       "      <td>1.000000</td>\n",
       "      <td>-0.033970</td>\n",
       "      <td>0.331267</td>\n",
       "      <td>0.242316</td>\n",
       "      <td>-0.025699</td>\n",
       "      <td>0.068560</td>\n",
       "      <td>-0.024786</td>\n",
       "      <td>0.112015</td>\n",
       "    </tr>\n",
       "    <tr>\n",
       "      <th>h1_mbp_min</th>\n",
       "      <td>0.115159</td>\n",
       "      <td>0.333586</td>\n",
       "      <td>0.589404</td>\n",
       "      <td>-0.001960</td>\n",
       "      <td>0.081512</td>\n",
       "      <td>0.418009</td>\n",
       "      <td>0.565936</td>\n",
       "      <td>0.077532</td>\n",
       "      <td>0.607920</td>\n",
       "      <td>-0.033970</td>\n",
       "      <td>1.000000</td>\n",
       "      <td>-0.006254</td>\n",
       "      <td>0.091601</td>\n",
       "      <td>0.612623</td>\n",
       "      <td>-0.142046</td>\n",
       "      <td>0.492108</td>\n",
       "      <td>-0.161623</td>\n",
       "    </tr>\n",
       "    <tr>\n",
       "      <th>h1_resprate_max</th>\n",
       "      <td>0.004088</td>\n",
       "      <td>0.108730</td>\n",
       "      <td>-0.054965</td>\n",
       "      <td>0.159744</td>\n",
       "      <td>0.308906</td>\n",
       "      <td>0.072345</td>\n",
       "      <td>-0.088807</td>\n",
       "      <td>0.056688</td>\n",
       "      <td>0.110581</td>\n",
       "      <td>0.331267</td>\n",
       "      <td>-0.006254</td>\n",
       "      <td>1.000000</td>\n",
       "      <td>0.579331</td>\n",
       "      <td>0.063889</td>\n",
       "      <td>-0.049135</td>\n",
       "      <td>0.019497</td>\n",
       "      <td>0.005850</td>\n",
       "    </tr>\n",
       "    <tr>\n",
       "      <th>h1_resprate_min</th>\n",
       "      <td>0.018805</td>\n",
       "      <td>0.028031</td>\n",
       "      <td>0.029526</td>\n",
       "      <td>0.226514</td>\n",
       "      <td>0.590620</td>\n",
       "      <td>0.005429</td>\n",
       "      <td>0.016400</td>\n",
       "      <td>0.110457</td>\n",
       "      <td>-0.000171</td>\n",
       "      <td>0.242316</td>\n",
       "      <td>0.091601</td>\n",
       "      <td>0.579331</td>\n",
       "      <td>1.000000</td>\n",
       "      <td>-0.023762</td>\n",
       "      <td>-0.074952</td>\n",
       "      <td>0.016662</td>\n",
       "      <td>-0.031775</td>\n",
       "    </tr>\n",
       "    <tr>\n",
       "      <th>h1_sysbp_max</th>\n",
       "      <td>0.018428</td>\n",
       "      <td>0.413791</td>\n",
       "      <td>0.279538</td>\n",
       "      <td>-0.121812</td>\n",
       "      <td>-0.021397</td>\n",
       "      <td>0.693431</td>\n",
       "      <td>0.480801</td>\n",
       "      <td>0.038281</td>\n",
       "      <td>0.632958</td>\n",
       "      <td>-0.025699</td>\n",
       "      <td>0.612623</td>\n",
       "      <td>0.063889</td>\n",
       "      <td>-0.023762</td>\n",
       "      <td>1.000000</td>\n",
       "      <td>-0.051916</td>\n",
       "      <td>0.420803</td>\n",
       "      <td>-0.042067</td>\n",
       "    </tr>\n",
       "    <tr>\n",
       "      <th>intubated_apache</th>\n",
       "      <td>-0.455115</td>\n",
       "      <td>-0.054468</td>\n",
       "      <td>-0.105187</td>\n",
       "      <td>0.011882</td>\n",
       "      <td>-0.074182</td>\n",
       "      <td>-0.037428</td>\n",
       "      <td>-0.173850</td>\n",
       "      <td>-0.106840</td>\n",
       "      <td>-0.040628</td>\n",
       "      <td>0.068560</td>\n",
       "      <td>-0.142046</td>\n",
       "      <td>-0.049135</td>\n",
       "      <td>-0.074952</td>\n",
       "      <td>-0.051916</td>\n",
       "      <td>1.000000</td>\n",
       "      <td>-0.066466</td>\n",
       "      <td>0.609664</td>\n",
       "    </tr>\n",
       "    <tr>\n",
       "      <th>map_apache</th>\n",
       "      <td>0.038859</td>\n",
       "      <td>0.364922</td>\n",
       "      <td>0.474764</td>\n",
       "      <td>-0.014101</td>\n",
       "      <td>0.032901</td>\n",
       "      <td>0.435874</td>\n",
       "      <td>0.461744</td>\n",
       "      <td>0.037532</td>\n",
       "      <td>0.389114</td>\n",
       "      <td>-0.024786</td>\n",
       "      <td>0.492108</td>\n",
       "      <td>0.019497</td>\n",
       "      <td>0.016662</td>\n",
       "      <td>0.420803</td>\n",
       "      <td>-0.066466</td>\n",
       "      <td>1.000000</td>\n",
       "      <td>-0.074520</td>\n",
       "    </tr>\n",
       "    <tr>\n",
       "      <th>ventilated_apache</th>\n",
       "      <td>-0.560644</td>\n",
       "      <td>-0.042832</td>\n",
       "      <td>-0.136519</td>\n",
       "      <td>0.032118</td>\n",
       "      <td>-0.061322</td>\n",
       "      <td>-0.018233</td>\n",
       "      <td>-0.207091</td>\n",
       "      <td>-0.130992</td>\n",
       "      <td>-0.034939</td>\n",
       "      <td>0.112015</td>\n",
       "      <td>-0.161623</td>\n",
       "      <td>0.005850</td>\n",
       "      <td>-0.031775</td>\n",
       "      <td>-0.042067</td>\n",
       "      <td>0.609664</td>\n",
       "      <td>-0.074520</td>\n",
       "      <td>1.000000</td>\n",
       "    </tr>\n",
       "  </tbody>\n",
       "</table>\n",
       "</div>"
      ],
      "text/plain": [
       "                   GCS_buckets  d1_diasbp_max  d1_diasbp_min  \\\n",
       "GCS_buckets           1.000000      -0.017135       0.104490   \n",
       "d1_diasbp_max        -0.017135       1.000000       0.164635   \n",
       "d1_diasbp_min         0.104490       0.164635       1.000000   \n",
       "d1_heartrate_min     -0.016801      -0.027199       0.115692   \n",
       "d1_resprate_min       0.037313      -0.051391       0.115479   \n",
       "d1_sysbp_max         -0.018202       0.585959       0.155180   \n",
       "d1_sysbp_min          0.172461       0.111693       0.650670   \n",
       "d1_temp_min           0.090756       0.002803       0.097097   \n",
       "h1_diasbp_max        -0.012824       0.609764       0.383814   \n",
       "h1_heartrate_max     -0.105937       0.123098      -0.010357   \n",
       "h1_mbp_min            0.115159       0.333586       0.589404   \n",
       "h1_resprate_max       0.004088       0.108730      -0.054965   \n",
       "h1_resprate_min       0.018805       0.028031       0.029526   \n",
       "h1_sysbp_max          0.018428       0.413791       0.279538   \n",
       "intubated_apache     -0.455115      -0.054468      -0.105187   \n",
       "map_apache            0.038859       0.364922       0.474764   \n",
       "ventilated_apache    -0.560644      -0.042832      -0.136519   \n",
       "\n",
       "                   d1_heartrate_min  d1_resprate_min  d1_sysbp_max  \\\n",
       "GCS_buckets               -0.016801         0.037313     -0.018202   \n",
       "d1_diasbp_max             -0.027199        -0.051391      0.585959   \n",
       "d1_diasbp_min              0.115692         0.115479      0.155180   \n",
       "d1_heartrate_min           1.000000         0.242667     -0.141724   \n",
       "d1_resprate_min            0.242667         1.000000     -0.043349   \n",
       "d1_sysbp_max              -0.141724        -0.043349      1.000000   \n",
       "d1_sysbp_min              -0.004212         0.126249      0.361491   \n",
       "d1_temp_min                0.168904         0.132328      0.013291   \n",
       "h1_diasbp_max              0.002726        -0.016652      0.433809   \n",
       "h1_heartrate_max           0.622956         0.132575     -0.044464   \n",
       "h1_mbp_min                -0.001960         0.081512      0.418009   \n",
       "h1_resprate_max            0.159744         0.308906      0.072345   \n",
       "h1_resprate_min            0.226514         0.590620      0.005429   \n",
       "h1_sysbp_max              -0.121812        -0.021397      0.693431   \n",
       "intubated_apache           0.011882        -0.074182     -0.037428   \n",
       "map_apache                -0.014101         0.032901      0.435874   \n",
       "ventilated_apache          0.032118        -0.061322     -0.018233   \n",
       "\n",
       "                   d1_sysbp_min  d1_temp_min  h1_diasbp_max  h1_heartrate_max  \\\n",
       "GCS_buckets            0.172461     0.090756      -0.012824         -0.105937   \n",
       "d1_diasbp_max          0.111693     0.002803       0.609764          0.123098   \n",
       "d1_diasbp_min          0.650670     0.097097       0.383814         -0.010357   \n",
       "d1_heartrate_min      -0.004212     0.168904       0.002726          0.622956   \n",
       "d1_resprate_min        0.126249     0.132328      -0.016652          0.132575   \n",
       "d1_sysbp_max           0.361491     0.013291       0.433809         -0.044464   \n",
       "d1_sysbp_min           1.000000     0.127386       0.260565         -0.159573   \n",
       "d1_temp_min            0.127386     1.000000       0.023757          0.116832   \n",
       "h1_diasbp_max          0.260565     0.023757       1.000000          0.153073   \n",
       "h1_heartrate_max      -0.159573     0.116832       0.153073          1.000000   \n",
       "h1_mbp_min             0.565936     0.077532       0.607920         -0.033970   \n",
       "h1_resprate_max       -0.088807     0.056688       0.110581          0.331267   \n",
       "h1_resprate_min        0.016400     0.110457      -0.000171          0.242316   \n",
       "h1_sysbp_max           0.480801     0.038281       0.632958         -0.025699   \n",
       "intubated_apache      -0.173850    -0.106840      -0.040628          0.068560   \n",
       "map_apache             0.461744     0.037532       0.389114         -0.024786   \n",
       "ventilated_apache     -0.207091    -0.130992      -0.034939          0.112015   \n",
       "\n",
       "                   h1_mbp_min  h1_resprate_max  h1_resprate_min  h1_sysbp_max  \\\n",
       "GCS_buckets          0.115159         0.004088         0.018805      0.018428   \n",
       "d1_diasbp_max        0.333586         0.108730         0.028031      0.413791   \n",
       "d1_diasbp_min        0.589404        -0.054965         0.029526      0.279538   \n",
       "d1_heartrate_min    -0.001960         0.159744         0.226514     -0.121812   \n",
       "d1_resprate_min      0.081512         0.308906         0.590620     -0.021397   \n",
       "d1_sysbp_max         0.418009         0.072345         0.005429      0.693431   \n",
       "d1_sysbp_min         0.565936        -0.088807         0.016400      0.480801   \n",
       "d1_temp_min          0.077532         0.056688         0.110457      0.038281   \n",
       "h1_diasbp_max        0.607920         0.110581        -0.000171      0.632958   \n",
       "h1_heartrate_max    -0.033970         0.331267         0.242316     -0.025699   \n",
       "h1_mbp_min           1.000000        -0.006254         0.091601      0.612623   \n",
       "h1_resprate_max     -0.006254         1.000000         0.579331      0.063889   \n",
       "h1_resprate_min      0.091601         0.579331         1.000000     -0.023762   \n",
       "h1_sysbp_max         0.612623         0.063889        -0.023762      1.000000   \n",
       "intubated_apache    -0.142046        -0.049135        -0.074952     -0.051916   \n",
       "map_apache           0.492108         0.019497         0.016662      0.420803   \n",
       "ventilated_apache   -0.161623         0.005850        -0.031775     -0.042067   \n",
       "\n",
       "                   intubated_apache  map_apache  ventilated_apache  \n",
       "GCS_buckets               -0.455115    0.038859          -0.560644  \n",
       "d1_diasbp_max             -0.054468    0.364922          -0.042832  \n",
       "d1_diasbp_min             -0.105187    0.474764          -0.136519  \n",
       "d1_heartrate_min           0.011882   -0.014101           0.032118  \n",
       "d1_resprate_min           -0.074182    0.032901          -0.061322  \n",
       "d1_sysbp_max              -0.037428    0.435874          -0.018233  \n",
       "d1_sysbp_min              -0.173850    0.461744          -0.207091  \n",
       "d1_temp_min               -0.106840    0.037532          -0.130992  \n",
       "h1_diasbp_max             -0.040628    0.389114          -0.034939  \n",
       "h1_heartrate_max           0.068560   -0.024786           0.112015  \n",
       "h1_mbp_min                -0.142046    0.492108          -0.161623  \n",
       "h1_resprate_max           -0.049135    0.019497           0.005850  \n",
       "h1_resprate_min           -0.074952    0.016662          -0.031775  \n",
       "h1_sysbp_max              -0.051916    0.420803          -0.042067  \n",
       "intubated_apache           1.000000   -0.066466           0.609664  \n",
       "map_apache                -0.066466    1.000000          -0.074520  \n",
       "ventilated_apache          0.609664   -0.074520           1.000000  "
      ]
     },
     "execution_count": 70,
     "metadata": {},
     "output_type": "execute_result"
    }
   ],
   "source": [
    "final_features = final_vars.rdd.map(lambda row: row[0:])\n",
    "final_corr_mat = Statistics.corr(final_features, method='spearman')\n",
    "\n",
    "final_col_names = final_vars.columns\n",
    "\n",
    "final_corr_df = pd.DataFrame(final_corr_mat)\n",
    "final_corr_df.index, final_corr_df.columns = final_col_names, final_col_names\n",
    "\n",
    "final_corr_df"
   ]
  },
  {
   "cell_type": "code",
   "execution_count": 71,
   "metadata": {},
   "outputs": [
    {
     "data": {
      "text/plain": [
       "Series([], dtype: float64)"
      ]
     },
     "execution_count": 71,
     "metadata": {},
     "output_type": "execute_result"
    }
   ],
   "source": [
    "final_corr_df = final_corr_df[final_corr_df < 1].unstack().transpose()\\\n",
    "                .sort_values(ascending=False)\\\n",
    "                .drop_duplicates()\n",
    "\n",
    "corr_df_test = final_corr_df[abs(final_corr_df) >= 0.7]\n",
    "corr_df_test #testing to ensure we now have no correlation coefficients > 0.7"
   ]
  },
  {
   "cell_type": "markdown",
   "metadata": {},
   "source": [
    "We will drop d1_sysbp_max since both values are the same in nature, and one is more acute than the other, which likely will have a larger impact on our ICU patients."
   ]
  },
  {
   "cell_type": "markdown",
   "metadata": {},
   "source": [
    "### Important Variables Plotting"
   ]
  },
  {
   "cell_type": "code",
   "execution_count": 72,
   "metadata": {},
   "outputs": [
    {
     "data": {
      "text/plain": [
       "[Row(d1_diasbp_max=68, d1_diasbp_min=37, d1_heartrate_min=72, d1_resprate_min=10, d1_sysbp_min=73, d1_temp_min=37.2, h1_diasbp_max=68, h1_heartrate_max=119, h1_mbp_min=85, h1_resprate_max=26, h1_resprate_min=18, h1_sysbp_max=131, map_apache=40),\n",
       " Row(d1_diasbp_max=95, d1_diasbp_min=31, d1_heartrate_min=72, d1_resprate_min=12, d1_sysbp_min=67, d1_temp_min=35.1, h1_diasbp_max=61, h1_heartrate_max=114, h1_mbp_min=57, h1_resprate_max=31, h1_resprate_min=28, h1_sysbp_max=95, map_apache=46)]"
      ]
     },
     "execution_count": 72,
     "metadata": {},
     "output_type": "execute_result"
    }
   ],
   "source": [
    "final_integer_vars = df_2.select('d1_diasbp_max',\n",
    " 'd1_diasbp_min',\n",
    " 'd1_heartrate_min',\n",
    " 'd1_resprate_min',\n",
    " 'd1_sysbp_min',\n",
    " 'd1_temp_min',\n",
    " 'h1_diasbp_max',\n",
    " 'h1_heartrate_max',\n",
    " 'h1_mbp_min',\n",
    " 'h1_resprate_max',\n",
    " 'h1_resprate_min',\n",
    " 'h1_sysbp_max',\n",
    " 'map_apache')\n",
    "\n",
    "final_integer_vars.take(2)"
   ]
  },
  {
   "cell_type": "code",
   "execution_count": 73,
   "metadata": {},
   "outputs": [
    {
     "data": {
      "image/png": "[encoded data removed]",
      "text/plain": [
       "<Figure size 1500x800 with 1 Axes>"
      ]
     },
     "metadata": {},
     "output_type": "display_data"
    }
   ],
   "source": [
    "sns.set_theme(style=\"darkgrid\")\n",
    "final_integer_vars_pd = final_integer_vars.toPandas()\n",
    "df_plot = final_integer_vars_pd.melt()\n",
    "df_plot\n",
    "plt.figure(figsize=(15,8))\n",
    "sns.boxplot(x='variable', y='value', data=df_plot).set(title='Boxplot for Each Important Integer Feature')\n",
    "plt.xticks(rotation=45)\n",
    "plt.show()"
   ]
  },
  {
   "cell_type": "code",
   "execution_count": 74,
   "metadata": {},
   "outputs": [
    {
     "data": {
      "image/png": "[encoded data removed]",
      "text/plain": [
       "<Figure size 640x480 with 1 Axes>"
      ]
     },
     "metadata": {},
     "output_type": "display_data"
    }
   ],
   "source": [
    "sns.set_theme(style=\"darkgrid\")\n",
    "sns.boxplot(x='d1_temp_min', data=final_integer_vars_pd)\n",
    "plt.show()"
   ]
  },
  {
   "cell_type": "code",
   "execution_count": 75,
   "metadata": {},
   "outputs": [
    {
     "data": {
      "text/plain": [
       "[Row(GCS_buckets=2.0, d1_diasbp_max=68, d1_diasbp_min=37, d1_heartrate_min=72, d1_resprate_min=10, d1_sysbp_max=131, d1_sysbp_min=73, d1_temp_min=37.2, h1_diasbp_max=68, h1_heartrate_max=119, h1_mbp_min=85, h1_resprate_max=26, h1_resprate_min=18, h1_sysbp_max=131, intubated_apache=False, map_apache=40, ventilated_apache=False, hospital_death=False),\n",
       " Row(GCS_buckets=0.0, d1_diasbp_max=95, d1_diasbp_min=31, d1_heartrate_min=72, d1_resprate_min=12, d1_sysbp_max=159, d1_sysbp_min=67, d1_temp_min=35.1, h1_diasbp_max=61, h1_heartrate_max=114, h1_mbp_min=57, h1_resprate_max=31, h1_resprate_min=28, h1_sysbp_max=95, intubated_apache=False, map_apache=46, ventilated_apache=True, hospital_death=False)]"
      ]
     },
     "execution_count": 75,
     "metadata": {},
     "output_type": "execute_result"
    }
   ],
   "source": [
    "final_vars_with_hos_death = df_2.select('GCS_buckets',\n",
    " 'd1_diasbp_max',\n",
    " 'd1_diasbp_min',\n",
    " 'd1_heartrate_min',\n",
    " 'd1_resprate_min',\n",
    " 'd1_sysbp_max',\n",
    " 'd1_sysbp_min',\n",
    " 'd1_temp_min',\n",
    " 'h1_diasbp_max',\n",
    " 'h1_heartrate_max',\n",
    " 'h1_mbp_min',\n",
    " 'h1_resprate_max',\n",
    " 'h1_resprate_min',\n",
    " 'h1_sysbp_max',\n",
    " 'intubated_apache',\n",
    " 'map_apache',\n",
    " 'ventilated_apache',\n",
    " 'hospital_death')\n",
    "\n",
    "final_vars_with_hos_death.take(2)"
   ]
  },
  {
   "cell_type": "code",
   "execution_count": 76,
   "metadata": {},
   "outputs": [
    {
     "data": {
      "image/png": "[encoded data removed]",
      "text/plain": [
       "<Figure size 640x480 with 1 Axes>"
      ]
     },
     "metadata": {},
     "output_type": "display_data"
    }
   ],
   "source": [
    "final_vars_with_hos_death_pd = final_vars_with_hos_death.toPandas()\n",
    "\n",
    "sns.set_theme(style=\"darkgrid\")\n",
    "sns.countplot(x= 'ventilated_apache', hue='hospital_death', data=final_vars_with_hos_death_pd).set(title='Ventilated')\n",
    "plt.show()"
   ]
  },
  {
   "cell_type": "code",
   "execution_count": 77,
   "metadata": {},
   "outputs": [
    {
     "data": {
      "image/png": "[encoded data removed]",
      "text/plain": [
       "<Figure size 640x480 with 1 Axes>"
      ]
     },
     "metadata": {},
     "output_type": "display_data"
    }
   ],
   "source": [
    "final_vars_with_hos_death_pd = final_vars_with_hos_death.toPandas()\n",
    "\n",
    "sns.set_theme(style=\"darkgrid\")\n",
    "sns.countplot(x= 'intubated_apache', hue='hospital_death', data=final_vars_with_hos_death_pd).set(title='Intubated')\n",
    "plt.show()"
   ]
  },
  {
   "cell_type": "code",
   "execution_count": 78,
   "metadata": {},
   "outputs": [
    {
     "data": {
      "image/png": "[encoded data removed]",
      "text/plain": [
       "<Figure size 635.097x500 with 1 Axes>"
      ]
     },
     "metadata": {},
     "output_type": "display_data"
    }
   ],
   "source": [
    "sns.set_theme(style=\"darkgrid\")\n",
    "sns.displot(x='d1_heartrate_min', hue='hospital_death', data=final_vars_with_hos_death_pd).set(title='Lowest Heart rate during first 24 hrs')\n",
    "plt.show()"
   ]
  },
  {
   "cell_type": "code",
   "execution_count": 79,
   "metadata": {},
   "outputs": [
    {
     "data": {
      "image/png": "[encoded data removed]",
      "text/plain": [
       "<Figure size 635.097x500 with 1 Axes>"
      ]
     },
     "metadata": {},
     "output_type": "display_data"
    }
   ],
   "source": [
    "sns.set_theme(style=\"darkgrid\")\n",
    "sns.displot(x='h1_heartrate_max', hue='hospital_death', data=final_vars_with_hos_death_pd).set(title='Highest heart rate during the first hour')\n",
    "plt.show()"
   ]
  },
  {
   "cell_type": "code",
   "execution_count": 80,
   "metadata": {},
   "outputs": [
    {
     "data": {
      "image/png": "[encoded data removed]",
      "text/plain": [
       "<Figure size 635.097x500 with 1 Axes>"
      ]
     },
     "metadata": {},
     "output_type": "display_data"
    }
   ],
   "source": [
    "sns.set_theme(style=\"darkgrid\")\n",
    "sns.displot(x='d1_diasbp_max', hue='hospital_death', data=final_vars_with_hos_death_pd).set(title='Highest diastolic blood pressure during the first 24 hours')\n",
    "plt.show()"
   ]
  },
  {
   "cell_type": "code",
   "execution_count": 81,
   "metadata": {},
   "outputs": [
    {
     "data": {
      "image/png": "[encoded data removed]",
      "text/plain": [
       "<Figure size 635.097x500 with 1 Axes>"
      ]
     },
     "metadata": {},
     "output_type": "display_data"
    }
   ],
   "source": [
    "sns.set_theme(style=\"darkgrid\")\n",
    "sns.displot(x='h1_diasbp_max', hue='hospital_death', data=final_vars_with_hos_death_pd).set(title='Highest diastolic blood pressure during the first hour')\n",
    "plt.show()"
   ]
  },
  {
   "cell_type": "code",
   "execution_count": 82,
   "metadata": {},
   "outputs": [
    {
     "data": {
      "image/png": "[encoded data removed]",
      "text/plain": [
       "<Figure size 635.097x500 with 1 Axes>"
      ]
     },
     "metadata": {},
     "output_type": "display_data"
    }
   ],
   "source": [
    "sns.set_theme(style=\"darkgrid\")\n",
    "sns.displot(x='d1_sysbp_max', hue='hospital_death', data=final_vars_with_hos_death_pd).set(title='Highest systolic blood pressure during the first 24 hours')\n",
    "plt.show()"
   ]
  },
  {
   "cell_type": "code",
   "execution_count": 83,
   "metadata": {},
   "outputs": [
    {
     "data": {
      "image/png": "[encoded data removed]",
      "text/plain": [
       "<Figure size 635.097x500 with 1 Axes>"
      ]
     },
     "metadata": {},
     "output_type": "display_data"
    }
   ],
   "source": [
    "sns.set_theme(style=\"darkgrid\")\n",
    "sns.displot(x='h1_sysbp_max', hue='hospital_death', data=final_vars_with_hos_death_pd).set(title='Highest systolic blood pressure during the first hour')\n",
    "plt.show()"
   ]
  },
  {
   "cell_type": "markdown",
   "metadata": {},
   "source": [
    "### Addressing our Imbalanced Data Set"
   ]
  },
  {
   "cell_type": "code",
   "execution_count": 84,
   "metadata": {},
   "outputs": [
    {
     "name": "stdout",
     "output_type": "stream",
     "text": [
      "+--------------+-----+\n",
      "|hospital_death|count|\n",
      "+--------------+-----+\n",
      "|          true| 5603|\n",
      "|         false|62991|\n",
      "+--------------+-----+\n",
      "\n"
     ]
    }
   ],
   "source": [
    "# Outcome variable distribution\n",
    "df.groupBy(\"hospital_death\").count().show()"
   ]
  },
  {
   "cell_type": "code",
   "execution_count": 36,
   "metadata": {},
   "outputs": [],
   "source": [
    "def downsample(df, target, positive_label, negative_label):\n",
    "    \"\"\"\n",
    "    df              spark dataframe\n",
    "    target          str, target variable\n",
    "    positive_label  int, value of positive label\n",
    "    negative_label  int, value of negative label\n",
    "    \n",
    "    \"\"\"\n",
    "\n",
    "    major_df = df.filter(col(target) == positive_label)\n",
    "    minor_df = df.filter(col(target) == negative_label)\n",
    "    major_count = major_df.count()\n",
    "    minor_count = minor_df.count() \n",
    "    if major_count > minor_count:\n",
    "        ratio = minor_count/major_count\n",
    "        sampled_df = major_df.sample(True, ratio,seed=seed)\n",
    "        df_b = sampled_df.unionAll(minor_df)\n",
    "    elif minor_count > major_count:\n",
    "        ratio = major_count/minor_count\n",
    "        sampled_df = minor_df.sample(True, ratio,seed=seed)\n",
    "        df_b = sampled_df.unionAll(major_df)\n",
    "    else:\n",
    "        df_b = df\n",
    "    return df_b"
   ]
  },
  {
   "cell_type": "markdown",
   "metadata": {},
   "source": [
    "## Model Building and Evaluation"
   ]
  },
  {
   "cell_type": "code",
   "execution_count": 34,
   "metadata": {},
   "outputs": [
    {
     "data": {
      "text/plain": [
       "68594"
      ]
     },
     "execution_count": 34,
     "metadata": {},
     "output_type": "execute_result"
    }
   ],
   "source": [
    "df_subset = df_2.select('GCS_buckets',\n",
    " 'd1_diasbp_max',\n",
    " 'd1_diasbp_min',\n",
    " 'd1_heartrate_min',\n",
    " 'd1_resprate_min',\n",
    " 'd1_sysbp_max',\n",
    " 'd1_sysbp_min',\n",
    " 'd1_temp_min',\n",
    " 'h1_diasbp_max',\n",
    " 'h1_heartrate_max',\n",
    " 'h1_mbp_min',\n",
    " 'h1_resprate_max',\n",
    " 'h1_resprate_min',\n",
    " 'h1_sysbp_max',\n",
    " 'intubated_apache',\n",
    " 'map_apache',\n",
    " 'ventilated_apache',\n",
    " 'hospital_death')\n",
    "\n",
    "df_subset = df_subset.withColumn('hospital_death', F.when(df_subset.hospital_death == False, 0).otherwise(1))\n",
    "\n",
    "df_subset.count()"
   ]
  },
  {
   "cell_type": "code",
   "execution_count": 37,
   "metadata": {},
   "outputs": [],
   "source": [
    "# define training and testing data to be used for all models\n",
    "training_fraction = [0.8,0.2]\n",
    "seed = 314\n",
    "train_data, test_data = df_subset.randomSplit(training_fraction, seed=seed)\n",
    "\n",
    "target = 'hospital_death'\n",
    "positive_label = 1\n",
    "negative_label = 0\n",
    "\n",
    "# Call your downsample function here, and show the count by label to confirm\n",
    "\n",
    "df_subset_balanced = downsample(train_data,target,positive_label,negative_label)"
   ]
  },
  {
   "cell_type": "markdown",
   "metadata": {},
   "source": [
    "### Logistic Regression - Benchmark model"
   ]
  },
  {
   "cell_type": "code",
   "execution_count": 39,
   "metadata": {},
   "outputs": [],
   "source": [
    "from pyspark.ml.classification import LogisticRegression\n",
    "\n",
    "va = VectorAssembler(inputCols=[c for c in df_subset_balanced.columns if c not in {'hospital_death'}], outputCol=\"features\")  \n",
    "sc = StandardScaler(inputCol=\"features\", outputCol=\"scaledFeatures\")\n",
    "lr = LogisticRegression(labelCol='hospital_death', featuresCol='scaledFeatures', fitIntercept=True)\n",
    "\n",
    "# Fit the pipeline\n",
    "pipeline = Pipeline(stages=[va, sc, lr])\n",
    "log_model = pipeline.fit(df_subset_balanced)"
   ]
  },
  {
   "cell_type": "code",
   "execution_count": 106,
   "metadata": {},
   "outputs": [
    {
     "name": "stdout",
     "output_type": "stream",
     "text": [
      "Test Area under ROC curve 0.7279123721169074\n",
      "Test Accuracy 0.7428383993002405\n"
     ]
    }
   ],
   "source": [
    "from pyspark.ml.evaluation import BinaryClassificationEvaluator,MulticlassClassificationEvaluator\n",
    "\n",
    "log_pred = log_model.transform(test_data)\n",
    "evaluator = BinaryClassificationEvaluator(labelCol='hospital_death', rawPredictionCol=\"prediction\", metricName='areaUnderROC')\n",
    "print('Test Area under ROC curve', evaluator.evaluate(log_pred))\n",
    "\n",
    "evaluator_2 = MulticlassClassificationEvaluator(labelCol='hospital_death', predictionCol=\"prediction\")\n",
    "print('Test Accuracy', evaluator_2.evaluate(log_pred,{evaluator_2.metricName: \"accuracy\"}))"
   ]
  },
  {
   "cell_type": "code",
   "execution_count": 107,
   "metadata": {},
   "outputs": [
    {
     "name": "stdout",
     "output_type": "stream",
     "text": [
      "[[9383. 3198.]\n",
      " [ 330.  808.]]\n"
     ]
    }
   ],
   "source": [
    "from pyspark.mllib.evaluation import MulticlassMetrics\n",
    "from pyspark.sql.types import FloatType\n",
    "\n",
    "#important: need to cast to float type, and order by prediction, else it won't work\n",
    "preds_and_labels = log_pred.select(['prediction','hospital_death']).withColumn('label', F.col('hospital_death').cast(FloatType())).orderBy('prediction')\n",
    "\n",
    "#select only prediction and label columns\n",
    "preds_and_labels = preds_and_labels.select(['prediction','label'])\n",
    "\n",
    "metrics = MulticlassMetrics(preds_and_labels.rdd.map(tuple))\n",
    "\n",
    "print(metrics.confusionMatrix().toArray())"
   ]
  },
  {
   "cell_type": "code",
   "execution_count": 108,
   "metadata": {},
   "outputs": [
    {
     "name": "stdout",
     "output_type": "stream",
     "text": [
      "False Positive Rate 0.2541928304586281\n",
      "Recall 0.7100175746924429\n",
      "Precision 0.2016974538192711\n"
     ]
    }
   ],
   "source": [
    "print('False Positive Rate', metrics.falsePositiveRate(1.0))\n",
    "print('Recall', metrics.recall(1.0))\n",
    "print('Precision', metrics.precision(1.0))"
   ]
  },
  {
   "cell_type": "markdown",
   "metadata": {},
   "source": [
    "### Optimizing our Logistic Regression with Parameter Tuning and Cross Validation"
   ]
  },
  {
   "cell_type": "code",
   "execution_count": 109,
   "metadata": {},
   "outputs": [
    {
     "name": "stdout",
     "output_type": "stream",
     "text": [
      "train time: 193.80801463127136\n"
     ]
    }
   ],
   "source": [
    "from pyspark.ml.tuning import CrossValidator, ParamGridBuilder\n",
    "\n",
    "# Set up the parameter grid\n",
    "paramGrid = ParamGridBuilder() \\\n",
    "    .addGrid(lr.regParam, [0, 0.01, 0.5, 2.0 ]) \\\n",
    "    .addGrid(lr.maxIter, [5, 10, 100, 200]) \\\n",
    "    .build()\n",
    "\n",
    "# Treat the Pipeline as an Estimator, wrapping it in a CrossValidator instance.\n",
    "crossval = CrossValidator(estimator=pipeline,\n",
    "                          estimatorParamMaps=paramGrid,\n",
    "                          evaluator=BinaryClassificationEvaluator(labelCol='hospital_death', rawPredictionCol=\"prediction\"),\n",
    "                          numFolds=5)\n",
    "\n",
    "# Run cross-validation, and choose the best set of parameters. Print the training time.\n",
    "import time\n",
    "t0 = time.time()\n",
    "cvModel = crossval.setParallelism(4).fit(df_subset_balanced) # train 4 models in parallel\n",
    "\n",
    "print(\"train time:\", time.time() - t0)"
   ]
  },
  {
   "cell_type": "code",
   "execution_count": 110,
   "metadata": {},
   "outputs": [
    {
     "name": "stdout",
     "output_type": "stream",
     "text": [
      "{Param(parent='LogisticRegression_a95834cff07a', name='regParam', doc='regularization parameter (>= 0).'): 0.0, Param(parent='LogisticRegression_a95834cff07a', name='maxIter', doc='max number of iterations (>= 0).'): 200}\n"
     ]
    }
   ],
   "source": [
    "print(cvModel.getEstimatorParamMaps()[np.argmax(cvModel.avgMetrics)])"
   ]
  },
  {
   "cell_type": "code",
   "execution_count": 111,
   "metadata": {},
   "outputs": [
    {
     "name": "stdout",
     "output_type": "stream",
     "text": [
      "Test Area under ROC curve 0.7312551398047855\n",
      "Test Accuracy 0.7475034623514833\n"
     ]
    }
   ],
   "source": [
    "cv_log_pred = cvModel.transform(test_data)\n",
    "\n",
    "print('Test Area under ROC curve', evaluator.evaluate(cv_log_pred))\n",
    "print('Test Accuracy', evaluator_2.evaluate(cv_log_pred ,{evaluator_2.metricName: \"accuracy\"}))"
   ]
  },
  {
   "cell_type": "code",
   "execution_count": 112,
   "metadata": {},
   "outputs": [
    {
     "name": "stdout",
     "output_type": "stream",
     "text": [
      "[[9445. 3136.]\n",
      " [ 328.  810.]]\n"
     ]
    }
   ],
   "source": [
    "preds_and_labels = cv_log_pred.select(['prediction','hospital_death']).withColumn('label', F.col('hospital_death').cast(FloatType())).orderBy('prediction')\n",
    "\n",
    "#select only prediction and label columns\n",
    "preds_and_labels = preds_and_labels.select(['prediction','label'])\n",
    "\n",
    "metrics = MulticlassMetrics(preds_and_labels.rdd.map(tuple))\n",
    "\n",
    "print(metrics.confusionMatrix().toArray())"
   ]
  },
  {
   "cell_type": "code",
   "execution_count": 113,
   "metadata": {},
   "outputs": [
    {
     "name": "stdout",
     "output_type": "stream",
     "text": [
      "False Positive Rate 0.24926476432716\n",
      "Recall 0.7117750439367311\n",
      "Precision 0.20527116066903192\n"
     ]
    }
   ],
   "source": [
    "print('False Positive Rate', metrics.falsePositiveRate(1.0))\n",
    "print('Recall', metrics.recall(1.0))\n",
    "print('Precision', metrics.precision(1.0))"
   ]
  },
  {
   "cell_type": "markdown",
   "metadata": {},
   "source": [
    "### Gradient Boosting"
   ]
  },
  {
   "cell_type": "code",
   "execution_count": 114,
   "metadata": {},
   "outputs": [],
   "source": [
    "from pyspark.ml.classification import GBTClassifier\n",
    "\n",
    "gbt = GBTClassifier(labelCol='hospital_death', featuresCol='scaledFeatures', maxIter=10)\n",
    "\n",
    "pipeline = Pipeline(stages=[va, sc, gbt])\n",
    "\n",
    "gbt_model = pipeline.fit(df_subset_balanced)"
   ]
  },
  {
   "cell_type": "code",
   "execution_count": 115,
   "metadata": {},
   "outputs": [
    {
     "name": "stdout",
     "output_type": "stream",
     "text": [
      "Test Area under ROC curve 0.7350902181980276\n",
      "Test Accuracy 0.7479408120125374\n"
     ]
    }
   ],
   "source": [
    "gbt_pred = gbt_model.transform(test_data)\n",
    "\n",
    "print('Test Area under ROC curve', evaluator.evaluate(gbt_pred))\n",
    "print('Test Accuracy', evaluator_2.evaluate(gbt_pred ,{evaluator_2.metricName: \"accuracy\"}))"
   ]
  },
  {
   "cell_type": "code",
   "execution_count": 116,
   "metadata": {},
   "outputs": [
    {
     "name": "stdout",
     "output_type": "stream",
     "text": [
      "[[9442. 3139.]\n",
      " [ 319.  819.]]\n"
     ]
    }
   ],
   "source": [
    "preds_and_labels = gbt_pred.select(['prediction','hospital_death']).withColumn('label', F.col('hospital_death').cast(FloatType())).orderBy('prediction')\n",
    "\n",
    "#select only prediction and label columns\n",
    "preds_and_labels = preds_and_labels.select(['prediction','label'])\n",
    "\n",
    "metrics = MulticlassMetrics(preds_and_labels.rdd.map(tuple))\n",
    "\n",
    "print(metrics.confusionMatrix().toArray())"
   ]
  },
  {
   "cell_type": "code",
   "execution_count": 117,
   "metadata": {},
   "outputs": [
    {
     "name": "stdout",
     "output_type": "stream",
     "text": [
      "False Positive Rate 0.24950321913997298\n",
      "Recall 0.7196836555360281\n",
      "Precision 0.20692268822637697\n"
     ]
    }
   ],
   "source": [
    "print('False Positive Rate', metrics.falsePositiveRate(1.0))\n",
    "print('Recall', metrics.recall(1.0))\n",
    "print('Precision', metrics.precision(1.0))"
   ]
  },
  {
   "cell_type": "markdown",
   "metadata": {},
   "source": [
    "##### Since decision trees are immune to multicollinearity, let's see how the tree performs with all of the features"
   ]
  },
  {
   "cell_type": "code",
   "execution_count": 118,
   "metadata": {},
   "outputs": [],
   "source": [
    "df_2 = df_2.withColumn('hospital_death', F.when(df_2.hospital_death == False, 0).otherwise(1))\n",
    "\n",
    "# define training and testing data to be used for all subset models\n",
    "training_fraction = [0.8,0.2]\n",
    "seed = 314\n",
    "train_data_all_vars, test_data_all_vars = df_2.randomSplit(training_fraction, seed=seed)\n",
    "\n",
    "target = 'hospital_death'\n",
    "positive_label = 1\n",
    "negative_label = 0\n",
    "\n",
    "# Call your downsample function here, and show the count by label to confirm\n",
    "\n",
    "df_all_vars_balanced = downsample(train_data_all_vars,target,positive_label,negative_label)\n",
    "\n",
    "gbt = GBTClassifier(labelCol='hospital_death', featuresCol='scaledFeatures', maxIter=10)\n",
    "\n",
    "pipeline = Pipeline(stages=[va, sc, gbt])\n",
    "\n",
    "gbt_model = pipeline.fit(df_all_vars_balanced)"
   ]
  },
  {
   "cell_type": "code",
   "execution_count": 119,
   "metadata": {},
   "outputs": [
    {
     "name": "stdout",
     "output_type": "stream",
     "text": [
      "Test Area under ROC curve 0.736826296565917\n",
      "Test Accuracy 0.7416721335374299\n"
     ]
    }
   ],
   "source": [
    "gbt_pred_2 = gbt_model.transform(test_data_all_vars)\n",
    "\n",
    "print('Test Area under ROC curve', evaluator.evaluate(gbt_pred_2))\n",
    "print('Test Accuracy', evaluator_2.evaluate(gbt_pred_2 ,{evaluator_2.metricName: \"accuracy\"}))"
   ]
  },
  {
   "cell_type": "code",
   "execution_count": 120,
   "metadata": {},
   "outputs": [
    {
     "name": "stdout",
     "output_type": "stream",
     "text": [
      "[[9365. 3246.]\n",
      " [ 298.  810.]]\n"
     ]
    }
   ],
   "source": [
    "preds_and_labels = gbt_pred_2.select(['prediction','hospital_death']).withColumn('label', F.col('hospital_death').cast(FloatType())).orderBy('prediction')\n",
    "\n",
    "#select only prediction and label columns\n",
    "preds_and_labels = preds_and_labels.select(['prediction','label'])\n",
    "\n",
    "metrics = MulticlassMetrics(preds_and_labels.rdd.map(tuple))\n",
    "\n",
    "print(metrics.confusionMatrix().toArray())"
   ]
  },
  {
   "cell_type": "code",
   "execution_count": 121,
   "metadata": {},
   "outputs": [
    {
     "name": "stdout",
     "output_type": "stream",
     "text": [
      "False Positive Rate 0.25739433827610814\n",
      "Recall 0.7310469314079422\n",
      "Precision 0.1997041420118343\n"
     ]
    }
   ],
   "source": [
    "print('False Positive Rate', metrics.falsePositiveRate(1.0))\n",
    "print('Recall', metrics.recall(1.0))\n",
    "print('Precision', metrics.precision(1.0))"
   ]
  },
  {
   "cell_type": "markdown",
   "metadata": {},
   "source": [
    "##### We are going to continue to move forward with the simpler model with fewer features"
   ]
  },
  {
   "cell_type": "markdown",
   "metadata": {},
   "source": [
    "### Optimizing the parameters of our Gradient Boosted Trees Implementation"
   ]
  },
  {
   "cell_type": "markdown",
   "metadata": {},
   "source": [
    "##### Due to runtime (and we can run the trees in parallel), we are going to break the pararm grid into parts "
   ]
  },
  {
   "cell_type": "markdown",
   "metadata": {},
   "source": [
    "#### First, testing different max depths"
   ]
  },
  {
   "cell_type": "code",
   "execution_count": 122,
   "metadata": {},
   "outputs": [
    {
     "name": "stdout",
     "output_type": "stream",
     "text": [
      "train time: 123.2909243106842\n"
     ]
    }
   ],
   "source": [
    "# Set up the parameter grid\n",
    "paramGrid = ParamGridBuilder() \\\n",
    "    .addGrid(gbt.maxDepth, [2, 5, 10]) \\\n",
    "    .build()\n",
    "\n",
    "# Treat the Pipeline as an Estimator, wrapping it in a CrossValidator instance.\n",
    "crossval = CrossValidator(estimator=pipeline,\n",
    "                          estimatorParamMaps=paramGrid,\n",
    "                          evaluator=BinaryClassificationEvaluator(labelCol='hospital_death', rawPredictionCol=\"prediction\"),\n",
    "                          numFolds=5)\n",
    "\n",
    "# Run cross-validation, and choose the best set of parameters. Print the training time.\n",
    "import time\n",
    "t0 = time.time()\n",
    "cvModel = crossval.fit(df_subset_balanced)\n",
    "\n",
    "print(\"train time:\", time.time() - t0)"
   ]
  },
  {
   "cell_type": "code",
   "execution_count": 123,
   "metadata": {},
   "outputs": [
    {
     "name": "stdout",
     "output_type": "stream",
     "text": [
      "{Param(parent='GBTClassifier_ac24cc679b70', name='maxDepth', doc='Maximum depth of the tree. (>= 0) E.g., depth 0 means 1 leaf node; depth 1 means 1 internal node + 2 leaf nodes.'): 5}\n"
     ]
    }
   ],
   "source": [
    "print(cvModel.getEstimatorParamMaps()[np.argmax(cvModel.avgMetrics)])"
   ]
  },
  {
   "cell_type": "code",
   "execution_count": 124,
   "metadata": {},
   "outputs": [
    {
     "name": "stdout",
     "output_type": "stream",
     "text": [
      "Test Area under ROC curve 0.7350902181980276\n",
      "Test Accuracy 0.7479408120125374\n"
     ]
    }
   ],
   "source": [
    "cv_gbt_pred = cvModel.transform(test_data)\n",
    "\n",
    "print('Test Area under ROC curve', evaluator.evaluate(cv_gbt_pred))\n",
    "print('Test Accuracy', evaluator_2.evaluate(cv_gbt_pred ,{evaluator_2.metricName: \"accuracy\"}))"
   ]
  },
  {
   "cell_type": "markdown",
   "metadata": {},
   "source": [
    "#### Next, testing different max bins"
   ]
  },
  {
   "cell_type": "code",
   "execution_count": 125,
   "metadata": {},
   "outputs": [
    {
     "name": "stdout",
     "output_type": "stream",
     "text": [
      "train time: 95.82105207443237\n"
     ]
    }
   ],
   "source": [
    "# Set up the parameter grid\n",
    "paramGrid = ParamGridBuilder() \\\n",
    "    .addGrid(gbt.maxBins, [10, 20, 40]) \\\n",
    "    .build()\n",
    "\n",
    "# Treat the Pipeline as an Estimator, wrapping it in a CrossValidator instance.\n",
    "crossval = CrossValidator(estimator=pipeline,\n",
    "                          estimatorParamMaps=paramGrid,\n",
    "                          evaluator=BinaryClassificationEvaluator(labelCol='hospital_death', rawPredictionCol=\"prediction\"),\n",
    "                          numFolds=5)\n",
    "\n",
    "# Run cross-validation, and choose the best set of parameters. Print the training time.\n",
    "import time\n",
    "t0 = time.time()\n",
    "cvModel = crossval.fit(df_subset_balanced)\n",
    "\n",
    "print(\"train time:\", time.time() - t0)"
   ]
  },
  {
   "cell_type": "code",
   "execution_count": 126,
   "metadata": {},
   "outputs": [
    {
     "name": "stdout",
     "output_type": "stream",
     "text": [
      "{Param(parent='GBTClassifier_ac24cc679b70', name='maxBins', doc='Max number of bins for discretizing continuous features.  Must be >=2 and >= number of categories for any categorical feature.'): 10}\n"
     ]
    }
   ],
   "source": [
    "print(cvModel.getEstimatorParamMaps()[np.argmax(cvModel.avgMetrics)])"
   ]
  },
  {
   "cell_type": "code",
   "execution_count": 127,
   "metadata": {},
   "outputs": [
    {
     "name": "stdout",
     "output_type": "stream",
     "text": [
      "Test Area under ROC curve 0.7344918810117469\n",
      "Test Accuracy 0.747576353961659\n"
     ]
    }
   ],
   "source": [
    "cv_gbt_pred = cvModel.transform(test_data)\n",
    "\n",
    "print('Test Area under ROC curve', evaluator.evaluate(cv_gbt_pred))\n",
    "print('Test Accuracy', evaluator_2.evaluate(cv_gbt_pred ,{evaluator_2.metricName: \"accuracy\"}))"
   ]
  },
  {
   "cell_type": "markdown",
   "metadata": {},
   "source": [
    "#### Next, testing different max iterations"
   ]
  },
  {
   "cell_type": "code",
   "execution_count": 128,
   "metadata": {},
   "outputs": [
    {
     "name": "stdout",
     "output_type": "stream",
     "text": [
      "train time: 107.95555806159973\n"
     ]
    }
   ],
   "source": [
    "# Set up the parameter grid\n",
    "paramGrid = ParamGridBuilder() \\\n",
    "    .addGrid(gbt.maxIter, [5, 10, 20]) \\\n",
    "    .build()\n",
    "\n",
    "# Treat the Pipeline as an Estimator, wrapping it in a CrossValidator instance.\n",
    "crossval = CrossValidator(estimator=pipeline,\n",
    "                          estimatorParamMaps=paramGrid,\n",
    "                          evaluator=BinaryClassificationEvaluator(labelCol='hospital_death', rawPredictionCol=\"prediction\"),\n",
    "                          numFolds=5)\n",
    "\n",
    "# Run cross-validation, and choose the best set of parameters. Print the training time.\n",
    "import time\n",
    "t0 = time.time()\n",
    "cvModel = crossval.fit(df_subset_balanced)\n",
    "\n",
    "print(\"train time:\", time.time() - t0)"
   ]
  },
  {
   "cell_type": "code",
   "execution_count": 129,
   "metadata": {},
   "outputs": [
    {
     "name": "stdout",
     "output_type": "stream",
     "text": [
      "{Param(parent='GBTClassifier_ac24cc679b70', name='maxIter', doc='max number of iterations (>= 0).'): 20}\n"
     ]
    }
   ],
   "source": [
    "print(cvModel.getEstimatorParamMaps()[np.argmax(cvModel.avgMetrics)])"
   ]
  },
  {
   "cell_type": "code",
   "execution_count": 130,
   "metadata": {},
   "outputs": [
    {
     "name": "stdout",
     "output_type": "stream",
     "text": [
      "Test Area under ROC curve 0.7438068800988575\n",
      "Test Accuracy 0.7463371965886726\n"
     ]
    }
   ],
   "source": [
    "cv_gbt_pred = cvModel.transform(test_data)\n",
    "\n",
    "print('Test Area under ROC curve', evaluator.evaluate(cv_gbt_pred))\n",
    "print('Test Accuracy', evaluator_2.evaluate(cv_gbt_pred ,{evaluator_2.metricName: \"accuracy\"}))"
   ]
  },
  {
   "cell_type": "markdown",
   "metadata": {},
   "source": [
    "#### We are going to continue with our GBT with max depth at 5, max bins at 10, and max iterations at 20"
   ]
  },
  {
   "cell_type": "code",
   "execution_count": 131,
   "metadata": {},
   "outputs": [
    {
     "name": "stdout",
     "output_type": "stream",
     "text": [
      "Test Area under ROC curve 0.7392873791189856\n",
      "Test Accuracy 0.747576353961659\n"
     ]
    }
   ],
   "source": [
    "gbt = GBTClassifier(labelCol='hospital_death', featuresCol='scaledFeatures', maxDepth=5, maxBins=10, maxIter=20)\n",
    "\n",
    "pipeline = Pipeline(stages=[va, sc, gbt])\n",
    "\n",
    "gbt_model = pipeline.fit(df_subset_balanced)\n",
    "\n",
    "gbt_pred_final = gbt_model.transform(test_data)\n",
    "\n",
    "print('Test Area under ROC curve', evaluator.evaluate(gbt_pred_final))\n",
    "print('Test Accuracy', evaluator_2.evaluate(gbt_pred_final ,{evaluator_2.metricName: \"accuracy\"}))"
   ]
  },
  {
   "cell_type": "markdown",
   "metadata": {},
   "source": [
    "#### Confusion Matrix"
   ]
  },
  {
   "cell_type": "code",
   "execution_count": 132,
   "metadata": {},
   "outputs": [
    {
     "name": "stdout",
     "output_type": "stream",
     "text": [
      "[[9426. 3155.]\n",
      " [ 308.  830.]]\n"
     ]
    }
   ],
   "source": [
    "preds_and_labels = gbt_pred_final.select(['prediction','hospital_death']).withColumn('label', F.col('hospital_death').cast(FloatType())).orderBy('prediction')\n",
    "\n",
    "#select only prediction and label columns\n",
    "preds_and_labels = preds_and_labels.select(['prediction','label'])\n",
    "\n",
    "metrics = MulticlassMetrics(preds_and_labels.rdd.map(tuple))\n",
    "\n",
    "print(metrics.confusionMatrix().toArray())"
   ]
  },
  {
   "cell_type": "markdown",
   "metadata": {},
   "source": [
    "#### FPR, Recall, Precision"
   ]
  },
  {
   "cell_type": "code",
   "execution_count": 133,
   "metadata": {},
   "outputs": [
    {
     "name": "stdout",
     "output_type": "stream",
     "text": [
      "False Positive Rate: 0.2507749781416422\n",
      "Recall: 0.7293497363796133\n",
      "Precision: 0.20828105395232122\n"
     ]
    }
   ],
   "source": [
    "print('False Positive Rate:', metrics.falsePositiveRate(1.0))\n",
    "print('Recall:', metrics.recall(1.0))\n",
    "print('Precision:', metrics.precision(1.0))"
   ]
  },
  {
   "cell_type": "markdown",
   "metadata": {},
   "source": [
    "### Random Forest with Important Features (per PCA, Multicollinearity Checks)"
   ]
  },
  {
   "cell_type": "code",
   "execution_count": 135,
   "metadata": {},
   "outputs": [
    {
     "name": "stdout",
     "output_type": "stream",
     "text": [
      "train time: 497.3503861427307\n"
     ]
    }
   ],
   "source": [
    "# Importing necessary ML libraries and packages\n",
    "from pyspark.ml.classification import RandomForestClassifier\n",
    "from pyspark.ml.tuning import CrossValidator, ParamGridBuilder\n",
    "from pyspark.ml.evaluation import BinaryClassificationEvaluator,MulticlassClassificationEvaluator\n",
    "\n",
    "va = VectorAssembler(inputCols=[c for c in df_subset_balanced.columns if c not in {'hospital_death'}], outputCol=\"features\")  \n",
    "sc = StandardScaler(inputCol=\"features\", outputCol=\"scaledFeatures\")\n",
    "rf = RandomForestClassifier(labelCol=\"hospital_death\", featuresCol=\"scaledFeatures\")\n",
    "\n",
    "pipeline = Pipeline(stages=[va, sc, rf])\n",
    "paramGrid = ParamGridBuilder() \\\n",
    "    .addGrid(rf.numTrees, [int(x) for x in np.linspace(start = 10, stop = 30, num = 10)]) \\\n",
    "    .addGrid(rf.maxDepth, [int(x) for x in np.linspace(start = 5, stop = 15, num = 5)]) \\\n",
    "    .build()\n",
    "crossval = CrossValidator(estimator=pipeline,\n",
    "                          estimatorParamMaps=paramGrid,\n",
    "                          evaluator=BinaryClassificationEvaluator(labelCol='hospital_death', rawPredictionCol=\"prediction\"),\n",
    "                          numFolds=3)\n",
    "\n",
    "import time\n",
    "t0 = time.time()\n",
    "cvModel = crossval.setParallelism(4).fit(df_subset_balanced)\n",
    "\n",
    "print(\"train time:\", time.time() - t0)"
   ]
  },
  {
   "cell_type": "code",
   "execution_count": 137,
   "metadata": {},
   "outputs": [],
   "source": [
    "rf_pred_final = cvModel.transform(test_data)"
   ]
  },
  {
   "cell_type": "markdown",
   "metadata": {},
   "source": [
    "#### Feature Importance Plot"
   ]
  },
  {
   "cell_type": "code",
   "execution_count": 149,
   "metadata": {},
   "outputs": [
    {
     "data": {
      "text/plain": [
       "array([0.11486175, 0.03508827, 0.05399209, 0.04969897, 0.03805745,\n",
       "       0.03481176, 0.17263031, 0.07643498, 0.03246583, 0.04314966,\n",
       "       0.0394543 , 0.05591575, 0.05075718, 0.03256304, 0.02043489,\n",
       "       0.04870254])"
      ]
     },
     "execution_count": 149,
     "metadata": {},
     "output_type": "execute_result"
    }
   ],
   "source": [
    "feature_importances = cvModel.bestModel.stages[-1].featureImportances\n",
    "feature_importances = np.delete(feature_importances.toArray(), 16)\n",
    "feature_importances"
   ]
  },
  {
   "cell_type": "code",
   "execution_count": 150,
   "metadata": {},
   "outputs": [
    {
     "data": {
      "text/plain": [
       "['GCS_buckets',\n",
       " 'd1_diasbp_max',\n",
       " 'd1_diasbp_min',\n",
       " 'd1_heartrate_min',\n",
       " 'd1_resprate_min',\n",
       " 'd1_sysbp_max',\n",
       " 'd1_sysbp_min',\n",
       " 'd1_temp_min',\n",
       " 'h1_diasbp_max',\n",
       " 'h1_heartrate_max',\n",
       " 'h1_mbp_min',\n",
       " 'h1_resprate_max',\n",
       " 'h1_resprate_min',\n",
       " 'h1_sysbp_max',\n",
       " 'intubated_apache',\n",
       " 'map_apache',\n",
       " 'ventilated_apache',\n",
       " 'hospital_death']"
      ]
     },
     "execution_count": 150,
     "metadata": {},
     "output_type": "execute_result"
    }
   ],
   "source": [
    "df_subset_balanced.columns"
   ]
  },
  {
   "cell_type": "code",
   "execution_count": 147,
   "metadata": {},
   "outputs": [
    {
     "data": {
      "image/png": "[encoded data removed]",
      "text/plain": [
       "<Figure size 640x480 with 1 Axes>"
      ]
     },
     "metadata": {},
     "output_type": "display_data"
    },
    {
     "data": {
      "text/plain": [
       "<Figure size 1500x800 with 0 Axes>"
      ]
     },
     "metadata": {},
     "output_type": "display_data"
    }
   ],
   "source": [
    "x_values = list(range(len(feature_importances)))\n",
    "plt.bar(x_values, feature_importances, orientation='vertical')\n",
    "plt.xticks(range(17), [c for c in df_subset_balanced.columns if c not in {'hospital_death'}], rotation=90)\n",
    "plt.ylabel('Importance')\n",
    "plt.xlabel('Feature')\n",
    "plt.title('Feature Importance Scores using Important Variables Subset')\n",
    "plt.figure(figsize=(15, 8))\n",
    "plt.show()"
   ]
  },
  {
   "cell_type": "markdown",
   "metadata": {},
   "source": [
    "#### Classification Metrics"
   ]
  },
  {
   "cell_type": "code",
   "execution_count": 141,
   "metadata": {},
   "outputs": [
    {
     "name": "stdout",
     "output_type": "stream",
     "text": [
      "Test Area under ROC curve 0.7382628755471226\n",
      "Test Accuracy 0.7427655076900649\n"
     ]
    }
   ],
   "source": [
    "from pyspark.mllib.evaluation import MulticlassMetrics\n",
    "from pyspark.sql.types import FloatType\n",
    "\n",
    "evaluator = BinaryClassificationEvaluator(labelCol='hospital_death', rawPredictionCol=\"prediction\", metricName='areaUnderROC')\n",
    "print('Test Area under ROC curve', evaluator.evaluate(rf_pred_final))\n",
    "\n",
    "evaluator_2 = MulticlassClassificationEvaluator(labelCol='hospital_death', predictionCol=\"prediction\")\n",
    "print('Test Accuracy', evaluator_2.evaluate(rf_pred_final,{evaluator_2.metricName: \"accuracy\"}))"
   ]
  },
  {
   "cell_type": "code",
   "execution_count": 142,
   "metadata": {},
   "outputs": [
    {
     "name": "stdout",
     "output_type": "stream",
     "text": [
      "[[9356. 3225.]\n",
      " [ 304.  834.]]\n"
     ]
    }
   ],
   "source": [
    "#select only prediction and label columns\n",
    "preds_and_labels = rf_pred_final.select(['prediction','hospital_death']).withColumn('label', F.col('hospital_death').cast(FloatType())).orderBy('prediction')\n",
    "\n",
    "preds_and_labels = preds_and_labels.select(['prediction','label'])\n",
    "\n",
    "metrics = MulticlassMetrics(preds_and_labels.rdd.map(tuple))\n",
    "\n",
    "print(metrics.confusionMatrix().toArray())"
   ]
  },
  {
   "cell_type": "code",
   "execution_count": 143,
   "metadata": {},
   "outputs": [
    {
     "name": "stdout",
     "output_type": "stream",
     "text": [
      "False Positive Rate: 0.25633892377394485\n",
      "Recall: 0.7328646748681898\n",
      "Precision: 0.20546932742054694\n"
     ]
    }
   ],
   "source": [
    "print('False Positive Rate:', metrics.falsePositiveRate(1.0))\n",
    "print('Recall:', metrics.recall(1.0))\n",
    "print('Precision:', metrics.precision(1.0))"
   ]
  },
  {
   "cell_type": "markdown",
   "metadata": {},
   "source": [
    "### K Means Classifier"
   ]
  },
  {
   "cell_type": "code",
   "execution_count": 42,
   "metadata": {},
   "outputs": [
    {
     "data": {
      "text/plain": [
       "DataFrame[GCS_buckets: double, d1_diasbp_max: int, d1_diasbp_min: int, d1_heartrate_min: int, d1_resprate_min: int, d1_sysbp_max: int, d1_sysbp_min: int, d1_temp_min: double, h1_diasbp_max: int, h1_heartrate_max: int, h1_mbp_min: int, h1_resprate_max: int, h1_resprate_min: int, h1_sysbp_max: int, intubated_apache: boolean, map_apache: int, ventilated_apache: boolean, hospital_death: int, features: vector]"
      ]
     },
     "execution_count": 42,
     "metadata": {},
     "output_type": "execute_result"
    }
   ],
   "source": [
    "dfb = va.transform(df_subset_balanced)\n",
    "dfb"
   ]
  },
  {
   "cell_type": "code",
   "execution_count": 43,
   "metadata": {},
   "outputs": [
    {
     "data": {
      "image/png": "[encoded data removed]",
      "text/plain": [
       "<Figure size 640x480 with 1 Axes>"
      ]
     },
     "metadata": {},
     "output_type": "display_data"
    }
   ],
   "source": [
    "from pyspark.ml.evaluation import ClusteringEvaluator\n",
    "from pyspark.ml.clustering import KMeans\n",
    "import pandas as pd\n",
    "\n",
    "cost = np.zeros(10)\n",
    "\n",
    "for k in range(2,10):\n",
    "    kmeans = KMeans().setK(k).setSeed(314).setFeaturesCol('features')\n",
    "    model = kmeans.fit(dfb)\n",
    "    cost[k] = model.summary.trainingCost\n",
    "\n",
    "# Plot the cost\n",
    "df_cost = pd.DataFrame(cost[2:])\n",
    "df_cost.columns = [\"cost\"]\n",
    "new_col = [2,3,4,5,6,7,8, 9]\n",
    "df_cost.insert(0, 'cluster', new_col)\n",
    "\n",
    "import pylab as pl\n",
    "pl.plot(df_cost.cluster, df_cost.cost)\n",
    "pl.xlabel('Number of Clusters')\n",
    "pl.ylabel('Score')\n",
    "pl.title('Elbow Curve')\n",
    "pl.show()"
   ]
  },
  {
   "cell_type": "code",
   "execution_count": 44,
   "metadata": {},
   "outputs": [],
   "source": [
    "km = KMeans().setK(7).setSeed(314).setFeaturesCol('scaledFeatures')\n",
    "\n",
    "# Fit the pipeline\n",
    "pipeline = Pipeline(stages=[va, sc, km])\n",
    "km_model = pipeline.fit(df_subset_balanced)"
   ]
  },
  {
   "cell_type": "code",
   "execution_count": 45,
   "metadata": {},
   "outputs": [],
   "source": [
    "km_pred = km_model.transform(test_data)"
   ]
  },
  {
   "cell_type": "code",
   "execution_count": 46,
   "metadata": {},
   "outputs": [
    {
     "name": "stdout",
     "output_type": "stream",
     "text": [
      "Silhouette with squared euclidean distance = 0.06316383325425053\n",
      "Cluster Centers: \n",
      "[array([2.10624928e+00, 4.32548623e+00, 3.78899643e+00, 3.14437980e+00,\n",
      "       2.14868450e+00, 5.71461053e+00, 4.74816279e+00, 3.37663584e+01,\n",
      "       3.90901094e+00, 3.54495633e+00, 4.22570636e+00, 2.52972783e+00,\n",
      "       2.36352889e+00, 4.86189039e+00, 2.71745053e-02, 2.11445968e+00,\n",
      "       2.85018271e-01]), array([ 0.70642818,  3.79989067,  3.07886982,  3.41730509,  2.00226454,\n",
      "        5.0458375 ,  3.76724789, 33.60491187,  3.39492983,  4.13545932,\n",
      "        3.33622561,  2.55164829,  2.3583425 ,  4.09626834,  1.64247226,\n",
      "        1.52397011,  1.99989808]), array([ 2.14419298,  3.77697243,  2.96965817,  3.50912559,  2.25205266,\n",
      "        4.7917573 ,  3.74605479, 33.66484811,  3.20867658,  4.07149608,\n",
      "        3.25156695,  2.77208179,  2.60590105,  3.8036559 ,  0.        ,\n",
      "        1.31749994,  0.2498603 ]), array([ 1.51846515,  4.02220834,  3.07809975,  4.20568002,  3.28536307,\n",
      "        5.09583785,  3.75966716, 33.79257392,  3.55159467,  5.02772869,\n",
      "        3.5056885 ,  4.2283554 ,  4.16947264,  4.12811831,  0.51897884,\n",
      "        1.60662146,  1.3016793 ]), array([ 1.8505949 ,  5.03672214,  4.58064974,  3.65997702,  2.6456955 ,\n",
      "        6.43031083,  5.36665134, 33.79619248,  4.85764617,  4.26424075,\n",
      "        5.17767804,  3.12991336,  2.98417448,  5.65474316,  0.14101246,\n",
      "        2.86053857,  0.52649576]), array([ 0.25139356,  4.32234977,  2.81969402,  2.71952721,  2.03092807,\n",
      "        5.42229012,  3.50083989, 30.59174689,  3.75266211,  4.05954204,\n",
      "        3.37661635,  3.04951746,  2.69405776,  4.2973366 ,  1.41472416,\n",
      "        1.97432018,  1.90466484]), array([ 0.70854957,  5.62445697,  2.97308714,  3.26524708,  1.98710791,\n",
      "        6.64976479,  3.69515322, 33.42621155,  5.15269092,  4.63641098,\n",
      "        4.07476219,  3.26936568,  2.65062006,  5.63887195,  1.19536669,\n",
      "        2.76701144,  1.76221511])]\n"
     ]
    }
   ],
   "source": [
    "from pyspark.ml.evaluation import ClusteringEvaluator\n",
    "evaluator = ClusteringEvaluator()\n",
    "\n",
    "silhouette = evaluator.evaluate(km_pred)\n",
    "print(\"Silhouette with squared euclidean distance = \" + str(silhouette))\n",
    "\n",
    "print(\"Cluster Centers: \")\n",
    "centers = km_model.stages[2].clusterCenters()\n",
    "print(centers)"
   ]
  },
  {
   "cell_type": "code",
   "execution_count": 48,
   "metadata": {},
   "outputs": [],
   "source": [
    "from pyspark.sql.types import DoubleType\n",
    "\n",
    "km_pred = km_pred.withColumn(\"prediction\", km_pred[\"prediction\"].cast(DoubleType()))"
   ]
  },
  {
   "cell_type": "code",
   "execution_count": 49,
   "metadata": {},
   "outputs": [
    {
     "name": "stdout",
     "output_type": "stream",
     "text": [
      "Test Area under ROC curve 0.6485299337620863\n",
      "Test Accuracy 0.30162548290691743\n"
     ]
    }
   ],
   "source": [
    "from pyspark.ml.evaluation import BinaryClassificationEvaluator,MulticlassClassificationEvaluator\n",
    "evaluator = BinaryClassificationEvaluator(labelCol='hospital_death', rawPredictionCol=\"prediction\", metricName='areaUnderROC')\n",
    "print('Test Area under ROC curve', evaluator.evaluate(km_pred))\n",
    "\n",
    "evaluator_2 = MulticlassClassificationEvaluator(labelCol='hospital_death', predictionCol=\"prediction\")\n",
    "print('Test Accuracy', evaluator_2.evaluate(km_pred,{evaluator_2.metricName: \"accuracy\"}))"
   ]
  },
  {
   "cell_type": "code",
   "execution_count": 50,
   "metadata": {},
   "outputs": [
    {
     "name": "stdout",
     "output_type": "stream",
     "text": [
      "[[3877. 1784.]\n",
      " [  79.  261.]]\n"
     ]
    }
   ],
   "source": [
    "from pyspark.mllib.evaluation import MulticlassMetrics\n",
    "from pyspark.sql.types import FloatType\n",
    "\n",
    "preds_and_labels = km_pred.select(['prediction','hospital_death']).withColumn('label', F.col('hospital_death').cast(FloatType())).orderBy('prediction')\n",
    "\n",
    "#select only prediction and label columns\n",
    "preds_and_labels = preds_and_labels.select(['prediction','label'])\n",
    "\n",
    "metrics = MulticlassMetrics(preds_and_labels.rdd.map(tuple))\n",
    "\n",
    "print(metrics.confusionMatrix().toArray())"
   ]
  },
  {
   "cell_type": "code",
   "execution_count": 51,
   "metadata": {},
   "outputs": [
    {
     "name": "stdout",
     "output_type": "stream",
     "text": [
      "False Positive Rate 0.14180112868611397\n",
      "Recall 0.22934973637961337\n",
      "Precision 0.1276283618581907\n"
     ]
    }
   ],
   "source": [
    "print('False Positive Rate', metrics.falsePositiveRate(1.0))\n",
    "print('Recall', metrics.recall(1.0))\n",
    "print('Precision', metrics.precision(1.0))"
   ]
  },
  {
   "cell_type": "markdown",
   "metadata": {},
   "source": [
    "### Performing some Cross Validation with our K means model"
   ]
  },
  {
   "cell_type": "code",
   "execution_count": 62,
   "metadata": {},
   "outputs": [
    {
     "name": "stdout",
     "output_type": "stream",
     "text": [
      "train time: 107.65582370758057\n"
     ]
    }
   ],
   "source": [
    "from pyspark.ml.tuning import CrossValidator, ParamGridBuilder\n",
    "\n",
    "\n",
    "df_subset_balanced_double = df_subset_balanced.withColumn(\"hospital_death\", df_subset_balanced['hospital_death'].cast(DoubleType()))\n",
    "\n",
    "# Set up the parameter grid\n",
    "paramGrid = ParamGridBuilder() \\\n",
    "    .addGrid(kmeans.k, [5, 6, 7, 8, 9]) \\\n",
    "    .build()\n",
    "# Treat the Pipeline as an Estimator, wrapping it in a CrossValidator instance.\n",
    "crossval = CrossValidator(estimator=pipeline,\n",
    "                          estimatorParamMaps=paramGrid,\n",
    "                          evaluator=ClusteringEvaluator(predictionCol='prediction', featuresCol='scaledFeatures'),\n",
    "                          numFolds=5)\n",
    "# Run cross-validation, and choose the best set of parameters. Print the training time.\n",
    "import time\n",
    "t0 = time.time()\n",
    "cvModel = crossval.setParallelism(4).fit(df_subset_balanced_double) # train 4 models in parallel\n",
    "print(\"train time:\", time.time() - t0)"
   ]
  },
  {
   "cell_type": "code",
   "execution_count": 63,
   "metadata": {},
   "outputs": [
    {
     "name": "stdout",
     "output_type": "stream",
     "text": [
      "{Param(parent='KMeans_9d729e8eccc0', name='k', doc='The number of clusters to create. Must be > 1.'): 5}\n"
     ]
    }
   ],
   "source": [
    "print(cvModel.getEstimatorParamMaps()[np.argmax(cvModel.avgMetrics)])"
   ]
  },
  {
   "cell_type": "markdown",
   "metadata": {},
   "source": [
    "##### We will continue with k=5 and see if model performance improves"
   ]
  },
  {
   "cell_type": "code",
   "execution_count": 68,
   "metadata": {},
   "outputs": [],
   "source": [
    "km = KMeans().setK(5).setSeed(314).setFeaturesCol('scaledFeatures')\n",
    "\n",
    "# Fit the pipeline\n",
    "pipeline = Pipeline(stages=[va, sc, km])\n",
    "km_model = pipeline.fit(df_subset_balanced)"
   ]
  },
  {
   "cell_type": "code",
   "execution_count": 69,
   "metadata": {},
   "outputs": [],
   "source": [
    "km_pred = km_model.transform(test_data)"
   ]
  },
  {
   "cell_type": "code",
   "execution_count": 70,
   "metadata": {},
   "outputs": [
    {
     "name": "stdout",
     "output_type": "stream",
     "text": [
      "Test Area under ROC curve 0.3943474405361168\n",
      "Test Accuracy 0.1069319921277061\n"
     ]
    }
   ],
   "source": [
    "km_pred = km_pred.withColumn(\"prediction\", km_pred[\"prediction\"].cast(DoubleType()))\n",
    "\n",
    "print('Test Area under ROC curve', evaluator.evaluate(km_pred))\n",
    "print('Test Accuracy', evaluator_2.evaluate(km_pred,{evaluator_2.metricName: \"accuracy\"}))"
   ]
  },
  {
   "cell_type": "code",
   "execution_count": 72,
   "metadata": {},
   "outputs": [
    {
     "name": "stdout",
     "output_type": "stream",
     "text": [
      "[[1116. 1744.]\n",
      " [ 236.  351.]]\n"
     ]
    }
   ],
   "source": [
    "preds_and_labels = km_pred.select(['prediction','hospital_death']).withColumn('label', F.col('hospital_death').cast(FloatType())).orderBy('prediction')\n",
    "\n",
    "#select only prediction and label columns\n",
    "preds_and_labels = preds_and_labels.select(['prediction','label'])\n",
    "\n",
    "metrics = MulticlassMetrics(preds_and_labels.rdd.map(tuple))\n",
    "\n",
    "print(metrics.confusionMatrix().toArray())"
   ]
  },
  {
   "cell_type": "code",
   "execution_count": 73,
   "metadata": {},
   "outputs": [
    {
     "name": "stdout",
     "output_type": "stream",
     "text": [
      "False Positive Rate 0.13862173118194102\n",
      "Recall 0.3084358523725835\n",
      "Precision 0.1675417661097852\n"
     ]
    }
   ],
   "source": [
    "print('False Positive Rate', metrics.falsePositiveRate(1.0))\n",
    "print('Recall', metrics.recall(1.0))\n",
    "print('Precision', metrics.precision(1.0))"
   ]
  },
  {
   "cell_type": "code",
   "execution_count": 71,
   "metadata": {},
   "outputs": [
    {
     "name": "stdout",
     "output_type": "stream",
     "text": [
      "Silhouette with squared euclidean distance = 0.3943474405361168\n",
      "Cluster Centers: \n",
      "[array([ 1.55455697,  4.02731031,  3.05356218,  4.20331463,  3.21252831,\n",
      "        5.08341702,  3.73929893, 33.7533127 ,  3.56330214,  5.03808302,\n",
      "        3.47674007,  4.17028871,  4.0696338 ,  4.12448693,  0.49620983,\n",
      "        1.59441634,  1.26140695]), array([ 0.61645875,  3.85969111,  2.91996086,  3.22283526,  1.97459692,\n",
      "        5.06104112,  3.62052987, 33.0189711 ,  3.38547126,  4.11110818,\n",
      "        3.2151053 ,  2.64232952,  2.4010174 ,  4.05021564,  1.59700532,\n",
      "        1.53800833,  1.98339557]), array([ 2.14193757,  3.8562215 ,  3.13127557,  3.37522861,  2.19974429,\n",
      "        4.96113869,  3.95392802, 33.67559329,  3.31704024,  3.87276703,\n",
      "        3.44659097,  2.64915417,  2.50193426,  4.0060257 ,  0.        ,\n",
      "        1.42886576,  0.24929696]), array([ 2.05534802,  4.72558489,  4.2708486 ,  3.42734135,  2.41074482,\n",
      "        6.12966456,  5.15750547, 33.81470309,  4.41656838,  3.90381763,\n",
      "        4.76988811,  2.8278041 ,  2.66745568,  5.31573644,  0.05326556,\n",
      "        2.58998758,  0.32517823]), array([ 0.56934644,  5.43355987,  3.24949746,  3.23380629,  2.04187194,\n",
      "        6.55769636,  3.93844926, 33.03295439,  5.06044929,  4.4809805 ,\n",
      "        4.27504873,  3.17785806,  2.67103112,  5.58974296,  1.25106677,\n",
      "        2.77525291,  1.81628908])]\n"
     ]
    }
   ],
   "source": [
    "silhouette = evaluator.evaluate(km_pred)\n",
    "print(\"Silhouette with squared euclidean distance = \" + str(silhouette))\n",
    "\n",
    "print(\"Cluster Centers: \")\n",
    "centers = km_model.stages[2].clusterCenters()\n",
    "print(centers)"
   ]
  }
 ],
 "metadata": {
  "kernelspec": {
   "display_name": "DS 5110 Spark 3.1",
   "language": "python",
   "name": "ds5110_spark3.1"
  },
  "language_info": {
   "codemirror_mode": {
    "name": "ipython",
    "version": 3
   },
   "file_extension": ".py",
   "mimetype": "text/x-python",
   "name": "python",
   "nbconvert_exporter": "python",
   "pygments_lexer": "ipython3",
   "version": "3.7.10"
  }
 },
 "nbformat": 4,
 "nbformat_minor": 4
}
