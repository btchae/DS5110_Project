{
 "cells": [
  {
   "cell_type": "markdown",
   "metadata": {},
   "source": [
    "## DS 5110 Final Project - Hospital Mortality\n",
    "## Team 3\n",
    "### By: Elena Tsvetskova, Brian Chae, Ryan Viti (rrv7eb)"
   ]
  },
  {
   "cell_type": "code",
   "execution_count": 1,
   "metadata": {},
   "outputs": [
    {
     "data": {
      "text/plain": [
       "91713"
      ]
     },
     "execution_count": 1,
     "metadata": {},
     "output_type": "execute_result"
    }
   ],
   "source": [
    "# importing necessary libraries and packages\n",
    "from pyspark.sql import SparkSession\n",
    "import pyspark.sql.functions as F\n",
    "from pyspark.sql.functions import round, col, isnan, when, count, countDistinct, mean\n",
    "from pyspark.ml.feature import Imputer, VectorAssembler, StandardScaler\n",
    "from pyspark.ml.stat import Correlation\n",
    "import numpy as np\n",
    "\n",
    "# session initialization\n",
    "spark = SparkSession.builder \\\n",
    "        .master(\"local\") \\\n",
    "        .appName(\"Team 3 Final Project\") \\\n",
    "        .getOrCreate()\n",
    "\n",
    "filename = \"hospital_mortality.csv\"\n",
    "\n",
    "data = spark.read.csv(filename, inferSchema=True, header=True)\n",
    "data.count()"
   ]
  },
  {
   "cell_type": "code",
   "execution_count": 2,
   "metadata": {},
   "outputs": [
    {
     "name": "stdout",
     "output_type": "stream",
     "text": [
      "root\n",
      " |-- encounter_id: integer (nullable = true)\n",
      " |-- patient_id: integer (nullable = true)\n",
      " |-- hospital_id: integer (nullable = true)\n",
      " |-- age: integer (nullable = true)\n",
      " |-- bmi: double (nullable = true)\n",
      " |-- elective_surgery: integer (nullable = true)\n",
      " |-- ethnicity: string (nullable = true)\n",
      " |-- gender: string (nullable = true)\n",
      " |-- height: double (nullable = true)\n",
      " |-- icu_admit_source: string (nullable = true)\n",
      " |-- icu_id: integer (nullable = true)\n",
      " |-- icu_stay_type: string (nullable = true)\n",
      " |-- icu_type: string (nullable = true)\n",
      " |-- pre_icu_los_days: double (nullable = true)\n",
      " |-- weight: double (nullable = true)\n",
      " |-- apache_2_diagnosis: integer (nullable = true)\n",
      " |-- apache_3j_diagnosis: double (nullable = true)\n",
      " |-- apache_post_operative: integer (nullable = true)\n",
      " |-- arf_apache: integer (nullable = true)\n",
      " |-- gcs_eyes_apache: integer (nullable = true)\n",
      " |-- gcs_motor_apache: integer (nullable = true)\n",
      " |-- gcs_unable_apache: integer (nullable = true)\n",
      " |-- gcs_verbal_apache: integer (nullable = true)\n",
      " |-- heart_rate_apache: integer (nullable = true)\n",
      " |-- intubated_apache: integer (nullable = true)\n",
      " |-- map_apache: integer (nullable = true)\n",
      " |-- resprate_apache: double (nullable = true)\n",
      " |-- temp_apache: double (nullable = true)\n",
      " |-- ventilated_apache: integer (nullable = true)\n",
      " |-- d1_diasbp_max: integer (nullable = true)\n",
      " |-- d1_diasbp_min: integer (nullable = true)\n",
      " |-- d1_diasbp_noninvasive_max: integer (nullable = true)\n",
      " |-- d1_diasbp_noninvasive_min: integer (nullable = true)\n",
      " |-- d1_heartrate_max: integer (nullable = true)\n",
      " |-- d1_heartrate_min: integer (nullable = true)\n",
      " |-- d1_mbp_max: integer (nullable = true)\n",
      " |-- d1_mbp_min: integer (nullable = true)\n",
      " |-- d1_mbp_noninvasive_max: integer (nullable = true)\n",
      " |-- d1_mbp_noninvasive_min: integer (nullable = true)\n",
      " |-- d1_resprate_max: integer (nullable = true)\n",
      " |-- d1_resprate_min: integer (nullable = true)\n",
      " |-- d1_spo2_max: integer (nullable = true)\n",
      " |-- d1_spo2_min: integer (nullable = true)\n",
      " |-- d1_sysbp_max: integer (nullable = true)\n",
      " |-- d1_sysbp_min: integer (nullable = true)\n",
      " |-- d1_sysbp_noninvasive_max: integer (nullable = true)\n",
      " |-- d1_sysbp_noninvasive_min: double (nullable = true)\n",
      " |-- d1_temp_max: double (nullable = true)\n",
      " |-- d1_temp_min: double (nullable = true)\n",
      " |-- h1_diasbp_max: integer (nullable = true)\n",
      " |-- h1_diasbp_min: integer (nullable = true)\n",
      " |-- h1_diasbp_noninvasive_max: integer (nullable = true)\n",
      " |-- h1_diasbp_noninvasive_min: integer (nullable = true)\n",
      " |-- h1_heartrate_max: integer (nullable = true)\n",
      " |-- h1_heartrate_min: integer (nullable = true)\n",
      " |-- h1_mbp_max: integer (nullable = true)\n",
      " |-- h1_mbp_min: integer (nullable = true)\n",
      " |-- h1_mbp_noninvasive_max: integer (nullable = true)\n",
      " |-- h1_mbp_noninvasive_min: integer (nullable = true)\n",
      " |-- h1_resprate_max: integer (nullable = true)\n",
      " |-- h1_resprate_min: integer (nullable = true)\n",
      " |-- h1_spo2_max: integer (nullable = true)\n",
      " |-- h1_spo2_min: integer (nullable = true)\n",
      " |-- h1_sysbp_max: integer (nullable = true)\n",
      " |-- h1_sysbp_min: integer (nullable = true)\n",
      " |-- h1_sysbp_noninvasive_max: integer (nullable = true)\n",
      " |-- h1_sysbp_noninvasive_min: integer (nullable = true)\n",
      " |-- d1_glucose_max: integer (nullable = true)\n",
      " |-- d1_glucose_min: integer (nullable = true)\n",
      " |-- d1_potassium_max: double (nullable = true)\n",
      " |-- d1_potassium_min: double (nullable = true)\n",
      " |-- apache_4a_hospital_death_prob: double (nullable = true)\n",
      " |-- apache_4a_icu_death_prob: double (nullable = true)\n",
      " |-- aids: integer (nullable = true)\n",
      " |-- cirrhosis: integer (nullable = true)\n",
      " |-- diabetes_mellitus: integer (nullable = true)\n",
      " |-- hepatic_failure: integer (nullable = true)\n",
      " |-- immunosuppression: integer (nullable = true)\n",
      " |-- leukemia: integer (nullable = true)\n",
      " |-- lymphoma: integer (nullable = true)\n",
      " |-- solid_tumor_with_metastasis: integer (nullable = true)\n",
      " |-- apache_3j_bodysystem: string (nullable = true)\n",
      " |-- apache_2_bodysystem: string (nullable = true)\n",
      " |-- _c83: string (nullable = true)\n",
      " |-- hospital_death: integer (nullable = true)\n",
      "\n"
     ]
    }
   ],
   "source": [
    "# printing original dataset schema\n",
    "data.printSchema()"
   ]
  },
  {
   "cell_type": "markdown",
   "metadata": {},
   "source": [
    "## Data Preprocessing / EDA"
   ]
  },
  {
   "cell_type": "code",
   "execution_count": 3,
   "metadata": {},
   "outputs": [],
   "source": [
    "# empty columns, unique identifiers unnecessary for analysis\n",
    "data = data.drop(\"_c83\", \"encounter_id\", \"patient_id\", \"hospital_id\", \"icu_id\", \"icu_stay_type\")"
   ]
  },
  {
   "cell_type": "markdown",
   "metadata": {},
   "source": [
    "### Experimenting with NA Origins for Certain Columns"
   ]
  },
  {
   "cell_type": "code",
   "execution_count": 4,
   "metadata": {},
   "outputs": [
    {
     "name": "stdout",
     "output_type": "stream",
     "text": [
      "+----+----+----------------+---------+------+------+----------------+--------+----------------+------+------------------+-------------------+---------------------+----------+---------------+----------------+-----------------+-----------------+-----------------+----------------+----------+---------------+-----------+-----------------+-------------+-------------+-------------------------+-------------------------+----------------+----------------+----------+----------+----------------------+----------------------+---------------+---------------+-----------+-----------+------------+------------+------------------------+------------------------+-----------+-----------+-------------+-------------+-------------------------+-------------------------+----------------+----------------+----------+----------+----------------------+----------------------+---------------+---------------+-----------+-----------+------------+------------+------------------------+------------------------+--------------+--------------+----------------+----------------+-----------------------------+------------------------+----+---------+-----------------+---------------+-----------------+--------+--------+---------------------------+--------------------+-------------------+--------------+\n",
      "| age| bmi|elective_surgery|ethnicity|gender|height|icu_admit_source|icu_type|pre_icu_los_days|weight|apache_2_diagnosis|apache_3j_diagnosis|apache_post_operative|arf_apache|gcs_eyes_apache|gcs_motor_apache|gcs_unable_apache|gcs_verbal_apache|heart_rate_apache|intubated_apache|map_apache|resprate_apache|temp_apache|ventilated_apache|d1_diasbp_max|d1_diasbp_min|d1_diasbp_noninvasive_max|d1_diasbp_noninvasive_min|d1_heartrate_max|d1_heartrate_min|d1_mbp_max|d1_mbp_min|d1_mbp_noninvasive_max|d1_mbp_noninvasive_min|d1_resprate_max|d1_resprate_min|d1_spo2_max|d1_spo2_min|d1_sysbp_max|d1_sysbp_min|d1_sysbp_noninvasive_max|d1_sysbp_noninvasive_min|d1_temp_max|d1_temp_min|h1_diasbp_max|h1_diasbp_min|h1_diasbp_noninvasive_max|h1_diasbp_noninvasive_min|h1_heartrate_max|h1_heartrate_min|h1_mbp_max|h1_mbp_min|h1_mbp_noninvasive_max|h1_mbp_noninvasive_min|h1_resprate_max|h1_resprate_min|h1_spo2_max|h1_spo2_min|h1_sysbp_max|h1_sysbp_min|h1_sysbp_noninvasive_max|h1_sysbp_noninvasive_min|d1_glucose_max|d1_glucose_min|d1_potassium_max|d1_potassium_min|apache_4a_hospital_death_prob|apache_4a_icu_death_prob|aids|cirrhosis|diabetes_mellitus|hepatic_failure|immunosuppression|leukemia|lymphoma|solid_tumor_with_metastasis|apache_3j_bodysystem|apache_2_bodysystem|hospital_death|\n",
      "+----+----+----------------+---------+------+------+----------------+--------+----------------+------+------------------+-------------------+---------------------+----------+---------------+----------------+-----------------+-----------------+-----------------+----------------+----------+---------------+-----------+-----------------+-------------+-------------+-------------------------+-------------------------+----------------+----------------+----------+----------+----------------------+----------------------+---------------+---------------+-----------+-----------+------------+------------+------------------------+------------------------+-----------+-----------+-------------+-------------+-------------------------+-------------------------+----------------+----------------+----------+----------+----------------------+----------------------+---------------+---------------+-----------+-----------+------------+------------+------------------------+------------------------+--------------+--------------+----------------+----------------+-----------------------------+------------------------+----+---------+-----------------+---------------+-----------------+--------+--------+---------------------------+--------------------+-------------------+--------------+\n",
      "|4228|3429|               0|     1395|    25|  1334|             112|       0|               0|  2720|              1662|               1101|                    0|       715|           1901|            1901|             1037|             1901|              878|             715|       994|           1234|       4108|              715|          165|          165|                     1040|                     1040|             145|             145|       220|       220|                  1479|                  1479|            385|            385|        333|        333|         159|         159|                    1027|                    1027|       2324|       2324|         3619|         3619|                     7350|                     7350|            2790|            2790|      4639|      4639|                  9084|                  9084|           4357|           4357|       4185|       4185|        3611|        3611|                    7341|                    7341|          5807|          5807|            9585|            9585|                         7947|                    7947| 715|      715|              715|            715|              715|     715|     715|                        715|                1662|               1662|             0|\n",
      "+----+----+----------------+---------+------+------+----------------+--------+----------------+------+------------------+-------------------+---------------------+----------+---------------+----------------+-----------------+-----------------+-----------------+----------------+----------+---------------+-----------+-----------------+-------------+-------------+-------------------------+-------------------------+----------------+----------------+----------+----------+----------------------+----------------------+---------------+---------------+-----------+-----------+------------+------------+------------------------+------------------------+-----------+-----------+-------------+-------------+-------------------------+-------------------------+----------------+----------------+----------+----------+----------------------+----------------------+---------------+---------------+-----------+-----------+------------+------------+------------------------+------------------------+--------------+--------------+----------------+----------------+-----------------------------+------------------------+----+---------+-----------------+---------------+-----------------+--------+--------+---------------------------+--------------------+-------------------+--------------+\n",
      "\n"
     ]
    }
   ],
   "source": [
    "# Quantifying amount of null values in each column of the dataset\n",
    "\n",
    "data.select([count(when(col(c).isNull(), c)).alias(c) for c in data.columns]).show()"
   ]
  },
  {
   "cell_type": "code",
   "execution_count": 5,
   "metadata": {},
   "outputs": [
    {
     "data": {
      "text/plain": [
       "67"
      ]
     },
     "execution_count": 5,
     "metadata": {},
     "output_type": "execute_result"
    }
   ],
   "source": [
    "# dropping noninvasive measurements due to high frequency of NA and lower accuracy of a noninvasive measurement\n",
    "condition = lambda col: 'noninvasive' in col\n",
    "data = data.drop(*filter(condition, data.columns))\n",
    "# amount of columns remaining after dropping\n",
    "len(data.columns)"
   ]
  },
  {
   "cell_type": "markdown",
   "metadata": {},
   "source": [
    "We will address our imbalanced response variable in our ML application."
   ]
  },
  {
   "cell_type": "code",
   "execution_count": 6,
   "metadata": {},
   "outputs": [],
   "source": [
    "import matplotlib.pyplot as plt\n",
    "num_nulls_df=data.withColumn('numNulls', sum(data[col].isNull().cast('int') for col in data.columns))\n",
    "# num_nulls_df.filter([data[i].isNull()==False for i in s1list]).show()\n",
    "# num_nulls_df.filter([col(i).isNull()==False for i in s1list])\n",
    "less_nulls_df = num_nulls_df.filter(col('h1_mbp_min').isNotNull())\n",
    "# less_nulls = less_nulls.filter(less_nulls.numNulls < 3)\n",
    "# less_nulls.count()\n",
    "x = range(1,11)\n",
    "y = []\n",
    "for i in range(1, 11):\n",
    "    y.append(less_nulls_df.filter(less_nulls_df.numNulls < i).count())\n",
    "# less_nulls_df = num_nulls_df.filter((num_nulls_df.numNulls < 2) and col('h1_mbp_min').isNotNull())\n",
    "# less_nulls_df.count()"
   ]
  },
  {
   "cell_type": "code",
   "execution_count": 7,
   "metadata": {},
   "outputs": [
    {
     "data": {
      "image/png": "[encoded data removed]",
      "text/plain": [
       "<Figure size 640x480 with 1 Axes>"
      ]
     },
     "metadata": {},
     "output_type": "display_data"
    }
   ],
   "source": [
    "plt.title('# of Records by Amount of Nulls Allowed per Row')\n",
    "plt.xlabel('# of Nulls')\n",
    "plt.ylabel('# of Records')\n",
    "plt.plot(x, y)\n",
    "plt.show()"
   ]
  },
  {
   "cell_type": "code",
   "execution_count": 8,
   "metadata": {},
   "outputs": [
    {
     "name": "stdout",
     "output_type": "stream",
     "text": [
      "+--------------------------------+\n",
      "|avg(numNulls AS `AVG Nulls/Row`)|\n",
      "+--------------------------------+\n",
      "|               4.505564741795981|\n",
      "+--------------------------------+\n",
      "\n"
     ]
    }
   ],
   "source": [
    "# Computing the average number of nulls per row, for reference\n",
    "num_nulls_column = num_nulls_df.select(\"numNulls\")\n",
    "filtered = num_nulls_column.filter(col(\"numNulls\")!= 0)\n",
    "filtered.select(mean(col(\"numNulls\").alias(\"AVG Nulls/Row\"))).show()"
   ]
  },
  {
   "cell_type": "markdown",
   "metadata": {},
   "source": [
    "Using a threshold of 5 nulls per row, due to apparent elbow in our Records vs. Nulls plot.  Additionally, this was around the average number of nulls present in our previous working version of the dataset."
   ]
  },
  {
   "cell_type": "code",
   "execution_count": 9,
   "metadata": {},
   "outputs": [],
   "source": [
    "less_nulls_df = less_nulls_df.filter(less_nulls_df.numNulls < 5)\n",
    "# dropping these columsn due to having a similar role to our predictor variable, as well as the number of NAs per column weighed against the information provided in a healthcare context\n",
    "df_cleaned = less_nulls_df.drop(\"apache_4a_hospital_death_prob\", \"apache_4a_icu_death_prob\", \"d1_potassium_max\", \"d1_potassium_min\", \"numNulls\")"
   ]
  },
  {
   "cell_type": "code",
   "execution_count": 10,
   "metadata": {},
   "outputs": [
    {
     "data": {
      "text/plain": [
       "83672"
      ]
     },
     "execution_count": 10,
     "metadata": {},
     "output_type": "execute_result"
    }
   ],
   "source": [
    "df_cleaned_numRows = df_cleaned.count()\n",
    "df_cleaned_numRows"
   ]
  },
  {
   "cell_type": "markdown",
   "metadata": {},
   "source": [
    "### Percentage of Columns containing NA values"
   ]
  },
  {
   "cell_type": "code",
   "execution_count": 11,
   "metadata": {},
   "outputs": [
    {
     "name": "stdout",
     "output_type": "stream",
     "text": [
      "+-----+----+----------------+---------+------+------+----------------+--------+----------------+------+------------------+-------------------+---------------------+----------+---------------+----------------+-----------------+-----------------+-----------------+----------------+----------+---------------+-----------+-----------------+-------------+-------------+----------------+----------------+----------+----------+---------------+---------------+-----------+-----------+------------+------------+-----------+-----------+-------------+-------------+----------------+----------------+----------+----------+---------------+---------------+-----------+-----------+------------+------------+--------------+--------------+----+---------+-----------------+---------------+-----------------+--------+--------+---------------------------+--------------------+-------------------+--------------+\n",
      "|  age| bmi|elective_surgery|ethnicity|gender|height|icu_admit_source|icu_type|pre_icu_los_days|weight|apache_2_diagnosis|apache_3j_diagnosis|apache_post_operative|arf_apache|gcs_eyes_apache|gcs_motor_apache|gcs_unable_apache|gcs_verbal_apache|heart_rate_apache|intubated_apache|map_apache|resprate_apache|temp_apache|ventilated_apache|d1_diasbp_max|d1_diasbp_min|d1_heartrate_max|d1_heartrate_min|d1_mbp_max|d1_mbp_min|d1_resprate_max|d1_resprate_min|d1_spo2_max|d1_spo2_min|d1_sysbp_max|d1_sysbp_min|d1_temp_max|d1_temp_min|h1_diasbp_max|h1_diasbp_min|h1_heartrate_max|h1_heartrate_min|h1_mbp_max|h1_mbp_min|h1_resprate_max|h1_resprate_min|h1_spo2_max|h1_spo2_min|h1_sysbp_max|h1_sysbp_min|d1_glucose_max|d1_glucose_min|aids|cirrhosis|diabetes_mellitus|hepatic_failure|immunosuppression|leukemia|lymphoma|solid_tumor_with_metastasis|apache_3j_bodysystem|apache_2_bodysystem|hospital_death|\n",
      "+-----+----+----------------+---------+------+------+----------------+--------+----------------+------+------------------+-------------------+---------------------+----------+---------------+----------------+-----------------+-----------------+-----------------+----------------+----------+---------------+-----------+-----------------+-------------+-------------+----------------+----------------+----------+----------+---------------+---------------+-----------+-----------+------------+------------+-----------+-----------+-------------+-------------+----------------+----------------+----------+----------+---------------+---------------+-----------+-----------+------------+------------+--------------+--------------+----+---------+-----------------+---------------+-----------------+--------+--------+---------------------------+--------------------+-------------------+--------------+\n",
      "|0.036|0.03|             0.0|    0.012|   0.0| 0.009|           0.001|     0.0|             0.0| 0.023|             0.006|              0.001|                  0.0|       0.0|          0.009|           0.009|            0.001|            0.009|              0.0|             0.0|       0.0|          0.001|      0.025|              0.0|          0.0|          0.0|             0.0|             0.0|       0.0|       0.0|            0.0|            0.0|      0.001|      0.001|         0.0|         0.0|      0.015|      0.015|          0.0|          0.0|           0.001|           0.001|       0.0|       0.0|          0.014|          0.014|      0.011|      0.011|         0.0|         0.0|         0.045|         0.045| 0.0|      0.0|              0.0|            0.0|              0.0|     0.0|     0.0|                        0.0|               0.006|              0.006|           0.0|\n",
      "+-----+----+----------------+---------+------+------+----------------+--------+----------------+------+------------------+-------------------+---------------------+----------+---------------+----------------+-----------------+-----------------+-----------------+----------------+----------+---------------+-----------+-----------------+-------------+-------------+----------------+----------------+----------+----------+---------------+---------------+-----------+-----------+------------+------------+-----------+-----------+-------------+-------------+----------------+----------------+----------+----------+---------------+---------------+-----------+-----------+------------+------------+--------------+--------------+----+---------+-----------------+---------------+-----------------+--------+--------+---------------------------+--------------------+-------------------+--------------+\n",
      "\n"
     ]
    }
   ],
   "source": [
    "df_NAcheck = df_cleaned.select([round((count(when(col(c).isNull(), c))/df_cleaned_numRows),3).alias(c) for c in df_cleaned.columns])\n",
    "df_NAcheck.show()"
   ]
  },
  {
   "cell_type": "code",
   "execution_count": 12,
   "metadata": {},
   "outputs": [
    {
     "name": "stdout",
     "output_type": "stream",
     "text": [
      "Number of Columns containing greater than 5% NA values: 0\n"
     ]
    }
   ],
   "source": [
    "print(\"Number of Columns containing greater than 5% NA values: {}\".format([(df_NAcheck.first()[c] > 0.05) for c in df_NAcheck.columns].count(True)))"
   ]
  },
  {
   "cell_type": "markdown",
   "metadata": {},
   "source": [
    "Single imputation is ill-advised based on multiple research studies when dealing with healthcare data, so we will avoid this and instead, since the ratio of NAs in every column falls below 0.05, will feasibly drop the remaining rows containing null values."
   ]
  },
  {
   "cell_type": "code",
   "execution_count": 13,
   "metadata": {},
   "outputs": [
    {
     "name": "stdout",
     "output_type": "stream",
     "text": [
      "Number of rows saved via cleaning + EDA: 8329\n"
     ]
    }
   ],
   "source": [
    "print(\"Number of rows saved via cleaning + EDA: {}\".format((df_cleaned.dropna().count()-data.dropna().count())))\n",
    "df_cleaned = df_cleaned.dropna()"
   ]
  },
  {
   "cell_type": "markdown",
   "metadata": {},
   "source": [
    "## Feature Engineering / Inspection"
   ]
  },
  {
   "cell_type": "code",
   "execution_count": 14,
   "metadata": {},
   "outputs": [
    {
     "name": "stdout",
     "output_type": "stream",
     "text": [
      "+--------------------+-----+\n",
      "|    icu_admit_source|count|\n",
      "+--------------------+-----+\n",
      "|Operating Room / ...|14531|\n",
      "|Accident & Emergency|40170|\n",
      "|               Floor|11538|\n",
      "|      Other Hospital| 1901|\n",
      "|           Other ICU|  454|\n",
      "+--------------------+-----+\n",
      "\n"
     ]
    }
   ],
   "source": [
    "df_cleaned.groupBy(\"icu_admit_source\").count().show()"
   ]
  },
  {
   "cell_type": "code",
   "execution_count": 15,
   "metadata": {},
   "outputs": [
    {
     "name": "stdout",
     "output_type": "stream",
     "text": [
      "+--------------------+-----+\n",
      "|    icu_admit_source|count|\n",
      "+--------------------+-----+\n",
      "|Operating Room / ...|14531|\n",
      "|Accident & Emergency|40170|\n",
      "|               Floor|11538|\n",
      "|               Other| 2355|\n",
      "+--------------------+-----+\n",
      "\n"
     ]
    }
   ],
   "source": [
    "df_cleaned = df_cleaned.withColumn(\"icu_admit_source\", when(df_cleaned.icu_admit_source== \"Other Hospital\",\"Other\")\n",
    "                                 .when(df_cleaned.icu_admit_source== \"Other ICU\",\"Other\")\n",
    "                                 .when(df_cleaned.icu_admit_source== \"Operating/Recovery\", \"Operating & Recovery\")\n",
    "                                 .otherwise(df_cleaned.icu_admit_source))\n",
    "df_cleaned.groupBy(\"icu_admit_source\").count().show()"
   ]
  },
  {
   "cell_type": "markdown",
   "metadata": {},
   "source": [
    "Initially, we drop several columns here due to inability to utilize effectively in a machine learning model setting, such as diagnosis codes and variables with extremely skewed distributions which provide no new information."
   ]
  },
  {
   "cell_type": "code",
   "execution_count": 16,
   "metadata": {},
   "outputs": [],
   "source": [
    "df_cleaned = df_cleaned.drop(\"apache_2_diagnosis\", \"apache_3j_diagnosis\", \"gcs_unable\")"
   ]
  },
  {
   "cell_type": "code",
   "execution_count": 17,
   "metadata": {},
   "outputs": [
    {
     "name": "stdout",
     "output_type": "stream",
     "text": [
      "root\n",
      " |-- age: integer (nullable = true)\n",
      " |-- bmi: double (nullable = true)\n",
      " |-- elective_surgery: integer (nullable = true)\n",
      " |-- ethnicity: string (nullable = true)\n",
      " |-- gender: string (nullable = true)\n",
      " |-- height: double (nullable = true)\n",
      " |-- icu_admit_source: string (nullable = true)\n",
      " |-- icu_type: string (nullable = true)\n",
      " |-- pre_icu_los_days: double (nullable = true)\n",
      " |-- weight: double (nullable = true)\n",
      " |-- apache_post_operative: integer (nullable = true)\n",
      " |-- arf_apache: integer (nullable = true)\n",
      " |-- gcs_eyes_apache: integer (nullable = true)\n",
      " |-- gcs_motor_apache: integer (nullable = true)\n",
      " |-- gcs_unable_apache: integer (nullable = true)\n",
      " |-- gcs_verbal_apache: integer (nullable = true)\n",
      " |-- heart_rate_apache: integer (nullable = true)\n",
      " |-- intubated_apache: integer (nullable = true)\n",
      " |-- map_apache: integer (nullable = true)\n",
      " |-- resprate_apache: double (nullable = true)\n",
      " |-- temp_apache: double (nullable = true)\n",
      " |-- ventilated_apache: integer (nullable = true)\n",
      " |-- d1_diasbp_max: integer (nullable = true)\n",
      " |-- d1_diasbp_min: integer (nullable = true)\n",
      " |-- d1_heartrate_max: integer (nullable = true)\n",
      " |-- d1_heartrate_min: integer (nullable = true)\n",
      " |-- d1_mbp_max: integer (nullable = true)\n",
      " |-- d1_mbp_min: integer (nullable = true)\n",
      " |-- d1_resprate_max: integer (nullable = true)\n",
      " |-- d1_resprate_min: integer (nullable = true)\n",
      " |-- d1_spo2_max: integer (nullable = true)\n",
      " |-- d1_spo2_min: integer (nullable = true)\n",
      " |-- d1_sysbp_max: integer (nullable = true)\n",
      " |-- d1_sysbp_min: integer (nullable = true)\n",
      " |-- d1_temp_max: double (nullable = true)\n",
      " |-- d1_temp_min: double (nullable = true)\n",
      " |-- h1_diasbp_max: integer (nullable = true)\n",
      " |-- h1_diasbp_min: integer (nullable = true)\n",
      " |-- h1_heartrate_max: integer (nullable = true)\n",
      " |-- h1_heartrate_min: integer (nullable = true)\n",
      " |-- h1_mbp_max: integer (nullable = true)\n",
      " |-- h1_mbp_min: integer (nullable = true)\n",
      " |-- h1_resprate_max: integer (nullable = true)\n",
      " |-- h1_resprate_min: integer (nullable = true)\n",
      " |-- h1_spo2_max: integer (nullable = true)\n",
      " |-- h1_spo2_min: integer (nullable = true)\n",
      " |-- h1_sysbp_max: integer (nullable = true)\n",
      " |-- h1_sysbp_min: integer (nullable = true)\n",
      " |-- d1_glucose_max: integer (nullable = true)\n",
      " |-- d1_glucose_min: integer (nullable = true)\n",
      " |-- aids: integer (nullable = true)\n",
      " |-- cirrhosis: integer (nullable = true)\n",
      " |-- diabetes_mellitus: integer (nullable = true)\n",
      " |-- hepatic_failure: integer (nullable = true)\n",
      " |-- immunosuppression: integer (nullable = true)\n",
      " |-- leukemia: integer (nullable = true)\n",
      " |-- lymphoma: integer (nullable = true)\n",
      " |-- solid_tumor_with_metastasis: integer (nullable = true)\n",
      " |-- apache_3j_bodysystem: string (nullable = true)\n",
      " |-- apache_2_bodysystem: string (nullable = true)\n",
      " |-- hospital_death: integer (nullable = true)\n",
      "\n"
     ]
    }
   ],
   "source": [
    "# Printing the updated schema after NA handling\n",
    "df_cleaned.printSchema()"
   ]
  },
  {
   "cell_type": "code",
   "execution_count": 18,
   "metadata": {},
   "outputs": [],
   "source": [
    "# Creating GCS total score feature from verbal, eyes, and motor scores\n",
    "df_cleaned = df_cleaned.withColumn(\"GCS_total\", df_cleaned.gcs_eyes_apache + df_cleaned.gcs_verbal_apache + df_cleaned.gcs_motor_apache)"
   ]
  },
  {
   "cell_type": "code",
   "execution_count": 19,
   "metadata": {},
   "outputs": [
    {
     "name": "stdout",
     "output_type": "stream",
     "text": [
      "+----+-----+\n",
      "|aids|count|\n",
      "+----+-----+\n",
      "|   1|   66|\n",
      "|   0|68528|\n",
      "+----+-----+\n",
      "\n",
      "+---------+-----+\n",
      "|cirrhosis|count|\n",
      "+---------+-----+\n",
      "|        1| 1176|\n",
      "|        0|67418|\n",
      "+---------+-----+\n",
      "\n",
      "+-----------------+-----+\n",
      "|diabetes_mellitus|count|\n",
      "+-----------------+-----+\n",
      "|                1|16579|\n",
      "|                0|52015|\n",
      "+-----------------+-----+\n",
      "\n",
      "+---------------+-----+\n",
      "|hepatic_failure|count|\n",
      "+---------------+-----+\n",
      "|              1|  984|\n",
      "|              0|67610|\n",
      "+---------------+-----+\n",
      "\n",
      "+--------+-----+\n",
      "|leukemia|count|\n",
      "+--------+-----+\n",
      "|       1|  521|\n",
      "|       0|68073|\n",
      "+--------+-----+\n",
      "\n",
      "+--------+-----+\n",
      "|lymphoma|count|\n",
      "+--------+-----+\n",
      "|       1|  287|\n",
      "|       0|68307|\n",
      "+--------+-----+\n",
      "\n",
      "+---------------------------+-----+\n",
      "|solid_tumor_with_metastasis|count|\n",
      "+---------------------------+-----+\n",
      "|                          1| 1508|\n",
      "|                          0|67086|\n",
      "+---------------------------+-----+\n",
      "\n"
     ]
    }
   ],
   "source": [
    "# Distribution of reported diseases\n",
    "diseases = [\"aids\", \"cirrhosis\", \"diabetes_mellitus\", \"hepatic_failure\", \"leukemia\", \"lymphoma\", \"solid_tumor_with_metastasis\"]\n",
    "for i in diseases:\n",
    "    df_cleaned.select(i).groupBy(i).count().show()"
   ]
  },
  {
   "cell_type": "code",
   "execution_count": 20,
   "metadata": {},
   "outputs": [],
   "source": [
    "# updating schema for disease variables, casting to boolean type\n",
    "for name in diseases:\n",
    "    df_cleaned = df_cleaned.withColumn(name, col(name).cast('boolean'))"
   ]
  },
  {
   "cell_type": "code",
   "execution_count": 21,
   "metadata": {},
   "outputs": [],
   "source": [
    "# load pyspark modules\n",
    "from pyspark.ml.feature import OneHotEncoder, StringIndexer, Bucketizer\n",
    "\n",
    "#Bucketing total GCS score based on accepted ranges for varying degrees of disease\n",
    "splits = [3, 9, 13, 15]\n",
    "\n",
    "bucketizer_GCS = Bucketizer(splits=splits, inputCol=\"GCS_total\", outputCol=\"GCS_buckets\")\n",
    "\n",
    "df_cleaned = bucketizer_GCS.transform(df_cleaned)\n",
    "\n",
    "#dropping all columns used to create the feature - no longer necessary for analysis\n",
    "df_cleaned = df_cleaned.drop(\"GCS_total\", \"gcs_motor_apache\", \"gcs_verbal_apache\", \"gcs_eyes_apache\")"
   ]
  },
  {
   "cell_type": "code",
   "execution_count": 22,
   "metadata": {},
   "outputs": [
    {
     "name": "stdout",
     "output_type": "stream",
     "text": [
      "+--------------+-----+\n",
      "|hospital_death|count|\n",
      "+--------------+-----+\n",
      "|             1| 5603|\n",
      "|             0|62991|\n",
      "+--------------+-----+\n",
      "\n"
     ]
    }
   ],
   "source": [
    "# Outcome variable distribution\n",
    "df_cleaned.groupBy(\"hospital_death\").count().show()"
   ]
  },
  {
   "cell_type": "markdown",
   "metadata": {},
   "source": [
    "A large amount of categories with no feasible way to bucket them - we will drop these two columns due to the nature of the problem."
   ]
  },
  {
   "cell_type": "code",
   "execution_count": 23,
   "metadata": {},
   "outputs": [
    {
     "name": "stdout",
     "output_type": "stream",
     "text": [
      "+--------------------+-----+\n",
      "|apache_3j_bodysystem|count|\n",
      "+--------------------+-----+\n",
      "|        Neurological| 8914|\n",
      "|Musculoskeletal/Skin|  845|\n",
      "|       Genitourinary| 1669|\n",
      "|       Gynecological|  231|\n",
      "|              Sepsis| 9378|\n",
      "|       Hematological|  483|\n",
      "|           Metabolic| 5886|\n",
      "|      Cardiovascular|22446|\n",
      "|              Trauma| 2870|\n",
      "|    Gastrointestinal| 6933|\n",
      "|         Respiratory| 8939|\n",
      "+--------------------+-----+\n",
      "\n"
     ]
    }
   ],
   "source": [
    "df_cleaned.groupBy(\"apache_3j_bodysystem\").count().show()"
   ]
  },
  {
   "cell_type": "code",
   "execution_count": 24,
   "metadata": {},
   "outputs": [
    {
     "name": "stdout",
     "output_type": "stream",
     "text": [
      "+-------------------+-----+\n",
      "|apache_2_bodysystem|count|\n",
      "+-------------------+-----+\n",
      "|Undefined diagnoses| 3067|\n",
      "|       Haematologic|  483|\n",
      "|Renal/Genitourinary| 1886|\n",
      "|          Metabolic| 5886|\n",
      "|         Neurologic| 8914|\n",
      "|Undefined Diagnoses|  247|\n",
      "|     Cardiovascular|29369|\n",
      "|             Trauma| 2870|\n",
      "|   Gastrointestinal| 6933|\n",
      "|        Respiratory| 8939|\n",
      "+-------------------+-----+\n",
      "\n"
     ]
    }
   ],
   "source": [
    "df_cleaned.groupBy(\"apache_2_bodysystem\").count().show()"
   ]
  },
  {
   "cell_type": "code",
   "execution_count": 25,
   "metadata": {},
   "outputs": [
    {
     "name": "stdout",
     "output_type": "stream",
     "text": [
      "+-------------------+-----+\n",
      "|apache_2_bodysystem|count|\n",
      "+-------------------+-----+\n",
      "|Undefined diagnoses| 3314|\n",
      "|       Haematologic|  483|\n",
      "|Renal/Genitourinary| 1886|\n",
      "|          Metabolic| 5886|\n",
      "|         Neurologic| 8914|\n",
      "|     Cardiovascular|29369|\n",
      "|             Trauma| 2870|\n",
      "|   Gastrointestinal| 6933|\n",
      "|        Respiratory| 8939|\n",
      "+-------------------+-----+\n",
      "\n"
     ]
    }
   ],
   "source": [
    "# Collapsing categories that have same meaning\n",
    "df_cleaned = df_cleaned.withColumn(\"apache_2_bodysystem\", when(df_cleaned.apache_2_bodysystem==\"Undefined Diagnoses\", \"Undefined diagnoses\")\n",
    "                                                         .otherwise(df_cleaned.apache_2_bodysystem))\n",
    "df_cleaned.groupBy(\"apache_2_bodysystem\").count().show()"
   ]
  },
  {
   "cell_type": "markdown",
   "metadata": {},
   "source": [
    "#### Finding binary columns and coercing them to binary data type"
   ]
  },
  {
   "cell_type": "code",
   "execution_count": 26,
   "metadata": {},
   "outputs": [
    {
     "name": "stdout",
     "output_type": "stream",
     "text": [
      "root\n",
      " |-- age: integer (nullable = true)\n",
      " |-- bmi: double (nullable = true)\n",
      " |-- elective_surgery: boolean (nullable = true)\n",
      " |-- ethnicity: string (nullable = true)\n",
      " |-- gender: string (nullable = true)\n",
      " |-- height: double (nullable = true)\n",
      " |-- icu_admit_source: string (nullable = true)\n",
      " |-- icu_type: string (nullable = true)\n",
      " |-- pre_icu_los_days: double (nullable = true)\n",
      " |-- weight: double (nullable = true)\n",
      " |-- apache_post_operative: boolean (nullable = true)\n",
      " |-- arf_apache: boolean (nullable = true)\n",
      " |-- gcs_unable_apache: boolean (nullable = true)\n",
      " |-- heart_rate_apache: integer (nullable = true)\n",
      " |-- intubated_apache: boolean (nullable = true)\n",
      " |-- map_apache: integer (nullable = true)\n",
      " |-- resprate_apache: double (nullable = true)\n",
      " |-- temp_apache: double (nullable = true)\n",
      " |-- ventilated_apache: boolean (nullable = true)\n",
      " |-- d1_diasbp_max: integer (nullable = true)\n",
      " |-- d1_diasbp_min: integer (nullable = true)\n",
      " |-- d1_heartrate_max: integer (nullable = true)\n",
      " |-- d1_heartrate_min: integer (nullable = true)\n",
      " |-- d1_mbp_max: integer (nullable = true)\n",
      " |-- d1_mbp_min: integer (nullable = true)\n",
      " |-- d1_resprate_max: integer (nullable = true)\n",
      " |-- d1_resprate_min: integer (nullable = true)\n",
      " |-- d1_spo2_max: integer (nullable = true)\n",
      " |-- d1_spo2_min: integer (nullable = true)\n",
      " |-- d1_sysbp_max: integer (nullable = true)\n",
      " |-- d1_sysbp_min: integer (nullable = true)\n",
      " |-- d1_temp_max: double (nullable = true)\n",
      " |-- d1_temp_min: double (nullable = true)\n",
      " |-- h1_diasbp_max: integer (nullable = true)\n",
      " |-- h1_diasbp_min: integer (nullable = true)\n",
      " |-- h1_heartrate_max: integer (nullable = true)\n",
      " |-- h1_heartrate_min: integer (nullable = true)\n",
      " |-- h1_mbp_max: integer (nullable = true)\n",
      " |-- h1_mbp_min: integer (nullable = true)\n",
      " |-- h1_resprate_max: integer (nullable = true)\n",
      " |-- h1_resprate_min: integer (nullable = true)\n",
      " |-- h1_spo2_max: integer (nullable = true)\n",
      " |-- h1_spo2_min: integer (nullable = true)\n",
      " |-- h1_sysbp_max: integer (nullable = true)\n",
      " |-- h1_sysbp_min: integer (nullable = true)\n",
      " |-- d1_glucose_max: integer (nullable = true)\n",
      " |-- d1_glucose_min: integer (nullable = true)\n",
      " |-- aids: boolean (nullable = true)\n",
      " |-- cirrhosis: boolean (nullable = true)\n",
      " |-- diabetes_mellitus: boolean (nullable = true)\n",
      " |-- hepatic_failure: boolean (nullable = true)\n",
      " |-- immunosuppression: boolean (nullable = true)\n",
      " |-- leukemia: boolean (nullable = true)\n",
      " |-- lymphoma: boolean (nullable = true)\n",
      " |-- solid_tumor_with_metastasis: boolean (nullable = true)\n",
      " |-- apache_3j_bodysystem: string (nullable = true)\n",
      " |-- apache_2_bodysystem: string (nullable = true)\n",
      " |-- hospital_death: boolean (nullable = true)\n",
      " |-- GCS_buckets: double (nullable = true)\n",
      "\n"
     ]
    }
   ],
   "source": [
    "# after cleaning NAs and other issues, all binary columns will either be coded as 0 or 1\n",
    "# hence, basis for the logic that counting all 0s and 1s should add up to the \n",
    "# number of records in the entire dataset\n",
    "binary_check = df_cleaned.select([F.count(F.when(df_cleaned[column] == 0, column).when(df_cleaned[column] == 1, column)).alias(column) for column in df_cleaned.columns])\n",
    "binary_columns = [column for column in binary_check.columns if binary_check.first()[column]==df_cleaned.count()]\n",
    "for name in binary_columns:\n",
    "    df_cleaned = df_cleaned.withColumn(name, col(name).cast('boolean'))\n",
    "df_cleaned.printSchema()"
   ]
  },
  {
   "cell_type": "code",
   "execution_count": 27,
   "metadata": {},
   "outputs": [
    {
     "data": {
      "text/plain": [
       "[Row(age=68, bmi=22.73, elective_surgery=False, ethnicity='Caucasian', gender='M', height=180.3, icu_admit_source='Floor', icu_type='CTICU', pre_icu_los_days=0.541666667, weight=73.9, apache_post_operative=False, arf_apache=False, gcs_unable_apache=False, heart_rate_apache=118, intubated_apache=False, map_apache=40, resprate_apache=36.0, temp_apache=39.3, ventilated_apache=False, d1_diasbp_max=68, d1_diasbp_min=37, d1_heartrate_max=119, d1_heartrate_min=72, d1_mbp_max=89, d1_mbp_min=46, d1_resprate_max=34, d1_resprate_min=10, d1_spo2_max=100, d1_spo2_min=74, d1_sysbp_max=131, d1_sysbp_min=73, d1_temp_max=39.9, d1_temp_min=37.2, h1_diasbp_max=68, h1_diasbp_min=63, h1_heartrate_max=119, h1_heartrate_min=108, h1_mbp_max=86, h1_mbp_min=85, h1_resprate_max=26, h1_resprate_min=18, h1_spo2_max=100, h1_spo2_min=74, h1_sysbp_max=131, h1_sysbp_min=115, d1_glucose_max=168, d1_glucose_min=109, aids=False, cirrhosis=False, diabetes_mellitus=True, hepatic_failure=False, immunosuppression=False, leukemia=False, lymphoma=False, solid_tumor_with_metastasis=False, apache_3j_bodysystem='Sepsis', apache_2_bodysystem='Cardiovascular', hospital_death=False, GCS_buckets=2.0, ethnicityIndex=0.0, genderIndex=0.0, icu_admit_sourceIndex=2.0, icu_typeIndex=7.0, apache_3j_bodysystemIndex=1.0, apache_2_bodysystemIndex=0.0),\n",
       " Row(age=77, bmi=27.42, elective_surgery=False, ethnicity='Caucasian', gender='F', height=160.0, icu_admit_source='Floor', icu_type='Med-Surg ICU', pre_icu_los_days=0.927777778, weight=70.2, apache_post_operative=False, arf_apache=False, gcs_unable_apache=False, heart_rate_apache=120, intubated_apache=False, map_apache=46, resprate_apache=33.0, temp_apache=35.1, ventilated_apache=True, d1_diasbp_max=95, d1_diasbp_min=31, d1_heartrate_max=118, d1_heartrate_min=72, d1_mbp_max=120, d1_mbp_min=38, d1_resprate_max=32, d1_resprate_min=12, d1_spo2_max=100, d1_spo2_min=70, d1_sysbp_max=159, d1_sysbp_min=67, d1_temp_max=36.3, d1_temp_min=35.1, h1_diasbp_max=61, h1_diasbp_min=48, h1_heartrate_max=114, h1_heartrate_min=100, h1_mbp_max=85, h1_mbp_min=57, h1_resprate_max=31, h1_resprate_min=28, h1_spo2_max=95, h1_spo2_min=70, h1_sysbp_max=95, h1_sysbp_min=71, d1_glucose_max=145, d1_glucose_min=128, aids=False, cirrhosis=False, diabetes_mellitus=True, hepatic_failure=False, immunosuppression=False, leukemia=False, lymphoma=False, solid_tumor_with_metastasis=False, apache_3j_bodysystem='Respiratory', apache_2_bodysystem='Respiratory', hospital_death=False, GCS_buckets=0.0, ethnicityIndex=0.0, genderIndex=1.0, icu_admit_sourceIndex=2.0, icu_typeIndex=0.0, apache_3j_bodysystemIndex=2.0, apache_2_bodysystemIndex=1.0)]"
      ]
     },
     "execution_count": 27,
     "metadata": {},
     "output_type": "execute_result"
    }
   ],
   "source": [
    "from pyspark.ml import Pipeline\n",
    "from pyspark.ml.feature import OneHotEncoder, StringIndexer\n",
    "\n",
    "#create a list of the columns that are string typed\n",
    "categoricalColumns = [item[0] for item in df_cleaned.dtypes if item[1].startswith('string') ]\n",
    "\n",
    "#define a list of stageJs in your pipeline. The string indexer will be one stage\n",
    "stages = []\n",
    "\n",
    "#iterate through all categorical values\n",
    "for categoricalCol in categoricalColumns:\n",
    "    #create a string indexer for those categorical values and assign a new name including the word 'Index'\n",
    "    stringIndexer = StringIndexer(inputCol = categoricalCol, outputCol = categoricalCol + 'Index')\n",
    "\n",
    "    #append the string Indexer to our list of stages\n",
    "    stages += [stringIndexer]\n",
    "\n",
    "#Create the pipeline. Assign the stages list to the pipeline key word stages\n",
    "pipeline = Pipeline(stages = stages)\n",
    "#fit the pipeline to our dataframe\n",
    "pipelineModel = pipeline.fit(df_cleaned)\n",
    "#transform the dataframe\n",
    "df= pipelineModel.transform(df_cleaned)\n",
    "df.take(2)"
   ]
  },
  {
   "cell_type": "code",
   "execution_count": 28,
   "metadata": {},
   "outputs": [
    {
     "name": "stdout",
     "output_type": "stream",
     "text": [
      "root\n",
      " |-- age: integer (nullable = true)\n",
      " |-- bmi: double (nullable = true)\n",
      " |-- elective_surgery: boolean (nullable = true)\n",
      " |-- height: double (nullable = true)\n",
      " |-- pre_icu_los_days: double (nullable = true)\n",
      " |-- weight: double (nullable = true)\n",
      " |-- apache_post_operative: boolean (nullable = true)\n",
      " |-- arf_apache: boolean (nullable = true)\n",
      " |-- gcs_unable_apache: boolean (nullable = true)\n",
      " |-- heart_rate_apache: integer (nullable = true)\n",
      " |-- intubated_apache: boolean (nullable = true)\n",
      " |-- map_apache: integer (nullable = true)\n",
      " |-- resprate_apache: double (nullable = true)\n",
      " |-- temp_apache: double (nullable = true)\n",
      " |-- ventilated_apache: boolean (nullable = true)\n",
      " |-- d1_diasbp_max: integer (nullable = true)\n",
      " |-- d1_diasbp_min: integer (nullable = true)\n",
      " |-- d1_heartrate_max: integer (nullable = true)\n",
      " |-- d1_heartrate_min: integer (nullable = true)\n",
      " |-- d1_mbp_max: integer (nullable = true)\n",
      " |-- d1_mbp_min: integer (nullable = true)\n",
      " |-- d1_resprate_max: integer (nullable = true)\n",
      " |-- d1_resprate_min: integer (nullable = true)\n",
      " |-- d1_spo2_max: integer (nullable = true)\n",
      " |-- d1_spo2_min: integer (nullable = true)\n",
      " |-- d1_sysbp_max: integer (nullable = true)\n",
      " |-- d1_sysbp_min: integer (nullable = true)\n",
      " |-- d1_temp_max: double (nullable = true)\n",
      " |-- d1_temp_min: double (nullable = true)\n",
      " |-- h1_diasbp_max: integer (nullable = true)\n",
      " |-- h1_diasbp_min: integer (nullable = true)\n",
      " |-- h1_heartrate_max: integer (nullable = true)\n",
      " |-- h1_heartrate_min: integer (nullable = true)\n",
      " |-- h1_mbp_max: integer (nullable = true)\n",
      " |-- h1_mbp_min: integer (nullable = true)\n",
      " |-- h1_resprate_max: integer (nullable = true)\n",
      " |-- h1_resprate_min: integer (nullable = true)\n",
      " |-- h1_spo2_max: integer (nullable = true)\n",
      " |-- h1_spo2_min: integer (nullable = true)\n",
      " |-- h1_sysbp_max: integer (nullable = true)\n",
      " |-- h1_sysbp_min: integer (nullable = true)\n",
      " |-- d1_glucose_max: integer (nullable = true)\n",
      " |-- d1_glucose_min: integer (nullable = true)\n",
      " |-- aids: boolean (nullable = true)\n",
      " |-- cirrhosis: boolean (nullable = true)\n",
      " |-- diabetes_mellitus: boolean (nullable = true)\n",
      " |-- hepatic_failure: boolean (nullable = true)\n",
      " |-- immunosuppression: boolean (nullable = true)\n",
      " |-- leukemia: boolean (nullable = true)\n",
      " |-- lymphoma: boolean (nullable = true)\n",
      " |-- solid_tumor_with_metastasis: boolean (nullable = true)\n",
      " |-- hospital_death: boolean (nullable = true)\n",
      " |-- GCS_buckets: double (nullable = true)\n",
      " |-- ethnicityIndex: double (nullable = false)\n",
      " |-- genderIndex: double (nullable = false)\n",
      " |-- icu_admit_sourceIndex: double (nullable = false)\n",
      " |-- icu_typeIndex: double (nullable = false)\n",
      " |-- apache_3j_bodysystemIndex: double (nullable = false)\n",
      " |-- apache_2_bodysystemIndex: double (nullable = false)\n",
      "\n"
     ]
    }
   ],
   "source": [
    "df_2 = df.drop(\"ethnicity\", \"gender\", \"icu_admit_source\", \"icu_type\", \"apache_3j_bodysystem\", \"apache_2_bodysystem\")\n",
    "df_2.printSchema()"
   ]
  },
  {
   "cell_type": "code",
   "execution_count": 29,
   "metadata": {},
   "outputs": [
    {
     "name": "stdout",
     "output_type": "stream",
     "text": [
      "+---+-----+----------------+------+----------------+------+---------------------+----------+-----------------+-----------------+----------------+----------+---------------+-----------+-----------------+-------------+-------------+----------------+----------------+----------+----------+---------------+---------------+-----------+-----------+------------+------------+-----------+-----------+-------------+-------------+----------------+----------------+----------+----------+---------------+---------------+-----------+-----------+------------+------------+--------------+--------------+-----+---------+-----------------+---------------+-----------------+--------+--------+---------------------------+--------------+-----------+--------------+-----------+---------------------+-------------+-------------------------+------------------------+--------------------+--------------------+\n",
      "|age|  bmi|elective_surgery|height|pre_icu_los_days|weight|apache_post_operative|arf_apache|gcs_unable_apache|heart_rate_apache|intubated_apache|map_apache|resprate_apache|temp_apache|ventilated_apache|d1_diasbp_max|d1_diasbp_min|d1_heartrate_max|d1_heartrate_min|d1_mbp_max|d1_mbp_min|d1_resprate_max|d1_resprate_min|d1_spo2_max|d1_spo2_min|d1_sysbp_max|d1_sysbp_min|d1_temp_max|d1_temp_min|h1_diasbp_max|h1_diasbp_min|h1_heartrate_max|h1_heartrate_min|h1_mbp_max|h1_mbp_min|h1_resprate_max|h1_resprate_min|h1_spo2_max|h1_spo2_min|h1_sysbp_max|h1_sysbp_min|d1_glucose_max|d1_glucose_min| aids|cirrhosis|diabetes_mellitus|hepatic_failure|immunosuppression|leukemia|lymphoma|solid_tumor_with_metastasis|hospital_death|GCS_buckets|ethnicityIndex|genderIndex|icu_admit_sourceIndex|icu_typeIndex|apache_3j_bodysystemIndex|apache_2_bodysystemIndex|            features|      scaledFeatures|\n",
      "+---+-----+----------------+------+----------------+------+---------------------+----------+-----------------+-----------------+----------------+----------+---------------+-----------+-----------------+-------------+-------------+----------------+----------------+----------+----------+---------------+---------------+-----------+-----------+------------+------------+-----------+-----------+-------------+-------------+----------------+----------------+----------+----------+---------------+---------------+-----------+-----------+------------+------------+--------------+--------------+-----+---------+-----------------+---------------+-----------------+--------+--------+---------------------------+--------------+-----------+--------------+-----------+---------------------+-------------+-------------------------+------------------------+--------------------+--------------------+\n",
      "| 68|22.73|           false| 180.3|     0.541666667|  73.9|                false|     false|            false|              118|           false|        40|           36.0|       39.3|            false|           68|           37|             119|              72|        89|        46|             34|             10|        100|         74|         131|          73|       39.9|       37.2|           68|           63|             119|             108|        86|        85|             26|             18|        100|         74|         131|         115|           168|           109|false|    false|             true|          false|            false|   false|   false|                      false|         false|        2.0|           0.0|        0.0|                  2.0|          7.0|                      1.0|                     0.0|[68.0,22.73,0.0,1...|[0.32126750903291...|\n",
      "| 77|27.42|           false| 160.0|     0.927777778|  70.2|                false|     false|            false|              120|           false|        46|           33.0|       35.1|             true|           95|           31|             118|              72|       120|        38|             32|             12|        100|         70|         159|          67|       36.3|       35.1|           61|           48|             114|             100|        85|        57|             31|             28|         95|         70|          95|          71|           145|           128|false|    false|             true|          false|            false|   false|   false|                      false|         false|        0.0|           0.0|        1.0|                  2.0|          0.0|                      2.0|                     1.0|[77.0,27.42,0.0,1...|[0.86410333521065...|\n",
      "| 81|22.64|            true| 165.1|      6.94444E-4|  61.7|                 true|     false|            false|              114|            true|        60|            4.0|       34.8|             true|           48|           42|             116|              92|        84|        84|             23|              7|        100|         95|         158|          84|       38.0|       34.8|           62|           44|             100|              96|        92|        71|             12|             11|        100|         99|         136|         106|           185|            88|false|    false|            false|          false|            false|   false|   false|                      false|         false|        2.0|           0.0|        1.0|                  1.0|          7.0|                      0.0|                     0.0|[81.0,22.64,1.0,1...|[1.10536370240076...|\n",
      "| 67|27.56|           false| 190.5|      6.94444E-4| 100.0|                false|     false|            false|              113|           false|       130|           35.0|       36.6|            false|          100|           61|             113|              83|       127|        80|             32|             10|         97|         91|         173|         107|       36.8|       36.6|           89|           89|              83|              83|       111|       111|             12|             12|         97|         97|         143|         143|           156|           125|false|    false|             true|          false|            false|   false|   false|                      false|         false|        2.0|           0.0|        0.0|                  0.0|          0.0|                      3.0|                     2.0|[67.0,27.56,0.0,1...|[0.26095241723538...|\n",
      "| 59|57.45|           false| 165.1|      6.94444E-4| 156.6|                false|     false|            false|              133|            true|       138|           53.0|       35.0|             true|           76|           68|             112|              70|       117|        97|             38|             16|        100|         87|         151|         133|       37.2|       35.0|          107|           79|              79|              72|       117|       117|             18|             18|        100|        100|         191|         163|           197|           129|false|    false|             true|          false|            false|   false|   false|                      false|         false|        2.0|           0.0|        1.0|                  0.0|          0.0|                      2.0|                     1.0|[59.0,57.45,0.0,1...|[-0.2215683171448...|\n",
      "+---+-----+----------------+------+----------------+------+---------------------+----------+-----------------+-----------------+----------------+----------+---------------+-----------+-----------------+-------------+-------------+----------------+----------------+----------+----------+---------------+---------------+-----------+-----------+------------+------------+-----------+-----------+-------------+-------------+----------------+----------------+----------+----------+---------------+---------------+-----------+-----------+------------+------------+--------------+--------------+-----+---------+-----------------+---------------+-----------------+--------+--------+---------------------------+--------------+-----------+--------------+-----------+---------------------+-------------+-------------------------+------------------------+--------------------+--------------------+\n",
      "only showing top 5 rows\n",
      "\n"
     ]
    }
   ],
   "source": [
    "feature_columns = df_2.select([c for c in df_2.columns if c not in {'hospital_death'}])\n",
    "\n",
    "va = VectorAssembler(inputCols=[c for c in df_2.columns if c not in {'hospital_death'}], outputCol=\"features\")  \n",
    "output = va.transform(df_2)\n",
    "scaler = StandardScaler(\n",
    "    inputCol = 'features', \n",
    "    outputCol = 'scaledFeatures',\n",
    "    withMean = True,\n",
    "    withStd = True\n",
    ").fit(output)\n",
    "\n",
    "# when we transform the dataframe, the old\n",
    "# feature will still remain in it\n",
    "df_scaled = scaler.transform(output)\n",
    "df_scaled.show(5)"
   ]
  },
  {
   "cell_type": "markdown",
   "metadata": {},
   "source": [
    "### Principal Component Analysis"
   ]
  },
  {
   "cell_type": "code",
   "execution_count": 30,
   "metadata": {},
   "outputs": [
    {
     "data": {
      "text/plain": [
       "[Row(age=68, bmi=22.73, elective_surgery=False, height=180.3, pre_icu_los_days=0.541666667, weight=73.9, apache_post_operative=False, arf_apache=False, gcs_unable_apache=False, heart_rate_apache=118, intubated_apache=False, map_apache=40, resprate_apache=36.0, temp_apache=39.3, ventilated_apache=False, d1_diasbp_max=68, d1_diasbp_min=37, d1_heartrate_max=119, d1_heartrate_min=72, d1_mbp_max=89, d1_mbp_min=46, d1_resprate_max=34, d1_resprate_min=10, d1_spo2_max=100, d1_spo2_min=74, d1_sysbp_max=131, d1_sysbp_min=73, d1_temp_max=39.9, d1_temp_min=37.2, h1_diasbp_max=68, h1_diasbp_min=63, h1_heartrate_max=119, h1_heartrate_min=108, h1_mbp_max=86, h1_mbp_min=85, h1_resprate_max=26, h1_resprate_min=18, h1_spo2_max=100, h1_spo2_min=74, h1_sysbp_max=131, h1_sysbp_min=115, d1_glucose_max=168, d1_glucose_min=109, aids=False, cirrhosis=False, diabetes_mellitus=True, hepatic_failure=False, immunosuppression=False, leukemia=False, lymphoma=False, solid_tumor_with_metastasis=False, hospital_death=False, GCS_buckets=2.0, ethnicityIndex=0.0, genderIndex=0.0, icu_admit_sourceIndex=2.0, icu_typeIndex=7.0, apache_3j_bodysystemIndex=1.0, apache_2_bodysystemIndex=0.0, features=DenseVector([68.0, 22.73, 0.0, 180.3, 0.5417, 73.9, 0.0, 0.0, 0.0, 118.0, 0.0, 40.0, 36.0, 39.3, 0.0, 68.0, 37.0, 119.0, 72.0, 89.0, 46.0, 34.0, 10.0, 100.0, 74.0, 131.0, 73.0, 39.9, 37.2, 68.0, 63.0, 119.0, 108.0, 86.0, 85.0, 26.0, 18.0, 100.0, 74.0, 131.0, 115.0, 168.0, 109.0, 0.0, 0.0, 1.0, 0.0, 0.0, 0.0, 0.0, 0.0, 2.0, 0.0, 0.0, 2.0, 7.0, 1.0, 0.0]), scaledFeatures=DenseVector([0.3213, -0.7984, -0.4866, 0.9777, -0.1264, -0.4296, -0.5228, -0.176, 0.0, 0.5758, -0.4399, -1.1295, 0.6764, 3.421, -0.7215, -1.0534, -0.9803, 0.7054, 0.0813, -0.7594, -1.195, 0.4898, -0.5637, 0.4652, -1.7516, -0.6855, -1.1544, 3.7208, 1.27, -0.4017, 0.0214, 1.2146, 1.1842, -0.2656, 0.3119, 0.4602, 0.1401, 0.6414, -3.4369, -0.0756, -0.0352, -0.0887, -0.1302, -0.031, -0.1321, 1.7713, -0.1206, -0.1706, -0.0875, -0.0648, -0.1499, 0.5677, -0.4424, -0.9119, 1.5375, 2.4334, -0.5547, -0.8591]), pcaFeatures=DenseVector([-1.927, -2.8322, 0.3662, 0.0653, -1.7242, -0.4467]))]"
      ]
     },
     "execution_count": 30,
     "metadata": {},
     "output_type": "execute_result"
    }
   ],
   "source": [
    "from pyspark.ml.feature import PCA\n",
    "\n",
    "# PCA using 4 components\n",
    "pca = PCA(k=6, inputCol=\"scaledFeatures\", outputCol=\"pcaFeatures\")\n",
    "model = pca.fit(df_scaled)\n",
    "\n",
    "# extract the transformed features\n",
    "result = model.transform(df_scaled)\n",
    "\n",
    "result.take(1)"
   ]
  },
  {
   "cell_type": "code",
   "execution_count": 31,
   "metadata": {},
   "outputs": [
    {
     "data": {
      "text/plain": [
       "array([12.5142,  8.5187,  5.5308,  5.0157,  4.1663,  3.7949])"
      ]
     },
     "execution_count": 31,
     "metadata": {},
     "output_type": "execute_result"
    }
   ],
   "source": [
    "import numpy as np\n",
    "\n",
    "np.round(100.00*model.explainedVariance.toArray(),4)"
   ]
  },
  {
   "cell_type": "code",
   "execution_count": 32,
   "metadata": {},
   "outputs": [
    {
     "data": {
      "text/html": [
       "<div>\n",
       "<style scoped>\n",
       "    .dataframe tbody tr th:only-of-type {\n",
       "        vertical-align: middle;\n",
       "    }\n",
       "\n",
       "    .dataframe tbody tr th {\n",
       "        vertical-align: top;\n",
       "    }\n",
       "\n",
       "    .dataframe thead th {\n",
       "        text-align: right;\n",
       "    }\n",
       "</style>\n",
       "<table border=\"1\" class=\"dataframe\">\n",
       "  <thead>\n",
       "    <tr style=\"text-align: right;\">\n",
       "      <th></th>\n",
       "      <th>PC1</th>\n",
       "      <th>PC2</th>\n",
       "      <th>PC3</th>\n",
       "      <th>PC4</th>\n",
       "      <th>PC5</th>\n",
       "      <th>PC6</th>\n",
       "    </tr>\n",
       "  </thead>\n",
       "  <tbody>\n",
       "    <tr>\n",
       "      <th>age</th>\n",
       "      <td>-0.0432</td>\n",
       "      <td>0.0695</td>\n",
       "      <td>-0.0860</td>\n",
       "      <td>0.1977</td>\n",
       "      <td>-0.0558</td>\n",
       "      <td>0.1919</td>\n",
       "    </tr>\n",
       "    <tr>\n",
       "      <th>bmi</th>\n",
       "      <td>0.0256</td>\n",
       "      <td>-0.0041</td>\n",
       "      <td>-0.0634</td>\n",
       "      <td>0.0261</td>\n",
       "      <td>-0.3524</td>\n",
       "      <td>-0.3086</td>\n",
       "    </tr>\n",
       "    <tr>\n",
       "      <th>elective_surgery</th>\n",
       "      <td>-0.0607</td>\n",
       "      <td>0.1392</td>\n",
       "      <td>-0.0922</td>\n",
       "      <td>-0.3070</td>\n",
       "      <td>-0.2116</td>\n",
       "      <td>0.2233</td>\n",
       "    </tr>\n",
       "    <tr>\n",
       "      <th>height</th>\n",
       "      <td>0.0346</td>\n",
       "      <td>0.0261</td>\n",
       "      <td>-0.0124</td>\n",
       "      <td>-0.0871</td>\n",
       "      <td>-0.2342</td>\n",
       "      <td>-0.1974</td>\n",
       "    </tr>\n",
       "    <tr>\n",
       "      <th>pre_icu_los_days</th>\n",
       "      <td>-0.0363</td>\n",
       "      <td>-0.0268</td>\n",
       "      <td>-0.0356</td>\n",
       "      <td>-0.0695</td>\n",
       "      <td>-0.1005</td>\n",
       "      <td>0.1451</td>\n",
       "    </tr>\n",
       "    <tr>\n",
       "      <th>weight</th>\n",
       "      <td>0.0398</td>\n",
       "      <td>0.0077</td>\n",
       "      <td>-0.0652</td>\n",
       "      <td>-0.0134</td>\n",
       "      <td>-0.4317</td>\n",
       "      <td>-0.3718</td>\n",
       "    </tr>\n",
       "    <tr>\n",
       "      <th>apache_post_operative</th>\n",
       "      <td>-0.0614</td>\n",
       "      <td>0.1352</td>\n",
       "      <td>-0.0987</td>\n",
       "      <td>-0.3240</td>\n",
       "      <td>-0.2049</td>\n",
       "      <td>0.2168</td>\n",
       "    </tr>\n",
       "    <tr>\n",
       "      <th>arf_apache</th>\n",
       "      <td>-0.0021</td>\n",
       "      <td>0.0028</td>\n",
       "      <td>-0.0360</td>\n",
       "      <td>0.0379</td>\n",
       "      <td>0.0196</td>\n",
       "      <td>-0.0095</td>\n",
       "    </tr>\n",
       "    <tr>\n",
       "      <th>gcs_unable_apache</th>\n",
       "      <td>0.0000</td>\n",
       "      <td>0.0000</td>\n",
       "      <td>0.0000</td>\n",
       "      <td>0.0000</td>\n",
       "      <td>0.0000</td>\n",
       "      <td>0.0000</td>\n",
       "    </tr>\n",
       "    <tr>\n",
       "      <th>heart_rate_apache</th>\n",
       "      <td>-0.0062</td>\n",
       "      <td>-0.3547</td>\n",
       "      <td>0.0045</td>\n",
       "      <td>-0.1831</td>\n",
       "      <td>0.0202</td>\n",
       "      <td>-0.0027</td>\n",
       "    </tr>\n",
       "    <tr>\n",
       "      <th>intubated_apache</th>\n",
       "      <td>-0.0692</td>\n",
       "      <td>-0.0355</td>\n",
       "      <td>-0.2711</td>\n",
       "      <td>-0.1685</td>\n",
       "      <td>-0.0882</td>\n",
       "      <td>0.1264</td>\n",
       "    </tr>\n",
       "    <tr>\n",
       "      <th>map_apache</th>\n",
       "      <td>0.2272</td>\n",
       "      <td>-0.0067</td>\n",
       "      <td>-0.1065</td>\n",
       "      <td>-0.0088</td>\n",
       "      <td>-0.0265</td>\n",
       "      <td>0.0450</td>\n",
       "    </tr>\n",
       "    <tr>\n",
       "      <th>resprate_apache</th>\n",
       "      <td>0.0445</td>\n",
       "      <td>-0.1949</td>\n",
       "      <td>0.0454</td>\n",
       "      <td>0.1808</td>\n",
       "      <td>-0.0834</td>\n",
       "      <td>0.2288</td>\n",
       "    </tr>\n",
       "    <tr>\n",
       "      <th>temp_apache</th>\n",
       "      <td>0.0337</td>\n",
       "      <td>-0.0912</td>\n",
       "      <td>0.2139</td>\n",
       "      <td>-0.0914</td>\n",
       "      <td>-0.0679</td>\n",
       "      <td>-0.1143</td>\n",
       "    </tr>\n",
       "    <tr>\n",
       "      <th>ventilated_apache</th>\n",
       "      <td>-0.0743</td>\n",
       "      <td>-0.0681</td>\n",
       "      <td>-0.3085</td>\n",
       "      <td>-0.1512</td>\n",
       "      <td>-0.1074</td>\n",
       "      <td>0.1330</td>\n",
       "    </tr>\n",
       "    <tr>\n",
       "      <th>d1_diasbp_max</th>\n",
       "      <td>0.2127</td>\n",
       "      <td>-0.0885</td>\n",
       "      <td>-0.2358</td>\n",
       "      <td>0.0672</td>\n",
       "      <td>0.1356</td>\n",
       "      <td>-0.1585</td>\n",
       "    </tr>\n",
       "    <tr>\n",
       "      <th>d1_diasbp_min</th>\n",
       "      <td>0.2400</td>\n",
       "      <td>0.0393</td>\n",
       "      <td>0.1947</td>\n",
       "      <td>-0.1424</td>\n",
       "      <td>-0.0996</td>\n",
       "      <td>0.1203</td>\n",
       "    </tr>\n",
       "    <tr>\n",
       "      <th>d1_heartrate_max</th>\n",
       "      <td>-0.0218</td>\n",
       "      <td>-0.3653</td>\n",
       "      <td>-0.0832</td>\n",
       "      <td>-0.1552</td>\n",
       "      <td>0.0415</td>\n",
       "      <td>-0.0211</td>\n",
       "    </tr>\n",
       "    <tr>\n",
       "      <th>d1_heartrate_min</th>\n",
       "      <td>-0.0007</td>\n",
       "      <td>-0.2804</td>\n",
       "      <td>0.1666</td>\n",
       "      <td>-0.2012</td>\n",
       "      <td>-0.0464</td>\n",
       "      <td>0.0188</td>\n",
       "    </tr>\n",
       "    <tr>\n",
       "      <th>d1_mbp_max</th>\n",
       "      <td>0.2579</td>\n",
       "      <td>-0.0611</td>\n",
       "      <td>-0.2387</td>\n",
       "      <td>0.0822</td>\n",
       "      <td>0.0850</td>\n",
       "      <td>-0.0777</td>\n",
       "    </tr>\n",
       "    <tr>\n",
       "      <th>d1_mbp_min</th>\n",
       "      <td>0.2597</td>\n",
       "      <td>0.0659</td>\n",
       "      <td>0.1963</td>\n",
       "      <td>-0.0989</td>\n",
       "      <td>-0.1139</td>\n",
       "      <td>0.1435</td>\n",
       "    </tr>\n",
       "    <tr>\n",
       "      <th>d1_resprate_max</th>\n",
       "      <td>0.0076</td>\n",
       "      <td>-0.1905</td>\n",
       "      <td>-0.1038</td>\n",
       "      <td>0.1611</td>\n",
       "      <td>-0.0542</td>\n",
       "      <td>0.1656</td>\n",
       "    </tr>\n",
       "    <tr>\n",
       "      <th>d1_resprate_min</th>\n",
       "      <td>0.0384</td>\n",
       "      <td>-0.1378</td>\n",
       "      <td>0.2307</td>\n",
       "      <td>0.1350</td>\n",
       "      <td>-0.0803</td>\n",
       "      <td>0.1619</td>\n",
       "    </tr>\n",
       "    <tr>\n",
       "      <th>d1_spo2_max</th>\n",
       "      <td>-0.0464</td>\n",
       "      <td>0.0203</td>\n",
       "      <td>-0.1653</td>\n",
       "      <td>-0.1536</td>\n",
       "      <td>0.2099</td>\n",
       "      <td>0.0228</td>\n",
       "    </tr>\n",
       "    <tr>\n",
       "      <th>d1_spo2_min</th>\n",
       "      <td>0.0502</td>\n",
       "      <td>0.1024</td>\n",
       "      <td>0.1832</td>\n",
       "      <td>-0.1666</td>\n",
       "      <td>0.0788</td>\n",
       "      <td>0.0550</td>\n",
       "    </tr>\n",
       "    <tr>\n",
       "      <th>d1_sysbp_max</th>\n",
       "      <td>0.2486</td>\n",
       "      <td>-0.0045</td>\n",
       "      <td>-0.2266</td>\n",
       "      <td>0.0793</td>\n",
       "      <td>0.0482</td>\n",
       "      <td>-0.0567</td>\n",
       "    </tr>\n",
       "    <tr>\n",
       "      <th>d1_sysbp_min</th>\n",
       "      <td>0.2498</td>\n",
       "      <td>0.1080</td>\n",
       "      <td>0.1858</td>\n",
       "      <td>-0.0737</td>\n",
       "      <td>-0.1073</td>\n",
       "      <td>0.1003</td>\n",
       "    </tr>\n",
       "    <tr>\n",
       "      <th>d1_temp_max</th>\n",
       "      <td>-0.0387</td>\n",
       "      <td>-0.1456</td>\n",
       "      <td>-0.0434</td>\n",
       "      <td>-0.1752</td>\n",
       "      <td>-0.0603</td>\n",
       "      <td>-0.0237</td>\n",
       "    </tr>\n",
       "    <tr>\n",
       "      <th>d1_temp_min</th>\n",
       "      <td>0.0444</td>\n",
       "      <td>-0.0558</td>\n",
       "      <td>0.2496</td>\n",
       "      <td>-0.0789</td>\n",
       "      <td>-0.0587</td>\n",
       "      <td>-0.1171</td>\n",
       "    </tr>\n",
       "    <tr>\n",
       "      <th>h1_diasbp_max</th>\n",
       "      <td>0.2752</td>\n",
       "      <td>-0.0660</td>\n",
       "      <td>-0.1602</td>\n",
       "      <td>-0.0261</td>\n",
       "      <td>0.0832</td>\n",
       "      <td>-0.0539</td>\n",
       "    </tr>\n",
       "    <tr>\n",
       "      <th>h1_diasbp_min</th>\n",
       "      <td>0.2967</td>\n",
       "      <td>-0.0104</td>\n",
       "      <td>0.0688</td>\n",
       "      <td>-0.0851</td>\n",
       "      <td>0.0002</td>\n",
       "      <td>0.0486</td>\n",
       "    </tr>\n",
       "    <tr>\n",
       "      <th>h1_heartrate_max</th>\n",
       "      <td>-0.0030</td>\n",
       "      <td>-0.3792</td>\n",
       "      <td>-0.0086</td>\n",
       "      <td>-0.1553</td>\n",
       "      <td>0.0174</td>\n",
       "      <td>-0.0254</td>\n",
       "    </tr>\n",
       "    <tr>\n",
       "      <th>h1_heartrate_min</th>\n",
       "      <td>0.0029</td>\n",
       "      <td>-0.3675</td>\n",
       "      <td>0.0874</td>\n",
       "      <td>-0.1650</td>\n",
       "      <td>-0.0076</td>\n",
       "      <td>-0.0101</td>\n",
       "    </tr>\n",
       "    <tr>\n",
       "      <th>h1_mbp_max</th>\n",
       "      <td>0.3092</td>\n",
       "      <td>-0.0238</td>\n",
       "      <td>-0.1571</td>\n",
       "      <td>-0.0111</td>\n",
       "      <td>0.0345</td>\n",
       "      <td>0.0257</td>\n",
       "    </tr>\n",
       "    <tr>\n",
       "      <th>h1_mbp_min</th>\n",
       "      <td>0.3231</td>\n",
       "      <td>0.0209</td>\n",
       "      <td>0.0583</td>\n",
       "      <td>-0.0457</td>\n",
       "      <td>-0.0174</td>\n",
       "      <td>0.0879</td>\n",
       "    </tr>\n",
       "    <tr>\n",
       "      <th>h1_resprate_max</th>\n",
       "      <td>0.0276</td>\n",
       "      <td>-0.2476</td>\n",
       "      <td>-0.0175</td>\n",
       "      <td>0.2198</td>\n",
       "      <td>-0.0558</td>\n",
       "      <td>0.1471</td>\n",
       "    </tr>\n",
       "    <tr>\n",
       "      <th>h1_resprate_min</th>\n",
       "      <td>0.0341</td>\n",
       "      <td>-0.2267</td>\n",
       "      <td>0.1398</td>\n",
       "      <td>0.1994</td>\n",
       "      <td>-0.0713</td>\n",
       "      <td>0.1607</td>\n",
       "    </tr>\n",
       "    <tr>\n",
       "      <th>h1_spo2_max</th>\n",
       "      <td>-0.0148</td>\n",
       "      <td>0.0788</td>\n",
       "      <td>-0.0848</td>\n",
       "      <td>-0.2089</td>\n",
       "      <td>0.1946</td>\n",
       "      <td>0.0514</td>\n",
       "    </tr>\n",
       "    <tr>\n",
       "      <th>h1_spo2_min</th>\n",
       "      <td>0.0254</td>\n",
       "      <td>0.1034</td>\n",
       "      <td>0.0954</td>\n",
       "      <td>-0.2054</td>\n",
       "      <td>0.1361</td>\n",
       "      <td>0.0651</td>\n",
       "    </tr>\n",
       "    <tr>\n",
       "      <th>h1_sysbp_max</th>\n",
       "      <td>0.2886</td>\n",
       "      <td>0.0254</td>\n",
       "      <td>-0.1570</td>\n",
       "      <td>0.0079</td>\n",
       "      <td>0.0183</td>\n",
       "      <td>0.0175</td>\n",
       "    </tr>\n",
       "    <tr>\n",
       "      <th>h1_sysbp_min</th>\n",
       "      <td>0.3006</td>\n",
       "      <td>0.0653</td>\n",
       "      <td>0.0489</td>\n",
       "      <td>-0.0199</td>\n",
       "      <td>-0.0232</td>\n",
       "      <td>0.0663</td>\n",
       "    </tr>\n",
       "    <tr>\n",
       "      <th>d1_glucose_max</th>\n",
       "      <td>-0.0035</td>\n",
       "      <td>-0.0749</td>\n",
       "      <td>-0.0759</td>\n",
       "      <td>0.0055</td>\n",
       "      <td>-0.1327</td>\n",
       "      <td>-0.1025</td>\n",
       "    </tr>\n",
       "    <tr>\n",
       "      <th>d1_glucose_min</th>\n",
       "      <td>0.0313</td>\n",
       "      <td>-0.0451</td>\n",
       "      <td>0.0099</td>\n",
       "      <td>0.0377</td>\n",
       "      <td>-0.1921</td>\n",
       "      <td>-0.0858</td>\n",
       "    </tr>\n",
       "    <tr>\n",
       "      <th>aids</th>\n",
       "      <td>0.0032</td>\n",
       "      <td>-0.0103</td>\n",
       "      <td>0.0019</td>\n",
       "      <td>-0.0058</td>\n",
       "      <td>0.0153</td>\n",
       "      <td>0.0154</td>\n",
       "    </tr>\n",
       "    <tr>\n",
       "      <th>cirrhosis</th>\n",
       "      <td>-0.0232</td>\n",
       "      <td>-0.0137</td>\n",
       "      <td>0.0052</td>\n",
       "      <td>0.0030</td>\n",
       "      <td>0.0645</td>\n",
       "      <td>-0.0982</td>\n",
       "    </tr>\n",
       "    <tr>\n",
       "      <th>diabetes_mellitus</th>\n",
       "      <td>-0.0018</td>\n",
       "      <td>0.0025</td>\n",
       "      <td>-0.0361</td>\n",
       "      <td>0.0336</td>\n",
       "      <td>-0.1545</td>\n",
       "      <td>-0.1439</td>\n",
       "    </tr>\n",
       "    <tr>\n",
       "      <th>hepatic_failure</th>\n",
       "      <td>-0.0264</td>\n",
       "      <td>-0.0144</td>\n",
       "      <td>0.0070</td>\n",
       "      <td>0.0038</td>\n",
       "      <td>0.0666</td>\n",
       "      <td>-0.0966</td>\n",
       "    </tr>\n",
       "    <tr>\n",
       "      <th>immunosuppression</th>\n",
       "      <td>-0.0137</td>\n",
       "      <td>-0.0456</td>\n",
       "      <td>0.0186</td>\n",
       "      <td>0.0117</td>\n",
       "      <td>0.0128</td>\n",
       "      <td>0.0566</td>\n",
       "    </tr>\n",
       "    <tr>\n",
       "      <th>leukemia</th>\n",
       "      <td>-0.0120</td>\n",
       "      <td>-0.0194</td>\n",
       "      <td>0.0050</td>\n",
       "      <td>0.0171</td>\n",
       "      <td>0.0011</td>\n",
       "      <td>0.0238</td>\n",
       "    </tr>\n",
       "    <tr>\n",
       "      <th>lymphoma</th>\n",
       "      <td>-0.0071</td>\n",
       "      <td>-0.0155</td>\n",
       "      <td>0.0066</td>\n",
       "      <td>0.0107</td>\n",
       "      <td>-0.0024</td>\n",
       "      <td>0.0138</td>\n",
       "    </tr>\n",
       "    <tr>\n",
       "      <th>solid_tumor_with_metastasis</th>\n",
       "      <td>-0.0106</td>\n",
       "      <td>-0.0274</td>\n",
       "      <td>0.0195</td>\n",
       "      <td>-0.0059</td>\n",
       "      <td>0.0137</td>\n",
       "      <td>0.0632</td>\n",
       "    </tr>\n",
       "    <tr>\n",
       "      <th>GCS_buckets</th>\n",
       "      <td>0.0477</td>\n",
       "      <td>0.0697</td>\n",
       "      <td>0.2705</td>\n",
       "      <td>0.1154</td>\n",
       "      <td>-0.0184</td>\n",
       "      <td>-0.0791</td>\n",
       "    </tr>\n",
       "    <tr>\n",
       "      <th>ethnicityIndex</th>\n",
       "      <td>0.0124</td>\n",
       "      <td>-0.0066</td>\n",
       "      <td>0.0432</td>\n",
       "      <td>-0.0393</td>\n",
       "      <td>0.0755</td>\n",
       "      <td>0.0215</td>\n",
       "    </tr>\n",
       "    <tr>\n",
       "      <th>genderIndex</th>\n",
       "      <td>-0.0293</td>\n",
       "      <td>-0.0352</td>\n",
       "      <td>0.0111</td>\n",
       "      <td>0.0750</td>\n",
       "      <td>0.2201</td>\n",
       "      <td>0.1447</td>\n",
       "    </tr>\n",
       "    <tr>\n",
       "      <th>icu_admit_sourceIndex</th>\n",
       "      <td>-0.0377</td>\n",
       "      <td>-0.0040</td>\n",
       "      <td>-0.0602</td>\n",
       "      <td>-0.0774</td>\n",
       "      <td>-0.1485</td>\n",
       "      <td>0.1562</td>\n",
       "    </tr>\n",
       "    <tr>\n",
       "      <th>icu_typeIndex</th>\n",
       "      <td>-0.0231</td>\n",
       "      <td>0.0921</td>\n",
       "      <td>-0.0827</td>\n",
       "      <td>-0.0813</td>\n",
       "      <td>-0.1646</td>\n",
       "      <td>0.1739</td>\n",
       "    </tr>\n",
       "    <tr>\n",
       "      <th>apache_3j_bodysystemIndex</th>\n",
       "      <td>0.0355</td>\n",
       "      <td>-0.0252</td>\n",
       "      <td>0.1030</td>\n",
       "      <td>-0.1794</td>\n",
       "      <td>0.2584</td>\n",
       "      <td>-0.2465</td>\n",
       "    </tr>\n",
       "    <tr>\n",
       "      <th>apache_2_bodysystemIndex</th>\n",
       "      <td>0.0140</td>\n",
       "      <td>0.0245</td>\n",
       "      <td>0.0568</td>\n",
       "      <td>-0.2581</td>\n",
       "      <td>0.1927</td>\n",
       "      <td>-0.1940</td>\n",
       "    </tr>\n",
       "  </tbody>\n",
       "</table>\n",
       "</div>"
      ],
      "text/plain": [
       "                                PC1     PC2     PC3     PC4     PC5     PC6\n",
       "age                         -0.0432  0.0695 -0.0860  0.1977 -0.0558  0.1919\n",
       "bmi                          0.0256 -0.0041 -0.0634  0.0261 -0.3524 -0.3086\n",
       "elective_surgery            -0.0607  0.1392 -0.0922 -0.3070 -0.2116  0.2233\n",
       "height                       0.0346  0.0261 -0.0124 -0.0871 -0.2342 -0.1974\n",
       "pre_icu_los_days            -0.0363 -0.0268 -0.0356 -0.0695 -0.1005  0.1451\n",
       "weight                       0.0398  0.0077 -0.0652 -0.0134 -0.4317 -0.3718\n",
       "apache_post_operative       -0.0614  0.1352 -0.0987 -0.3240 -0.2049  0.2168\n",
       "arf_apache                  -0.0021  0.0028 -0.0360  0.0379  0.0196 -0.0095\n",
       "gcs_unable_apache            0.0000  0.0000  0.0000  0.0000  0.0000  0.0000\n",
       "heart_rate_apache           -0.0062 -0.3547  0.0045 -0.1831  0.0202 -0.0027\n",
       "intubated_apache            -0.0692 -0.0355 -0.2711 -0.1685 -0.0882  0.1264\n",
       "map_apache                   0.2272 -0.0067 -0.1065 -0.0088 -0.0265  0.0450\n",
       "resprate_apache              0.0445 -0.1949  0.0454  0.1808 -0.0834  0.2288\n",
       "temp_apache                  0.0337 -0.0912  0.2139 -0.0914 -0.0679 -0.1143\n",
       "ventilated_apache           -0.0743 -0.0681 -0.3085 -0.1512 -0.1074  0.1330\n",
       "d1_diasbp_max                0.2127 -0.0885 -0.2358  0.0672  0.1356 -0.1585\n",
       "d1_diasbp_min                0.2400  0.0393  0.1947 -0.1424 -0.0996  0.1203\n",
       "d1_heartrate_max            -0.0218 -0.3653 -0.0832 -0.1552  0.0415 -0.0211\n",
       "d1_heartrate_min            -0.0007 -0.2804  0.1666 -0.2012 -0.0464  0.0188\n",
       "d1_mbp_max                   0.2579 -0.0611 -0.2387  0.0822  0.0850 -0.0777\n",
       "d1_mbp_min                   0.2597  0.0659  0.1963 -0.0989 -0.1139  0.1435\n",
       "d1_resprate_max              0.0076 -0.1905 -0.1038  0.1611 -0.0542  0.1656\n",
       "d1_resprate_min              0.0384 -0.1378  0.2307  0.1350 -0.0803  0.1619\n",
       "d1_spo2_max                 -0.0464  0.0203 -0.1653 -0.1536  0.2099  0.0228\n",
       "d1_spo2_min                  0.0502  0.1024  0.1832 -0.1666  0.0788  0.0550\n",
       "d1_sysbp_max                 0.2486 -0.0045 -0.2266  0.0793  0.0482 -0.0567\n",
       "d1_sysbp_min                 0.2498  0.1080  0.1858 -0.0737 -0.1073  0.1003\n",
       "d1_temp_max                 -0.0387 -0.1456 -0.0434 -0.1752 -0.0603 -0.0237\n",
       "d1_temp_min                  0.0444 -0.0558  0.2496 -0.0789 -0.0587 -0.1171\n",
       "h1_diasbp_max                0.2752 -0.0660 -0.1602 -0.0261  0.0832 -0.0539\n",
       "h1_diasbp_min                0.2967 -0.0104  0.0688 -0.0851  0.0002  0.0486\n",
       "h1_heartrate_max            -0.0030 -0.3792 -0.0086 -0.1553  0.0174 -0.0254\n",
       "h1_heartrate_min             0.0029 -0.3675  0.0874 -0.1650 -0.0076 -0.0101\n",
       "h1_mbp_max                   0.3092 -0.0238 -0.1571 -0.0111  0.0345  0.0257\n",
       "h1_mbp_min                   0.3231  0.0209  0.0583 -0.0457 -0.0174  0.0879\n",
       "h1_resprate_max              0.0276 -0.2476 -0.0175  0.2198 -0.0558  0.1471\n",
       "h1_resprate_min              0.0341 -0.2267  0.1398  0.1994 -0.0713  0.1607\n",
       "h1_spo2_max                 -0.0148  0.0788 -0.0848 -0.2089  0.1946  0.0514\n",
       "h1_spo2_min                  0.0254  0.1034  0.0954 -0.2054  0.1361  0.0651\n",
       "h1_sysbp_max                 0.2886  0.0254 -0.1570  0.0079  0.0183  0.0175\n",
       "h1_sysbp_min                 0.3006  0.0653  0.0489 -0.0199 -0.0232  0.0663\n",
       "d1_glucose_max              -0.0035 -0.0749 -0.0759  0.0055 -0.1327 -0.1025\n",
       "d1_glucose_min               0.0313 -0.0451  0.0099  0.0377 -0.1921 -0.0858\n",
       "aids                         0.0032 -0.0103  0.0019 -0.0058  0.0153  0.0154\n",
       "cirrhosis                   -0.0232 -0.0137  0.0052  0.0030  0.0645 -0.0982\n",
       "diabetes_mellitus           -0.0018  0.0025 -0.0361  0.0336 -0.1545 -0.1439\n",
       "hepatic_failure             -0.0264 -0.0144  0.0070  0.0038  0.0666 -0.0966\n",
       "immunosuppression           -0.0137 -0.0456  0.0186  0.0117  0.0128  0.0566\n",
       "leukemia                    -0.0120 -0.0194  0.0050  0.0171  0.0011  0.0238\n",
       "lymphoma                    -0.0071 -0.0155  0.0066  0.0107 -0.0024  0.0138\n",
       "solid_tumor_with_metastasis -0.0106 -0.0274  0.0195 -0.0059  0.0137  0.0632\n",
       "GCS_buckets                  0.0477  0.0697  0.2705  0.1154 -0.0184 -0.0791\n",
       "ethnicityIndex               0.0124 -0.0066  0.0432 -0.0393  0.0755  0.0215\n",
       "genderIndex                 -0.0293 -0.0352  0.0111  0.0750  0.2201  0.1447\n",
       "icu_admit_sourceIndex       -0.0377 -0.0040 -0.0602 -0.0774 -0.1485  0.1562\n",
       "icu_typeIndex               -0.0231  0.0921 -0.0827 -0.0813 -0.1646  0.1739\n",
       "apache_3j_bodysystemIndex    0.0355 -0.0252  0.1030 -0.1794  0.2584 -0.2465\n",
       "apache_2_bodysystemIndex     0.0140  0.0245  0.0568 -0.2581  0.1927 -0.1940"
      ]
     },
     "execution_count": 32,
     "metadata": {},
     "output_type": "execute_result"
    }
   ],
   "source": [
    "import pandas as pd\n",
    "\n",
    "cols = df_2.drop('hospital_death').columns\n",
    "cols\n",
    "\n",
    "pcs = np.round(model.pc.toArray(),4)\n",
    "df_pc = pd.DataFrame(pcs, columns = ['PC1','PC2','PC3','PC4','PC5','PC6'], index = cols)\n",
    "df_pc"
   ]
  },
  {
   "cell_type": "code",
   "execution_count": 33,
   "metadata": {},
   "outputs": [
    {
     "data": {
      "text/plain": [
       "h1_mbp_min       0.3231\n",
       "h1_mbp_max       0.3092\n",
       "h1_sysbp_min     0.3006\n",
       "h1_diasbp_min    0.2967\n",
       "h1_sysbp_max     0.2886\n",
       "h1_diasbp_max    0.2752\n",
       "d1_mbp_min       0.2597\n",
       "d1_mbp_max       0.2579\n",
       "d1_sysbp_min     0.2498\n",
       "d1_sysbp_max     0.2486\n",
       "d1_diasbp_min    0.2400\n",
       "map_apache       0.2272\n",
       "d1_diasbp_max    0.2127\n",
       "Name: PC1, dtype: float64"
      ]
     },
     "execution_count": 33,
     "metadata": {},
     "output_type": "execute_result"
    }
   ],
   "source": [
    "pc1 = df_pc.loc[:,'PC1'].abs().sort_values(ascending=False)\n",
    "s1 = pc1[pc1 > 0.2]\n",
    "s1"
   ]
  },
  {
   "cell_type": "code",
   "execution_count": 34,
   "metadata": {},
   "outputs": [
    {
     "data": {
      "text/plain": [
       "['h1_mbp_min',\n",
       " 'h1_mbp_max',\n",
       " 'h1_sysbp_min',\n",
       " 'h1_diasbp_min',\n",
       " 'h1_sysbp_max',\n",
       " 'h1_diasbp_max',\n",
       " 'd1_mbp_min',\n",
       " 'd1_mbp_max',\n",
       " 'd1_sysbp_min',\n",
       " 'd1_sysbp_max',\n",
       " 'd1_diasbp_min',\n",
       " 'map_apache',\n",
       " 'd1_diasbp_max']"
      ]
     },
     "execution_count": 34,
     "metadata": {},
     "output_type": "execute_result"
    }
   ],
   "source": [
    "s1index=s1.index\n",
    "s1list = list(s1index)\n",
    "s1list"
   ]
  },
  {
   "cell_type": "code",
   "execution_count": 35,
   "metadata": {},
   "outputs": [
    {
     "data": {
      "text/plain": [
       "h1_heartrate_max     0.3792\n",
       "h1_heartrate_min     0.3675\n",
       "d1_heartrate_max     0.3653\n",
       "heart_rate_apache    0.3547\n",
       "d1_heartrate_min     0.2804\n",
       "h1_resprate_max      0.2476\n",
       "h1_resprate_min      0.2267\n",
       "Name: PC2, dtype: float64"
      ]
     },
     "execution_count": 35,
     "metadata": {},
     "output_type": "execute_result"
    }
   ],
   "source": [
    "pc2 = df_pc.loc[:,'PC2'].abs().sort_values(ascending=False)\n",
    "s2 = pc2[pc2 > 0.2]\n",
    "s2"
   ]
  },
  {
   "cell_type": "code",
   "execution_count": 36,
   "metadata": {},
   "outputs": [
    {
     "data": {
      "text/plain": [
       "Index(['h1_heartrate_max', 'h1_heartrate_min', 'd1_heartrate_max',\n",
       "       'heart_rate_apache', 'd1_heartrate_min', 'h1_resprate_max',\n",
       "       'h1_resprate_min'],\n",
       "      dtype='object')"
      ]
     },
     "execution_count": 36,
     "metadata": {},
     "output_type": "execute_result"
    }
   ],
   "source": [
    "s2index=s2.index\n",
    "s2index"
   ]
  },
  {
   "cell_type": "code",
   "execution_count": 37,
   "metadata": {},
   "outputs": [
    {
     "data": {
      "text/plain": [
       "ventilated_apache    0.3085\n",
       "intubated_apache     0.2711\n",
       "GCS_buckets          0.2705\n",
       "d1_temp_min          0.2496\n",
       "d1_mbp_max           0.2387\n",
       "d1_diasbp_max        0.2358\n",
       "d1_resprate_min      0.2307\n",
       "d1_sysbp_max         0.2266\n",
       "temp_apache          0.2139\n",
       "Name: PC3, dtype: float64"
      ]
     },
     "execution_count": 37,
     "metadata": {},
     "output_type": "execute_result"
    }
   ],
   "source": [
    "pc3 = df_pc.loc[:,'PC3'].abs().sort_values(ascending=False)\n",
    "s3 = pc3[pc3 > 0.2]\n",
    "s3"
   ]
  },
  {
   "cell_type": "code",
   "execution_count": 38,
   "metadata": {},
   "outputs": [
    {
     "data": {
      "text/plain": [
       "Index(['ventilated_apache', 'intubated_apache', 'GCS_buckets', 'd1_temp_min',\n",
       "       'd1_mbp_max', 'd1_diasbp_max', 'd1_resprate_min', 'd1_sysbp_max',\n",
       "       'temp_apache'],\n",
       "      dtype='object')"
      ]
     },
     "execution_count": 38,
     "metadata": {},
     "output_type": "execute_result"
    }
   ],
   "source": [
    "s3index=s3.index\n",
    "s3index"
   ]
  },
  {
   "cell_type": "code",
   "execution_count": 39,
   "metadata": {},
   "outputs": [
    {
     "data": {
      "text/plain": [
       "['GCS_buckets',\n",
       " 'd1_diasbp_max',\n",
       " 'd1_diasbp_min',\n",
       " 'd1_heartrate_max',\n",
       " 'd1_heartrate_min',\n",
       " 'd1_mbp_max',\n",
       " 'd1_mbp_min',\n",
       " 'd1_resprate_min',\n",
       " 'd1_sysbp_max',\n",
       " 'd1_sysbp_min',\n",
       " 'd1_temp_min',\n",
       " 'h1_diasbp_max',\n",
       " 'h1_diasbp_min',\n",
       " 'h1_heartrate_max',\n",
       " 'h1_heartrate_min',\n",
       " 'h1_mbp_max',\n",
       " 'h1_mbp_min',\n",
       " 'h1_resprate_max',\n",
       " 'h1_resprate_min',\n",
       " 'h1_sysbp_max',\n",
       " 'h1_sysbp_min',\n",
       " 'heart_rate_apache',\n",
       " 'intubated_apache',\n",
       " 'map_apache',\n",
       " 'temp_apache',\n",
       " 'ventilated_apache']"
      ]
     },
     "execution_count": 39,
     "metadata": {},
     "output_type": "execute_result"
    }
   ],
   "source": [
    "#Union the series indices\n",
    "\n",
    "important_vars = s3index.union(s2index).union(s1index)\n",
    "list(important_vars)"
   ]
  },
  {
   "cell_type": "markdown",
   "metadata": {},
   "source": [
    "### Checking for collinearity amongst our important variables"
   ]
  },
  {
   "cell_type": "code",
   "execution_count": 40,
   "metadata": {},
   "outputs": [
    {
     "data": {
      "text/plain": [
       "[Row(GCS_buckets=2.0, d1_diasbp_max=68, d1_diasbp_min=37, d1_heartrate_max=119, d1_heartrate_min=72, d1_mbp_max=89, d1_mbp_min=46, d1_resprate_min=10, d1_sysbp_max=131, d1_sysbp_min=73, d1_temp_min=37.2, h1_diasbp_max=68, h1_diasbp_min=63, h1_heartrate_max=119, h1_heartrate_min=108, h1_mbp_max=86, h1_mbp_min=85, h1_resprate_max=26, h1_resprate_min=18, h1_sysbp_max=131, h1_sysbp_min=115, heart_rate_apache=118, intubated_apache=False, map_apache=40, temp_apache=39.3, ventilated_apache=False),\n",
       " Row(GCS_buckets=0.0, d1_diasbp_max=95, d1_diasbp_min=31, d1_heartrate_max=118, d1_heartrate_min=72, d1_mbp_max=120, d1_mbp_min=38, d1_resprate_min=12, d1_sysbp_max=159, d1_sysbp_min=67, d1_temp_min=35.1, h1_diasbp_max=61, h1_diasbp_min=48, h1_heartrate_max=114, h1_heartrate_min=100, h1_mbp_max=85, h1_mbp_min=57, h1_resprate_max=31, h1_resprate_min=28, h1_sysbp_max=95, h1_sysbp_min=71, heart_rate_apache=120, intubated_apache=False, map_apache=46, temp_apache=35.1, ventilated_apache=True)]"
      ]
     },
     "execution_count": 40,
     "metadata": {},
     "output_type": "execute_result"
    }
   ],
   "source": [
    "# first subset our important variables/columns from original df\n",
    "\n",
    "df_important_vars = df_2.select('GCS_buckets',\n",
    " 'd1_diasbp_max',\n",
    " 'd1_diasbp_min',\n",
    " 'd1_heartrate_max',\n",
    " 'd1_heartrate_min',\n",
    " 'd1_mbp_max',\n",
    " 'd1_mbp_min',\n",
    " 'd1_resprate_min',\n",
    " 'd1_sysbp_max',\n",
    " 'd1_sysbp_min',\n",
    " 'd1_temp_min',\n",
    " 'h1_diasbp_max',\n",
    " 'h1_diasbp_min',\n",
    " 'h1_heartrate_max',\n",
    " 'h1_heartrate_min',\n",
    " 'h1_mbp_max',\n",
    " 'h1_mbp_min',\n",
    " 'h1_resprate_max',\n",
    " 'h1_resprate_min',\n",
    " 'h1_sysbp_max',\n",
    " 'h1_sysbp_min',\n",
    " 'heart_rate_apache',\n",
    " 'intubated_apache',\n",
    " 'map_apache',\n",
    " 'temp_apache',\n",
    " 'ventilated_apache')\n",
    "\n",
    "df_important_vars.take(2)"
   ]
  },
  {
   "cell_type": "code",
   "execution_count": 41,
   "metadata": {},
   "outputs": [],
   "source": [
    "features = df_important_vars.rdd.map(lambda row: row[0:])"
   ]
  },
  {
   "cell_type": "code",
   "execution_count": 42,
   "metadata": {},
   "outputs": [],
   "source": [
    "from pyspark.mllib.stat import Statistics\n",
    "\n",
    "corr_mat = Statistics.corr(features, method='spearman')"
   ]
  },
  {
   "cell_type": "code",
   "execution_count": 43,
   "metadata": {},
   "outputs": [
    {
     "data": {
      "text/html": [
       "<div>\n",
       "<style scoped>\n",
       "    .dataframe tbody tr th:only-of-type {\n",
       "        vertical-align: middle;\n",
       "    }\n",
       "\n",
       "    .dataframe tbody tr th {\n",
       "        vertical-align: top;\n",
       "    }\n",
       "\n",
       "    .dataframe thead th {\n",
       "        text-align: right;\n",
       "    }\n",
       "</style>\n",
       "<table border=\"1\" class=\"dataframe\">\n",
       "  <thead>\n",
       "    <tr style=\"text-align: right;\">\n",
       "      <th></th>\n",
       "      <th>GCS_buckets</th>\n",
       "      <th>d1_diasbp_max</th>\n",
       "      <th>d1_diasbp_min</th>\n",
       "      <th>d1_heartrate_max</th>\n",
       "      <th>d1_heartrate_min</th>\n",
       "      <th>d1_mbp_max</th>\n",
       "      <th>d1_mbp_min</th>\n",
       "      <th>d1_resprate_min</th>\n",
       "      <th>d1_sysbp_max</th>\n",
       "      <th>d1_sysbp_min</th>\n",
       "      <th>...</th>\n",
       "      <th>h1_mbp_min</th>\n",
       "      <th>h1_resprate_max</th>\n",
       "      <th>h1_resprate_min</th>\n",
       "      <th>h1_sysbp_max</th>\n",
       "      <th>h1_sysbp_min</th>\n",
       "      <th>heart_rate_apache</th>\n",
       "      <th>intubated_apache</th>\n",
       "      <th>map_apache</th>\n",
       "      <th>temp_apache</th>\n",
       "      <th>ventilated_apache</th>\n",
       "    </tr>\n",
       "  </thead>\n",
       "  <tbody>\n",
       "    <tr>\n",
       "      <th>GCS_buckets</th>\n",
       "      <td>1.000000</td>\n",
       "      <td>-0.017135</td>\n",
       "      <td>0.104490</td>\n",
       "      <td>-0.158100</td>\n",
       "      <td>-0.016801</td>\n",
       "      <td>-0.009172</td>\n",
       "      <td>0.135446</td>\n",
       "      <td>0.037313</td>\n",
       "      <td>-0.018202</td>\n",
       "      <td>0.172461</td>\n",
       "      <td>...</td>\n",
       "      <td>0.115159</td>\n",
       "      <td>0.004088</td>\n",
       "      <td>0.018805</td>\n",
       "      <td>0.018428</td>\n",
       "      <td>0.137519</td>\n",
       "      <td>-0.119817</td>\n",
       "      <td>-0.455115</td>\n",
       "      <td>0.038859</td>\n",
       "      <td>0.084065</td>\n",
       "      <td>-0.560644</td>\n",
       "    </tr>\n",
       "    <tr>\n",
       "      <th>d1_diasbp_max</th>\n",
       "      <td>-0.017135</td>\n",
       "      <td>1.000000</td>\n",
       "      <td>0.164635</td>\n",
       "      <td>0.176458</td>\n",
       "      <td>-0.027199</td>\n",
       "      <td>0.826313</td>\n",
       "      <td>0.139542</td>\n",
       "      <td>-0.051391</td>\n",
       "      <td>0.585959</td>\n",
       "      <td>0.111693</td>\n",
       "      <td>...</td>\n",
       "      <td>0.333586</td>\n",
       "      <td>0.108730</td>\n",
       "      <td>0.028031</td>\n",
       "      <td>0.413791</td>\n",
       "      <td>0.275060</td>\n",
       "      <td>0.123766</td>\n",
       "      <td>-0.054468</td>\n",
       "      <td>0.364922</td>\n",
       "      <td>0.013839</td>\n",
       "      <td>-0.042832</td>\n",
       "    </tr>\n",
       "    <tr>\n",
       "      <th>d1_diasbp_min</th>\n",
       "      <td>0.104490</td>\n",
       "      <td>0.164635</td>\n",
       "      <td>1.000000</td>\n",
       "      <td>-0.081069</td>\n",
       "      <td>0.115692</td>\n",
       "      <td>0.250742</td>\n",
       "      <td>0.875331</td>\n",
       "      <td>0.115479</td>\n",
       "      <td>0.155180</td>\n",
       "      <td>0.650670</td>\n",
       "      <td>...</td>\n",
       "      <td>0.589404</td>\n",
       "      <td>-0.054965</td>\n",
       "      <td>0.029526</td>\n",
       "      <td>0.279538</td>\n",
       "      <td>0.429437</td>\n",
       "      <td>-0.004455</td>\n",
       "      <td>-0.105187</td>\n",
       "      <td>0.474764</td>\n",
       "      <td>0.080017</td>\n",
       "      <td>-0.136519</td>\n",
       "    </tr>\n",
       "    <tr>\n",
       "      <th>d1_heartrate_max</th>\n",
       "      <td>-0.158100</td>\n",
       "      <td>0.176458</td>\n",
       "      <td>-0.081069</td>\n",
       "      <td>1.000000</td>\n",
       "      <td>0.550525</td>\n",
       "      <td>0.094915</td>\n",
       "      <td>-0.150337</td>\n",
       "      <td>0.068540</td>\n",
       "      <td>0.007558</td>\n",
       "      <td>-0.228894</td>\n",
       "      <td>...</td>\n",
       "      <td>-0.079152</td>\n",
       "      <td>0.264757</td>\n",
       "      <td>0.188423</td>\n",
       "      <td>-0.059938</td>\n",
       "      <td>-0.151071</td>\n",
       "      <td>0.852595</td>\n",
       "      <td>0.104529</td>\n",
       "      <td>-0.029311</td>\n",
       "      <td>0.083214</td>\n",
       "      <td>0.161908</td>\n",
       "    </tr>\n",
       "    <tr>\n",
       "      <th>d1_heartrate_min</th>\n",
       "      <td>-0.016801</td>\n",
       "      <td>-0.027199</td>\n",
       "      <td>0.115692</td>\n",
       "      <td>0.550525</td>\n",
       "      <td>1.000000</td>\n",
       "      <td>-0.071458</td>\n",
       "      <td>0.060305</td>\n",
       "      <td>0.242667</td>\n",
       "      <td>-0.141724</td>\n",
       "      <td>-0.004212</td>\n",
       "      <td>...</td>\n",
       "      <td>-0.001960</td>\n",
       "      <td>0.159744</td>\n",
       "      <td>0.226514</td>\n",
       "      <td>-0.121812</td>\n",
       "      <td>-0.064894</td>\n",
       "      <td>0.606681</td>\n",
       "      <td>0.011882</td>\n",
       "      <td>-0.014101</td>\n",
       "      <td>0.168925</td>\n",
       "      <td>0.032118</td>\n",
       "    </tr>\n",
       "    <tr>\n",
       "      <th>d1_mbp_max</th>\n",
       "      <td>-0.009172</td>\n",
       "      <td>0.826313</td>\n",
       "      <td>0.250742</td>\n",
       "      <td>0.094915</td>\n",
       "      <td>-0.071458</td>\n",
       "      <td>1.000000</td>\n",
       "      <td>0.286184</td>\n",
       "      <td>-0.044862</td>\n",
       "      <td>0.740401</td>\n",
       "      <td>0.254180</td>\n",
       "      <td>...</td>\n",
       "      <td>0.462410</td>\n",
       "      <td>0.123607</td>\n",
       "      <td>0.028139</td>\n",
       "      <td>0.540906</td>\n",
       "      <td>0.403164</td>\n",
       "      <td>0.062416</td>\n",
       "      <td>-0.057906</td>\n",
       "      <td>0.487436</td>\n",
       "      <td>0.012319</td>\n",
       "      <td>-0.039664</td>\n",
       "    </tr>\n",
       "    <tr>\n",
       "      <th>d1_mbp_min</th>\n",
       "      <td>0.135446</td>\n",
       "      <td>0.139542</td>\n",
       "      <td>0.875331</td>\n",
       "      <td>-0.150337</td>\n",
       "      <td>0.060305</td>\n",
       "      <td>0.286184</td>\n",
       "      <td>1.000000</td>\n",
       "      <td>0.125034</td>\n",
       "      <td>0.258598</td>\n",
       "      <td>0.790573</td>\n",
       "      <td>...</td>\n",
       "      <td>0.642015</td>\n",
       "      <td>-0.045484</td>\n",
       "      <td>0.029548</td>\n",
       "      <td>0.373866</td>\n",
       "      <td>0.527022</td>\n",
       "      <td>-0.065775</td>\n",
       "      <td>-0.145585</td>\n",
       "      <td>0.532311</td>\n",
       "      <td>0.084044</td>\n",
       "      <td>-0.174435</td>\n",
       "    </tr>\n",
       "    <tr>\n",
       "      <th>d1_resprate_min</th>\n",
       "      <td>0.037313</td>\n",
       "      <td>-0.051391</td>\n",
       "      <td>0.115479</td>\n",
       "      <td>0.068540</td>\n",
       "      <td>0.242667</td>\n",
       "      <td>-0.044862</td>\n",
       "      <td>0.125034</td>\n",
       "      <td>1.000000</td>\n",
       "      <td>-0.043349</td>\n",
       "      <td>0.126249</td>\n",
       "      <td>...</td>\n",
       "      <td>0.081512</td>\n",
       "      <td>0.308906</td>\n",
       "      <td>0.590620</td>\n",
       "      <td>-0.021397</td>\n",
       "      <td>0.079001</td>\n",
       "      <td>0.142290</td>\n",
       "      <td>-0.074182</td>\n",
       "      <td>0.032901</td>\n",
       "      <td>0.118174</td>\n",
       "      <td>-0.061322</td>\n",
       "    </tr>\n",
       "    <tr>\n",
       "      <th>d1_sysbp_max</th>\n",
       "      <td>-0.018202</td>\n",
       "      <td>0.585959</td>\n",
       "      <td>0.155180</td>\n",
       "      <td>0.007558</td>\n",
       "      <td>-0.141724</td>\n",
       "      <td>0.740401</td>\n",
       "      <td>0.258598</td>\n",
       "      <td>-0.043349</td>\n",
       "      <td>1.000000</td>\n",
       "      <td>0.361491</td>\n",
       "      <td>...</td>\n",
       "      <td>0.418009</td>\n",
       "      <td>0.072345</td>\n",
       "      <td>0.005429</td>\n",
       "      <td>0.693431</td>\n",
       "      <td>0.523316</td>\n",
       "      <td>-0.030000</td>\n",
       "      <td>-0.037428</td>\n",
       "      <td>0.435874</td>\n",
       "      <td>0.023270</td>\n",
       "      <td>-0.018233</td>\n",
       "    </tr>\n",
       "    <tr>\n",
       "      <th>d1_sysbp_min</th>\n",
       "      <td>0.172461</td>\n",
       "      <td>0.111693</td>\n",
       "      <td>0.650670</td>\n",
       "      <td>-0.228894</td>\n",
       "      <td>-0.004212</td>\n",
       "      <td>0.254180</td>\n",
       "      <td>0.790573</td>\n",
       "      <td>0.126249</td>\n",
       "      <td>0.361491</td>\n",
       "      <td>1.000000</td>\n",
       "      <td>...</td>\n",
       "      <td>0.565936</td>\n",
       "      <td>-0.088807</td>\n",
       "      <td>0.016400</td>\n",
       "      <td>0.480801</td>\n",
       "      <td>0.654893</td>\n",
       "      <td>-0.146189</td>\n",
       "      <td>-0.173850</td>\n",
       "      <td>0.461744</td>\n",
       "      <td>0.107404</td>\n",
       "      <td>-0.207091</td>\n",
       "    </tr>\n",
       "    <tr>\n",
       "      <th>d1_temp_min</th>\n",
       "      <td>0.090756</td>\n",
       "      <td>0.002803</td>\n",
       "      <td>0.097097</td>\n",
       "      <td>0.060800</td>\n",
       "      <td>0.168904</td>\n",
       "      <td>0.001571</td>\n",
       "      <td>0.102884</td>\n",
       "      <td>0.132328</td>\n",
       "      <td>0.013291</td>\n",
       "      <td>0.127386</td>\n",
       "      <td>...</td>\n",
       "      <td>0.077532</td>\n",
       "      <td>0.056688</td>\n",
       "      <td>0.110457</td>\n",
       "      <td>0.038281</td>\n",
       "      <td>0.101699</td>\n",
       "      <td>0.094855</td>\n",
       "      <td>-0.106840</td>\n",
       "      <td>0.037532</td>\n",
       "      <td>0.856924</td>\n",
       "      <td>-0.130992</td>\n",
       "    </tr>\n",
       "    <tr>\n",
       "      <th>h1_diasbp_max</th>\n",
       "      <td>-0.012824</td>\n",
       "      <td>0.609764</td>\n",
       "      <td>0.383814</td>\n",
       "      <td>0.105574</td>\n",
       "      <td>0.002726</td>\n",
       "      <td>0.567533</td>\n",
       "      <td>0.339594</td>\n",
       "      <td>-0.016652</td>\n",
       "      <td>0.433809</td>\n",
       "      <td>0.260565</td>\n",
       "      <td>...</td>\n",
       "      <td>0.607920</td>\n",
       "      <td>0.110581</td>\n",
       "      <td>-0.000171</td>\n",
       "      <td>0.632958</td>\n",
       "      <td>0.446002</td>\n",
       "      <td>0.093088</td>\n",
       "      <td>-0.040628</td>\n",
       "      <td>0.389114</td>\n",
       "      <td>0.030650</td>\n",
       "      <td>-0.034939</td>\n",
       "    </tr>\n",
       "    <tr>\n",
       "      <th>h1_diasbp_min</th>\n",
       "      <td>0.090762</td>\n",
       "      <td>0.374982</td>\n",
       "      <td>0.628446</td>\n",
       "      <td>-0.007239</td>\n",
       "      <td>0.060838</td>\n",
       "      <td>0.402771</td>\n",
       "      <td>0.569418</td>\n",
       "      <td>0.082206</td>\n",
       "      <td>0.301720</td>\n",
       "      <td>0.461367</td>\n",
       "      <td>...</td>\n",
       "      <td>0.882091</td>\n",
       "      <td>-0.024567</td>\n",
       "      <td>0.099457</td>\n",
       "      <td>0.465034</td>\n",
       "      <td>0.680509</td>\n",
       "      <td>0.044999</td>\n",
       "      <td>-0.113127</td>\n",
       "      <td>0.433398</td>\n",
       "      <td>0.071910</td>\n",
       "      <td>-0.133154</td>\n",
       "    </tr>\n",
       "    <tr>\n",
       "      <th>h1_heartrate_max</th>\n",
       "      <td>-0.105937</td>\n",
       "      <td>0.123098</td>\n",
       "      <td>-0.010357</td>\n",
       "      <td>0.788672</td>\n",
       "      <td>0.622956</td>\n",
       "      <td>0.046383</td>\n",
       "      <td>-0.078431</td>\n",
       "      <td>0.132575</td>\n",
       "      <td>-0.044464</td>\n",
       "      <td>-0.159573</td>\n",
       "      <td>...</td>\n",
       "      <td>-0.033970</td>\n",
       "      <td>0.331267</td>\n",
       "      <td>0.242316</td>\n",
       "      <td>-0.025699</td>\n",
       "      <td>-0.116809</td>\n",
       "      <td>0.741193</td>\n",
       "      <td>0.068560</td>\n",
       "      <td>-0.024786</td>\n",
       "      <td>0.135962</td>\n",
       "      <td>0.112015</td>\n",
       "    </tr>\n",
       "    <tr>\n",
       "      <th>h1_heartrate_min</th>\n",
       "      <td>-0.059401</td>\n",
       "      <td>0.063477</td>\n",
       "      <td>0.045012</td>\n",
       "      <td>0.696660</td>\n",
       "      <td>0.729707</td>\n",
       "      <td>-0.007647</td>\n",
       "      <td>-0.021954</td>\n",
       "      <td>0.207677</td>\n",
       "      <td>-0.091069</td>\n",
       "      <td>-0.096606</td>\n",
       "      <td>...</td>\n",
       "      <td>0.027374</td>\n",
       "      <td>0.260329</td>\n",
       "      <td>0.327689</td>\n",
       "      <td>-0.085828</td>\n",
       "      <td>-0.046322</td>\n",
       "      <td>0.704668</td>\n",
       "      <td>0.037711</td>\n",
       "      <td>-0.026239</td>\n",
       "      <td>0.159549</td>\n",
       "      <td>0.066023</td>\n",
       "    </tr>\n",
       "    <tr>\n",
       "      <th>h1_mbp_max</th>\n",
       "      <td>0.003379</td>\n",
       "      <td>0.501804</td>\n",
       "      <td>0.415645</td>\n",
       "      <td>0.013753</td>\n",
       "      <td>-0.052692</td>\n",
       "      <td>0.637249</td>\n",
       "      <td>0.452348</td>\n",
       "      <td>-0.015945</td>\n",
       "      <td>0.538093</td>\n",
       "      <td>0.396307</td>\n",
       "      <td>...</td>\n",
       "      <td>0.721652</td>\n",
       "      <td>0.101773</td>\n",
       "      <td>-0.006194</td>\n",
       "      <td>0.785481</td>\n",
       "      <td>0.609476</td>\n",
       "      <td>0.016752</td>\n",
       "      <td>-0.047485</td>\n",
       "      <td>0.471635</td>\n",
       "      <td>0.028012</td>\n",
       "      <td>-0.036976</td>\n",
       "    </tr>\n",
       "    <tr>\n",
       "      <th>h1_mbp_min</th>\n",
       "      <td>0.115159</td>\n",
       "      <td>0.333586</td>\n",
       "      <td>0.589404</td>\n",
       "      <td>-0.079152</td>\n",
       "      <td>-0.001960</td>\n",
       "      <td>0.462410</td>\n",
       "      <td>0.642015</td>\n",
       "      <td>0.081512</td>\n",
       "      <td>0.418009</td>\n",
       "      <td>0.565936</td>\n",
       "      <td>...</td>\n",
       "      <td>1.000000</td>\n",
       "      <td>-0.006254</td>\n",
       "      <td>0.091601</td>\n",
       "      <td>0.612623</td>\n",
       "      <td>0.817754</td>\n",
       "      <td>-0.022309</td>\n",
       "      <td>-0.142046</td>\n",
       "      <td>0.492108</td>\n",
       "      <td>0.070038</td>\n",
       "      <td>-0.161623</td>\n",
       "    </tr>\n",
       "    <tr>\n",
       "      <th>h1_resprate_max</th>\n",
       "      <td>0.004088</td>\n",
       "      <td>0.108730</td>\n",
       "      <td>-0.054965</td>\n",
       "      <td>0.264757</td>\n",
       "      <td>0.159744</td>\n",
       "      <td>0.123607</td>\n",
       "      <td>-0.045484</td>\n",
       "      <td>0.308906</td>\n",
       "      <td>0.072345</td>\n",
       "      <td>-0.088807</td>\n",
       "      <td>...</td>\n",
       "      <td>-0.006254</td>\n",
       "      <td>1.000000</td>\n",
       "      <td>0.579331</td>\n",
       "      <td>0.063889</td>\n",
       "      <td>-0.043006</td>\n",
       "      <td>0.239693</td>\n",
       "      <td>-0.049135</td>\n",
       "      <td>0.019497</td>\n",
       "      <td>0.075580</td>\n",
       "      <td>0.005850</td>\n",
       "    </tr>\n",
       "    <tr>\n",
       "      <th>h1_resprate_min</th>\n",
       "      <td>0.018805</td>\n",
       "      <td>0.028031</td>\n",
       "      <td>0.029526</td>\n",
       "      <td>0.188423</td>\n",
       "      <td>0.226514</td>\n",
       "      <td>0.028139</td>\n",
       "      <td>0.029548</td>\n",
       "      <td>0.590620</td>\n",
       "      <td>0.005429</td>\n",
       "      <td>0.016400</td>\n",
       "      <td>...</td>\n",
       "      <td>0.091601</td>\n",
       "      <td>0.579331</td>\n",
       "      <td>1.000000</td>\n",
       "      <td>-0.023762</td>\n",
       "      <td>0.082457</td>\n",
       "      <td>0.223895</td>\n",
       "      <td>-0.074952</td>\n",
       "      <td>0.016662</td>\n",
       "      <td>0.107461</td>\n",
       "      <td>-0.031775</td>\n",
       "    </tr>\n",
       "    <tr>\n",
       "      <th>h1_sysbp_max</th>\n",
       "      <td>0.018428</td>\n",
       "      <td>0.413791</td>\n",
       "      <td>0.279538</td>\n",
       "      <td>-0.059938</td>\n",
       "      <td>-0.121812</td>\n",
       "      <td>0.540906</td>\n",
       "      <td>0.373866</td>\n",
       "      <td>-0.021397</td>\n",
       "      <td>0.693431</td>\n",
       "      <td>0.480801</td>\n",
       "      <td>...</td>\n",
       "      <td>0.612623</td>\n",
       "      <td>0.063889</td>\n",
       "      <td>-0.023762</td>\n",
       "      <td>1.000000</td>\n",
       "      <td>0.743895</td>\n",
       "      <td>-0.067154</td>\n",
       "      <td>-0.051916</td>\n",
       "      <td>0.420803</td>\n",
       "      <td>0.045783</td>\n",
       "      <td>-0.042067</td>\n",
       "    </tr>\n",
       "    <tr>\n",
       "      <th>h1_sysbp_min</th>\n",
       "      <td>0.137519</td>\n",
       "      <td>0.275060</td>\n",
       "      <td>0.429437</td>\n",
       "      <td>-0.151071</td>\n",
       "      <td>-0.064894</td>\n",
       "      <td>0.403164</td>\n",
       "      <td>0.527022</td>\n",
       "      <td>0.079001</td>\n",
       "      <td>0.523316</td>\n",
       "      <td>0.654893</td>\n",
       "      <td>...</td>\n",
       "      <td>0.817754</td>\n",
       "      <td>-0.043006</td>\n",
       "      <td>0.082457</td>\n",
       "      <td>0.743895</td>\n",
       "      <td>1.000000</td>\n",
       "      <td>-0.099292</td>\n",
       "      <td>-0.154772</td>\n",
       "      <td>0.434477</td>\n",
       "      <td>0.093864</td>\n",
       "      <td>-0.174209</td>\n",
       "    </tr>\n",
       "    <tr>\n",
       "      <th>heart_rate_apache</th>\n",
       "      <td>-0.119817</td>\n",
       "      <td>0.123766</td>\n",
       "      <td>-0.004455</td>\n",
       "      <td>0.852595</td>\n",
       "      <td>0.606681</td>\n",
       "      <td>0.062416</td>\n",
       "      <td>-0.065775</td>\n",
       "      <td>0.142290</td>\n",
       "      <td>-0.030000</td>\n",
       "      <td>-0.146189</td>\n",
       "      <td>...</td>\n",
       "      <td>-0.022309</td>\n",
       "      <td>0.239693</td>\n",
       "      <td>0.223895</td>\n",
       "      <td>-0.067154</td>\n",
       "      <td>-0.099292</td>\n",
       "      <td>1.000000</td>\n",
       "      <td>0.075080</td>\n",
       "      <td>0.004470</td>\n",
       "      <td>0.101224</td>\n",
       "      <td>0.113190</td>\n",
       "    </tr>\n",
       "    <tr>\n",
       "      <th>intubated_apache</th>\n",
       "      <td>-0.455115</td>\n",
       "      <td>-0.054468</td>\n",
       "      <td>-0.105187</td>\n",
       "      <td>0.104529</td>\n",
       "      <td>0.011882</td>\n",
       "      <td>-0.057906</td>\n",
       "      <td>-0.145585</td>\n",
       "      <td>-0.074182</td>\n",
       "      <td>-0.037428</td>\n",
       "      <td>-0.173850</td>\n",
       "      <td>...</td>\n",
       "      <td>-0.142046</td>\n",
       "      <td>-0.049135</td>\n",
       "      <td>-0.074952</td>\n",
       "      <td>-0.051916</td>\n",
       "      <td>-0.154772</td>\n",
       "      <td>0.075080</td>\n",
       "      <td>1.000000</td>\n",
       "      <td>-0.066466</td>\n",
       "      <td>-0.104437</td>\n",
       "      <td>0.609664</td>\n",
       "    </tr>\n",
       "    <tr>\n",
       "      <th>map_apache</th>\n",
       "      <td>0.038859</td>\n",
       "      <td>0.364922</td>\n",
       "      <td>0.474764</td>\n",
       "      <td>-0.029311</td>\n",
       "      <td>-0.014101</td>\n",
       "      <td>0.487436</td>\n",
       "      <td>0.532311</td>\n",
       "      <td>0.032901</td>\n",
       "      <td>0.435874</td>\n",
       "      <td>0.461744</td>\n",
       "      <td>...</td>\n",
       "      <td>0.492108</td>\n",
       "      <td>0.019497</td>\n",
       "      <td>0.016662</td>\n",
       "      <td>0.420803</td>\n",
       "      <td>0.434477</td>\n",
       "      <td>0.004470</td>\n",
       "      <td>-0.066466</td>\n",
       "      <td>1.000000</td>\n",
       "      <td>0.031454</td>\n",
       "      <td>-0.074520</td>\n",
       "    </tr>\n",
       "    <tr>\n",
       "      <th>temp_apache</th>\n",
       "      <td>0.084065</td>\n",
       "      <td>0.013839</td>\n",
       "      <td>0.080017</td>\n",
       "      <td>0.083214</td>\n",
       "      <td>0.168925</td>\n",
       "      <td>0.012319</td>\n",
       "      <td>0.084044</td>\n",
       "      <td>0.118174</td>\n",
       "      <td>0.023270</td>\n",
       "      <td>0.107404</td>\n",
       "      <td>...</td>\n",
       "      <td>0.070038</td>\n",
       "      <td>0.075580</td>\n",
       "      <td>0.107461</td>\n",
       "      <td>0.045783</td>\n",
       "      <td>0.093864</td>\n",
       "      <td>0.101224</td>\n",
       "      <td>-0.104437</td>\n",
       "      <td>0.031454</td>\n",
       "      <td>1.000000</td>\n",
       "      <td>-0.121848</td>\n",
       "    </tr>\n",
       "    <tr>\n",
       "      <th>ventilated_apache</th>\n",
       "      <td>-0.560644</td>\n",
       "      <td>-0.042832</td>\n",
       "      <td>-0.136519</td>\n",
       "      <td>0.161908</td>\n",
       "      <td>0.032118</td>\n",
       "      <td>-0.039664</td>\n",
       "      <td>-0.174435</td>\n",
       "      <td>-0.061322</td>\n",
       "      <td>-0.018233</td>\n",
       "      <td>-0.207091</td>\n",
       "      <td>...</td>\n",
       "      <td>-0.161623</td>\n",
       "      <td>0.005850</td>\n",
       "      <td>-0.031775</td>\n",
       "      <td>-0.042067</td>\n",
       "      <td>-0.174209</td>\n",
       "      <td>0.113190</td>\n",
       "      <td>0.609664</td>\n",
       "      <td>-0.074520</td>\n",
       "      <td>-0.121848</td>\n",
       "      <td>1.000000</td>\n",
       "    </tr>\n",
       "  </tbody>\n",
       "</table>\n",
       "<p>26 rows × 26 columns</p>\n",
       "</div>"
      ],
      "text/plain": [
       "                   GCS_buckets  d1_diasbp_max  d1_diasbp_min  \\\n",
       "GCS_buckets           1.000000      -0.017135       0.104490   \n",
       "d1_diasbp_max        -0.017135       1.000000       0.164635   \n",
       "d1_diasbp_min         0.104490       0.164635       1.000000   \n",
       "d1_heartrate_max     -0.158100       0.176458      -0.081069   \n",
       "d1_heartrate_min     -0.016801      -0.027199       0.115692   \n",
       "d1_mbp_max           -0.009172       0.826313       0.250742   \n",
       "d1_mbp_min            0.135446       0.139542       0.875331   \n",
       "d1_resprate_min       0.037313      -0.051391       0.115479   \n",
       "d1_sysbp_max         -0.018202       0.585959       0.155180   \n",
       "d1_sysbp_min          0.172461       0.111693       0.650670   \n",
       "d1_temp_min           0.090756       0.002803       0.097097   \n",
       "h1_diasbp_max        -0.012824       0.609764       0.383814   \n",
       "h1_diasbp_min         0.090762       0.374982       0.628446   \n",
       "h1_heartrate_max     -0.105937       0.123098      -0.010357   \n",
       "h1_heartrate_min     -0.059401       0.063477       0.045012   \n",
       "h1_mbp_max            0.003379       0.501804       0.415645   \n",
       "h1_mbp_min            0.115159       0.333586       0.589404   \n",
       "h1_resprate_max       0.004088       0.108730      -0.054965   \n",
       "h1_resprate_min       0.018805       0.028031       0.029526   \n",
       "h1_sysbp_max          0.018428       0.413791       0.279538   \n",
       "h1_sysbp_min          0.137519       0.275060       0.429437   \n",
       "heart_rate_apache    -0.119817       0.123766      -0.004455   \n",
       "intubated_apache     -0.455115      -0.054468      -0.105187   \n",
       "map_apache            0.038859       0.364922       0.474764   \n",
       "temp_apache           0.084065       0.013839       0.080017   \n",
       "ventilated_apache    -0.560644      -0.042832      -0.136519   \n",
       "\n",
       "                   d1_heartrate_max  d1_heartrate_min  d1_mbp_max  d1_mbp_min  \\\n",
       "GCS_buckets               -0.158100         -0.016801   -0.009172    0.135446   \n",
       "d1_diasbp_max              0.176458         -0.027199    0.826313    0.139542   \n",
       "d1_diasbp_min             -0.081069          0.115692    0.250742    0.875331   \n",
       "d1_heartrate_max           1.000000          0.550525    0.094915   -0.150337   \n",
       "d1_heartrate_min           0.550525          1.000000   -0.071458    0.060305   \n",
       "d1_mbp_max                 0.094915         -0.071458    1.000000    0.286184   \n",
       "d1_mbp_min                -0.150337          0.060305    0.286184    1.000000   \n",
       "d1_resprate_min            0.068540          0.242667   -0.044862    0.125034   \n",
       "d1_sysbp_max               0.007558         -0.141724    0.740401    0.258598   \n",
       "d1_sysbp_min              -0.228894         -0.004212    0.254180    0.790573   \n",
       "d1_temp_min                0.060800          0.168904    0.001571    0.102884   \n",
       "h1_diasbp_max              0.105574          0.002726    0.567533    0.339594   \n",
       "h1_diasbp_min             -0.007239          0.060838    0.402771    0.569418   \n",
       "h1_heartrate_max           0.788672          0.622956    0.046383   -0.078431   \n",
       "h1_heartrate_min           0.696660          0.729707   -0.007647   -0.021954   \n",
       "h1_mbp_max                 0.013753         -0.052692    0.637249    0.452348   \n",
       "h1_mbp_min                -0.079152         -0.001960    0.462410    0.642015   \n",
       "h1_resprate_max            0.264757          0.159744    0.123607   -0.045484   \n",
       "h1_resprate_min            0.188423          0.226514    0.028139    0.029548   \n",
       "h1_sysbp_max              -0.059938         -0.121812    0.540906    0.373866   \n",
       "h1_sysbp_min              -0.151071         -0.064894    0.403164    0.527022   \n",
       "heart_rate_apache          0.852595          0.606681    0.062416   -0.065775   \n",
       "intubated_apache           0.104529          0.011882   -0.057906   -0.145585   \n",
       "map_apache                -0.029311         -0.014101    0.487436    0.532311   \n",
       "temp_apache                0.083214          0.168925    0.012319    0.084044   \n",
       "ventilated_apache          0.161908          0.032118   -0.039664   -0.174435   \n",
       "\n",
       "                   d1_resprate_min  d1_sysbp_max  d1_sysbp_min  ...  \\\n",
       "GCS_buckets               0.037313     -0.018202      0.172461  ...   \n",
       "d1_diasbp_max            -0.051391      0.585959      0.111693  ...   \n",
       "d1_diasbp_min             0.115479      0.155180      0.650670  ...   \n",
       "d1_heartrate_max          0.068540      0.007558     -0.228894  ...   \n",
       "d1_heartrate_min          0.242667     -0.141724     -0.004212  ...   \n",
       "d1_mbp_max               -0.044862      0.740401      0.254180  ...   \n",
       "d1_mbp_min                0.125034      0.258598      0.790573  ...   \n",
       "d1_resprate_min           1.000000     -0.043349      0.126249  ...   \n",
       "d1_sysbp_max             -0.043349      1.000000      0.361491  ...   \n",
       "d1_sysbp_min              0.126249      0.361491      1.000000  ...   \n",
       "d1_temp_min               0.132328      0.013291      0.127386  ...   \n",
       "h1_diasbp_max            -0.016652      0.433809      0.260565  ...   \n",
       "h1_diasbp_min             0.082206      0.301720      0.461367  ...   \n",
       "h1_heartrate_max          0.132575     -0.044464     -0.159573  ...   \n",
       "h1_heartrate_min          0.207677     -0.091069     -0.096606  ...   \n",
       "h1_mbp_max               -0.015945      0.538093      0.396307  ...   \n",
       "h1_mbp_min                0.081512      0.418009      0.565936  ...   \n",
       "h1_resprate_max           0.308906      0.072345     -0.088807  ...   \n",
       "h1_resprate_min           0.590620      0.005429      0.016400  ...   \n",
       "h1_sysbp_max             -0.021397      0.693431      0.480801  ...   \n",
       "h1_sysbp_min              0.079001      0.523316      0.654893  ...   \n",
       "heart_rate_apache         0.142290     -0.030000     -0.146189  ...   \n",
       "intubated_apache         -0.074182     -0.037428     -0.173850  ...   \n",
       "map_apache                0.032901      0.435874      0.461744  ...   \n",
       "temp_apache               0.118174      0.023270      0.107404  ...   \n",
       "ventilated_apache        -0.061322     -0.018233     -0.207091  ...   \n",
       "\n",
       "                   h1_mbp_min  h1_resprate_max  h1_resprate_min  h1_sysbp_max  \\\n",
       "GCS_buckets          0.115159         0.004088         0.018805      0.018428   \n",
       "d1_diasbp_max        0.333586         0.108730         0.028031      0.413791   \n",
       "d1_diasbp_min        0.589404        -0.054965         0.029526      0.279538   \n",
       "d1_heartrate_max    -0.079152         0.264757         0.188423     -0.059938   \n",
       "d1_heartrate_min    -0.001960         0.159744         0.226514     -0.121812   \n",
       "d1_mbp_max           0.462410         0.123607         0.028139      0.540906   \n",
       "d1_mbp_min           0.642015        -0.045484         0.029548      0.373866   \n",
       "d1_resprate_min      0.081512         0.308906         0.590620     -0.021397   \n",
       "d1_sysbp_max         0.418009         0.072345         0.005429      0.693431   \n",
       "d1_sysbp_min         0.565936        -0.088807         0.016400      0.480801   \n",
       "d1_temp_min          0.077532         0.056688         0.110457      0.038281   \n",
       "h1_diasbp_max        0.607920         0.110581        -0.000171      0.632958   \n",
       "h1_diasbp_min        0.882091        -0.024567         0.099457      0.465034   \n",
       "h1_heartrate_max    -0.033970         0.331267         0.242316     -0.025699   \n",
       "h1_heartrate_min     0.027374         0.260329         0.327689     -0.085828   \n",
       "h1_mbp_max           0.721652         0.101773        -0.006194      0.785481   \n",
       "h1_mbp_min           1.000000        -0.006254         0.091601      0.612623   \n",
       "h1_resprate_max     -0.006254         1.000000         0.579331      0.063889   \n",
       "h1_resprate_min      0.091601         0.579331         1.000000     -0.023762   \n",
       "h1_sysbp_max         0.612623         0.063889        -0.023762      1.000000   \n",
       "h1_sysbp_min         0.817754        -0.043006         0.082457      0.743895   \n",
       "heart_rate_apache   -0.022309         0.239693         0.223895     -0.067154   \n",
       "intubated_apache    -0.142046        -0.049135        -0.074952     -0.051916   \n",
       "map_apache           0.492108         0.019497         0.016662      0.420803   \n",
       "temp_apache          0.070038         0.075580         0.107461      0.045783   \n",
       "ventilated_apache   -0.161623         0.005850        -0.031775     -0.042067   \n",
       "\n",
       "                   h1_sysbp_min  heart_rate_apache  intubated_apache  \\\n",
       "GCS_buckets            0.137519          -0.119817         -0.455115   \n",
       "d1_diasbp_max          0.275060           0.123766         -0.054468   \n",
       "d1_diasbp_min          0.429437          -0.004455         -0.105187   \n",
       "d1_heartrate_max      -0.151071           0.852595          0.104529   \n",
       "d1_heartrate_min      -0.064894           0.606681          0.011882   \n",
       "d1_mbp_max             0.403164           0.062416         -0.057906   \n",
       "d1_mbp_min             0.527022          -0.065775         -0.145585   \n",
       "d1_resprate_min        0.079001           0.142290         -0.074182   \n",
       "d1_sysbp_max           0.523316          -0.030000         -0.037428   \n",
       "d1_sysbp_min           0.654893          -0.146189         -0.173850   \n",
       "d1_temp_min            0.101699           0.094855         -0.106840   \n",
       "h1_diasbp_max          0.446002           0.093088         -0.040628   \n",
       "h1_diasbp_min          0.680509           0.044999         -0.113127   \n",
       "h1_heartrate_max      -0.116809           0.741193          0.068560   \n",
       "h1_heartrate_min      -0.046322           0.704668          0.037711   \n",
       "h1_mbp_max             0.609476           0.016752         -0.047485   \n",
       "h1_mbp_min             0.817754          -0.022309         -0.142046   \n",
       "h1_resprate_max       -0.043006           0.239693         -0.049135   \n",
       "h1_resprate_min        0.082457           0.223895         -0.074952   \n",
       "h1_sysbp_max           0.743895          -0.067154         -0.051916   \n",
       "h1_sysbp_min           1.000000          -0.099292         -0.154772   \n",
       "heart_rate_apache     -0.099292           1.000000          0.075080   \n",
       "intubated_apache      -0.154772           0.075080          1.000000   \n",
       "map_apache             0.434477           0.004470         -0.066466   \n",
       "temp_apache            0.093864           0.101224         -0.104437   \n",
       "ventilated_apache     -0.174209           0.113190          0.609664   \n",
       "\n",
       "                   map_apache  temp_apache  ventilated_apache  \n",
       "GCS_buckets          0.038859     0.084065          -0.560644  \n",
       "d1_diasbp_max        0.364922     0.013839          -0.042832  \n",
       "d1_diasbp_min        0.474764     0.080017          -0.136519  \n",
       "d1_heartrate_max    -0.029311     0.083214           0.161908  \n",
       "d1_heartrate_min    -0.014101     0.168925           0.032118  \n",
       "d1_mbp_max           0.487436     0.012319          -0.039664  \n",
       "d1_mbp_min           0.532311     0.084044          -0.174435  \n",
       "d1_resprate_min      0.032901     0.118174          -0.061322  \n",
       "d1_sysbp_max         0.435874     0.023270          -0.018233  \n",
       "d1_sysbp_min         0.461744     0.107404          -0.207091  \n",
       "d1_temp_min          0.037532     0.856924          -0.130992  \n",
       "h1_diasbp_max        0.389114     0.030650          -0.034939  \n",
       "h1_diasbp_min        0.433398     0.071910          -0.133154  \n",
       "h1_heartrate_max    -0.024786     0.135962           0.112015  \n",
       "h1_heartrate_min    -0.026239     0.159549           0.066023  \n",
       "h1_mbp_max           0.471635     0.028012          -0.036976  \n",
       "h1_mbp_min           0.492108     0.070038          -0.161623  \n",
       "h1_resprate_max      0.019497     0.075580           0.005850  \n",
       "h1_resprate_min      0.016662     0.107461          -0.031775  \n",
       "h1_sysbp_max         0.420803     0.045783          -0.042067  \n",
       "h1_sysbp_min         0.434477     0.093864          -0.174209  \n",
       "heart_rate_apache    0.004470     0.101224           0.113190  \n",
       "intubated_apache    -0.066466    -0.104437           0.609664  \n",
       "map_apache           1.000000     0.031454          -0.074520  \n",
       "temp_apache          0.031454     1.000000          -0.121848  \n",
       "ventilated_apache   -0.074520    -0.121848           1.000000  \n",
       "\n",
       "[26 rows x 26 columns]"
      ]
     },
     "execution_count": 43,
     "metadata": {},
     "output_type": "execute_result"
    }
   ],
   "source": [
    "col_names = df_important_vars.columns\n",
    "\n",
    "corr_df = pd.DataFrame(corr_mat)\n",
    "corr_df.index, corr_df.columns = col_names, col_names\n",
    "\n",
    "corr_df"
   ]
  },
  {
   "cell_type": "code",
   "execution_count": 44,
   "metadata": {},
   "outputs": [
    {
     "data": {
      "text/plain": [
       "h1_mbp_min         h1_diasbp_min       0.882091\n",
       "h1_heartrate_max   h1_heartrate_min    0.876911\n",
       "d1_diasbp_min      d1_mbp_min          0.875331\n",
       "d1_temp_min        temp_apache         0.856924\n",
       "h1_diasbp_max      h1_mbp_max          0.853943\n",
       "                                         ...   \n",
       "ventilated_apache  d1_sysbp_min       -0.207091\n",
       "d1_sysbp_min       d1_heartrate_max   -0.228894\n",
       "intubated_apache   GCS_buckets        -0.455115\n",
       "ventilated_apache  GCS_buckets        -0.560644\n",
       "GCS_buckets        GCS_buckets              NaN\n",
       "Length: 326, dtype: float64"
      ]
     },
     "execution_count": 44,
     "metadata": {},
     "output_type": "execute_result"
    }
   ],
   "source": [
    "corr_df = corr_df[corr_df < 1].unstack().transpose()\\\n",
    "        .sort_values( ascending=False)\\\n",
    "        .drop_duplicates()\n",
    "\n",
    "corr_df "
   ]
  },
  {
   "cell_type": "code",
   "execution_count": 45,
   "metadata": {},
   "outputs": [
    {
     "data": {
      "text/plain": [
       "h1_mbp_min         h1_diasbp_min        0.882091\n",
       "h1_heartrate_max   h1_heartrate_min     0.876911\n",
       "d1_diasbp_min      d1_mbp_min           0.875331\n",
       "d1_temp_min        temp_apache          0.856924\n",
       "h1_diasbp_max      h1_mbp_max           0.853943\n",
       "d1_heartrate_max   heart_rate_apache    0.852595\n",
       "d1_diasbp_max      d1_mbp_max           0.826313\n",
       "h1_mbp_min         h1_sysbp_min         0.817754\n",
       "d1_mbp_min         d1_sysbp_min         0.790573\n",
       "h1_heartrate_max   d1_heartrate_max     0.788672\n",
       "h1_sysbp_max       h1_mbp_max           0.785481\n",
       "                   h1_sysbp_min         0.743895\n",
       "heart_rate_apache  h1_heartrate_max     0.741193\n",
       "d1_mbp_max         d1_sysbp_max         0.740401\n",
       "d1_heartrate_min   h1_heartrate_min     0.729707\n",
       "h1_mbp_max         h1_mbp_min           0.721652\n",
       "h1_heartrate_min   heart_rate_apache    0.704668\n",
       "dtype: float64"
      ]
     },
     "execution_count": 45,
     "metadata": {},
     "output_type": "execute_result"
    }
   ],
   "source": [
    "corr_df_final = corr_df[abs(corr_df) >= 0.7]\n",
    "\n",
    "corr_df_final"
   ]
  },
  {
   "cell_type": "markdown",
   "metadata": {},
   "source": [
    "#### Highly correlated variables to remove\n",
    "\n",
    "##### h1_diasbp_min\n",
    "##### h1_heartrate_min\n",
    "##### d1_mbp_min\n",
    "##### temp_apache\n",
    "##### h1_mbp_max\n",
    "##### heart_rate_apache\n",
    "##### d1_mbp_max\n",
    "##### h1_sysbp_min\n",
    "##### d1_heartrate_max\n"
   ]
  },
  {
   "cell_type": "code",
   "execution_count": 46,
   "metadata": {},
   "outputs": [
    {
     "data": {
      "text/plain": [
       "[Row(GCS_buckets=2.0, d1_diasbp_max=68, d1_diasbp_min=37, d1_heartrate_min=72, d1_resprate_min=10, d1_sysbp_max=131, d1_sysbp_min=73, d1_temp_min=37.2, h1_diasbp_max=68, h1_heartrate_max=119, h1_mbp_min=85, h1_resprate_max=26, h1_resprate_min=18, h1_sysbp_max=131, intubated_apache=False, map_apache=40, ventilated_apache=False),\n",
       " Row(GCS_buckets=0.0, d1_diasbp_max=95, d1_diasbp_min=31, d1_heartrate_min=72, d1_resprate_min=12, d1_sysbp_max=159, d1_sysbp_min=67, d1_temp_min=35.1, h1_diasbp_max=61, h1_heartrate_max=114, h1_mbp_min=57, h1_resprate_max=31, h1_resprate_min=28, h1_sysbp_max=95, intubated_apache=False, map_apache=46, ventilated_apache=True)]"
      ]
     },
     "execution_count": 46,
     "metadata": {},
     "output_type": "execute_result"
    }
   ],
   "source": [
    "final_vars = df_2.select('GCS_buckets',\n",
    " 'd1_diasbp_max',\n",
    " 'd1_diasbp_min',\n",
    " 'd1_heartrate_min',\n",
    " 'd1_resprate_min',\n",
    " 'd1_sysbp_max',\n",
    " 'd1_sysbp_min',\n",
    " 'd1_temp_min',\n",
    " 'h1_diasbp_max',\n",
    " 'h1_heartrate_max',\n",
    " 'h1_mbp_min',\n",
    " 'h1_resprate_max',\n",
    " 'h1_resprate_min',\n",
    " 'h1_sysbp_max',\n",
    " 'intubated_apache',\n",
    " 'map_apache',\n",
    " 'ventilated_apache')\n",
    "\n",
    "final_vars.take(2)"
   ]
  },
  {
   "cell_type": "code",
   "execution_count": 47,
   "metadata": {},
   "outputs": [
    {
     "data": {
      "text/html": [
       "<div>\n",
       "<style scoped>\n",
       "    .dataframe tbody tr th:only-of-type {\n",
       "        vertical-align: middle;\n",
       "    }\n",
       "\n",
       "    .dataframe tbody tr th {\n",
       "        vertical-align: top;\n",
       "    }\n",
       "\n",
       "    .dataframe thead th {\n",
       "        text-align: right;\n",
       "    }\n",
       "</style>\n",
       "<table border=\"1\" class=\"dataframe\">\n",
       "  <thead>\n",
       "    <tr style=\"text-align: right;\">\n",
       "      <th></th>\n",
       "      <th>GCS_buckets</th>\n",
       "      <th>d1_diasbp_max</th>\n",
       "      <th>d1_diasbp_min</th>\n",
       "      <th>d1_heartrate_min</th>\n",
       "      <th>d1_resprate_min</th>\n",
       "      <th>d1_sysbp_max</th>\n",
       "      <th>d1_sysbp_min</th>\n",
       "      <th>d1_temp_min</th>\n",
       "      <th>h1_diasbp_max</th>\n",
       "      <th>h1_heartrate_max</th>\n",
       "      <th>h1_mbp_min</th>\n",
       "      <th>h1_resprate_max</th>\n",
       "      <th>h1_resprate_min</th>\n",
       "      <th>h1_sysbp_max</th>\n",
       "      <th>intubated_apache</th>\n",
       "      <th>map_apache</th>\n",
       "      <th>ventilated_apache</th>\n",
       "    </tr>\n",
       "  </thead>\n",
       "  <tbody>\n",
       "    <tr>\n",
       "      <th>GCS_buckets</th>\n",
       "      <td>1.000000</td>\n",
       "      <td>-0.017135</td>\n",
       "      <td>0.104490</td>\n",
       "      <td>-0.016801</td>\n",
       "      <td>0.037313</td>\n",
       "      <td>-0.018202</td>\n",
       "      <td>0.172461</td>\n",
       "      <td>0.090756</td>\n",
       "      <td>-0.012824</td>\n",
       "      <td>-0.105937</td>\n",
       "      <td>0.115159</td>\n",
       "      <td>0.004088</td>\n",
       "      <td>0.018805</td>\n",
       "      <td>0.018428</td>\n",
       "      <td>-0.455115</td>\n",
       "      <td>0.038859</td>\n",
       "      <td>-0.560644</td>\n",
       "    </tr>\n",
       "    <tr>\n",
       "      <th>d1_diasbp_max</th>\n",
       "      <td>-0.017135</td>\n",
       "      <td>1.000000</td>\n",
       "      <td>0.164635</td>\n",
       "      <td>-0.027199</td>\n",
       "      <td>-0.051391</td>\n",
       "      <td>0.585959</td>\n",
       "      <td>0.111693</td>\n",
       "      <td>0.002803</td>\n",
       "      <td>0.609764</td>\n",
       "      <td>0.123098</td>\n",
       "      <td>0.333586</td>\n",
       "      <td>0.108730</td>\n",
       "      <td>0.028031</td>\n",
       "      <td>0.413791</td>\n",
       "      <td>-0.054468</td>\n",
       "      <td>0.364922</td>\n",
       "      <td>-0.042832</td>\n",
       "    </tr>\n",
       "    <tr>\n",
       "      <th>d1_diasbp_min</th>\n",
       "      <td>0.104490</td>\n",
       "      <td>0.164635</td>\n",
       "      <td>1.000000</td>\n",
       "      <td>0.115692</td>\n",
       "      <td>0.115479</td>\n",
       "      <td>0.155180</td>\n",
       "      <td>0.650670</td>\n",
       "      <td>0.097097</td>\n",
       "      <td>0.383814</td>\n",
       "      <td>-0.010357</td>\n",
       "      <td>0.589404</td>\n",
       "      <td>-0.054965</td>\n",
       "      <td>0.029526</td>\n",
       "      <td>0.279538</td>\n",
       "      <td>-0.105187</td>\n",
       "      <td>0.474764</td>\n",
       "      <td>-0.136519</td>\n",
       "    </tr>\n",
       "    <tr>\n",
       "      <th>d1_heartrate_min</th>\n",
       "      <td>-0.016801</td>\n",
       "      <td>-0.027199</td>\n",
       "      <td>0.115692</td>\n",
       "      <td>1.000000</td>\n",
       "      <td>0.242667</td>\n",
       "      <td>-0.141724</td>\n",
       "      <td>-0.004212</td>\n",
       "      <td>0.168904</td>\n",
       "      <td>0.002726</td>\n",
       "      <td>0.622956</td>\n",
       "      <td>-0.001960</td>\n",
       "      <td>0.159744</td>\n",
       "      <td>0.226514</td>\n",
       "      <td>-0.121812</td>\n",
       "      <td>0.011882</td>\n",
       "      <td>-0.014101</td>\n",
       "      <td>0.032118</td>\n",
       "    </tr>\n",
       "    <tr>\n",
       "      <th>d1_resprate_min</th>\n",
       "      <td>0.037313</td>\n",
       "      <td>-0.051391</td>\n",
       "      <td>0.115479</td>\n",
       "      <td>0.242667</td>\n",
       "      <td>1.000000</td>\n",
       "      <td>-0.043349</td>\n",
       "      <td>0.126249</td>\n",
       "      <td>0.132328</td>\n",
       "      <td>-0.016652</td>\n",
       "      <td>0.132575</td>\n",
       "      <td>0.081512</td>\n",
       "      <td>0.308906</td>\n",
       "      <td>0.590620</td>\n",
       "      <td>-0.021397</td>\n",
       "      <td>-0.074182</td>\n",
       "      <td>0.032901</td>\n",
       "      <td>-0.061322</td>\n",
       "    </tr>\n",
       "    <tr>\n",
       "      <th>d1_sysbp_max</th>\n",
       "      <td>-0.018202</td>\n",
       "      <td>0.585959</td>\n",
       "      <td>0.155180</td>\n",
       "      <td>-0.141724</td>\n",
       "      <td>-0.043349</td>\n",
       "      <td>1.000000</td>\n",
       "      <td>0.361491</td>\n",
       "      <td>0.013291</td>\n",
       "      <td>0.433809</td>\n",
       "      <td>-0.044464</td>\n",
       "      <td>0.418009</td>\n",
       "      <td>0.072345</td>\n",
       "      <td>0.005429</td>\n",
       "      <td>0.693431</td>\n",
       "      <td>-0.037428</td>\n",
       "      <td>0.435874</td>\n",
       "      <td>-0.018233</td>\n",
       "    </tr>\n",
       "    <tr>\n",
       "      <th>d1_sysbp_min</th>\n",
       "      <td>0.172461</td>\n",
       "      <td>0.111693</td>\n",
       "      <td>0.650670</td>\n",
       "      <td>-0.004212</td>\n",
       "      <td>0.126249</td>\n",
       "      <td>0.361491</td>\n",
       "      <td>1.000000</td>\n",
       "      <td>0.127386</td>\n",
       "      <td>0.260565</td>\n",
       "      <td>-0.159573</td>\n",
       "      <td>0.565936</td>\n",
       "      <td>-0.088807</td>\n",
       "      <td>0.016400</td>\n",
       "      <td>0.480801</td>\n",
       "      <td>-0.173850</td>\n",
       "      <td>0.461744</td>\n",
       "      <td>-0.207091</td>\n",
       "    </tr>\n",
       "    <tr>\n",
       "      <th>d1_temp_min</th>\n",
       "      <td>0.090756</td>\n",
       "      <td>0.002803</td>\n",
       "      <td>0.097097</td>\n",
       "      <td>0.168904</td>\n",
       "      <td>0.132328</td>\n",
       "      <td>0.013291</td>\n",
       "      <td>0.127386</td>\n",
       "      <td>1.000000</td>\n",
       "      <td>0.023757</td>\n",
       "      <td>0.116832</td>\n",
       "      <td>0.077532</td>\n",
       "      <td>0.056688</td>\n",
       "      <td>0.110457</td>\n",
       "      <td>0.038281</td>\n",
       "      <td>-0.106840</td>\n",
       "      <td>0.037532</td>\n",
       "      <td>-0.130992</td>\n",
       "    </tr>\n",
       "    <tr>\n",
       "      <th>h1_diasbp_max</th>\n",
       "      <td>-0.012824</td>\n",
       "      <td>0.609764</td>\n",
       "      <td>0.383814</td>\n",
       "      <td>0.002726</td>\n",
       "      <td>-0.016652</td>\n",
       "      <td>0.433809</td>\n",
       "      <td>0.260565</td>\n",
       "      <td>0.023757</td>\n",
       "      <td>1.000000</td>\n",
       "      <td>0.153073</td>\n",
       "      <td>0.607920</td>\n",
       "      <td>0.110581</td>\n",
       "      <td>-0.000171</td>\n",
       "      <td>0.632958</td>\n",
       "      <td>-0.040628</td>\n",
       "      <td>0.389114</td>\n",
       "      <td>-0.034939</td>\n",
       "    </tr>\n",
       "    <tr>\n",
       "      <th>h1_heartrate_max</th>\n",
       "      <td>-0.105937</td>\n",
       "      <td>0.123098</td>\n",
       "      <td>-0.010357</td>\n",
       "      <td>0.622956</td>\n",
       "      <td>0.132575</td>\n",
       "      <td>-0.044464</td>\n",
       "      <td>-0.159573</td>\n",
       "      <td>0.116832</td>\n",
       "      <td>0.153073</td>\n",
       "      <td>1.000000</td>\n",
       "      <td>-0.033970</td>\n",
       "      <td>0.331267</td>\n",
       "      <td>0.242316</td>\n",
       "      <td>-0.025699</td>\n",
       "      <td>0.068560</td>\n",
       "      <td>-0.024786</td>\n",
       "      <td>0.112015</td>\n",
       "    </tr>\n",
       "    <tr>\n",
       "      <th>h1_mbp_min</th>\n",
       "      <td>0.115159</td>\n",
       "      <td>0.333586</td>\n",
       "      <td>0.589404</td>\n",
       "      <td>-0.001960</td>\n",
       "      <td>0.081512</td>\n",
       "      <td>0.418009</td>\n",
       "      <td>0.565936</td>\n",
       "      <td>0.077532</td>\n",
       "      <td>0.607920</td>\n",
       "      <td>-0.033970</td>\n",
       "      <td>1.000000</td>\n",
       "      <td>-0.006254</td>\n",
       "      <td>0.091601</td>\n",
       "      <td>0.612623</td>\n",
       "      <td>-0.142046</td>\n",
       "      <td>0.492108</td>\n",
       "      <td>-0.161623</td>\n",
       "    </tr>\n",
       "    <tr>\n",
       "      <th>h1_resprate_max</th>\n",
       "      <td>0.004088</td>\n",
       "      <td>0.108730</td>\n",
       "      <td>-0.054965</td>\n",
       "      <td>0.159744</td>\n",
       "      <td>0.308906</td>\n",
       "      <td>0.072345</td>\n",
       "      <td>-0.088807</td>\n",
       "      <td>0.056688</td>\n",
       "      <td>0.110581</td>\n",
       "      <td>0.331267</td>\n",
       "      <td>-0.006254</td>\n",
       "      <td>1.000000</td>\n",
       "      <td>0.579331</td>\n",
       "      <td>0.063889</td>\n",
       "      <td>-0.049135</td>\n",
       "      <td>0.019497</td>\n",
       "      <td>0.005850</td>\n",
       "    </tr>\n",
       "    <tr>\n",
       "      <th>h1_resprate_min</th>\n",
       "      <td>0.018805</td>\n",
       "      <td>0.028031</td>\n",
       "      <td>0.029526</td>\n",
       "      <td>0.226514</td>\n",
       "      <td>0.590620</td>\n",
       "      <td>0.005429</td>\n",
       "      <td>0.016400</td>\n",
       "      <td>0.110457</td>\n",
       "      <td>-0.000171</td>\n",
       "      <td>0.242316</td>\n",
       "      <td>0.091601</td>\n",
       "      <td>0.579331</td>\n",
       "      <td>1.000000</td>\n",
       "      <td>-0.023762</td>\n",
       "      <td>-0.074952</td>\n",
       "      <td>0.016662</td>\n",
       "      <td>-0.031775</td>\n",
       "    </tr>\n",
       "    <tr>\n",
       "      <th>h1_sysbp_max</th>\n",
       "      <td>0.018428</td>\n",
       "      <td>0.413791</td>\n",
       "      <td>0.279538</td>\n",
       "      <td>-0.121812</td>\n",
       "      <td>-0.021397</td>\n",
       "      <td>0.693431</td>\n",
       "      <td>0.480801</td>\n",
       "      <td>0.038281</td>\n",
       "      <td>0.632958</td>\n",
       "      <td>-0.025699</td>\n",
       "      <td>0.612623</td>\n",
       "      <td>0.063889</td>\n",
       "      <td>-0.023762</td>\n",
       "      <td>1.000000</td>\n",
       "      <td>-0.051916</td>\n",
       "      <td>0.420803</td>\n",
       "      <td>-0.042067</td>\n",
       "    </tr>\n",
       "    <tr>\n",
       "      <th>intubated_apache</th>\n",
       "      <td>-0.455115</td>\n",
       "      <td>-0.054468</td>\n",
       "      <td>-0.105187</td>\n",
       "      <td>0.011882</td>\n",
       "      <td>-0.074182</td>\n",
       "      <td>-0.037428</td>\n",
       "      <td>-0.173850</td>\n",
       "      <td>-0.106840</td>\n",
       "      <td>-0.040628</td>\n",
       "      <td>0.068560</td>\n",
       "      <td>-0.142046</td>\n",
       "      <td>-0.049135</td>\n",
       "      <td>-0.074952</td>\n",
       "      <td>-0.051916</td>\n",
       "      <td>1.000000</td>\n",
       "      <td>-0.066466</td>\n",
       "      <td>0.609664</td>\n",
       "    </tr>\n",
       "    <tr>\n",
       "      <th>map_apache</th>\n",
       "      <td>0.038859</td>\n",
       "      <td>0.364922</td>\n",
       "      <td>0.474764</td>\n",
       "      <td>-0.014101</td>\n",
       "      <td>0.032901</td>\n",
       "      <td>0.435874</td>\n",
       "      <td>0.461744</td>\n",
       "      <td>0.037532</td>\n",
       "      <td>0.389114</td>\n",
       "      <td>-0.024786</td>\n",
       "      <td>0.492108</td>\n",
       "      <td>0.019497</td>\n",
       "      <td>0.016662</td>\n",
       "      <td>0.420803</td>\n",
       "      <td>-0.066466</td>\n",
       "      <td>1.000000</td>\n",
       "      <td>-0.074520</td>\n",
       "    </tr>\n",
       "    <tr>\n",
       "      <th>ventilated_apache</th>\n",
       "      <td>-0.560644</td>\n",
       "      <td>-0.042832</td>\n",
       "      <td>-0.136519</td>\n",
       "      <td>0.032118</td>\n",
       "      <td>-0.061322</td>\n",
       "      <td>-0.018233</td>\n",
       "      <td>-0.207091</td>\n",
       "      <td>-0.130992</td>\n",
       "      <td>-0.034939</td>\n",
       "      <td>0.112015</td>\n",
       "      <td>-0.161623</td>\n",
       "      <td>0.005850</td>\n",
       "      <td>-0.031775</td>\n",
       "      <td>-0.042067</td>\n",
       "      <td>0.609664</td>\n",
       "      <td>-0.074520</td>\n",
       "      <td>1.000000</td>\n",
       "    </tr>\n",
       "  </tbody>\n",
       "</table>\n",
       "</div>"
      ],
      "text/plain": [
       "                   GCS_buckets  d1_diasbp_max  d1_diasbp_min  \\\n",
       "GCS_buckets           1.000000      -0.017135       0.104490   \n",
       "d1_diasbp_max        -0.017135       1.000000       0.164635   \n",
       "d1_diasbp_min         0.104490       0.164635       1.000000   \n",
       "d1_heartrate_min     -0.016801      -0.027199       0.115692   \n",
       "d1_resprate_min       0.037313      -0.051391       0.115479   \n",
       "d1_sysbp_max         -0.018202       0.585959       0.155180   \n",
       "d1_sysbp_min          0.172461       0.111693       0.650670   \n",
       "d1_temp_min           0.090756       0.002803       0.097097   \n",
       "h1_diasbp_max        -0.012824       0.609764       0.383814   \n",
       "h1_heartrate_max     -0.105937       0.123098      -0.010357   \n",
       "h1_mbp_min            0.115159       0.333586       0.589404   \n",
       "h1_resprate_max       0.004088       0.108730      -0.054965   \n",
       "h1_resprate_min       0.018805       0.028031       0.029526   \n",
       "h1_sysbp_max          0.018428       0.413791       0.279538   \n",
       "intubated_apache     -0.455115      -0.054468      -0.105187   \n",
       "map_apache            0.038859       0.364922       0.474764   \n",
       "ventilated_apache    -0.560644      -0.042832      -0.136519   \n",
       "\n",
       "                   d1_heartrate_min  d1_resprate_min  d1_sysbp_max  \\\n",
       "GCS_buckets               -0.016801         0.037313     -0.018202   \n",
       "d1_diasbp_max             -0.027199        -0.051391      0.585959   \n",
       "d1_diasbp_min              0.115692         0.115479      0.155180   \n",
       "d1_heartrate_min           1.000000         0.242667     -0.141724   \n",
       "d1_resprate_min            0.242667         1.000000     -0.043349   \n",
       "d1_sysbp_max              -0.141724        -0.043349      1.000000   \n",
       "d1_sysbp_min              -0.004212         0.126249      0.361491   \n",
       "d1_temp_min                0.168904         0.132328      0.013291   \n",
       "h1_diasbp_max              0.002726        -0.016652      0.433809   \n",
       "h1_heartrate_max           0.622956         0.132575     -0.044464   \n",
       "h1_mbp_min                -0.001960         0.081512      0.418009   \n",
       "h1_resprate_max            0.159744         0.308906      0.072345   \n",
       "h1_resprate_min            0.226514         0.590620      0.005429   \n",
       "h1_sysbp_max              -0.121812        -0.021397      0.693431   \n",
       "intubated_apache           0.011882        -0.074182     -0.037428   \n",
       "map_apache                -0.014101         0.032901      0.435874   \n",
       "ventilated_apache          0.032118        -0.061322     -0.018233   \n",
       "\n",
       "                   d1_sysbp_min  d1_temp_min  h1_diasbp_max  h1_heartrate_max  \\\n",
       "GCS_buckets            0.172461     0.090756      -0.012824         -0.105937   \n",
       "d1_diasbp_max          0.111693     0.002803       0.609764          0.123098   \n",
       "d1_diasbp_min          0.650670     0.097097       0.383814         -0.010357   \n",
       "d1_heartrate_min      -0.004212     0.168904       0.002726          0.622956   \n",
       "d1_resprate_min        0.126249     0.132328      -0.016652          0.132575   \n",
       "d1_sysbp_max           0.361491     0.013291       0.433809         -0.044464   \n",
       "d1_sysbp_min           1.000000     0.127386       0.260565         -0.159573   \n",
       "d1_temp_min            0.127386     1.000000       0.023757          0.116832   \n",
       "h1_diasbp_max          0.260565     0.023757       1.000000          0.153073   \n",
       "h1_heartrate_max      -0.159573     0.116832       0.153073          1.000000   \n",
       "h1_mbp_min             0.565936     0.077532       0.607920         -0.033970   \n",
       "h1_resprate_max       -0.088807     0.056688       0.110581          0.331267   \n",
       "h1_resprate_min        0.016400     0.110457      -0.000171          0.242316   \n",
       "h1_sysbp_max           0.480801     0.038281       0.632958         -0.025699   \n",
       "intubated_apache      -0.173850    -0.106840      -0.040628          0.068560   \n",
       "map_apache             0.461744     0.037532       0.389114         -0.024786   \n",
       "ventilated_apache     -0.207091    -0.130992      -0.034939          0.112015   \n",
       "\n",
       "                   h1_mbp_min  h1_resprate_max  h1_resprate_min  h1_sysbp_max  \\\n",
       "GCS_buckets          0.115159         0.004088         0.018805      0.018428   \n",
       "d1_diasbp_max        0.333586         0.108730         0.028031      0.413791   \n",
       "d1_diasbp_min        0.589404        -0.054965         0.029526      0.279538   \n",
       "d1_heartrate_min    -0.001960         0.159744         0.226514     -0.121812   \n",
       "d1_resprate_min      0.081512         0.308906         0.590620     -0.021397   \n",
       "d1_sysbp_max         0.418009         0.072345         0.005429      0.693431   \n",
       "d1_sysbp_min         0.565936        -0.088807         0.016400      0.480801   \n",
       "d1_temp_min          0.077532         0.056688         0.110457      0.038281   \n",
       "h1_diasbp_max        0.607920         0.110581        -0.000171      0.632958   \n",
       "h1_heartrate_max    -0.033970         0.331267         0.242316     -0.025699   \n",
       "h1_mbp_min           1.000000        -0.006254         0.091601      0.612623   \n",
       "h1_resprate_max     -0.006254         1.000000         0.579331      0.063889   \n",
       "h1_resprate_min      0.091601         0.579331         1.000000     -0.023762   \n",
       "h1_sysbp_max         0.612623         0.063889        -0.023762      1.000000   \n",
       "intubated_apache    -0.142046        -0.049135        -0.074952     -0.051916   \n",
       "map_apache           0.492108         0.019497         0.016662      0.420803   \n",
       "ventilated_apache   -0.161623         0.005850        -0.031775     -0.042067   \n",
       "\n",
       "                   intubated_apache  map_apache  ventilated_apache  \n",
       "GCS_buckets               -0.455115    0.038859          -0.560644  \n",
       "d1_diasbp_max             -0.054468    0.364922          -0.042832  \n",
       "d1_diasbp_min             -0.105187    0.474764          -0.136519  \n",
       "d1_heartrate_min           0.011882   -0.014101           0.032118  \n",
       "d1_resprate_min           -0.074182    0.032901          -0.061322  \n",
       "d1_sysbp_max              -0.037428    0.435874          -0.018233  \n",
       "d1_sysbp_min              -0.173850    0.461744          -0.207091  \n",
       "d1_temp_min               -0.106840    0.037532          -0.130992  \n",
       "h1_diasbp_max             -0.040628    0.389114          -0.034939  \n",
       "h1_heartrate_max           0.068560   -0.024786           0.112015  \n",
       "h1_mbp_min                -0.142046    0.492108          -0.161623  \n",
       "h1_resprate_max           -0.049135    0.019497           0.005850  \n",
       "h1_resprate_min           -0.074952    0.016662          -0.031775  \n",
       "h1_sysbp_max              -0.051916    0.420803          -0.042067  \n",
       "intubated_apache           1.000000   -0.066466           0.609664  \n",
       "map_apache                -0.066466    1.000000          -0.074520  \n",
       "ventilated_apache          0.609664   -0.074520           1.000000  "
      ]
     },
     "execution_count": 47,
     "metadata": {},
     "output_type": "execute_result"
    }
   ],
   "source": [
    "final_features = final_vars.rdd.map(lambda row: row[0:])\n",
    "final_corr_mat = Statistics.corr(final_features, method='spearman')\n",
    "\n",
    "final_col_names = final_vars.columns\n",
    "\n",
    "final_corr_df = pd.DataFrame(final_corr_mat)\n",
    "final_corr_df.index, final_corr_df.columns = final_col_names, final_col_names\n",
    "\n",
    "final_corr_df"
   ]
  },
  {
   "cell_type": "code",
   "execution_count": 48,
   "metadata": {},
   "outputs": [
    {
     "data": {
      "text/plain": [
       "Series([], dtype: float64)"
      ]
     },
     "execution_count": 48,
     "metadata": {},
     "output_type": "execute_result"
    }
   ],
   "source": [
    "final_corr_df = final_corr_df[final_corr_df < 1].unstack().transpose()\\\n",
    "                .sort_values( ascending=False)\\\n",
    "                .drop_duplicates()\n",
    "\n",
    "corr_df_test = final_corr_df[abs(final_corr_df) >= 0.7]\n",
    "corr_df_test #testing to ensure we now have no correlation coefficients > 0.7"
   ]
  },
  {
   "cell_type": "markdown",
   "metadata": {},
   "source": [
    "### Outliers in our key variables"
   ]
  },
  {
   "cell_type": "code",
   "execution_count": 49,
   "metadata": {},
   "outputs": [
    {
     "data": {
      "text/plain": [
       "[Row(d1_diasbp_max=68, d1_diasbp_min=37, d1_heartrate_min=72, d1_resprate_min=10, d1_sysbp_max=131, d1_sysbp_min=73, d1_temp_min=37.2, h1_diasbp_max=68, h1_heartrate_max=119, h1_mbp_min=85, h1_resprate_max=26, h1_resprate_min=18, h1_sysbp_max=131, map_apache=40),\n",
       " Row(d1_diasbp_max=95, d1_diasbp_min=31, d1_heartrate_min=72, d1_resprate_min=12, d1_sysbp_max=159, d1_sysbp_min=67, d1_temp_min=35.1, h1_diasbp_max=61, h1_heartrate_max=114, h1_mbp_min=57, h1_resprate_max=31, h1_resprate_min=28, h1_sysbp_max=95, map_apache=46)]"
      ]
     },
     "execution_count": 49,
     "metadata": {},
     "output_type": "execute_result"
    }
   ],
   "source": [
    "final_integer_vars = df_2.select('d1_diasbp_max',\n",
    " 'd1_diasbp_min',\n",
    " 'd1_heartrate_min',\n",
    " 'd1_resprate_min',\n",
    " 'd1_sysbp_max',\n",
    " 'd1_sysbp_min',\n",
    " 'd1_temp_min',\n",
    " 'h1_diasbp_max',\n",
    " 'h1_heartrate_max',\n",
    " 'h1_mbp_min',\n",
    " 'h1_resprate_max',\n",
    " 'h1_resprate_min',\n",
    " 'h1_sysbp_max',\n",
    " 'map_apache')\n",
    "\n",
    "final_integer_vars.take(2)"
   ]
  },
  {
   "cell_type": "code",
   "execution_count": 50,
   "metadata": {},
   "outputs": [
    {
     "data": {
      "image/png": "[encoded data removed]",
      "text/plain": [
       "<Figure size 1500x800 with 1 Axes>"
      ]
     },
     "metadata": {},
     "output_type": "display_data"
    }
   ],
   "source": [
    "import seaborn as sns\n",
    "\n",
    "sns.set_theme(style=\"darkgrid\")\n",
    "final_integer_vars_pd = final_integer_vars.toPandas()\n",
    "df_plot = final_integer_vars_pd.melt()\n",
    "df_plot\n",
    "plt.figure(figsize=(15,8))\n",
    "sns.boxplot(x='variable', y='value', data=df_plot).set(title='Boxplot for Each Important Integer Feature')\n",
    "plt.xticks(rotation=45)\n",
    "plt.show()"
   ]
  },
  {
   "cell_type": "code",
   "execution_count": 51,
   "metadata": {},
   "outputs": [
    {
     "data": {
      "image/png": "[encoded data removed]",
      "text/plain": [
       "<Figure size 640x480 with 1 Axes>"
      ]
     },
     "metadata": {},
     "output_type": "display_data"
    }
   ],
   "source": [
    "sns.set_theme(style=\"darkgrid\")\n",
    "sns.boxplot(x='d1_temp_min', data=final_integer_vars_pd)\n",
    "plt.show()"
   ]
  },
  {
   "cell_type": "code",
   "execution_count": 52,
   "metadata": {},
   "outputs": [
    {
     "data": {
      "text/plain": [
       "[Row(GCS_buckets=2.0, d1_diasbp_max=68, d1_diasbp_min=37, d1_heartrate_min=72, d1_resprate_min=10, d1_sysbp_max=131, d1_sysbp_min=73, d1_temp_min=37.2, h1_diasbp_max=68, h1_heartrate_max=119, h1_mbp_min=85, h1_resprate_max=26, h1_resprate_min=18, h1_sysbp_max=131, intubated_apache=False, map_apache=40, ventilated_apache=False, hospital_death=False),\n",
       " Row(GCS_buckets=0.0, d1_diasbp_max=95, d1_diasbp_min=31, d1_heartrate_min=72, d1_resprate_min=12, d1_sysbp_max=159, d1_sysbp_min=67, d1_temp_min=35.1, h1_diasbp_max=61, h1_heartrate_max=114, h1_mbp_min=57, h1_resprate_max=31, h1_resprate_min=28, h1_sysbp_max=95, intubated_apache=False, map_apache=46, ventilated_apache=True, hospital_death=False)]"
      ]
     },
     "execution_count": 52,
     "metadata": {},
     "output_type": "execute_result"
    }
   ],
   "source": [
    "final_vars_with_hos_death = df_2.select('GCS_buckets',\n",
    " 'd1_diasbp_max',\n",
    " 'd1_diasbp_min',\n",
    " 'd1_heartrate_min',\n",
    " 'd1_resprate_min',\n",
    " 'd1_sysbp_max',\n",
    " 'd1_sysbp_min',\n",
    " 'd1_temp_min',\n",
    " 'h1_diasbp_max',\n",
    " 'h1_heartrate_max',\n",
    " 'h1_mbp_min',\n",
    " 'h1_resprate_max',\n",
    " 'h1_resprate_min',\n",
    " 'h1_sysbp_max',\n",
    " 'intubated_apache',\n",
    " 'map_apache',\n",
    " 'ventilated_apache',\n",
    " 'hospital_death')\n",
    "\n",
    "final_vars_with_hos_death.take(2)"
   ]
  },
  {
   "cell_type": "code",
   "execution_count": 53,
   "metadata": {},
   "outputs": [
    {
     "data": {
      "image/png": "[encoded data removed]",
      "text/plain": [
       "<Figure size 640x480 with 1 Axes>"
      ]
     },
     "metadata": {},
     "output_type": "display_data"
    }
   ],
   "source": [
    "final_vars_with_hos_death_pd = final_vars_with_hos_death.toPandas()\n",
    "\n",
    "sns.set_theme(style=\"darkgrid\")\n",
    "sns.countplot(x= 'ventilated_apache', hue='hospital_death', data=final_vars_with_hos_death_pd).set(title='Ventilated')\n",
    "plt.show()"
   ]
  },
  {
   "cell_type": "code",
   "execution_count": 54,
   "metadata": {},
   "outputs": [
    {
     "data": {
      "image/png": "[encoded data removed]",
      "text/plain": [
       "<Figure size 640x480 with 1 Axes>"
      ]
     },
     "metadata": {},
     "output_type": "display_data"
    }
   ],
   "source": [
    "final_vars_with_hos_death_pd = final_vars_with_hos_death.toPandas()\n",
    "\n",
    "sns.set_theme(style=\"darkgrid\")\n",
    "sns.countplot(x= 'intubated_apache', hue='hospital_death', data=final_vars_with_hos_death_pd).set(title='Intubated')\n",
    "plt.show()"
   ]
  },
  {
   "cell_type": "code",
   "execution_count": 55,
   "metadata": {},
   "outputs": [
    {
     "data": {
      "image/png": "[encoded data removed]",
      "text/plain": [
       "<Figure size 635.097x500 with 1 Axes>"
      ]
     },
     "metadata": {},
     "output_type": "display_data"
    }
   ],
   "source": [
    "sns.set_theme(style=\"darkgrid\")\n",
    "sns.displot(x='d1_heartrate_min', hue='hospital_death', data=final_vars_with_hos_death_pd).set(title='Lowest Heart rate during first 24 hrs')\n",
    "plt.show()"
   ]
  },
  {
   "cell_type": "code",
   "execution_count": 56,
   "metadata": {},
   "outputs": [
    {
     "data": {
      "image/png": "[encoded data removed]",
      "text/plain": [
       "<Figure size 635.097x500 with 1 Axes>"
      ]
     },
     "metadata": {},
     "output_type": "display_data"
    }
   ],
   "source": [
    "sns.set_theme(style=\"darkgrid\")\n",
    "sns.displot(x='h1_heartrate_max', hue='hospital_death', data=final_vars_with_hos_death_pd).set(title='Highest heart rate during the first hour')\n",
    "plt.show()"
   ]
  },
  {
   "cell_type": "code",
   "execution_count": 57,
   "metadata": {},
   "outputs": [
    {
     "data": {
      "image/png": "[encoded data removed]",
      "text/plain": [
       "<Figure size 635.097x500 with 1 Axes>"
      ]
     },
     "metadata": {},
     "output_type": "display_data"
    }
   ],
   "source": [
    "sns.set_theme(style=\"darkgrid\")\n",
    "sns.displot(x='d1_diasbp_max', hue='hospital_death', data=final_vars_with_hos_death_pd).set(title='Highest diastolic blood pressure during the first 24 hours')\n",
    "plt.show()"
   ]
  },
  {
   "cell_type": "code",
   "execution_count": 58,
   "metadata": {},
   "outputs": [
    {
     "data": {
      "image/png": "[encoded data removed]",
      "text/plain": [
       "<Figure size 635.097x500 with 1 Axes>"
      ]
     },
     "metadata": {},
     "output_type": "display_data"
    }
   ],
   "source": [
    "sns.set_theme(style=\"darkgrid\")\n",
    "sns.displot(x='h1_diasbp_max', hue='hospital_death', data=final_vars_with_hos_death_pd).set(title='Highest diastolic blood pressure during the first hour')\n",
    "plt.show()"
   ]
  },
  {
   "cell_type": "code",
   "execution_count": 59,
   "metadata": {},
   "outputs": [
    {
     "data": {
      "image/png": "[encoded data removed]",
      "text/plain": [
       "<Figure size 635.097x500 with 1 Axes>"
      ]
     },
     "metadata": {},
     "output_type": "display_data"
    }
   ],
   "source": [
    "sns.set_theme(style=\"darkgrid\")\n",
    "sns.displot(x='d1_sysbp_max', hue='hospital_death', data=final_vars_with_hos_death_pd).set(title='Highest systolic blood pressure during the first 24 hours')\n",
    "plt.show()"
   ]
  },
  {
   "cell_type": "code",
   "execution_count": 60,
   "metadata": {},
   "outputs": [
    {
     "data": {
      "image/png": "[encoded data removed]",
      "text/plain": [
       "<Figure size 635.097x500 with 1 Axes>"
      ]
     },
     "metadata": {},
     "output_type": "display_data"
    }
   ],
   "source": [
    "sns.set_theme(style=\"darkgrid\")\n",
    "sns.displot(x='h1_sysbp_max', hue='hospital_death', data=final_vars_with_hos_death_pd).set(title='Highest systolic blood pressure during the first hour')\n",
    "plt.show()"
   ]
  },
  {
   "cell_type": "markdown",
   "metadata": {},
   "source": [
    "### Addressing our Imbalanced Data Set"
   ]
  },
  {
   "cell_type": "code",
   "execution_count": 61,
   "metadata": {},
   "outputs": [
    {
     "name": "stdout",
     "output_type": "stream",
     "text": [
      "+--------------+-----+\n",
      "|hospital_death|count|\n",
      "+--------------+-----+\n",
      "|          true| 5603|\n",
      "|         false|62991|\n",
      "+--------------+-----+\n",
      "\n"
     ]
    }
   ],
   "source": [
    "# Outcome variable distribution\n",
    "df.groupBy(\"hospital_death\").count().show()"
   ]
  },
  {
   "cell_type": "code",
   "execution_count": 68,
   "metadata": {},
   "outputs": [],
   "source": [
    "from pyspark.sql.functions import col\n",
    "\n",
    "def downsample(df, target, positive_label, negative_label):\n",
    "    \"\"\"\n",
    "    df              spark dataframe\n",
    "    target          str, target variable\n",
    "    positive_label  int, value of positive label\n",
    "    negative_label  int, value of negative label\n",
    "    \n",
    "    \"\"\"\n",
    "\n",
    "    major_df = df.filter(col(target) == positive_label)\n",
    "    minor_df = df.filter(col(target) == negative_label)\n",
    "    major_count = major_df.count()\n",
    "    minor_count = minor_df.count() \n",
    "    if major_count > minor_count:\n",
    "        ratio = minor_count/major_count\n",
    "        sampled_df = major_df.sample(True, ratio,seed=seed)\n",
    "        df_b = sampled_df.unionAll(minor_df)\n",
    "    elif minor_count > major_count:\n",
    "        ratio = major_count/minor_count\n",
    "        sampled_df = minor_df.sample(True, ratio,seed=seed)\n",
    "        df_b = sampled_df.unionAll(major_df)\n",
    "    else:\n",
    "        \n",
    "        df_b = df\n",
    "    return df_b"
   ]
  },
  {
   "cell_type": "markdown",
   "metadata": {},
   "source": [
    "## Model Building and Evaluation"
   ]
  },
  {
   "cell_type": "markdown",
   "metadata": {},
   "source": [
    "### Logistic Regression - Benchmark model"
   ]
  },
  {
   "cell_type": "code",
   "execution_count": 69,
   "metadata": {},
   "outputs": [
    {
     "data": {
      "text/plain": [
       "68594"
      ]
     },
     "execution_count": 69,
     "metadata": {},
     "output_type": "execute_result"
    }
   ],
   "source": [
    "df_subset = df_2.select('GCS_buckets',\n",
    " 'd1_diasbp_max',\n",
    " 'd1_diasbp_min',\n",
    " 'd1_heartrate_min',\n",
    " 'd1_resprate_min',\n",
    " 'd1_sysbp_max',\n",
    " 'd1_sysbp_min',\n",
    " 'd1_temp_min',\n",
    " 'h1_diasbp_max',\n",
    " 'h1_heartrate_max',\n",
    " 'h1_mbp_min',\n",
    " 'h1_resprate_max',\n",
    " 'h1_resprate_min',\n",
    " 'h1_sysbp_max',\n",
    " 'intubated_apache',\n",
    " 'map_apache',\n",
    " 'ventilated_apache',\n",
    " 'hospital_death')\n",
    "\n",
    "df_subset = df_subset.withColumn('hospital_death', F.when(df_subset.hospital_death == False, 0).otherwise(1))\n",
    "\n",
    "df_subset.count()"
   ]
  },
  {
   "cell_type": "code",
   "execution_count": 70,
   "metadata": {},
   "outputs": [],
   "source": [
    "# define training and testing data to be used for all models\n",
    "training_fraction = [0.8,0.2]\n",
    "seed = 314\n",
    "train_data, test_data = df_subset.randomSplit(training_fraction, seed=seed)\n",
    "\n",
    "target = 'hospital_death'\n",
    "positive_label = 1\n",
    "negative_label = 0\n",
    "\n",
    "# Call your downsample function here, and show the count by label to confirm\n",
    "\n",
    "df_subset_balanced = downsample(train_data,target,positive_label,negative_label)"
   ]
  },
  {
   "cell_type": "code",
   "execution_count": 71,
   "metadata": {},
   "outputs": [],
   "source": [
    "from pyspark.ml.classification import LogisticRegression\n",
    "\n",
    "va = VectorAssembler(inputCols=[c for c in df_subset_balanced.columns if c not in {'hospital_death'}], outputCol=\"features\")  \n",
    "sc = StandardScaler(inputCol=\"features\", outputCol=\"scaledFeatures\")\n",
    "lr = LogisticRegression(labelCol='hospital_death', featuresCol='scaledFeatures', fitIntercept=True)\n",
    "\n",
    "# Fit the pipeline\n",
    "pipeline = Pipeline(stages=[va, sc, lr])\n",
    "log_model = pipeline.fit(df_subset_balanced)"
   ]
  },
  {
   "cell_type": "code",
   "execution_count": 72,
   "metadata": {},
   "outputs": [
    {
     "name": "stdout",
     "output_type": "stream",
     "text": [
      "Test Area under ROC curve 0.7279123721169074\n",
      "Test Accuracy 0.7428383993002405\n"
     ]
    }
   ],
   "source": [
    "from pyspark.ml.evaluation import BinaryClassificationEvaluator,MulticlassClassificationEvaluator\n",
    "\n",
    "log_pred = log_model.transform(test_data)\n",
    "evaluator = BinaryClassificationEvaluator(labelCol='hospital_death', rawPredictionCol=\"prediction\", metricName='areaUnderROC')\n",
    "print('Test Area under ROC curve', evaluator.evaluate(log_pred))\n",
    "\n",
    "evaluator_2 = MulticlassClassificationEvaluator(labelCol='hospital_death', predictionCol=\"prediction\")\n",
    "print('Test Accuracy', evaluator_2.evaluate(log_pred,{evaluator_2.metricName: \"accuracy\"}))"
   ]
  },
  {
   "cell_type": "code",
   "execution_count": 74,
   "metadata": {},
   "outputs": [
    {
     "name": "stdout",
     "output_type": "stream",
     "text": [
      "[[9383. 3198.]\n",
      " [ 330.  808.]]\n"
     ]
    }
   ],
   "source": [
    "from pyspark.mllib.evaluation import MulticlassMetrics\n",
    "from pyspark.sql.types import FloatType\n",
    "\n",
    "#important: need to cast to float type, and order by prediction, else it won't work\n",
    "preds_and_labels = log_pred.select(['prediction','hospital_death']).withColumn('label', F.col('hospital_death').cast(FloatType())).orderBy('prediction')\n",
    "\n",
    "#select only prediction and label columns\n",
    "preds_and_labels = preds_and_labels.select(['prediction','label'])\n",
    "\n",
    "metrics = MulticlassMetrics(preds_and_labels.rdd.map(tuple))\n",
    "\n",
    "print(metrics.confusionMatrix().toArray())"
   ]
  },
  {
   "cell_type": "code",
   "execution_count": 75,
   "metadata": {},
   "outputs": [
    {
     "name": "stdout",
     "output_type": "stream",
     "text": [
      "False Positive Rate 0.2541928304586281\n",
      "Recall 0.7100175746924429\n",
      "Precision 0.2016974538192711\n"
     ]
    }
   ],
   "source": [
    "print('False Positive Rate', metrics.falsePositiveRate(1.0))\n",
    "print('Recall', metrics.recall(1.0))\n",
    "print('Precision', metrics.precision(1.0))"
   ]
  },
  {
   "cell_type": "markdown",
   "metadata": {},
   "source": [
    "### Optimizing our Logistic Regression with Parameter Tuning and Cross Validation"
   ]
  },
  {
   "cell_type": "code",
   "execution_count": 77,
   "metadata": {},
   "outputs": [
    {
     "name": "stdout",
     "output_type": "stream",
     "text": [
      "train time: 179.74129557609558\n"
     ]
    }
   ],
   "source": [
    "from pyspark.ml.tuning import CrossValidator, ParamGridBuilder\n",
    "\n",
    "# Set up the parameter grid\n",
    "paramGrid = ParamGridBuilder() \\\n",
    "    .addGrid(lr.regParam, [0, 0.01, 0.5, 2.0 ]) \\\n",
    "    .addGrid(lr.maxIter, [5, 10, 100, 200]) \\\n",
    "    .build()\n",
    "\n",
    "# Treat the Pipeline as an Estimator, wrapping it in a CrossValidator instance.\n",
    "crossval = CrossValidator(estimator=pipeline,\n",
    "                          estimatorParamMaps=paramGrid,\n",
    "                          evaluator=BinaryClassificationEvaluator(labelCol='hospital_death', rawPredictionCol=\"prediction\"),\n",
    "                          numFolds=5)\n",
    "\n",
    "# Run cross-validation, and choose the best set of parameters. Print the training time.\n",
    "import time\n",
    "t0 = time.time()\n",
    "cvModel = crossval.setParallelism(4).fit(df_subset_balanced) # train 4 models in parallel\n",
    "\n",
    "print(\"train time:\", time.time() - t0)"
   ]
  },
  {
   "cell_type": "code",
   "execution_count": 78,
   "metadata": {},
   "outputs": [
    {
     "name": "stdout",
     "output_type": "stream",
     "text": [
      "{Param(parent='LogisticRegression_b156eeec1d7c', name='regParam', doc='regularization parameter (>= 0).'): 0.01, Param(parent='LogisticRegression_b156eeec1d7c', name='maxIter', doc='max number of iterations (>= 0).'): 200}\n"
     ]
    }
   ],
   "source": [
    "print(cvModel.getEstimatorParamMaps()[np.argmax(cvModel.avgMetrics)])"
   ]
  },
  {
   "cell_type": "code",
   "execution_count": 79,
   "metadata": {},
   "outputs": [
    {
     "name": "stdout",
     "output_type": "stream",
     "text": [
      "Test Area under ROC curve 0.7309747423689221\n",
      "Test Accuracy 0.7477221371820103\n"
     ]
    }
   ],
   "source": [
    "cv_log_pred = cvModel.transform(test_data)\n",
    "\n",
    "print('Test Area under ROC curve', evaluator.evaluate(cv_log_pred))\n",
    "print('Test Accuracy', evaluator_2.evaluate(cv_log_pred ,{evaluator_2.metricName: \"accuracy\"}))"
   ]
  },
  {
   "cell_type": "code",
   "execution_count": 80,
   "metadata": {},
   "outputs": [
    {
     "name": "stdout",
     "output_type": "stream",
     "text": [
      "[[9449. 3132.]\n",
      " [ 329.  809.]]\n"
     ]
    }
   ],
   "source": [
    "preds_and_labels = cv_log_pred.select(['prediction','hospital_death']).withColumn('label', F.col('hospital_death').cast(FloatType())).orderBy('prediction')\n",
    "\n",
    "#select only prediction and label columns\n",
    "preds_and_labels = preds_and_labels.select(['prediction','label'])\n",
    "\n",
    "metrics = MulticlassMetrics(preds_and_labels.rdd.map(tuple))\n",
    "\n",
    "print(metrics.confusionMatrix().toArray())"
   ]
  },
  {
   "cell_type": "code",
   "execution_count": 81,
   "metadata": {},
   "outputs": [
    {
     "name": "stdout",
     "output_type": "stream",
     "text": [
      "False Positive Rate 0.24894682457674272\n",
      "Recall 0.710896309314587\n",
      "Precision 0.20527784826186246\n"
     ]
    }
   ],
   "source": [
    "print('False Positive Rate', metrics.falsePositiveRate(1.0))\n",
    "print('Recall', metrics.recall(1.0))\n",
    "print('Precision', metrics.precision(1.0))"
   ]
  },
  {
   "cell_type": "markdown",
   "metadata": {},
   "source": [
    "### Gradient Boosting"
   ]
  },
  {
   "cell_type": "code",
   "execution_count": 82,
   "metadata": {},
   "outputs": [],
   "source": [
    "from pyspark.ml.classification import GBTClassifier\n",
    "\n",
    "gbt = GBTClassifier(labelCol='hospital_death', featuresCol='scaledFeatures', maxIter=10)\n",
    "\n",
    "pipeline = Pipeline(stages=[va, sc, gbt])\n",
    "\n",
    "gbt_model = pipeline.fit(df_subset_balanced)"
   ]
  },
  {
   "cell_type": "code",
   "execution_count": 83,
   "metadata": {},
   "outputs": [
    {
     "name": "stdout",
     "output_type": "stream",
     "text": [
      "Test Area under ROC curve 0.7350902181980276\n",
      "Test Accuracy 0.7479408120125374\n"
     ]
    }
   ],
   "source": [
    "gbt_pred = gbt_model.transform(test_data)\n",
    "\n",
    "print('Test Area under ROC curve', evaluator.evaluate(gbt_pred))\n",
    "print('Test Accuracy', evaluator_2.evaluate(gbt_pred ,{evaluator_2.metricName: \"accuracy\"}))"
   ]
  },
  {
   "cell_type": "code",
   "execution_count": 84,
   "metadata": {},
   "outputs": [
    {
     "name": "stdout",
     "output_type": "stream",
     "text": [
      "[[9442. 3139.]\n",
      " [ 319.  819.]]\n"
     ]
    }
   ],
   "source": [
    "preds_and_labels = gbt_pred.select(['prediction','hospital_death']).withColumn('label', F.col('hospital_death').cast(FloatType())).orderBy('prediction')\n",
    "\n",
    "#select only prediction and label columns\n",
    "preds_and_labels = preds_and_labels.select(['prediction','label'])\n",
    "\n",
    "metrics = MulticlassMetrics(preds_and_labels.rdd.map(tuple))\n",
    "\n",
    "print(metrics.confusionMatrix().toArray())"
   ]
  },
  {
   "cell_type": "code",
   "execution_count": 85,
   "metadata": {},
   "outputs": [
    {
     "name": "stdout",
     "output_type": "stream",
     "text": [
      "False Positive Rate 0.24950321913997298\n",
      "Recall 0.7196836555360281\n",
      "Precision 0.20692268822637697\n"
     ]
    }
   ],
   "source": [
    "print('False Positive Rate', metrics.falsePositiveRate(1.0))\n",
    "print('Recall', metrics.recall(1.0))\n",
    "print('Precision', metrics.precision(1.0))"
   ]
  },
  {
   "cell_type": "markdown",
   "metadata": {},
   "source": [
    "##### Since decision trees are immune to multicollinearity, let's see how the tree performs with all of the features"
   ]
  },
  {
   "cell_type": "code",
   "execution_count": 88,
   "metadata": {},
   "outputs": [],
   "source": [
    "df_2 = df_2.withColumn('hospital_death', F.when(df_2.hospital_death == False, 0).otherwise(1))\n",
    "\n",
    "# define training and testing data to be used for all subset models\n",
    "training_fraction = [0.8,0.2]\n",
    "seed = 314\n",
    "train_data_all_vars, test_data_all_vars = df_2.randomSplit(training_fraction, seed=seed)\n",
    "\n",
    "target = 'hospital_death'\n",
    "positive_label = 1\n",
    "negative_label = 0\n",
    "\n",
    "# Call your downsample function here, and show the count by label to confirm\n",
    "\n",
    "df_all_vars_balanced = downsample(train_data_all_vars,target,positive_label,negative_label)\n",
    "\n",
    "gbt = GBTClassifier(labelCol='hospital_death', featuresCol='scaledFeatures', maxIter=10)\n",
    "\n",
    "pipeline = Pipeline(stages=[va, sc, gbt])\n",
    "\n",
    "gbt_model = pipeline.fit(df_all_vars_balanced)"
   ]
  },
  {
   "cell_type": "code",
   "execution_count": 89,
   "metadata": {},
   "outputs": [
    {
     "name": "stdout",
     "output_type": "stream",
     "text": [
      "Test Area under ROC curve 0.736826296565917\n",
      "Test Accuracy 0.7416721335374299\n"
     ]
    }
   ],
   "source": [
    "gbt_pred_2 = gbt_model.transform(test_data_all_vars)\n",
    "\n",
    "print('Test Area under ROC curve', evaluator.evaluate(gbt_pred_2))\n",
    "print('Test Accuracy', evaluator_2.evaluate(gbt_pred_2 ,{evaluator_2.metricName: \"accuracy\"}))"
   ]
  },
  {
   "cell_type": "code",
   "execution_count": 90,
   "metadata": {},
   "outputs": [
    {
     "name": "stdout",
     "output_type": "stream",
     "text": [
      "[[9365. 3246.]\n",
      " [ 298.  810.]]\n"
     ]
    }
   ],
   "source": [
    "preds_and_labels = gbt_pred_2.select(['prediction','hospital_death']).withColumn('label', F.col('hospital_death').cast(FloatType())).orderBy('prediction')\n",
    "\n",
    "#select only prediction and label columns\n",
    "preds_and_labels = preds_and_labels.select(['prediction','label'])\n",
    "\n",
    "metrics = MulticlassMetrics(preds_and_labels.rdd.map(tuple))\n",
    "\n",
    "print(metrics.confusionMatrix().toArray())"
   ]
  },
  {
   "cell_type": "code",
   "execution_count": 91,
   "metadata": {},
   "outputs": [
    {
     "name": "stdout",
     "output_type": "stream",
     "text": [
      "False Positive Rate 0.25739433827610814\n",
      "Recall 0.7310469314079422\n",
      "Precision 0.1997041420118343\n"
     ]
    }
   ],
   "source": [
    "print('False Positive Rate', metrics.falsePositiveRate(1.0))\n",
    "print('Recall', metrics.recall(1.0))\n",
    "print('Precision', metrics.precision(1.0))"
   ]
  },
  {
   "cell_type": "markdown",
   "metadata": {},
   "source": [
    "##### We are going to continue to move forward with the simpler model with fewer features"
   ]
  },
  {
   "cell_type": "markdown",
   "metadata": {},
   "source": [
    "### Optimizing the parameters of our Gradient Boosted Trees Implementation"
   ]
  },
  {
   "cell_type": "markdown",
   "metadata": {},
   "source": [
    "##### Due to runtime (and we can run the trees in parallel), we are going to break the pararm grid into parts "
   ]
  },
  {
   "cell_type": "markdown",
   "metadata": {},
   "source": [
    "#### First, testing different max depths"
   ]
  },
  {
   "cell_type": "code",
   "execution_count": 92,
   "metadata": {},
   "outputs": [
    {
     "name": "stdout",
     "output_type": "stream",
     "text": [
      "train time: 126.09533476829529\n"
     ]
    }
   ],
   "source": [
    "# Set up the parameter grid\n",
    "paramGrid = ParamGridBuilder() \\\n",
    "    .addGrid(gbt.maxDepth, [2, 5, 10]) \\\n",
    "    .build()\n",
    "\n",
    "# Treat the Pipeline as an Estimator, wrapping it in a CrossValidator instance.\n",
    "crossval = CrossValidator(estimator=pipeline,\n",
    "                          estimatorParamMaps=paramGrid,\n",
    "                          evaluator=BinaryClassificationEvaluator(labelCol='hospital_death', rawPredictionCol=\"prediction\"),\n",
    "                          numFolds=5)\n",
    "\n",
    "# Run cross-validation, and choose the best set of parameters. Print the training time.\n",
    "import time\n",
    "t0 = time.time()\n",
    "cvModel = crossval.fit(df_subset_balanced)\n",
    "\n",
    "print(\"train time:\", time.time() - t0)"
   ]
  },
  {
   "cell_type": "code",
   "execution_count": 93,
   "metadata": {},
   "outputs": [
    {
     "name": "stdout",
     "output_type": "stream",
     "text": [
      "{Param(parent='GBTClassifier_19873ae1c30e', name='maxDepth', doc='Maximum depth of the tree. (>= 0) E.g., depth 0 means 1 leaf node; depth 1 means 1 internal node + 2 leaf nodes.'): 5}\n"
     ]
    }
   ],
   "source": [
    "print(cvModel.getEstimatorParamMaps()[np.argmax(cvModel.avgMetrics)])"
   ]
  },
  {
   "cell_type": "code",
   "execution_count": 94,
   "metadata": {},
   "outputs": [
    {
     "name": "stdout",
     "output_type": "stream",
     "text": [
      "Test Area under ROC curve 0.7412272163978099\n",
      "Test Accuracy 0.7497631022669291\n"
     ]
    }
   ],
   "source": [
    "cv_gbt_pred = cvModel.transform(test_data)\n",
    "\n",
    "print('Test Area under ROC curve', evaluator.evaluate(cv_gbt_pred))\n",
    "print('Test Accuracy', evaluator_2.evaluate(cv_gbt_pred ,{evaluator_2.metricName: \"accuracy\"}))"
   ]
  },
  {
   "cell_type": "markdown",
   "metadata": {},
   "source": [
    "#### Next, testing different max bins"
   ]
  },
  {
   "cell_type": "code",
   "execution_count": 95,
   "metadata": {},
   "outputs": [
    {
     "name": "stdout",
     "output_type": "stream",
     "text": [
      "train time: 95.57682132720947\n"
     ]
    }
   ],
   "source": [
    "# Set up the parameter grid\n",
    "paramGrid = ParamGridBuilder() \\\n",
    "    .addGrid(gbt.maxBins, [10, 20, 40]) \\\n",
    "    .build()\n",
    "\n",
    "# Treat the Pipeline as an Estimator, wrapping it in a CrossValidator instance.\n",
    "crossval = CrossValidator(estimator=pipeline,\n",
    "                          estimatorParamMaps=paramGrid,\n",
    "                          evaluator=BinaryClassificationEvaluator(labelCol='hospital_death', rawPredictionCol=\"prediction\"),\n",
    "                          numFolds=5)\n",
    "\n",
    "# Run cross-validation, and choose the best set of parameters. Print the training time.\n",
    "import time\n",
    "t0 = time.time()\n",
    "cvModel = crossval.fit(df_subset_balanced)\n",
    "\n",
    "print(\"train time:\", time.time() - t0)"
   ]
  },
  {
   "cell_type": "code",
   "execution_count": 96,
   "metadata": {},
   "outputs": [
    {
     "name": "stdout",
     "output_type": "stream",
     "text": [
      "{Param(parent='GBTClassifier_19873ae1c30e', name='maxBins', doc='Max number of bins for discretizing continuous features.  Must be >=2 and >= number of categories for any categorical feature.'): 40}\n"
     ]
    }
   ],
   "source": [
    "print(cvModel.getEstimatorParamMaps()[np.argmax(cvModel.avgMetrics)])"
   ]
  },
  {
   "cell_type": "code",
   "execution_count": 97,
   "metadata": {},
   "outputs": [
    {
     "name": "stdout",
     "output_type": "stream",
     "text": [
      "Test Area under ROC curve 0.7433249423816868\n",
      "Test Accuracy 0.7498359938771048\n"
     ]
    }
   ],
   "source": [
    "cv_gbt_pred = cvModel.transform(test_data)\n",
    "\n",
    "print('Test Area under ROC curve', evaluator.evaluate(cv_gbt_pred))\n",
    "print('Test Accuracy', evaluator_2.evaluate(cv_gbt_pred ,{evaluator_2.metricName: \"accuracy\"}))"
   ]
  },
  {
   "cell_type": "markdown",
   "metadata": {},
   "source": [
    "#### Next, testing different max iterations"
   ]
  },
  {
   "cell_type": "code",
   "execution_count": 98,
   "metadata": {},
   "outputs": [
    {
     "name": "stdout",
     "output_type": "stream",
     "text": [
      "train time: 108.13412928581238\n"
     ]
    }
   ],
   "source": [
    "# Set up the parameter grid\n",
    "paramGrid = ParamGridBuilder() \\\n",
    "    .addGrid(gbt.maxIter, [5, 10, 20]) \\\n",
    "    .build()\n",
    "\n",
    "# Treat the Pipeline as an Estimator, wrapping it in a CrossValidator instance.\n",
    "crossval = CrossValidator(estimator=pipeline,\n",
    "                          estimatorParamMaps=paramGrid,\n",
    "                          evaluator=BinaryClassificationEvaluator(labelCol='hospital_death', rawPredictionCol=\"prediction\"),\n",
    "                          numFolds=5)\n",
    "\n",
    "# Run cross-validation, and choose the best set of parameters. Print the training time.\n",
    "import time\n",
    "t0 = time.time()\n",
    "cvModel = crossval.fit(df_subset_balanced)\n",
    "\n",
    "print(\"train time:\", time.time() - t0)"
   ]
  },
  {
   "cell_type": "code",
   "execution_count": 99,
   "metadata": {},
   "outputs": [
    {
     "name": "stdout",
     "output_type": "stream",
     "text": [
      "{Param(parent='GBTClassifier_19873ae1c30e', name='maxIter', doc='max number of iterations (>= 0).'): 20}\n"
     ]
    }
   ],
   "source": [
    "print(cvModel.getEstimatorParamMaps()[np.argmax(cvModel.avgMetrics)])"
   ]
  },
  {
   "cell_type": "code",
   "execution_count": 100,
   "metadata": {},
   "outputs": [
    {
     "name": "stdout",
     "output_type": "stream",
     "text": [
      "Test Area under ROC curve 0.7523257015607543\n",
      "Test Accuracy 0.7504920183686857\n"
     ]
    }
   ],
   "source": [
    "cv_gbt_pred = cvModel.transform(test_data)\n",
    "\n",
    "print('Test Area under ROC curve', evaluator.evaluate(cv_gbt_pred))\n",
    "print('Test Accuracy', evaluator_2.evaluate(cv_gbt_pred ,{evaluator_2.metricName: \"accuracy\"}))"
   ]
  },
  {
   "cell_type": "markdown",
   "metadata": {},
   "source": [
    "#### We are going to continue with our GBT with max depth at 5, max bins at 10, and max iterations at 20"
   ]
  },
  {
   "cell_type": "code",
   "execution_count": 101,
   "metadata": {},
   "outputs": [
    {
     "name": "stdout",
     "output_type": "stream",
     "text": [
      "Test Area under ROC curve 0.7511059910736344\n",
      "Test Accuracy 0.7497631022669291\n"
     ]
    }
   ],
   "source": [
    "gbt = GBTClassifier(labelCol='hospital_death', featuresCol='scaledFeatures', maxDepth=5, maxBins=10, maxIter=20)\n",
    "\n",
    "pipeline = Pipeline(stages=[va, sc, gbt])\n",
    "\n",
    "gbt_model = pipeline.fit(df_subset_balanced)\n",
    "\n",
    "gbt_pred_final = gbt_model.transform(test_data)\n",
    "\n",
    "print('Test Area under ROC curve', evaluator.evaluate(gbt_pred_final))\n",
    "print('Test Accuracy', evaluator_2.evaluate(gbt_pred_final ,{evaluator_2.metricName: \"accuracy\"}))"
   ]
  },
  {
   "cell_type": "markdown",
   "metadata": {},
   "source": [
    "#### Confusion Matrix"
   ]
  },
  {
   "cell_type": "code",
   "execution_count": 102,
   "metadata": {},
   "outputs": [
    {
     "name": "stdout",
     "output_type": "stream",
     "text": [
      "[[9452. 3159.]\n",
      " [ 274.  834.]]\n"
     ]
    }
   ],
   "source": [
    "preds_and_labels = gbt_pred_final.select(['prediction','hospital_death']).withColumn('label', F.col('hospital_death').cast(FloatType())).orderBy('prediction')\n",
    "\n",
    "#select only prediction and label columns\n",
    "preds_and_labels = preds_and_labels.select(['prediction','label'])\n",
    "\n",
    "metrics = MulticlassMetrics(preds_and_labels.rdd.map(tuple))\n",
    "\n",
    "print(metrics.confusionMatrix().toArray())"
   ]
  },
  {
   "cell_type": "markdown",
   "metadata": {},
   "source": [
    "#### FPR, Recall, Precision"
   ]
  },
  {
   "cell_type": "code",
   "execution_count": 103,
   "metadata": {},
   "outputs": [
    {
     "name": "stdout",
     "output_type": "stream",
     "text": [
      "False Positive Rate: 0.2504955990801681\n",
      "Recall: 0.7527075812274369\n",
      "Precision: 0.20886551465063863\n"
     ]
    }
   ],
   "source": [
    "print('False Positive Rate:', metrics.falsePositiveRate(1.0))\n",
    "print('Recall:', metrics.recall(1.0))\n",
    "print('Precision:', metrics.precision(1.0))"
   ]
  },
  {
   "cell_type": "markdown",
   "metadata": {},
   "source": [
    "### Random Forest with Important Features (per PCA, Multicollinearity Checks)"
   ]
  },
  {
   "cell_type": "code",
   "execution_count": 104,
   "metadata": {},
   "outputs": [
    {
     "name": "stdout",
     "output_type": "stream",
     "text": [
      "train time: 458.6901476383209\n"
     ]
    }
   ],
   "source": [
    "# Importing necessary ML libraries and packages\n",
    "from pyspark.ml.classification import RandomForestClassifier\n",
    "from pyspark.ml.tuning import CrossValidator, ParamGridBuilder\n",
    "from pyspark.ml.evaluation import BinaryClassificationEvaluator,MulticlassClassificationEvaluator\n",
    "\n",
    "va = VectorAssembler(inputCols=[c for c in df_subset_balanced.columns if c not in {'hospital_death'}], outputCol=\"features\")  \n",
    "sc = StandardScaler(inputCol=\"features\", outputCol=\"scaledFeatures\")\n",
    "rf = RandomForestClassifier(labelCol=\"hospital_death\", featuresCol=\"scaledFeatures\")\n",
    "\n",
    "pipeline = Pipeline(stages=[va, sc, rf])\n",
    "paramGrid = ParamGridBuilder() \\\n",
    "    .addGrid(rf.numTrees, [int(x) for x in np.linspace(start = 10, stop = 30, num = 10)]) \\\n",
    "    .addGrid(rf.maxDepth, [int(x) for x in np.linspace(start = 5, stop = 15, num = 5)]) \\\n",
    "    .build()\n",
    "crossval = CrossValidator(estimator=pipeline,\n",
    "                          estimatorParamMaps=paramGrid,\n",
    "                          evaluator=BinaryClassificationEvaluator(labelCol='hospital_death', rawPredictionCol=\"prediction\"),\n",
    "                          numFolds=3)\n",
    "\n",
    "import time\n",
    "t0 = time.time()\n",
    "cvModel = crossval.setParallelism(4).fit(df_subset_balanced)\n",
    "\n",
    "print(\"train time:\", time.time() - t0)"
   ]
  },
  {
   "cell_type": "code",
   "execution_count": 105,
   "metadata": {},
   "outputs": [],
   "source": [
    "rf_pred_final = cvModel.transform(test_data)"
   ]
  },
  {
   "cell_type": "markdown",
   "metadata": {},
   "source": [
    "#### Feature Importance Plot"
   ]
  },
  {
   "cell_type": "code",
   "execution_count": 106,
   "metadata": {},
   "outputs": [
    {
     "data": {
      "text/plain": [
       "array([0.13400385, 0.03304722, 0.06630009, 0.04870713, 0.04378414,\n",
       "       0.03123206, 0.1332477 , 0.06145831, 0.03024853, 0.0433218 ,\n",
       "       0.03690034, 0.0487414 , 0.05953056, 0.03459739, 0.0264713 ,\n",
       "       0.05484878])"
      ]
     },
     "execution_count": 106,
     "metadata": {},
     "output_type": "execute_result"
    }
   ],
   "source": [
    "feature_importances = cvModel.bestModel.stages[-1].featureImportances\n",
    "feature_importances = np.delete(feature_importances.toArray(), 16)\n",
    "feature_importances"
   ]
  },
  {
   "cell_type": "code",
   "execution_count": 107,
   "metadata": {},
   "outputs": [
    {
     "data": {
      "text/plain": [
       "['GCS_buckets',\n",
       " 'd1_diasbp_max',\n",
       " 'd1_diasbp_min',\n",
       " 'd1_heartrate_min',\n",
       " 'd1_resprate_min',\n",
       " 'd1_sysbp_max',\n",
       " 'd1_sysbp_min',\n",
       " 'd1_temp_min',\n",
       " 'h1_diasbp_max',\n",
       " 'h1_heartrate_max',\n",
       " 'h1_mbp_min',\n",
       " 'h1_resprate_max',\n",
       " 'h1_resprate_min',\n",
       " 'h1_sysbp_max',\n",
       " 'intubated_apache',\n",
       " 'map_apache',\n",
       " 'ventilated_apache',\n",
       " 'hospital_death']"
      ]
     },
     "execution_count": 107,
     "metadata": {},
     "output_type": "execute_result"
    }
   ],
   "source": [
    "df_subset_balanced.columns"
   ]
  },
  {
   "cell_type": "code",
   "execution_count": 108,
   "metadata": {},
   "outputs": [
    {
     "data": {
      "image/png": "[encoded data removed]",
      "text/plain": [
       "<Figure size 640x480 with 1 Axes>"
      ]
     },
     "metadata": {},
     "output_type": "display_data"
    },
    {
     "data": {
      "text/plain": [
       "<Figure size 1500x800 with 0 Axes>"
      ]
     },
     "metadata": {},
     "output_type": "display_data"
    }
   ],
   "source": [
    "x_values = list(range(len(feature_importances)))\n",
    "plt.bar(x_values, feature_importances, orientation='vertical')\n",
    "plt.xticks(range(17), [c for c in df_subset_balanced.columns if c not in {'hospital_death'}], rotation=90)\n",
    "plt.ylabel('Importance')\n",
    "plt.xlabel('Feature')\n",
    "plt.title('Feature Importance Scores using Important Variables Subset')\n",
    "plt.figure(figsize=(15, 8))\n",
    "plt.show()"
   ]
  },
  {
   "cell_type": "markdown",
   "metadata": {},
   "source": [
    "#### Classification Metrics"
   ]
  },
  {
   "cell_type": "code",
   "execution_count": 109,
   "metadata": {},
   "outputs": [
    {
     "name": "stdout",
     "output_type": "stream",
     "text": [
      "Test Area under ROC curve 0.7962374260966947\n",
      "Test Accuracy 0.770682994387346\n"
     ]
    }
   ],
   "source": [
    "from pyspark.mllib.evaluation import MulticlassMetrics\n",
    "from pyspark.sql.types import FloatType\n",
    "\n",
    "evaluator = BinaryClassificationEvaluator(labelCol='hospital_death', rawPredictionCol=\"prediction\", metricName='areaUnderROC')\n",
    "print('Test Area under ROC curve', evaluator.evaluate(rf_pred_final))\n",
    "\n",
    "evaluator_2 = MulticlassClassificationEvaluator(labelCol='hospital_death', predictionCol=\"prediction\")\n",
    "print('Test Accuracy', evaluator_2.evaluate(rf_pred_final,{evaluator_2.metricName: \"accuracy\"}))"
   ]
  },
  {
   "cell_type": "code",
   "execution_count": 110,
   "metadata": {},
   "outputs": [
    {
     "name": "stdout",
     "output_type": "stream",
     "text": [
      "[[9657. 2954.]\n",
      " [ 192.  916.]]\n"
     ]
    }
   ],
   "source": [
    "#select only prediction and label columns\n",
    "preds_and_labels = rf_pred_final.select(['prediction','hospital_death']).withColumn('label', F.col('hospital_death').cast(FloatType())).orderBy('prediction')\n",
    "\n",
    "preds_and_labels = preds_and_labels.select(['prediction','label'])\n",
    "\n",
    "metrics = MulticlassMetrics(preds_and_labels.rdd.map(tuple))\n",
    "\n",
    "print(metrics.confusionMatrix().toArray())"
   ]
  },
  {
   "cell_type": "code",
   "execution_count": 111,
   "metadata": {},
   "outputs": [
    {
     "name": "stdout",
     "output_type": "stream",
     "text": [
      "False Positive Rate: 0.2342399492506542\n",
      "Recall: 0.8267148014440433\n",
      "Precision: 0.23669250645994833\n"
     ]
    }
   ],
   "source": [
    "print('False Positive Rate:', metrics.falsePositiveRate(1.0))\n",
    "print('Recall:', metrics.recall(1.0))\n",
    "print('Precision:', metrics.precision(1.0))"
   ]
  },
  {
   "cell_type": "markdown",
   "metadata": {},
   "source": [
    "### K Means Classifier"
   ]
  },
  {
   "cell_type": "code",
   "execution_count": 116,
   "metadata": {},
   "outputs": [
    {
     "data": {
      "text/plain": [
       "DataFrame[age: int, bmi: double, elective_surgery: boolean, height: double, pre_icu_los_days: double, weight: double, apache_post_operative: boolean, arf_apache: boolean, gcs_unable_apache: boolean, heart_rate_apache: int, intubated_apache: boolean, map_apache: int, resprate_apache: double, temp_apache: double, ventilated_apache: boolean, d1_diasbp_max: int, d1_diasbp_min: int, d1_heartrate_max: int, d1_heartrate_min: int, d1_mbp_max: int, d1_mbp_min: int, d1_resprate_max: int, d1_resprate_min: int, d1_spo2_max: int, d1_spo2_min: int, d1_sysbp_max: int, d1_sysbp_min: int, d1_temp_max: double, d1_temp_min: double, h1_diasbp_max: int, h1_diasbp_min: int, h1_heartrate_max: int, h1_heartrate_min: int, h1_mbp_max: int, h1_mbp_min: int, h1_resprate_max: int, h1_resprate_min: int, h1_spo2_max: int, h1_spo2_min: int, h1_sysbp_max: int, h1_sysbp_min: int, d1_glucose_max: int, d1_glucose_min: int, aids: boolean, cirrhosis: boolean, diabetes_mellitus: boolean, hepatic_failure: boolean, immunosuppression: boolean, leukemia: boolean, lymphoma: boolean, solid_tumor_with_metastasis: boolean, hospital_death: int, GCS_buckets: double, ethnicityIndex: double, genderIndex: double, icu_admit_sourceIndex: double, icu_typeIndex: double, apache_3j_bodysystemIndex: double, apache_2_bodysystemIndex: double, features: vector]"
      ]
     },
     "execution_count": 116,
     "metadata": {},
     "output_type": "execute_result"
    }
   ],
   "source": [
    "dfb = va.transform(df_2)\n",
    "dfb"
   ]
  },
  {
   "cell_type": "code",
   "execution_count": 117,
   "metadata": {},
   "outputs": [
    {
     "data": {
      "image/png": "[encoded data removed]",
      "text/plain": [
       "<Figure size 640x480 with 1 Axes>"
      ]
     },
     "metadata": {},
     "output_type": "display_data"
    }
   ],
   "source": [
    "from pyspark.ml.evaluation import ClusteringEvaluator\n",
    "from pyspark.ml.clustering import KMeans\n",
    "import pandas as pd\n",
    "\n",
    "cost = np.zeros(10)\n",
    "\n",
    "for k in range(2,10):\n",
    "    kmeans = KMeans().setK(k).setSeed(314).setFeaturesCol('features')\n",
    "    model = kmeans.fit(dfb)\n",
    "    cost[k] = model.summary.trainingCost\n",
    "\n",
    "# Plot the cost\n",
    "df_cost = pd.DataFrame(cost[2:])\n",
    "df_cost.columns = [\"cost\"]\n",
    "new_col = [2,3,4,5,6,7,8, 9]\n",
    "df_cost.insert(0, 'cluster', new_col)\n",
    "\n",
    "import pylab as pl\n",
    "pl.plot(df_cost.cluster, df_cost.cost)\n",
    "pl.xlabel('Number of Clusters')\n",
    "pl.ylabel('Score')\n",
    "pl.title('Elbow Curve')\n",
    "pl.show()"
   ]
  },
  {
   "cell_type": "code",
   "execution_count": 118,
   "metadata": {},
   "outputs": [],
   "source": [
    "train_split = [0.8,0.2]\n",
    "seed = 314\n",
    "train, test = df_subset_balanced.randomSplit(train_split, seed=seed)\n",
    "\n",
    "va = VectorAssembler(inputCols=[c for c in df_subset_balanced.columns if c not in {'hospital_death'}], outputCol=\"features\")  \n",
    "sc = StandardScaler(inputCol=\"features\", outputCol=\"scaledFeatures\")\n",
    "km = KMeans().setK(7).setSeed(314).setFeaturesCol('scaledFeatures')\n",
    "\n",
    "# Fit the pipeline\n",
    "pipeline = Pipeline(stages=[va, sc, km])\n",
    "km_model = pipeline.fit(train)"
   ]
  },
  {
   "cell_type": "code",
   "execution_count": 119,
   "metadata": {},
   "outputs": [],
   "source": [
    "km_pred = km_model.transform(test)"
   ]
  },
  {
   "cell_type": "code",
   "execution_count": 120,
   "metadata": {},
   "outputs": [
    {
     "name": "stdout",
     "output_type": "stream",
     "text": [
      "Silhouette with squared euclidean distance = 0.010594713689364271\n",
      "Cluster Centers: \n",
      "[array([2.05456257e+00, 4.81792082e+00, 4.29407622e+00, 3.45012010e+00,\n",
      "       2.44529348e+00, 6.21230769e+00, 5.18736343e+00, 3.34564700e+01,\n",
      "       4.52095326e+00, 3.95447339e+00, 4.86508179e+00, 2.82976469e+00,\n",
      "       2.68824803e+00, 5.40445953e+00, 2.56566197e-02, 2.69352459e+00,\n",
      "       2.94938185e-01]), array([ 0.48525055,  5.54087138,  3.26786757,  3.14417   ,  1.92347737,\n",
      "        6.66454854,  3.95737111, 32.48274292,  5.25212751,  4.43806396,\n",
      "        4.41983936,  3.04482827,  2.52544975,  5.7690151 ,  1.22240154,\n",
      "        2.86952501,  1.83038168]), array([ 2.1613169 ,  3.93996602,  3.19549945,  3.14498855,  2.05465483,\n",
      "        5.123287  ,  4.08594215, 33.32316407,  3.40897294,  3.65311363,\n",
      "        3.55628873,  2.51332071,  2.33151759,  4.18902649,  0.        ,\n",
      "        1.49876092,  0.20679833]), array([ 1.2393413 ,  4.60506477,  2.94315546,  3.92237175,  3.03927828,\n",
      "        5.68943914,  3.64096318, 33.37113305,  4.11587617,  5.14519023,\n",
      "        3.70337091,  4.61956458,  4.27025893,  4.67720638,  0.89467927,\n",
      "        1.93421191,  1.65866889]), array([ 1.97176334,  3.7637458 ,  3.12468326,  4.28221363,  3.02045318,\n",
      "        4.71627931,  3.80456293, 33.43264686,  3.32599417,  4.8145222 ,\n",
      "        3.35818295,  3.379855  ,  3.39682279,  3.81602117,  0.08922749,\n",
      "        1.38654554,  0.57005397]), array([ 0.48989558,  4.05558889,  2.22254173,  2.77302315,  2.0159153 ,\n",
      "        5.0611145 ,  2.95925066, 31.8107066 ,  3.31622614,  4.27117879,\n",
      "        2.76064741,  3.05288746,  2.72115087,  3.84303073,  1.36145834,\n",
      "        1.49924391,  1.88143091]), array([ 0.74527522,  3.81070618,  3.42398467,  3.5795451 ,  2.0483715 ,\n",
      "        5.14129149,  4.14021757, 33.26705233,  3.52866674,  4.0593538 ,\n",
      "        3.61187882,  2.40876304,  2.28379163,  4.28857018,  1.61375053,\n",
      "        1.68611972,  1.99805979])]\n"
     ]
    }
   ],
   "source": [
    "from pyspark.ml.evaluation import ClusteringEvaluator\n",
    "evaluator = ClusteringEvaluator()\n",
    "\n",
    "silhouette = evaluator.evaluate(km_pred)\n",
    "print(\"Silhouette with squared euclidean distance = \" + str(silhouette))\n",
    "\n",
    "print(\"Cluster Centers: \")\n",
    "centers = km_model.stages[2].clusterCenters()\n",
    "print(centers)"
   ]
  },
  {
   "cell_type": "code",
   "execution_count": 121,
   "metadata": {},
   "outputs": [],
   "source": [
    "from pyspark.sql.types import DoubleType\n",
    "\n",
    "km_pred = km_pred.withColumn(\"prediction\", km_pred[\"prediction\"].cast(DoubleType()))"
   ]
  },
  {
   "cell_type": "code",
   "execution_count": 122,
   "metadata": {},
   "outputs": [
    {
     "name": "stdout",
     "output_type": "stream",
     "text": [
      "Test Area under ROC curve 0.6555844633659204\n",
      "Test Accuracy 0.21764032073310424\n"
     ]
    }
   ],
   "source": [
    "from pyspark.ml.evaluation import BinaryClassificationEvaluator,MulticlassClassificationEvaluator\n",
    "evaluator = BinaryClassificationEvaluator(labelCol='hospital_death', rawPredictionCol=\"prediction\", metricName='areaUnderROC')\n",
    "print('Test Area under ROC curve', evaluator.evaluate(km_pred))\n",
    "\n",
    "evaluator_2 = MulticlassClassificationEvaluator(labelCol='hospital_death', predictionCol=\"prediction\")\n",
    "print('Test Accuracy', evaluator_2.evaluate(km_pred,{evaluator_2.metricName: \"accuracy\"}))"
   ]
  },
  {
   "cell_type": "code",
   "execution_count": 123,
   "metadata": {},
   "outputs": [
    {
     "name": "stdout",
     "output_type": "stream",
     "text": [
      "[[270.  43.]\n",
      " [ 67. 110.]]\n"
     ]
    }
   ],
   "source": [
    "preds_and_labels = km_pred.select(['prediction','hospital_death']).withColumn('label', F.col('hospital_death').cast(FloatType())).orderBy('prediction')\n",
    "\n",
    "#select only prediction and label columns\n",
    "preds_and_labels = preds_and_labels.select(['prediction','label'])\n",
    "\n",
    "metrics = MulticlassMetrics(preds_and_labels.rdd.map(tuple))\n",
    "\n",
    "print(metrics.confusionMatrix().toArray())"
   ]
  },
  {
   "cell_type": "code",
   "execution_count": 124,
   "metadata": {},
   "outputs": [
    {
     "name": "stdout",
     "output_type": "stream",
     "text": [
      "False Positive Rate 0.04746136865342163\n",
      "Recall 0.13095238095238096\n",
      "Precision 0.7189542483660131\n"
     ]
    }
   ],
   "source": [
    "print('False Positive Rate', metrics.falsePositiveRate(1.0))\n",
    "print('Recall', metrics.recall(1.0))\n",
    "print('Precision', metrics.precision(1.0))"
   ]
  }
 ],
 "metadata": {
  "kernelspec": {
   "display_name": "DS 5110 Spark 3.1",
   "language": "python",
   "name": "ds5110_spark3.1"
  },
  "language_info": {
   "codemirror_mode": {
    "name": "ipython",
    "version": 3
   },
   "file_extension": ".py",
   "mimetype": "text/x-python",
   "name": "python",
   "nbconvert_exporter": "python",
   "pygments_lexer": "ipython3",
   "version": "3.7.10"
  }
 },
 "nbformat": 4,
 "nbformat_minor": 4
}
