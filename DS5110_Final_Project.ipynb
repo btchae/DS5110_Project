{
 "cells": [
  {
   "cell_type": "markdown",
   "metadata": {},
   "source": [
    "## DS 5110 Final Project - Hospital Mortality\n",
    "### Team 3\n",
    "### By: Elena Tsvetskova, Brian Chae, Ryan Viti (rrv7eb)"
   ]
  },
  {
   "cell_type": "code",
   "execution_count": 1,
   "metadata": {},
   "outputs": [
    {
     "data": {
      "text/plain": [
       "91713"
      ]
     },
     "execution_count": 1,
     "metadata": {},
     "output_type": "execute_result"
    }
   ],
   "source": [
    "# importing necessary libraries and packages\n",
    "from pyspark.sql import SparkSession\n",
    "import pyspark.sql.functions as F\n",
    "from pyspark.sql.functions import round, col, isnan, when, count, countDistinct, mean\n",
    "from pyspark.ml.feature import Imputer, VectorAssembler, StandardScaler\n",
    "from pyspark.ml.stat import Correlation\n",
    "\n",
    "# session initialization\n",
    "spark = SparkSession.builder \\\n",
    "        .master(\"local\") \\\n",
    "        .appName(\"Team 3 Final Project\") \\\n",
    "        .getOrCreate()\n",
    "\n",
    "filename = \"hospital_mortality.csv\"\n",
    "\n",
    "data = spark.read.csv(filename, inferSchema=True, header=True)\n",
    "data.count()"
   ]
  },
  {
   "cell_type": "code",
   "execution_count": 2,
   "metadata": {},
   "outputs": [
    {
     "name": "stdout",
     "output_type": "stream",
     "text": [
      "root\n",
      " |-- encounter_id: integer (nullable = true)\n",
      " |-- patient_id: integer (nullable = true)\n",
      " |-- hospital_id: integer (nullable = true)\n",
      " |-- age: integer (nullable = true)\n",
      " |-- bmi: double (nullable = true)\n",
      " |-- elective_surgery: integer (nullable = true)\n",
      " |-- ethnicity: string (nullable = true)\n",
      " |-- gender: string (nullable = true)\n",
      " |-- height: double (nullable = true)\n",
      " |-- icu_admit_source: string (nullable = true)\n",
      " |-- icu_id: integer (nullable = true)\n",
      " |-- icu_stay_type: string (nullable = true)\n",
      " |-- icu_type: string (nullable = true)\n",
      " |-- pre_icu_los_days: double (nullable = true)\n",
      " |-- weight: double (nullable = true)\n",
      " |-- apache_2_diagnosis: integer (nullable = true)\n",
      " |-- apache_3j_diagnosis: double (nullable = true)\n",
      " |-- apache_post_operative: integer (nullable = true)\n",
      " |-- arf_apache: integer (nullable = true)\n",
      " |-- gcs_eyes_apache: integer (nullable = true)\n",
      " |-- gcs_motor_apache: integer (nullable = true)\n",
      " |-- gcs_unable_apache: integer (nullable = true)\n",
      " |-- gcs_verbal_apache: integer (nullable = true)\n",
      " |-- heart_rate_apache: integer (nullable = true)\n",
      " |-- intubated_apache: integer (nullable = true)\n",
      " |-- map_apache: integer (nullable = true)\n",
      " |-- resprate_apache: double (nullable = true)\n",
      " |-- temp_apache: double (nullable = true)\n",
      " |-- ventilated_apache: integer (nullable = true)\n",
      " |-- d1_diasbp_max: integer (nullable = true)\n",
      " |-- d1_diasbp_min: integer (nullable = true)\n",
      " |-- d1_diasbp_noninvasive_max: integer (nullable = true)\n",
      " |-- d1_diasbp_noninvasive_min: integer (nullable = true)\n",
      " |-- d1_heartrate_max: integer (nullable = true)\n",
      " |-- d1_heartrate_min: integer (nullable = true)\n",
      " |-- d1_mbp_max: integer (nullable = true)\n",
      " |-- d1_mbp_min: integer (nullable = true)\n",
      " |-- d1_mbp_noninvasive_max: integer (nullable = true)\n",
      " |-- d1_mbp_noninvasive_min: integer (nullable = true)\n",
      " |-- d1_resprate_max: integer (nullable = true)\n",
      " |-- d1_resprate_min: integer (nullable = true)\n",
      " |-- d1_spo2_max: integer (nullable = true)\n",
      " |-- d1_spo2_min: integer (nullable = true)\n",
      " |-- d1_sysbp_max: integer (nullable = true)\n",
      " |-- d1_sysbp_min: integer (nullable = true)\n",
      " |-- d1_sysbp_noninvasive_max: integer (nullable = true)\n",
      " |-- d1_sysbp_noninvasive_min: double (nullable = true)\n",
      " |-- d1_temp_max: double (nullable = true)\n",
      " |-- d1_temp_min: double (nullable = true)\n",
      " |-- h1_diasbp_max: integer (nullable = true)\n",
      " |-- h1_diasbp_min: integer (nullable = true)\n",
      " |-- h1_diasbp_noninvasive_max: integer (nullable = true)\n",
      " |-- h1_diasbp_noninvasive_min: integer (nullable = true)\n",
      " |-- h1_heartrate_max: integer (nullable = true)\n",
      " |-- h1_heartrate_min: integer (nullable = true)\n",
      " |-- h1_mbp_max: integer (nullable = true)\n",
      " |-- h1_mbp_min: integer (nullable = true)\n",
      " |-- h1_mbp_noninvasive_max: integer (nullable = true)\n",
      " |-- h1_mbp_noninvasive_min: integer (nullable = true)\n",
      " |-- h1_resprate_max: integer (nullable = true)\n",
      " |-- h1_resprate_min: integer (nullable = true)\n",
      " |-- h1_spo2_max: integer (nullable = true)\n",
      " |-- h1_spo2_min: integer (nullable = true)\n",
      " |-- h1_sysbp_max: integer (nullable = true)\n",
      " |-- h1_sysbp_min: integer (nullable = true)\n",
      " |-- h1_sysbp_noninvasive_max: integer (nullable = true)\n",
      " |-- h1_sysbp_noninvasive_min: integer (nullable = true)\n",
      " |-- d1_glucose_max: integer (nullable = true)\n",
      " |-- d1_glucose_min: integer (nullable = true)\n",
      " |-- d1_potassium_max: double (nullable = true)\n",
      " |-- d1_potassium_min: double (nullable = true)\n",
      " |-- apache_4a_hospital_death_prob: double (nullable = true)\n",
      " |-- apache_4a_icu_death_prob: double (nullable = true)\n",
      " |-- aids: integer (nullable = true)\n",
      " |-- cirrhosis: integer (nullable = true)\n",
      " |-- diabetes_mellitus: integer (nullable = true)\n",
      " |-- hepatic_failure: integer (nullable = true)\n",
      " |-- immunosuppression: integer (nullable = true)\n",
      " |-- leukemia: integer (nullable = true)\n",
      " |-- lymphoma: integer (nullable = true)\n",
      " |-- solid_tumor_with_metastasis: integer (nullable = true)\n",
      " |-- apache_3j_bodysystem: string (nullable = true)\n",
      " |-- apache_2_bodysystem: string (nullable = true)\n",
      " |-- _c83: string (nullable = true)\n",
      " |-- hospital_death: integer (nullable = true)\n",
      "\n"
     ]
    }
   ],
   "source": [
    "# printing original dataset schema\n",
    "data.printSchema()"
   ]
  },
  {
   "cell_type": "markdown",
   "metadata": {},
   "source": [
    "## Data Cleaning and EDA"
   ]
  },
  {
   "cell_type": "code",
   "execution_count": 3,
   "metadata": {},
   "outputs": [],
   "source": [
    "# empty columns, unique identifiers unnecessary for analysis\n",
    "\n",
    "data = data.drop(\"_c83\", \"encounter_id\", \"patient_id\", \"hospital_id\", \"icu_id\", \"icu_stay_type\")"
   ]
  },
  {
   "cell_type": "code",
   "execution_count": 4,
   "metadata": {},
   "outputs": [
    {
     "name": "stdout",
     "output_type": "stream",
     "text": [
      "+----+-----+\n",
      "|aids|count|\n",
      "+----+-----+\n",
      "|null|  715|\n",
      "|   1|   78|\n",
      "|   0|90920|\n",
      "+----+-----+\n",
      "\n",
      "+---------+-----+\n",
      "|cirrhosis|count|\n",
      "+---------+-----+\n",
      "|     null|  715|\n",
      "|        1| 1428|\n",
      "|        0|89570|\n",
      "+---------+-----+\n",
      "\n",
      "+-----------------+-----+\n",
      "|diabetes_mellitus|count|\n",
      "+-----------------+-----+\n",
      "|             null|  715|\n",
      "|                1|20492|\n",
      "|                0|70506|\n",
      "+-----------------+-----+\n",
      "\n",
      "+---------------+-----+\n",
      "|hepatic_failure|count|\n",
      "+---------------+-----+\n",
      "|           null|  715|\n",
      "|              1| 1182|\n",
      "|              0|89816|\n",
      "+---------------+-----+\n",
      "\n",
      "+--------+-----+\n",
      "|leukemia|count|\n",
      "+--------+-----+\n",
      "|    null|  715|\n",
      "|       1|  643|\n",
      "|       0|90355|\n",
      "+--------+-----+\n",
      "\n",
      "+--------+-----+\n",
      "|lymphoma|count|\n",
      "+--------+-----+\n",
      "|    null|  715|\n",
      "|       1|  376|\n",
      "|       0|90622|\n",
      "+--------+-----+\n",
      "\n",
      "+---------------------------+-----+\n",
      "|solid_tumor_with_metastasis|count|\n",
      "+---------------------------+-----+\n",
      "|                       null|  715|\n",
      "|                          1| 1878|\n",
      "|                          0|89120|\n",
      "+---------------------------+-----+\n",
      "\n"
     ]
    }
   ],
   "source": [
    "# Distribution of reported diseases\n",
    "diseases = [\"aids\", \"cirrhosis\", \"diabetes_mellitus\", \"hepatic_failure\", \"leukemia\", \"lymphoma\", \"solid_tumor_with_metastasis\"]\n",
    "for i in diseases:\n",
    "    data.select(i).groupBy(i).count().show()"
   ]
  },
  {
   "cell_type": "code",
   "execution_count": null,
   "metadata": {},
   "outputs": [],
   "source": []
  },
  {
   "cell_type": "markdown",
   "metadata": {},
   "source": [
    "### Experimenting with NA Origins for Certain Columns"
   ]
  },
  {
   "cell_type": "code",
   "execution_count": 5,
   "metadata": {},
   "outputs": [],
   "source": [
    "for name in diseases:\n",
    "    data = data.withColumn(name, col(name).cast('boolean'))"
   ]
  },
  {
   "cell_type": "code",
   "execution_count": 6,
   "metadata": {},
   "outputs": [
    {
     "name": "stdout",
     "output_type": "stream",
     "text": [
      "+----+----+----------------+---------+------+------+----------------+--------+----------------+------+------------------+-------------------+---------------------+----------+---------------+----------------+-----------------+-----------------+-----------------+----------------+----------+---------------+-----------+-----------------+-------------+-------------+-------------------------+-------------------------+----------------+----------------+----------+----------+----------------------+----------------------+---------------+---------------+-----------+-----------+------------+------------+------------------------+------------------------+-----------+-----------+-------------+-------------+-------------------------+-------------------------+----------------+----------------+----------+----------+----------------------+----------------------+---------------+---------------+-----------+-----------+------------+------------+------------------------+------------------------+--------------+--------------+----------------+----------------+-----------------------------+------------------------+----+---------+-----------------+---------------+-----------------+--------+--------+---------------------------+--------------------+-------------------+--------------+\n",
      "| age| bmi|elective_surgery|ethnicity|gender|height|icu_admit_source|icu_type|pre_icu_los_days|weight|apache_2_diagnosis|apache_3j_diagnosis|apache_post_operative|arf_apache|gcs_eyes_apache|gcs_motor_apache|gcs_unable_apache|gcs_verbal_apache|heart_rate_apache|intubated_apache|map_apache|resprate_apache|temp_apache|ventilated_apache|d1_diasbp_max|d1_diasbp_min|d1_diasbp_noninvasive_max|d1_diasbp_noninvasive_min|d1_heartrate_max|d1_heartrate_min|d1_mbp_max|d1_mbp_min|d1_mbp_noninvasive_max|d1_mbp_noninvasive_min|d1_resprate_max|d1_resprate_min|d1_spo2_max|d1_spo2_min|d1_sysbp_max|d1_sysbp_min|d1_sysbp_noninvasive_max|d1_sysbp_noninvasive_min|d1_temp_max|d1_temp_min|h1_diasbp_max|h1_diasbp_min|h1_diasbp_noninvasive_max|h1_diasbp_noninvasive_min|h1_heartrate_max|h1_heartrate_min|h1_mbp_max|h1_mbp_min|h1_mbp_noninvasive_max|h1_mbp_noninvasive_min|h1_resprate_max|h1_resprate_min|h1_spo2_max|h1_spo2_min|h1_sysbp_max|h1_sysbp_min|h1_sysbp_noninvasive_max|h1_sysbp_noninvasive_min|d1_glucose_max|d1_glucose_min|d1_potassium_max|d1_potassium_min|apache_4a_hospital_death_prob|apache_4a_icu_death_prob|aids|cirrhosis|diabetes_mellitus|hepatic_failure|immunosuppression|leukemia|lymphoma|solid_tumor_with_metastasis|apache_3j_bodysystem|apache_2_bodysystem|hospital_death|\n",
      "+----+----+----------------+---------+------+------+----------------+--------+----------------+------+------------------+-------------------+---------------------+----------+---------------+----------------+-----------------+-----------------+-----------------+----------------+----------+---------------+-----------+-----------------+-------------+-------------+-------------------------+-------------------------+----------------+----------------+----------+----------+----------------------+----------------------+---------------+---------------+-----------+-----------+------------+------------+------------------------+------------------------+-----------+-----------+-------------+-------------+-------------------------+-------------------------+----------------+----------------+----------+----------+----------------------+----------------------+---------------+---------------+-----------+-----------+------------+------------+------------------------+------------------------+--------------+--------------+----------------+----------------+-----------------------------+------------------------+----+---------+-----------------+---------------+-----------------+--------+--------+---------------------------+--------------------+-------------------+--------------+\n",
      "|4228|3429|               0|     1395|    25|  1334|             112|       0|               0|  2720|              1662|               1101|                    0|       715|           1901|            1901|             1037|             1901|              878|             715|       994|           1234|       4108|              715|          165|          165|                     1040|                     1040|             145|             145|       220|       220|                  1479|                  1479|            385|            385|        333|        333|         159|         159|                    1027|                    1027|       2324|       2324|         3619|         3619|                     7350|                     7350|            2790|            2790|      4639|      4639|                  9084|                  9084|           4357|           4357|       4185|       4185|        3611|        3611|                    7341|                    7341|          5807|          5807|            9585|            9585|                         7947|                    7947| 715|      715|              715|            715|              715|     715|     715|                        715|                1662|               1662|             0|\n",
      "+----+----+----------------+---------+------+------+----------------+--------+----------------+------+------------------+-------------------+---------------------+----------+---------------+----------------+-----------------+-----------------+-----------------+----------------+----------+---------------+-----------+-----------------+-------------+-------------+-------------------------+-------------------------+----------------+----------------+----------+----------+----------------------+----------------------+---------------+---------------+-----------+-----------+------------+------------+------------------------+------------------------+-----------+-----------+-------------+-------------+-------------------------+-------------------------+----------------+----------------+----------+----------+----------------------+----------------------+---------------+---------------+-----------+-----------+------------+------------+------------------------+------------------------+--------------+--------------+----------------+----------------+-----------------------------+------------------------+----+---------+-----------------+---------------+-----------------+--------+--------+---------------------------+--------------------+-------------------+--------------+\n",
      "\n"
     ]
    }
   ],
   "source": [
    "# Quantifying amount of null values in each column of the dataset\n",
    "\n",
    "data.select([count(when(col(c).isNull(), c)).alias(c) for c in data.columns]).show()"
   ]
  },
  {
   "cell_type": "code",
   "execution_count": 7,
   "metadata": {},
   "outputs": [
    {
     "data": {
      "text/plain": [
       "67"
      ]
     },
     "execution_count": 7,
     "metadata": {},
     "output_type": "execute_result"
    }
   ],
   "source": [
    "# dropping noninvasive measurements due to high frequency of NA and lower accuracy of a noninvasive measurement\n",
    "condition = lambda col: 'noninvasive' in col\n",
    "data = data.drop(*filter(condition, data.columns))\n",
    "# amount of columns remaining after dropping\n",
    "len(data.columns)"
   ]
  },
  {
   "cell_type": "code",
   "execution_count": 8,
   "metadata": {},
   "outputs": [
    {
     "name": "stdout",
     "output_type": "stream",
     "text": [
      "+-------------------+\n",
      "|(avg(numNulls) - 7)|\n",
      "+-------------------+\n",
      "| 20.675524475524476|\n",
      "+-------------------+\n",
      "\n"
     ]
    }
   ],
   "source": [
    "import matplotlib.pyplot as plt\n",
    "num_nulls_df=data.withColumn('numNulls', sum(data[col].isNull().cast('int') for col in data.columns))\n",
    "# num_nulls_df.filter([data[i].isNull()==False for i in s1list]).show()\n",
    "# num_nulls_df.filter([col(i).isNull()==False for i in s1list])\n",
    "disease_nulls_df = num_nulls_df.filter(col('lymphoma').isNull())\n",
    "disease_nulls_df.select(mean(\"numNulls\")-len(diseases)).alias(\"AVG_nulls_per_row\").show()"
   ]
  },
  {
   "cell_type": "code",
   "execution_count": 9,
   "metadata": {},
   "outputs": [
    {
     "name": "stdout",
     "output_type": "stream",
     "text": [
      "+-----------------+\n",
      "|    avg(numNulls)|\n",
      "+-----------------+\n",
      "|4.505564741795981|\n",
      "+-----------------+\n",
      "\n"
     ]
    }
   ],
   "source": [
    "# Computing the average number of nulls per row, for reference\n",
    "num_nulls_column = num_nulls_df.select(\"numNulls\")\n",
    "filtered = num_nulls_column.filter(col(\"numNulls\")!= 0)\n",
    "filtered.select(mean(col(\"numNulls\"))).show()"
   ]
  },
  {
   "cell_type": "code",
   "execution_count": null,
   "metadata": {},
   "outputs": [],
   "source": []
  },
  {
   "cell_type": "code",
   "execution_count": 10,
   "metadata": {},
   "outputs": [],
   "source": [
    "# Potential correlation matrix creation using pyspark.ml.stat.Correlation here for numeric variables"
   ]
  },
  {
   "cell_type": "markdown",
   "metadata": {},
   "source": [
    "We will imbalanced response variable in our ML application.\n",
    "Helpful link for doing so:\n",
    "https://medium.com/@junwan01/oversampling-and-undersampling-with-pyspark-5dbc25cdf253"
   ]
  },
  {
   "cell_type": "code",
   "execution_count": 11,
   "metadata": {},
   "outputs": [],
   "source": [
    "import matplotlib.pyplot as plt\n",
    "num_nulls_df=data.withColumn('numNulls', sum(data[col].isNull().cast('int') for col in data.columns))\n",
    "# num_nulls_df.filter([data[i].isNull()==False for i in s1list]).show()\n",
    "# num_nulls_df.filter([col(i).isNull()==False for i in s1list])\n",
    "less_nulls_df = num_nulls_df.filter(col('h1_mbp_min').isNotNull())\n",
    "# less_nulls = less_nulls.filter(less_nulls.numNulls < 3)\n",
    "# less_nulls.count()\n",
    "x = range(1,11)\n",
    "y = []\n",
    "for i in range(1, 11):\n",
    "    y.append(less_nulls_df.filter(less_nulls_df.numNulls < i).count())\n",
    "# less_nulls_df = num_nulls_df.filter((num_nulls_df.numNulls < 2) and col('h1_mbp_min').isNotNull())\n",
    "# less_nulls_df.count()"
   ]
  },
  {
   "cell_type": "code",
   "execution_count": 12,
   "metadata": {},
   "outputs": [
    {
     "data": {
      "image/png": "[encoded data removed]",
      "text/plain": [
       "<Figure size 640x480 with 1 Axes>"
      ]
     },
     "metadata": {},
     "output_type": "display_data"
    }
   ],
   "source": [
    "plt.title('# of Records by Amount of Nulls Allowed per Row')\n",
    "plt.xlabel('# of Nulls')\n",
    "plt.ylabel('# of Records')\n",
    "plt.plot(x, y)\n",
    "plt.show()"
   ]
  },
  {
   "cell_type": "markdown",
   "metadata": {},
   "source": [
    "Using a threshold of 3 nulls per row, due to apparent elbow in our Records vs. Nulls plot."
   ]
  },
  {
   "cell_type": "code",
   "execution_count": 13,
   "metadata": {},
   "outputs": [],
   "source": [
    "less_nulls_df = less_nulls_df.filter(less_nulls_df.numNulls < 5)\n",
    "df_cleaned = less_nulls_df.drop(\"apache_4a_hospital_death_prob\", \"apache_4a_icu_death_prob\", \"d1_potassium_max\", \"d1_potassium_min\", \"numNulls\")"
   ]
  },
  {
   "cell_type": "code",
   "execution_count": 14,
   "metadata": {},
   "outputs": [
    {
     "data": {
      "text/plain": [
       "83672"
      ]
     },
     "execution_count": 14,
     "metadata": {},
     "output_type": "execute_result"
    }
   ],
   "source": [
    "df_cleaned_numRows = df_cleaned.count()\n",
    "df_cleaned_numRows"
   ]
  },
  {
   "cell_type": "code",
   "execution_count": 15,
   "metadata": {},
   "outputs": [
    {
     "name": "stdout",
     "output_type": "stream",
     "text": [
      "+--------------+-----+\n",
      "|hospital_death|count|\n",
      "+--------------+-----+\n",
      "|             1| 7168|\n",
      "|             0|76504|\n",
      "+--------------+-----+\n",
      "\n"
     ]
    }
   ],
   "source": [
    "# Outcome variable distribution\n",
    "df_cleaned.groupBy(\"hospital_death\").count().show()"
   ]
  },
  {
   "cell_type": "markdown",
   "metadata": {},
   "source": [
    "### Percentage of Columns containing NA values"
   ]
  },
  {
   "cell_type": "code",
   "execution_count": null,
   "metadata": {},
   "outputs": [],
   "source": [
    "df_NAcheck = df_cleaned.select([round((count(when(col(c).isNull(), c))/df_cleaned_numRows),3).alias(c) for c in df_cleaned.columns])\n",
    "df_NAcheck.show()"
   ]
  },
  {
   "cell_type": "code",
   "execution_count": 33,
   "metadata": {},
   "outputs": [
    {
     "name": "stdout",
     "output_type": "stream",
     "text": [
      "Number of Columns greater than 5% of NA values: 0\n"
     ]
    }
   ],
   "source": [
    "print(\"Number of Columns containing greater than 5% NA values: {}\".format([(df_NAcheck.first()[c] > 0.05) for c in df_NAcheck.columns].count(True)))"
   ]
  },
  {
   "cell_type": "markdown",
   "metadata": {},
   "source": [
    "Single imputation is ill-advised based on multiple research studies when dealing with healthcare data, so we will avoid this and instead, since the ratio of NAs in every column falls below 0.05, we will consider it feasible to drop the remaining rows containing null values."
   ]
  },
  {
   "cell_type": "code",
   "execution_count": 17,
   "metadata": {},
   "outputs": [
    {
     "name": "stdout",
     "output_type": "stream",
     "text": [
      "Number of rows saved via cleaning + EDA: 8329\n"
     ]
    }
   ],
   "source": [
    "print(\"Number of rows saved via cleaning + EDA: {}\".format((df_cleaned.dropna().count()-data.dropna().count())))"
   ]
  },
  {
   "cell_type": "code",
   "execution_count": null,
   "metadata": {},
   "outputs": [],
   "source": [
    "# load pyspark modules\n",
    "from pyspark.ml import Pipeline  \n",
    "from pyspark.ml.feature import OneHotEncoder, StringIndexer\n",
    "\n",
    "#create a list of the columns that are string typed\n",
    "categoricalColumns = [item[0] for item in cleaned_data_2.dtypes if item[1].startswith('string') ]\n",
    "\n",
    "#define a list of stageJs in your pipeline. The string indexer will be one stage\n",
    "stages = []\n",
    "\n",
    "#iterate through all categorical values\n",
    "for categoricalCol in categoricalColumns:\n",
    "    #create a string indexer for those categorical values and assign a new name including the word 'Index'\n",
    "    stringIndexer = StringIndexer(inputCol = categoricalCol, outputCol = categoricalCol + 'Index')\n",
    "\n",
    "    #append the string Indexer to our list of stages\n",
    "    stages += [stringIndexer]\n",
    "\n",
    "#Create the pipeline. Assign the stages list to the pipeline key word stages\n",
    "pipeline = Pipeline(stages = stages)\n",
    "#fit the pipeline to our dataframe\n",
    "pipelineModel = pipeline.fit(cleaned_data_2)\n",
    "#transform the dataframe\n",
    "df= pipelineModel.transform(cleaned_data_2)\n",
    "df.take(2)"
   ]
  },
  {
   "cell_type": "code",
   "execution_count": null,
   "metadata": {},
   "outputs": [],
   "source": [
    "df_2 = df.drop(\"ethnicity\", \"gender\", \"icu_admit_source\", \"icu_type\", \"apache_3j_bodysystem\", \"apache_2_bodysystem\")\n",
    "df_2.printSchema()"
   ]
  },
  {
   "cell_type": "code",
   "execution_count": null,
   "metadata": {},
   "outputs": [],
   "source": [
    "#feature_columns = df_2.select([c for c in df_2.columns if c not in {'hospital_death'}])\n",
    "#feature_columns.take(1)\n",
    "\n",
    "va = VectorAssembler(inputCols=[c for c in df_2.columns if c not in {'hospital_death'}], outputCol=\"features\")  \n",
    "output = va.transform(df_2)\n",
    "scaler = StandardScaler(\n",
    "    inputCol = 'features', \n",
    "    outputCol = 'scaledFeatures',\n",
    "    withMean = True,\n",
    "    withStd = True\n",
    ").fit(output)\n",
    "\n",
    "# when we transform the dataframe, the old\n",
    "# feature will still remain in it\n",
    "df_scaled = scaler.transform(output)\n",
    "df_scaled.take(5)"
   ]
  },
  {
   "cell_type": "code",
   "execution_count": null,
   "metadata": {},
   "outputs": [],
   "source": [
    "from pyspark.ml.feature import PCA\n",
    "\n",
    "# PCA using 4 components\n",
    "pca = PCA(k=6, inputCol=\"scaledFeatures\", outputCol=\"pcaFeatures\")\n",
    "model = pca.fit(df_scaled)\n",
    "\n",
    "# extract the transformed features\n",
    "result = model.transform(df_scaled)\n",
    "\n",
    "result.take(1)"
   ]
  },
  {
   "cell_type": "code",
   "execution_count": null,
   "metadata": {},
   "outputs": [],
   "source": [
    "import numpy as np\n",
    "\n",
    "np.round(100.00*model.explainedVariance.toArray(),4)"
   ]
  },
  {
   "cell_type": "code",
   "execution_count": null,
   "metadata": {},
   "outputs": [],
   "source": [
    "import pandas as pd\n",
    "\n",
    "cols = df_2.drop('hospital_death').columns\n",
    "cols\n",
    "\n",
    "pcs = np.round(model.pc.toArray(),4)\n",
    "df_pc = pd.DataFrame(pcs, columns = ['PC1','PC2','PC3','PC4','PC5','PC6'], index = cols)\n",
    "df_pc"
   ]
  },
  {
   "cell_type": "code",
   "execution_count": null,
   "metadata": {},
   "outputs": [],
   "source": [
    "pc1 = df_pc.loc[:,'PC1'].abs().sort_values(ascending=False)\n",
    "s1 = pc1[pc1 > 0.2]\n",
    "s1"
   ]
  },
  {
   "cell_type": "code",
   "execution_count": null,
   "metadata": {},
   "outputs": [],
   "source": [
    "s1index=s1.index\n",
    "s1list = list(s1index)\n",
    "s1list"
   ]
  },
  {
   "cell_type": "code",
   "execution_count": null,
   "metadata": {},
   "outputs": [],
   "source": [
    "pc2 = df_pc.loc[:,'PC2'].abs().sort_values(ascending=False)\n",
    "s2 = pc2[pc2 > 0.2]\n",
    "s2"
   ]
  },
  {
   "cell_type": "code",
   "execution_count": null,
   "metadata": {},
   "outputs": [],
   "source": [
    "s2index=s2.index\n",
    "s2index"
   ]
  },
  {
   "cell_type": "code",
   "execution_count": null,
   "metadata": {},
   "outputs": [],
   "source": [
    "pc3 = df_pc.loc[:,'PC3'].abs().sort_values(ascending=False)\n",
    "s3 = pc3[pc3 > 0.2]\n",
    "s3"
   ]
  },
  {
   "cell_type": "code",
   "execution_count": null,
   "metadata": {},
   "outputs": [],
   "source": [
    "s3index=s3.index\n",
    "s3index"
   ]
  },
  {
   "cell_type": "code",
   "execution_count": null,
   "metadata": {},
   "outputs": [],
   "source": [
    "#Union the series indices\n",
    "\n",
    "important_vars = s3index.union(s2index).union(s1index)"
   ]
  },
  {
   "cell_type": "code",
   "execution_count": null,
   "metadata": {},
   "outputs": [],
   "source": [
    "for i in list(important_vars):\n",
    "    less_nulls_df.describe(i).show()\n",
    "    less_nulls_df.select(F.percentile_approx(i, [0.25, 0.75], 100000).alias(i+\"_quantiles\")).show()"
   ]
  }
 ],
 "metadata": {
  "kernelspec": {
   "display_name": "DS 5110 Spark 3.1",
   "language": "python",
   "name": "ds5110_spark3.1"
  },
  "language_info": {
   "codemirror_mode": {
    "name": "ipython",
    "version": 3
   },
   "file_extension": ".py",
   "mimetype": "text/x-python",
   "name": "python",
   "nbconvert_exporter": "python",
   "pygments_lexer": "ipython3",
   "version": "3.7.10"
  }
 },
 "nbformat": 4,
 "nbformat_minor": 4
}
