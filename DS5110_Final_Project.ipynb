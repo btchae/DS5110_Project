{
 "cells": [
  {
   "cell_type": "markdown",
   "metadata": {},
   "source": [
    "## DS 5110 Final Project - Hospital Mortality\n",
    "### By: Elena Tsvetskova, Brian Chae, Ryan Viti (rrv7eb)"
   ]
  },
  {
   "cell_type": "code",
   "execution_count": 33,
   "metadata": {},
   "outputs": [
    {
     "data": {
      "text/plain": [
       "91713"
      ]
     },
     "execution_count": 33,
     "metadata": {},
     "output_type": "execute_result"
    }
   ],
   "source": [
    "# importing necessary libraries and packages\n",
    "from pyspark.sql import SparkSession\n",
    "import pyspark.sql.functions as F\n",
    "from pyspark.sql.functions import col, isnan, when, count, countDistinct\n",
    "from pyspark.ml.feature import Imputer, VectorAssembler, StandardScaler\n",
    "from pyspark.ml.stat import Correlation\n",
    "\n",
    "# session initialization\n",
    "spark = SparkSession.builder \\\n",
    "        .master(\"local\") \\\n",
    "        .appName(\"Team 3 Final Project\") \\\n",
    "        .getOrCreate()\n",
    "\n",
    "filename = \"hospital_mortality.csv\"\n",
    "\n",
    "data = spark.read.csv(filename, inferSchema=True, header=True)\n",
    "data.count()"
   ]
  },
  {
   "cell_type": "code",
   "execution_count": 34,
   "metadata": {},
   "outputs": [
    {
     "name": "stdout",
     "output_type": "stream",
     "text": [
      "root\n",
      " |-- encounter_id: integer (nullable = true)\n",
      " |-- patient_id: integer (nullable = true)\n",
      " |-- hospital_id: integer (nullable = true)\n",
      " |-- age: integer (nullable = true)\n",
      " |-- bmi: double (nullable = true)\n",
      " |-- elective_surgery: integer (nullable = true)\n",
      " |-- ethnicity: string (nullable = true)\n",
      " |-- gender: string (nullable = true)\n",
      " |-- height: double (nullable = true)\n",
      " |-- icu_admit_source: string (nullable = true)\n",
      " |-- icu_id: integer (nullable = true)\n",
      " |-- icu_stay_type: string (nullable = true)\n",
      " |-- icu_type: string (nullable = true)\n",
      " |-- pre_icu_los_days: double (nullable = true)\n",
      " |-- weight: double (nullable = true)\n",
      " |-- apache_2_diagnosis: integer (nullable = true)\n",
      " |-- apache_3j_diagnosis: double (nullable = true)\n",
      " |-- apache_post_operative: integer (nullable = true)\n",
      " |-- arf_apache: integer (nullable = true)\n",
      " |-- gcs_eyes_apache: integer (nullable = true)\n",
      " |-- gcs_motor_apache: integer (nullable = true)\n",
      " |-- gcs_unable_apache: integer (nullable = true)\n",
      " |-- gcs_verbal_apache: integer (nullable = true)\n",
      " |-- heart_rate_apache: integer (nullable = true)\n",
      " |-- intubated_apache: integer (nullable = true)\n",
      " |-- map_apache: integer (nullable = true)\n",
      " |-- resprate_apache: double (nullable = true)\n",
      " |-- temp_apache: double (nullable = true)\n",
      " |-- ventilated_apache: integer (nullable = true)\n",
      " |-- d1_diasbp_max: integer (nullable = true)\n",
      " |-- d1_diasbp_min: integer (nullable = true)\n",
      " |-- d1_diasbp_noninvasive_max: integer (nullable = true)\n",
      " |-- d1_diasbp_noninvasive_min: integer (nullable = true)\n",
      " |-- d1_heartrate_max: integer (nullable = true)\n",
      " |-- d1_heartrate_min: integer (nullable = true)\n",
      " |-- d1_mbp_max: integer (nullable = true)\n",
      " |-- d1_mbp_min: integer (nullable = true)\n",
      " |-- d1_mbp_noninvasive_max: integer (nullable = true)\n",
      " |-- d1_mbp_noninvasive_min: integer (nullable = true)\n",
      " |-- d1_resprate_max: integer (nullable = true)\n",
      " |-- d1_resprate_min: integer (nullable = true)\n",
      " |-- d1_spo2_max: integer (nullable = true)\n",
      " |-- d1_spo2_min: integer (nullable = true)\n",
      " |-- d1_sysbp_max: integer (nullable = true)\n",
      " |-- d1_sysbp_min: integer (nullable = true)\n",
      " |-- d1_sysbp_noninvasive_max: integer (nullable = true)\n",
      " |-- d1_sysbp_noninvasive_min: double (nullable = true)\n",
      " |-- d1_temp_max: double (nullable = true)\n",
      " |-- d1_temp_min: double (nullable = true)\n",
      " |-- h1_diasbp_max: integer (nullable = true)\n",
      " |-- h1_diasbp_min: integer (nullable = true)\n",
      " |-- h1_diasbp_noninvasive_max: integer (nullable = true)\n",
      " |-- h1_diasbp_noninvasive_min: integer (nullable = true)\n",
      " |-- h1_heartrate_max: integer (nullable = true)\n",
      " |-- h1_heartrate_min: integer (nullable = true)\n",
      " |-- h1_mbp_max: integer (nullable = true)\n",
      " |-- h1_mbp_min: integer (nullable = true)\n",
      " |-- h1_mbp_noninvasive_max: integer (nullable = true)\n",
      " |-- h1_mbp_noninvasive_min: integer (nullable = true)\n",
      " |-- h1_resprate_max: integer (nullable = true)\n",
      " |-- h1_resprate_min: integer (nullable = true)\n",
      " |-- h1_spo2_max: integer (nullable = true)\n",
      " |-- h1_spo2_min: integer (nullable = true)\n",
      " |-- h1_sysbp_max: integer (nullable = true)\n",
      " |-- h1_sysbp_min: integer (nullable = true)\n",
      " |-- h1_sysbp_noninvasive_max: integer (nullable = true)\n",
      " |-- h1_sysbp_noninvasive_min: integer (nullable = true)\n",
      " |-- d1_glucose_max: integer (nullable = true)\n",
      " |-- d1_glucose_min: integer (nullable = true)\n",
      " |-- d1_potassium_max: double (nullable = true)\n",
      " |-- d1_potassium_min: double (nullable = true)\n",
      " |-- apache_4a_hospital_death_prob: double (nullable = true)\n",
      " |-- apache_4a_icu_death_prob: double (nullable = true)\n",
      " |-- aids: integer (nullable = true)\n",
      " |-- cirrhosis: integer (nullable = true)\n",
      " |-- diabetes_mellitus: integer (nullable = true)\n",
      " |-- hepatic_failure: integer (nullable = true)\n",
      " |-- immunosuppression: integer (nullable = true)\n",
      " |-- leukemia: integer (nullable = true)\n",
      " |-- lymphoma: integer (nullable = true)\n",
      " |-- solid_tumor_with_metastasis: integer (nullable = true)\n",
      " |-- apache_3j_bodysystem: string (nullable = true)\n",
      " |-- apache_2_bodysystem: string (nullable = true)\n",
      " |-- _c83: string (nullable = true)\n",
      " |-- hospital_death: integer (nullable = true)\n",
      "\n"
     ]
    }
   ],
   "source": [
    "# printing original dataset schema\n",
    "data.printSchema()"
   ]
  },
  {
   "cell_type": "markdown",
   "metadata": {},
   "source": [
    "## Data Cleaning and EDA"
   ]
  },
  {
   "cell_type": "code",
   "execution_count": 35,
   "metadata": {},
   "outputs": [],
   "source": [
    "# empty columns and unique identifiers unnecessary for analysis\n",
    "\n",
    "data = data.drop(\"_c83\", \"encounter_id\", \"patient_id\", \"hospital_id\", \"icu_id\", \"icu_stay_type\")"
   ]
  },
  {
   "cell_type": "code",
   "execution_count": 36,
   "metadata": {},
   "outputs": [
    {
     "name": "stdout",
     "output_type": "stream",
     "text": [
      "+----+-----+\n",
      "|aids|count|\n",
      "+----+-----+\n",
      "|null|  715|\n",
      "|   1|   78|\n",
      "|   0|90920|\n",
      "+----+-----+\n",
      "\n",
      "+---------+-----+\n",
      "|cirrhosis|count|\n",
      "+---------+-----+\n",
      "|     null|  715|\n",
      "|        1| 1428|\n",
      "|        0|89570|\n",
      "+---------+-----+\n",
      "\n",
      "+-----------------+-----+\n",
      "|diabetes_mellitus|count|\n",
      "+-----------------+-----+\n",
      "|             null|  715|\n",
      "|                1|20492|\n",
      "|                0|70506|\n",
      "+-----------------+-----+\n",
      "\n",
      "+---------------+-----+\n",
      "|hepatic_failure|count|\n",
      "+---------------+-----+\n",
      "|           null|  715|\n",
      "|              1| 1182|\n",
      "|              0|89816|\n",
      "+---------------+-----+\n",
      "\n",
      "+--------+-----+\n",
      "|leukemia|count|\n",
      "+--------+-----+\n",
      "|    null|  715|\n",
      "|       1|  643|\n",
      "|       0|90355|\n",
      "+--------+-----+\n",
      "\n",
      "+--------+-----+\n",
      "|lymphoma|count|\n",
      "+--------+-----+\n",
      "|    null|  715|\n",
      "|       1|  376|\n",
      "|       0|90622|\n",
      "+--------+-----+\n",
      "\n",
      "+---------------------------+-----+\n",
      "|solid_tumor_with_metastasis|count|\n",
      "+---------------------------+-----+\n",
      "|                       null|  715|\n",
      "|                          1| 1878|\n",
      "|                          0|89120|\n",
      "+---------------------------+-----+\n",
      "\n"
     ]
    }
   ],
   "source": [
    "# numeric distribution of diseases\n",
    "diseases = [\"aids\", \"cirrhosis\", \"diabetes_mellitus\", \"hepatic_failure\", \"leukemia\", \"lymphoma\", \"solid_tumor_with_metastasis\"]\n",
    "for i in diseases:\n",
    "    data.select(i).groupBy(i).count().show()"
   ]
  },
  {
   "cell_type": "code",
   "execution_count": 37,
   "metadata": {},
   "outputs": [],
   "source": [
    "for name in diseases:\n",
    "    data = data.withColumn(name, col(name).cast('boolean'))"
   ]
  },
  {
   "cell_type": "code",
   "execution_count": 38,
   "metadata": {},
   "outputs": [
    {
     "name": "stdout",
     "output_type": "stream",
     "text": [
      "+----+----+----------------+---------+------+------+----------------+--------+----------------+------+------------------+-------------------+---------------------+----------+---------------+----------------+-----------------+-----------------+-----------------+----------------+----------+---------------+-----------+-----------------+-------------+-------------+-------------------------+-------------------------+----------------+----------------+----------+----------+----------------------+----------------------+---------------+---------------+-----------+-----------+------------+------------+------------------------+------------------------+-----------+-----------+-------------+-------------+-------------------------+-------------------------+----------------+----------------+----------+----------+----------------------+----------------------+---------------+---------------+-----------+-----------+------------+------------+------------------------+------------------------+--------------+--------------+----------------+----------------+-----------------------------+------------------------+----+---------+-----------------+---------------+-----------------+--------+--------+---------------------------+--------------------+-------------------+--------------+\n",
      "| age| bmi|elective_surgery|ethnicity|gender|height|icu_admit_source|icu_type|pre_icu_los_days|weight|apache_2_diagnosis|apache_3j_diagnosis|apache_post_operative|arf_apache|gcs_eyes_apache|gcs_motor_apache|gcs_unable_apache|gcs_verbal_apache|heart_rate_apache|intubated_apache|map_apache|resprate_apache|temp_apache|ventilated_apache|d1_diasbp_max|d1_diasbp_min|d1_diasbp_noninvasive_max|d1_diasbp_noninvasive_min|d1_heartrate_max|d1_heartrate_min|d1_mbp_max|d1_mbp_min|d1_mbp_noninvasive_max|d1_mbp_noninvasive_min|d1_resprate_max|d1_resprate_min|d1_spo2_max|d1_spo2_min|d1_sysbp_max|d1_sysbp_min|d1_sysbp_noninvasive_max|d1_sysbp_noninvasive_min|d1_temp_max|d1_temp_min|h1_diasbp_max|h1_diasbp_min|h1_diasbp_noninvasive_max|h1_diasbp_noninvasive_min|h1_heartrate_max|h1_heartrate_min|h1_mbp_max|h1_mbp_min|h1_mbp_noninvasive_max|h1_mbp_noninvasive_min|h1_resprate_max|h1_resprate_min|h1_spo2_max|h1_spo2_min|h1_sysbp_max|h1_sysbp_min|h1_sysbp_noninvasive_max|h1_sysbp_noninvasive_min|d1_glucose_max|d1_glucose_min|d1_potassium_max|d1_potassium_min|apache_4a_hospital_death_prob|apache_4a_icu_death_prob|aids|cirrhosis|diabetes_mellitus|hepatic_failure|immunosuppression|leukemia|lymphoma|solid_tumor_with_metastasis|apache_3j_bodysystem|apache_2_bodysystem|hospital_death|\n",
      "+----+----+----------------+---------+------+------+----------------+--------+----------------+------+------------------+-------------------+---------------------+----------+---------------+----------------+-----------------+-----------------+-----------------+----------------+----------+---------------+-----------+-----------------+-------------+-------------+-------------------------+-------------------------+----------------+----------------+----------+----------+----------------------+----------------------+---------------+---------------+-----------+-----------+------------+------------+------------------------+------------------------+-----------+-----------+-------------+-------------+-------------------------+-------------------------+----------------+----------------+----------+----------+----------------------+----------------------+---------------+---------------+-----------+-----------+------------+------------+------------------------+------------------------+--------------+--------------+----------------+----------------+-----------------------------+------------------------+----+---------+-----------------+---------------+-----------------+--------+--------+---------------------------+--------------------+-------------------+--------------+\n",
      "|4228|3429|               0|     1395|    25|  1334|             112|       0|               0|  2720|              1662|               1101|                    0|       715|           1901|            1901|             1037|             1901|              878|             715|       994|           1234|       4108|              715|          165|          165|                     1040|                     1040|             145|             145|       220|       220|                  1479|                  1479|            385|            385|        333|        333|         159|         159|                    1027|                    1027|       2324|       2324|         3619|         3619|                     7350|                     7350|            2790|            2790|      4639|      4639|                  9084|                  9084|           4357|           4357|       4185|       4185|        3611|        3611|                    7341|                    7341|          5807|          5807|            9585|            9585|                         7947|                    7947| 715|      715|              715|            715|              715|     715|     715|                        715|                1662|               1662|             0|\n",
      "+----+----+----------------+---------+------+------+----------------+--------+----------------+------+------------------+-------------------+---------------------+----------+---------------+----------------+-----------------+-----------------+-----------------+----------------+----------+---------------+-----------+-----------------+-------------+-------------+-------------------------+-------------------------+----------------+----------------+----------+----------+----------------------+----------------------+---------------+---------------+-----------+-----------+------------+------------+------------------------+------------------------+-----------+-----------+-------------+-------------+-------------------------+-------------------------+----------------+----------------+----------+----------+----------------------+----------------------+---------------+---------------+-----------+-----------+------------+------------+------------------------+------------------------+--------------+--------------+----------------+----------------+-----------------------------+------------------------+----+---------+-----------------+---------------+-----------------+--------+--------+---------------------------+--------------------+-------------------+--------------+\n",
      "\n"
     ]
    }
   ],
   "source": [
    "#Address null values in dataset\n",
    "\n",
    "data.select([count(when(col(c).isNull(), c)).alias(c) for c in data.columns]).show()"
   ]
  },
  {
   "cell_type": "code",
   "execution_count": 39,
   "metadata": {},
   "outputs": [
    {
     "data": {
      "text/plain": [
       "67"
      ]
     },
     "execution_count": 39,
     "metadata": {},
     "output_type": "execute_result"
    }
   ],
   "source": [
    "# dropping noninvasive measurements due to high frequency of NA and lower accuracy of measurement\n",
    "condition = lambda col: 'noninvasive' in col\n",
    "data = data.drop(*filter(condition, data.columns))\n",
    "len(data.columns)"
   ]
  },
  {
   "cell_type": "code",
   "execution_count": 40,
   "metadata": {},
   "outputs": [],
   "source": [
    "imputer = Imputer()"
   ]
  },
  {
   "cell_type": "code",
   "execution_count": 41,
   "metadata": {},
   "outputs": [],
   "source": [
    "# Potential correlation matrix creation using pyspark.ml.stat.Correlation here for numeric variables"
   ]
  },
  {
   "cell_type": "code",
   "execution_count": 42,
   "metadata": {},
   "outputs": [
    {
     "data": {
      "text/plain": [
       "60265"
      ]
     },
     "execution_count": 42,
     "metadata": {},
     "output_type": "execute_result"
    }
   ],
   "source": [
    "#Drop NULL values\n",
    "\n",
    "cleaned_data_2 = data.dropna()\n",
    "cleaned_data_2.count()\n",
    "# cleaned_data_2.select([count(when(col(c).isNull(), c)).alias(c) for c in cleaned_data_2.columns]).show()"
   ]
  },
  {
   "cell_type": "code",
   "execution_count": 43,
   "metadata": {},
   "outputs": [],
   "source": [
    "#Address null values in dataset\n",
    "\n",
    "# Invasive vs. noninvasive measurements NA counts\n",
    "\n",
    "# cleaned_data_2.select([count(when(isnan(c) | col(c).isNull(), c)).alias(c) for c in cleaned_data_2.columns[24:56]]).show()"
   ]
  },
  {
   "cell_type": "code",
   "execution_count": 44,
   "metadata": {},
   "outputs": [
    {
     "name": "stdout",
     "output_type": "stream",
     "text": [
      "Number of NAs dropped: 31448\n"
     ]
    }
   ],
   "source": [
    "dropped_NAs = data.count() - cleaned_data_2.count()\n",
    "print(\"Number of NAs dropped: {}\".format(dropped_NAs))"
   ]
  },
  {
   "cell_type": "code",
   "execution_count": 45,
   "metadata": {},
   "outputs": [
    {
     "data": {
      "text/plain": [
       "[Row(age=68, bmi=22.73, elective_surgery=0, ethnicity='Caucasian', gender='M', height=180.3, icu_admit_source='Floor', icu_type='CTICU', pre_icu_los_days=0.541666667, weight=73.9, apache_2_diagnosis=113, apache_3j_diagnosis=502.01, apache_post_operative=0, arf_apache=0, gcs_eyes_apache=3, gcs_motor_apache=6, gcs_unable_apache=0, gcs_verbal_apache=4, heart_rate_apache=118, intubated_apache=0, map_apache=40, resprate_apache=36.0, temp_apache=39.3, ventilated_apache=0, d1_diasbp_max=68, d1_diasbp_min=37, d1_heartrate_max=119, d1_heartrate_min=72, d1_mbp_max=89, d1_mbp_min=46, d1_resprate_max=34, d1_resprate_min=10, d1_spo2_max=100, d1_spo2_min=74, d1_sysbp_max=131, d1_sysbp_min=73, d1_temp_max=39.9, d1_temp_min=37.2, h1_diasbp_max=68, h1_diasbp_min=63, h1_heartrate_max=119, h1_heartrate_min=108, h1_mbp_max=86, h1_mbp_min=85, h1_resprate_max=26, h1_resprate_min=18, h1_spo2_max=100, h1_spo2_min=74, h1_sysbp_max=131, h1_sysbp_min=115, d1_glucose_max=168, d1_glucose_min=109, d1_potassium_max=4.0, d1_potassium_min=3.4, apache_4a_hospital_death_prob=0.1, apache_4a_icu_death_prob=0.05, aids=False, cirrhosis=False, diabetes_mellitus=True, hepatic_failure=False, immunosuppression=0, leukemia=False, lymphoma=False, solid_tumor_with_metastasis=False, apache_3j_bodysystem='Sepsis', apache_2_bodysystem='Cardiovascular', hospital_death=0, ethnicityIndex=0.0, genderIndex=0.0, icu_admit_sourceIndex=2.0, icu_typeIndex=7.0, apache_3j_bodysystemIndex=1.0, apache_2_bodysystemIndex=0.0),\n",
       " Row(age=77, bmi=27.42, elective_surgery=0, ethnicity='Caucasian', gender='F', height=160.0, icu_admit_source='Floor', icu_type='Med-Surg ICU', pre_icu_los_days=0.927777778, weight=70.2, apache_2_diagnosis=108, apache_3j_diagnosis=203.01, apache_post_operative=0, arf_apache=0, gcs_eyes_apache=1, gcs_motor_apache=3, gcs_unable_apache=0, gcs_verbal_apache=1, heart_rate_apache=120, intubated_apache=0, map_apache=46, resprate_apache=33.0, temp_apache=35.1, ventilated_apache=1, d1_diasbp_max=95, d1_diasbp_min=31, d1_heartrate_max=118, d1_heartrate_min=72, d1_mbp_max=120, d1_mbp_min=38, d1_resprate_max=32, d1_resprate_min=12, d1_spo2_max=100, d1_spo2_min=70, d1_sysbp_max=159, d1_sysbp_min=67, d1_temp_max=36.3, d1_temp_min=35.1, h1_diasbp_max=61, h1_diasbp_min=48, h1_heartrate_max=114, h1_heartrate_min=100, h1_mbp_max=85, h1_mbp_min=57, h1_resprate_max=31, h1_resprate_min=28, h1_spo2_max=95, h1_spo2_min=70, h1_sysbp_max=95, h1_sysbp_min=71, d1_glucose_max=145, d1_glucose_min=128, d1_potassium_max=4.2, d1_potassium_min=3.8, apache_4a_hospital_death_prob=0.47, apache_4a_icu_death_prob=0.29, aids=False, cirrhosis=False, diabetes_mellitus=True, hepatic_failure=False, immunosuppression=0, leukemia=False, lymphoma=False, solid_tumor_with_metastasis=False, apache_3j_bodysystem='Respiratory', apache_2_bodysystem='Respiratory', hospital_death=0, ethnicityIndex=0.0, genderIndex=1.0, icu_admit_sourceIndex=2.0, icu_typeIndex=0.0, apache_3j_bodysystemIndex=2.0, apache_2_bodysystemIndex=1.0)]"
      ]
     },
     "execution_count": 45,
     "metadata": {},
     "output_type": "execute_result"
    }
   ],
   "source": [
    "# load pyspark modules\n",
    "from pyspark.ml import Pipeline  \n",
    "from pyspark.ml.feature import OneHotEncoder, StringIndexer\n",
    "\n",
    "#create a list of the columns that are string typed\n",
    "categoricalColumns = [item[0] for item in cleaned_data_2.dtypes if item[1].startswith('string') ]\n",
    "\n",
    "#define a list of stages in your pipeline. The string indexer will be one stage\n",
    "stages = []\n",
    "\n",
    "#iterate through all categorical values\n",
    "for categoricalCol in categoricalColumns:\n",
    "    #create a string indexer for those categorical values and assign a new name including the word 'Index'\n",
    "    stringIndexer = StringIndexer(inputCol = categoricalCol, outputCol = categoricalCol + 'Index')\n",
    "\n",
    "    #append the string Indexer to our list of stages\n",
    "    stages += [stringIndexer]\n",
    "\n",
    "#Create the pipeline. Assign the stages list to the pipeline key word stages\n",
    "pipeline = Pipeline(stages = stages)\n",
    "#fit the pipeline to our dataframe\n",
    "pipelineModel = pipeline.fit(cleaned_data_2)\n",
    "#transform the dataframe\n",
    "df= pipelineModel.transform(cleaned_data_2)\n",
    "df.take(2)"
   ]
  },
  {
   "cell_type": "code",
   "execution_count": 46,
   "metadata": {},
   "outputs": [
    {
     "name": "stdout",
     "output_type": "stream",
     "text": [
      "root\n",
      " |-- age: integer (nullable = true)\n",
      " |-- bmi: double (nullable = true)\n",
      " |-- elective_surgery: integer (nullable = true)\n",
      " |-- height: double (nullable = true)\n",
      " |-- pre_icu_los_days: double (nullable = true)\n",
      " |-- weight: double (nullable = true)\n",
      " |-- apache_2_diagnosis: integer (nullable = true)\n",
      " |-- apache_3j_diagnosis: double (nullable = true)\n",
      " |-- apache_post_operative: integer (nullable = true)\n",
      " |-- arf_apache: integer (nullable = true)\n",
      " |-- gcs_eyes_apache: integer (nullable = true)\n",
      " |-- gcs_motor_apache: integer (nullable = true)\n",
      " |-- gcs_unable_apache: integer (nullable = true)\n",
      " |-- gcs_verbal_apache: integer (nullable = true)\n",
      " |-- heart_rate_apache: integer (nullable = true)\n",
      " |-- intubated_apache: integer (nullable = true)\n",
      " |-- map_apache: integer (nullable = true)\n",
      " |-- resprate_apache: double (nullable = true)\n",
      " |-- temp_apache: double (nullable = true)\n",
      " |-- ventilated_apache: integer (nullable = true)\n",
      " |-- d1_diasbp_max: integer (nullable = true)\n",
      " |-- d1_diasbp_min: integer (nullable = true)\n",
      " |-- d1_heartrate_max: integer (nullable = true)\n",
      " |-- d1_heartrate_min: integer (nullable = true)\n",
      " |-- d1_mbp_max: integer (nullable = true)\n",
      " |-- d1_mbp_min: integer (nullable = true)\n",
      " |-- d1_resprate_max: integer (nullable = true)\n",
      " |-- d1_resprate_min: integer (nullable = true)\n",
      " |-- d1_spo2_max: integer (nullable = true)\n",
      " |-- d1_spo2_min: integer (nullable = true)\n",
      " |-- d1_sysbp_max: integer (nullable = true)\n",
      " |-- d1_sysbp_min: integer (nullable = true)\n",
      " |-- d1_temp_max: double (nullable = true)\n",
      " |-- d1_temp_min: double (nullable = true)\n",
      " |-- h1_diasbp_max: integer (nullable = true)\n",
      " |-- h1_diasbp_min: integer (nullable = true)\n",
      " |-- h1_heartrate_max: integer (nullable = true)\n",
      " |-- h1_heartrate_min: integer (nullable = true)\n",
      " |-- h1_mbp_max: integer (nullable = true)\n",
      " |-- h1_mbp_min: integer (nullable = true)\n",
      " |-- h1_resprate_max: integer (nullable = true)\n",
      " |-- h1_resprate_min: integer (nullable = true)\n",
      " |-- h1_spo2_max: integer (nullable = true)\n",
      " |-- h1_spo2_min: integer (nullable = true)\n",
      " |-- h1_sysbp_max: integer (nullable = true)\n",
      " |-- h1_sysbp_min: integer (nullable = true)\n",
      " |-- d1_glucose_max: integer (nullable = true)\n",
      " |-- d1_glucose_min: integer (nullable = true)\n",
      " |-- d1_potassium_max: double (nullable = true)\n",
      " |-- d1_potassium_min: double (nullable = true)\n",
      " |-- apache_4a_hospital_death_prob: double (nullable = true)\n",
      " |-- apache_4a_icu_death_prob: double (nullable = true)\n",
      " |-- aids: boolean (nullable = true)\n",
      " |-- cirrhosis: boolean (nullable = true)\n",
      " |-- diabetes_mellitus: boolean (nullable = true)\n",
      " |-- hepatic_failure: boolean (nullable = true)\n",
      " |-- immunosuppression: integer (nullable = true)\n",
      " |-- leukemia: boolean (nullable = true)\n",
      " |-- lymphoma: boolean (nullable = true)\n",
      " |-- solid_tumor_with_metastasis: boolean (nullable = true)\n",
      " |-- hospital_death: integer (nullable = true)\n",
      " |-- ethnicityIndex: double (nullable = false)\n",
      " |-- genderIndex: double (nullable = false)\n",
      " |-- icu_admit_sourceIndex: double (nullable = false)\n",
      " |-- icu_typeIndex: double (nullable = false)\n",
      " |-- apache_3j_bodysystemIndex: double (nullable = false)\n",
      " |-- apache_2_bodysystemIndex: double (nullable = false)\n",
      "\n"
     ]
    }
   ],
   "source": [
    "df_2 = df.drop(\"ethnicity\", \"gender\", \"icu_admit_source\", \"icu_type\", \"apache_3j_bodysystem\", \"apache_2_bodysystem\")\n",
    "df_2.printSchema()"
   ]
  },
  {
   "cell_type": "code",
   "execution_count": 47,
   "metadata": {},
   "outputs": [
    {
     "data": {
      "text/plain": [
       "[Row(age=68, bmi=22.73, elective_surgery=0, height=180.3, pre_icu_los_days=0.541666667, weight=73.9, apache_2_diagnosis=113, apache_3j_diagnosis=502.01, apache_post_operative=0, arf_apache=0, gcs_eyes_apache=3, gcs_motor_apache=6, gcs_unable_apache=0, gcs_verbal_apache=4, heart_rate_apache=118, intubated_apache=0, map_apache=40, resprate_apache=36.0, temp_apache=39.3, ventilated_apache=0, d1_diasbp_max=68, d1_diasbp_min=37, d1_heartrate_max=119, d1_heartrate_min=72, d1_mbp_max=89, d1_mbp_min=46, d1_resprate_max=34, d1_resprate_min=10, d1_spo2_max=100, d1_spo2_min=74, d1_sysbp_max=131, d1_sysbp_min=73, d1_temp_max=39.9, d1_temp_min=37.2, h1_diasbp_max=68, h1_diasbp_min=63, h1_heartrate_max=119, h1_heartrate_min=108, h1_mbp_max=86, h1_mbp_min=85, h1_resprate_max=26, h1_resprate_min=18, h1_spo2_max=100, h1_spo2_min=74, h1_sysbp_max=131, h1_sysbp_min=115, d1_glucose_max=168, d1_glucose_min=109, d1_potassium_max=4.0, d1_potassium_min=3.4, apache_4a_hospital_death_prob=0.1, apache_4a_icu_death_prob=0.05, aids=False, cirrhosis=False, diabetes_mellitus=True, hepatic_failure=False, immunosuppression=0, leukemia=False, lymphoma=False, solid_tumor_with_metastasis=False, hospital_death=0, ethnicityIndex=0.0, genderIndex=0.0, icu_admit_sourceIndex=2.0, icu_typeIndex=7.0, apache_3j_bodysystemIndex=1.0, apache_2_bodysystemIndex=0.0, features=DenseVector([68.0, 22.73, 0.0, 180.3, 0.5417, 73.9, 113.0, 502.01, 0.0, 0.0, 3.0, 6.0, 0.0, 4.0, 118.0, 0.0, 40.0, 36.0, 39.3, 0.0, 68.0, 37.0, 119.0, 72.0, 89.0, 46.0, 34.0, 10.0, 100.0, 74.0, 131.0, 73.0, 39.9, 37.2, 68.0, 63.0, 119.0, 108.0, 86.0, 85.0, 26.0, 18.0, 100.0, 74.0, 131.0, 115.0, 168.0, 109.0, 4.0, 3.4, 0.1, 0.05, 0.0, 0.0, 1.0, 0.0, 0.0, 0.0, 0.0, 0.0, 0.0, 0.0, 2.0, 7.0, 1.0, 0.0]), scaledFeatures=DenseVector([0.3182, -0.7965, -0.4945, 0.9712, -0.1311, -0.4278, -0.8434, -0.1665, -0.5329, -0.1741, -0.4301, 0.4266, 0.0, 0.0505, 0.5653, -0.4469, -1.1254, 0.6673, 3.3913, -0.7322, -1.0552, -0.9659, 0.69, 0.0846, -0.7667, -1.184, 0.4733, -0.5492, 0.4645, -1.7424, -0.687, -1.1401, 3.6923, 1.2718, -0.3958, 0.0284, 1.2036, 1.1758, -0.2643, 0.3145, 0.4565, 0.1427, 0.6437, -3.4304, -0.0692, -0.0265, -0.0911, -0.1186, -0.3814, -0.9191, -0.0195, -0.0623, -0.0313, -0.1315, 1.793, -0.1206, -0.1719, -0.088, -0.0647, -0.1502, -0.4404, -0.908, 1.4831, 2.3876, -0.5472, -0.8491])),\n",
       " Row(age=77, bmi=27.42, elective_surgery=0, height=160.0, pre_icu_los_days=0.927777778, weight=70.2, apache_2_diagnosis=108, apache_3j_diagnosis=203.01, apache_post_operative=0, arf_apache=0, gcs_eyes_apache=1, gcs_motor_apache=3, gcs_unable_apache=0, gcs_verbal_apache=1, heart_rate_apache=120, intubated_apache=0, map_apache=46, resprate_apache=33.0, temp_apache=35.1, ventilated_apache=1, d1_diasbp_max=95, d1_diasbp_min=31, d1_heartrate_max=118, d1_heartrate_min=72, d1_mbp_max=120, d1_mbp_min=38, d1_resprate_max=32, d1_resprate_min=12, d1_spo2_max=100, d1_spo2_min=70, d1_sysbp_max=159, d1_sysbp_min=67, d1_temp_max=36.3, d1_temp_min=35.1, h1_diasbp_max=61, h1_diasbp_min=48, h1_heartrate_max=114, h1_heartrate_min=100, h1_mbp_max=85, h1_mbp_min=57, h1_resprate_max=31, h1_resprate_min=28, h1_spo2_max=95, h1_spo2_min=70, h1_sysbp_max=95, h1_sysbp_min=71, d1_glucose_max=145, d1_glucose_min=128, d1_potassium_max=4.2, d1_potassium_min=3.8, apache_4a_hospital_death_prob=0.47, apache_4a_icu_death_prob=0.29, aids=False, cirrhosis=False, diabetes_mellitus=True, hepatic_failure=False, immunosuppression=0, leukemia=False, lymphoma=False, solid_tumor_with_metastasis=False, hospital_death=0, ethnicityIndex=0.0, genderIndex=1.0, icu_admit_sourceIndex=2.0, icu_typeIndex=0.0, apache_3j_bodysystemIndex=2.0, apache_2_bodysystemIndex=1.0, features=DenseVector([77.0, 27.42, 0.0, 160.0, 0.9278, 70.2, 108.0, 203.01, 0.0, 0.0, 1.0, 3.0, 0.0, 1.0, 120.0, 0.0, 46.0, 33.0, 35.1, 1.0, 95.0, 31.0, 118.0, 72.0, 120.0, 38.0, 32.0, 12.0, 100.0, 70.0, 159.0, 67.0, 36.3, 35.1, 61.0, 48.0, 114.0, 100.0, 85.0, 57.0, 31.0, 28.0, 95.0, 70.0, 95.0, 71.0, 145.0, 128.0, 4.2, 3.8, 0.47, 0.29, 0.0, 0.0, 1.0, 0.0, 0.0, 0.0, 0.0, 0.0, 0.0, 1.0, 2.0, 0.0, 2.0, 1.0]), scaledFeatures=DenseVector([0.8639, -0.2295, -0.4945, -0.9172, 0.0256, -0.5756, -0.9019, -0.8082, -0.5329, -0.1741, -2.4712, -1.8278, 0.0, -1.8231, 0.6304, -0.4469, -0.9848, 0.4695, -1.5291, 1.3657, 0.3146, -1.4226, 0.6443, 0.0846, 0.7393, -1.7026, 0.2819, -0.1437, 0.4645, -2.164, 0.4139, -1.436, -1.4614, -1.5463, -0.7766, -0.8883, 0.9742, 0.7811, -0.3131, -1.1518, 1.1266, 1.802, -1.0653, -4.0753, -1.3779, -1.6925, -0.3557, 0.3914, -0.0807, -0.2258, 1.7085, 1.2533, -0.0313, -0.1315, 1.793, -0.1206, -0.1719, -0.088, -0.0647, -0.1502, -0.4404, 1.1013, 1.4831, -0.764, -0.0968, -0.373])),\n",
       " Row(age=81, bmi=22.64, elective_surgery=1, height=165.1, pre_icu_los_days=0.000694444, weight=61.7, apache_2_diagnosis=203, apache_3j_diagnosis=1206.03, apache_post_operative=1, arf_apache=0, gcs_eyes_apache=4, gcs_motor_apache=6, gcs_unable_apache=0, gcs_verbal_apache=5, heart_rate_apache=114, intubated_apache=1, map_apache=60, resprate_apache=4.0, temp_apache=34.8, ventilated_apache=1, d1_diasbp_max=48, d1_diasbp_min=42, d1_heartrate_max=116, d1_heartrate_min=92, d1_mbp_max=84, d1_mbp_min=84, d1_resprate_max=23, d1_resprate_min=7, d1_spo2_max=100, d1_spo2_min=95, d1_sysbp_max=158, d1_sysbp_min=84, d1_temp_max=38.0, d1_temp_min=34.8, h1_diasbp_max=62, h1_diasbp_min=44, h1_heartrate_max=100, h1_heartrate_min=96, h1_mbp_max=92, h1_mbp_min=71, h1_resprate_max=12, h1_resprate_min=11, h1_spo2_max=100, h1_spo2_min=99, h1_sysbp_max=136, h1_sysbp_min=106, d1_glucose_max=185, d1_glucose_min=88, d1_potassium_max=5.0, d1_potassium_min=3.5, apache_4a_hospital_death_prob=0.04, apache_4a_icu_death_prob=0.03, aids=False, cirrhosis=False, diabetes_mellitus=False, hepatic_failure=False, immunosuppression=0, leukemia=False, lymphoma=False, solid_tumor_with_metastasis=False, hospital_death=0, ethnicityIndex=0.0, genderIndex=1.0, icu_admit_sourceIndex=1.0, icu_typeIndex=7.0, apache_3j_bodysystemIndex=0.0, apache_2_bodysystemIndex=0.0, features=DenseVector([81.0, 22.64, 1.0, 165.1, 0.0007, 61.7, 203.0, 1206.03, 1.0, 0.0, 4.0, 6.0, 0.0, 5.0, 114.0, 1.0, 60.0, 4.0, 34.8, 1.0, 48.0, 42.0, 116.0, 92.0, 84.0, 84.0, 23.0, 7.0, 100.0, 95.0, 158.0, 84.0, 38.0, 34.8, 62.0, 44.0, 100.0, 96.0, 92.0, 71.0, 12.0, 11.0, 100.0, 99.0, 136.0, 106.0, 185.0, 88.0, 5.0, 3.5, 0.04, 0.03, 0.0, 0.0, 0.0, 0.0, 0.0, 0.0, 0.0, 0.0, 0.0, 1.0, 1.0, 7.0, 0.0, 0.0]), scaledFeatures=DenseVector([1.1064, -0.8074, 2.0223, -0.4428, -0.3508, -0.9153, 0.2094, 1.3446, 1.8766, -0.1741, 0.5905, 0.4266, 0.0, 0.675, 0.4349, 2.2378, -0.6566, -1.4422, -1.8805, 1.3657, -2.0698, -0.5853, 0.553, 1.2782, -1.0096, 1.2797, -0.5795, -1.1575, 0.4645, 0.4708, 0.3746, -0.5978, 0.9723, -1.9489, -0.7222, -1.1327, 0.3319, 0.5837, 0.0285, -0.4186, -1.4197, -1.0188, 0.6437, 0.6005, 0.1125, -0.3673, 0.1045, -0.6823, 1.1224, -0.7457, -0.2997, -0.1719, -0.0313, -0.1315, -0.5577, -0.1206, -0.1719, -0.088, -0.0647, -0.1502, -0.4404, 1.1013, 0.3716, 2.3876, -0.9976, -0.8491])),\n",
       " Row(age=67, bmi=27.56, elective_surgery=0, height=190.5, pre_icu_los_days=0.000694444, weight=100.0, apache_2_diagnosis=301, apache_3j_diagnosis=403.01, apache_post_operative=0, arf_apache=0, gcs_eyes_apache=4, gcs_motor_apache=6, gcs_unable_apache=0, gcs_verbal_apache=5, heart_rate_apache=113, intubated_apache=0, map_apache=130, resprate_apache=35.0, temp_apache=36.6, ventilated_apache=0, d1_diasbp_max=100, d1_diasbp_min=61, d1_heartrate_max=113, d1_heartrate_min=83, d1_mbp_max=127, d1_mbp_min=80, d1_resprate_max=32, d1_resprate_min=10, d1_spo2_max=97, d1_spo2_min=91, d1_sysbp_max=173, d1_sysbp_min=107, d1_temp_max=36.8, d1_temp_min=36.6, h1_diasbp_max=89, h1_diasbp_min=89, h1_heartrate_max=83, h1_heartrate_min=83, h1_mbp_max=111, h1_mbp_min=111, h1_resprate_max=12, h1_resprate_min=12, h1_spo2_max=97, h1_spo2_min=97, h1_sysbp_max=143, h1_sysbp_min=143, d1_glucose_max=156, d1_glucose_min=125, d1_potassium_max=3.9, d1_potassium_min=3.7, apache_4a_hospital_death_prob=0.05, apache_4a_icu_death_prob=0.02, aids=False, cirrhosis=False, diabetes_mellitus=True, hepatic_failure=False, immunosuppression=0, leukemia=False, lymphoma=False, solid_tumor_with_metastasis=False, hospital_death=0, ethnicityIndex=0.0, genderIndex=0.0, icu_admit_sourceIndex=0.0, icu_typeIndex=0.0, apache_3j_bodysystemIndex=3.0, apache_2_bodysystemIndex=2.0, features=DenseVector([67.0, 27.56, 0.0, 190.5, 0.0007, 100.0, 301.0, 403.01, 0.0, 0.0, 4.0, 6.0, 0.0, 5.0, 113.0, 0.0, 130.0, 35.0, 36.6, 0.0, 100.0, 61.0, 113.0, 83.0, 127.0, 80.0, 32.0, 10.0, 97.0, 91.0, 173.0, 107.0, 36.8, 36.6, 89.0, 89.0, 83.0, 83.0, 111.0, 111.0, 12.0, 12.0, 97.0, 97.0, 143.0, 143.0, 156.0, 125.0, 3.9, 3.7, 0.05, 0.02, 0.0, 0.0, 1.0, 0.0, 0.0, 0.0, 0.0, 0.0, 0.0, 0.0, 0.0, 0.0, 3.0, 2.0]), scaledFeatures=DenseVector([0.2576, -0.2126, -0.4945, 1.9201, -0.3508, 0.6153, 1.3559, -0.3789, -0.5329, -0.1741, 0.5905, 0.4266, 0.0, 0.675, 0.4024, -0.4469, 0.9844, 0.6014, 0.2282, -0.7322, 0.5682, 0.8609, 0.4161, 0.7411, 1.0794, 1.0203, 0.2819, -0.5492, -1.6194, 0.0493, 0.9644, 0.5362, -0.7456, 0.4666, 0.7465, 1.6173, -0.448, -0.0578, 0.9557, 1.6761, -1.4197, -0.8529, -0.3817, 0.2781, 0.367, 1.0337, -0.2291, 0.3109, -0.5318, -0.3991, -0.253, -0.2267, -0.0313, -0.1315, 1.793, -0.1206, -0.1719, -0.088, -0.0647, -0.1502, -0.4404, -0.908, -0.74, -0.764, 0.3536, 0.1032])),\n",
       " Row(age=59, bmi=57.45, elective_surgery=0, height=165.1, pre_icu_los_days=0.000694444, weight=156.6, apache_2_diagnosis=108, apache_3j_diagnosis=203.01, apache_post_operative=0, arf_apache=0, gcs_eyes_apache=4, gcs_motor_apache=6, gcs_unable_apache=0, gcs_verbal_apache=5, heart_rate_apache=133, intubated_apache=1, map_apache=138, resprate_apache=53.0, temp_apache=35.0, ventilated_apache=1, d1_diasbp_max=76, d1_diasbp_min=68, d1_heartrate_max=112, d1_heartrate_min=70, d1_mbp_max=117, d1_mbp_min=97, d1_resprate_max=38, d1_resprate_min=16, d1_spo2_max=100, d1_spo2_min=87, d1_sysbp_max=151, d1_sysbp_min=133, d1_temp_max=37.2, d1_temp_min=35.0, h1_diasbp_max=107, h1_diasbp_min=79, h1_heartrate_max=79, h1_heartrate_min=72, h1_mbp_max=117, h1_mbp_min=117, h1_resprate_max=18, h1_resprate_min=18, h1_spo2_max=100, h1_spo2_min=100, h1_sysbp_max=191, h1_sysbp_min=163, d1_glucose_max=197, d1_glucose_min=129, d1_potassium_max=5.0, d1_potassium_min=4.2, apache_4a_hospital_death_prob=0.1, apache_4a_icu_death_prob=0.05, aids=False, cirrhosis=False, diabetes_mellitus=True, hepatic_failure=False, immunosuppression=0, leukemia=False, lymphoma=False, solid_tumor_with_metastasis=False, hospital_death=0, ethnicityIndex=0.0, genderIndex=1.0, icu_admit_sourceIndex=0.0, icu_typeIndex=0.0, apache_3j_bodysystemIndex=2.0, apache_2_bodysystemIndex=1.0, features=DenseVector([59.0, 57.45, 0.0, 165.1, 0.0007, 156.6, 108.0, 203.01, 0.0, 0.0, 4.0, 6.0, 0.0, 5.0, 133.0, 1.0, 138.0, 53.0, 35.0, 1.0, 76.0, 68.0, 112.0, 70.0, 117.0, 97.0, 38.0, 16.0, 100.0, 87.0, 151.0, 133.0, 37.2, 35.0, 107.0, 79.0, 79.0, 72.0, 117.0, 117.0, 18.0, 18.0, 100.0, 100.0, 191.0, 163.0, 197.0, 129.0, 5.0, 4.2, 0.1, 0.05, 0.0, 0.0, 1.0, 0.0, 0.0, 0.0, 0.0, 0.0, 0.0, 1.0, 0.0, 0.0, 2.0, 1.0]), scaledFeatures=DenseVector([-0.2275, 3.4009, -0.4945, -0.4428, -0.3508, 2.8771, -0.9019, -0.8082, -0.5329, -0.1741, 0.5905, 0.4266, 0.0, 0.675, 1.0539, 2.2378, 1.172, 1.788, -1.6462, 1.3657, -0.6493, 1.3937, 0.3704, -0.0348, 0.5935, 2.1225, 0.8562, 0.6674, 0.4645, -0.3723, 0.0994, 1.8182, -0.173, -1.6805, 1.7257, 1.0062, -0.6315, -0.6006, 1.2485, 1.9903, -0.6157, 0.1427, 0.6437, 0.7618, 2.1119, 1.791, 0.2426, 0.4182, 1.1224, 0.4675, -0.0195, -0.0623, -0.0313, -0.1315, 1.793, -0.1206, -0.1719, -0.088, -0.0647, -0.1502, -0.4404, 1.1013, -0.74, -0.764, -0.0968, -0.373]))]"
      ]
     },
     "execution_count": 47,
     "metadata": {},
     "output_type": "execute_result"
    }
   ],
   "source": [
    "#feature_columns = df_2.select([c for c in df_2.columns if c not in {'hospital_death'}])\n",
    "#feature_columns.take(1)\n",
    "\n",
    "va = VectorAssembler(inputCols=[c for c in df_2.columns if c not in {'hospital_death'}], outputCol=\"features\")  \n",
    "output = va.transform(df_2)\n",
    "scaler = StandardScaler(\n",
    "    inputCol = 'features', \n",
    "    outputCol = 'scaledFeatures',\n",
    "    withMean = True,\n",
    "    withStd = True\n",
    ").fit(output)\n",
    "\n",
    "# when we transform the dataframe, the old\n",
    "# feature will still remain in it\n",
    "df_scaled = scaler.transform(output)\n",
    "df_scaled.take(5)"
   ]
  },
  {
   "cell_type": "code",
   "execution_count": 48,
   "metadata": {},
   "outputs": [],
   "source": [
    "# Subsetting data by type of data for EDA purposes\n",
    "#integer_data = data.select([data.dtypes[i][0] for i in range(len(data.dtypes)) if (data.dtypes[i][1] == 'int') and (data.select(data[i]).distinct().count() >= 10)])\n",
    "\n",
    "#for i in integer_data.columns:\n",
    "#    integer_data.describe(i).show()\n",
    "#    integer_data.select(F.percentile_approx(i, [0.25, 0.75], 100000).alias(\"quantiles\")).show()"
   ]
  },
  {
   "cell_type": "code",
   "execution_count": 49,
   "metadata": {},
   "outputs": [],
   "source": [
    "# hospital_deaths = data.select(\"hospital_death\").filter(col(\"hospital_death\")==1 | col(\"hospital_death\")).groupBy(\"hospital_death\").count()\n",
    "# hospital_deaths = hospital_deaths.withColumn('percent', )\n",
    "# hospital_deaths.show()"
   ]
  },
  {
   "cell_type": "code",
   "execution_count": 50,
   "metadata": {},
   "outputs": [],
   "source": [
    "# data.hospital_deaths.show()"
   ]
  },
  {
   "cell_type": "code",
   "execution_count": 51,
   "metadata": {},
   "outputs": [],
   "source": [
    "# data.select(\"hospital_death\").show()"
   ]
  },
  {
   "cell_type": "markdown",
   "metadata": {},
   "source": [
    "### Principal Component Analysis (PCA)"
   ]
  },
  {
   "cell_type": "code",
   "execution_count": 52,
   "metadata": {},
   "outputs": [
    {
     "data": {
      "text/plain": [
       "[Row(age=68, bmi=22.73, elective_surgery=0, height=180.3, pre_icu_los_days=0.541666667, weight=73.9, apache_2_diagnosis=113, apache_3j_diagnosis=502.01, apache_post_operative=0, arf_apache=0, gcs_eyes_apache=3, gcs_motor_apache=6, gcs_unable_apache=0, gcs_verbal_apache=4, heart_rate_apache=118, intubated_apache=0, map_apache=40, resprate_apache=36.0, temp_apache=39.3, ventilated_apache=0, d1_diasbp_max=68, d1_diasbp_min=37, d1_heartrate_max=119, d1_heartrate_min=72, d1_mbp_max=89, d1_mbp_min=46, d1_resprate_max=34, d1_resprate_min=10, d1_spo2_max=100, d1_spo2_min=74, d1_sysbp_max=131, d1_sysbp_min=73, d1_temp_max=39.9, d1_temp_min=37.2, h1_diasbp_max=68, h1_diasbp_min=63, h1_heartrate_max=119, h1_heartrate_min=108, h1_mbp_max=86, h1_mbp_min=85, h1_resprate_max=26, h1_resprate_min=18, h1_spo2_max=100, h1_spo2_min=74, h1_sysbp_max=131, h1_sysbp_min=115, d1_glucose_max=168, d1_glucose_min=109, d1_potassium_max=4.0, d1_potassium_min=3.4, apache_4a_hospital_death_prob=0.1, apache_4a_icu_death_prob=0.05, aids=False, cirrhosis=False, diabetes_mellitus=True, hepatic_failure=False, immunosuppression=0, leukemia=False, lymphoma=False, solid_tumor_with_metastasis=False, hospital_death=0, ethnicityIndex=0.0, genderIndex=0.0, icu_admit_sourceIndex=2.0, icu_typeIndex=7.0, apache_3j_bodysystemIndex=1.0, apache_2_bodysystemIndex=0.0, features=DenseVector([68.0, 22.73, 0.0, 180.3, 0.5417, 73.9, 113.0, 502.01, 0.0, 0.0, 3.0, 6.0, 0.0, 4.0, 118.0, 0.0, 40.0, 36.0, 39.3, 0.0, 68.0, 37.0, 119.0, 72.0, 89.0, 46.0, 34.0, 10.0, 100.0, 74.0, 131.0, 73.0, 39.9, 37.2, 68.0, 63.0, 119.0, 108.0, 86.0, 85.0, 26.0, 18.0, 100.0, 74.0, 131.0, 115.0, 168.0, 109.0, 4.0, 3.4, 0.1, 0.05, 0.0, 0.0, 1.0, 0.0, 0.0, 0.0, 0.0, 0.0, 0.0, 0.0, 2.0, 7.0, 1.0, 0.0]), scaledFeatures=DenseVector([0.3182, -0.7965, -0.4945, 0.9712, -0.1311, -0.4278, -0.8434, -0.1665, -0.5329, -0.1741, -0.4301, 0.4266, 0.0, 0.0505, 0.5653, -0.4469, -1.1254, 0.6673, 3.3913, -0.7322, -1.0552, -0.9659, 0.69, 0.0846, -0.7667, -1.184, 0.4733, -0.5492, 0.4645, -1.7424, -0.687, -1.1401, 3.6923, 1.2718, -0.3958, 0.0284, 1.2036, 1.1758, -0.2643, 0.3145, 0.4565, 0.1427, 0.6437, -3.4304, -0.0692, -0.0265, -0.0911, -0.1186, -0.3814, -0.9191, -0.0195, -0.0623, -0.0313, -0.1315, 1.793, -0.1206, -0.1719, -0.088, -0.0647, -0.1502, -0.4404, -0.908, 1.4831, 2.3876, -0.5472, -0.8491]), pcaFeatures=DenseVector([-1.8428, -2.0107, -2.1933, 0.9041, 1.6405, -0.8087]))]"
      ]
     },
     "execution_count": 52,
     "metadata": {},
     "output_type": "execute_result"
    }
   ],
   "source": [
    "from pyspark.ml.feature import PCA\n",
    "\n",
    "# PCA using 4 components\n",
    "pca = PCA(k=6, inputCol=\"scaledFeatures\", outputCol=\"pcaFeatures\")\n",
    "model = pca.fit(df_scaled)\n",
    "\n",
    "# extract the transformed features\n",
    "result = model.transform(df_scaled)\n",
    "\n",
    "result.take(1)"
   ]
  },
  {
   "cell_type": "code",
   "execution_count": 53,
   "metadata": {},
   "outputs": [
    {
     "data": {
      "text/plain": [
       "array([11.205 ,  8.2298,  6.5312,  5.4657,  3.9366,  3.5679])"
      ]
     },
     "execution_count": 53,
     "metadata": {},
     "output_type": "execute_result"
    }
   ],
   "source": [
    "import numpy as np\n",
    "\n",
    "np.round(100.00*model.explainedVariance.toArray(),4)"
   ]
  },
  {
   "cell_type": "code",
   "execution_count": 54,
   "metadata": {},
   "outputs": [
    {
     "name": "stdout",
     "output_type": "stream",
     "text": [
      "+------------------------------------------------------------------------------------------------------------------------+\n",
      "|pcaFeatures                                                                                                             |\n",
      "+------------------------------------------------------------------------------------------------------------------------+\n",
      "|[-1.8428116851670566,-2.0107071117580344,-2.1933402726882085,0.9041213245385462,1.6405122848656477,-0.8087154799883086] |\n",
      "|[-4.083352460384434,-4.861613706242349,1.5887561419087504,-2.562420096710107,0.9040013393144372,-0.7434001751787164]    |\n",
      "|[-2.663286103142752,1.7895874968987102,2.0529227903971927,2.556284436361788,-0.15939962491140874,0.268640169790231]     |\n",
      "|[4.0292079232430735,0.40892998255208013,-0.3438502370907018,0.23922304197112756,0.6395886140004559,0.3327860221702241]  |\n",
      "|[4.356283581530569,-1.1150129908125497,1.6863345447164677,-0.5539201469798868,2.158842793223088,2.4145636391420333]     |\n",
      "|[-0.28006831110355845,2.3752276596512587,-0.5576510576729334,1.8045131494791,0.12016919189046979,-0.5346911397232827]   |\n",
      "|[-0.9278231712801277,1.1272873591940518,-1.4098739724545901,3.0925025069862433,2.3525131642921897,1.5080585851178046]   |\n",
      "|[0.9808799783023823,-1.2571220428817638,3.3831042010220744,-0.14873190367905384,-0.7490962600316263,0.9991014314617169] |\n",
      "|[-1.3392039367408455,1.65487432131351,-0.8051757885999256,-0.30324457716788744,-1.1675095655408212,-1.1441419129861274] |\n",
      "|[2.167960187689773,-2.641065662058164,0.7539041876326084,-0.4880483869975526,-0.5172302888921421,1.8452492656030515]    |\n",
      "|[0.1935261616952953,2.155681483776064,-0.9375177159520646,-2.267181349502064,-0.562398184203674,0.9634521663222259]     |\n",
      "|[-6.131901671676092,-3.352917152763984,0.8013800841958818,-1.3996966958100454,0.3348921864113507,0.24229959597549838]   |\n",
      "|[4.904520005410797,-0.13001808196826115,-0.4831759288351391,-1.0376117445708806,-1.0237238560728414,-1.2837416916535649]|\n",
      "|[4.80806076556802,1.0802782534864503,1.3419026548681618,0.7972436528958209,-0.6789866680648526,-0.37505991414473006]    |\n",
      "|[0.6120932543964384,0.747083572541691,-0.3282212056376792,-2.066234631473905,0.266693245422865,-1.2870321667592346]     |\n",
      "|[0.46070924959093557,2.401989456135198,0.14283238775813725,-3.191734814023071,0.06314506863745176,1.1156384685971763]   |\n",
      "|[1.914885216823981,2.588043991533843,1.5454909526265166,0.724522779514863,1.6304933964585628,-1.055811020170687]        |\n",
      "|[6.3844486072771005,-2.2480448619030984,-0.7051293707810162,1.938699338946761,0.1415944603901511,-0.34777307844535466]  |\n",
      "|[7.236910865466446,-0.268527191462774,1.1582722530536307,-1.840031968639809,-1.2625997031692302,-1.5001373478498115]    |\n",
      "|[2.3753522092552,-1.7859953734698315,1.7041524847352183,-0.16041584570860676,1.232309406078031,-0.5043635208683257]     |\n",
      "+------------------------------------------------------------------------------------------------------------------------+\n",
      "only showing top 20 rows\n",
      "\n"
     ]
    }
   ],
   "source": [
    "result_pca_features = result.select(\"pcaFeatures\")\n",
    "result_pca_features.show(truncate=False)"
   ]
  },
  {
   "cell_type": "code",
   "execution_count": 55,
   "metadata": {},
   "outputs": [
    {
     "data": {
      "text/html": [
       "<div>\n",
       "<style scoped>\n",
       "    .dataframe tbody tr th:only-of-type {\n",
       "        vertical-align: middle;\n",
       "    }\n",
       "\n",
       "    .dataframe tbody tr th {\n",
       "        vertical-align: top;\n",
       "    }\n",
       "\n",
       "    .dataframe thead th {\n",
       "        text-align: right;\n",
       "    }\n",
       "</style>\n",
       "<table border=\"1\" class=\"dataframe\">\n",
       "  <thead>\n",
       "    <tr style=\"text-align: right;\">\n",
       "      <th></th>\n",
       "      <th>PC1</th>\n",
       "      <th>PC2</th>\n",
       "      <th>PC3</th>\n",
       "      <th>PC4</th>\n",
       "      <th>PC5</th>\n",
       "      <th>PC6</th>\n",
       "    </tr>\n",
       "  </thead>\n",
       "  <tbody>\n",
       "    <tr>\n",
       "      <th>age</th>\n",
       "      <td>-0.0439</td>\n",
       "      <td>0.0372</td>\n",
       "      <td>0.0462</td>\n",
       "      <td>-0.1526</td>\n",
       "      <td>0.1162</td>\n",
       "      <td>-0.0176</td>\n",
       "    </tr>\n",
       "    <tr>\n",
       "      <th>bmi</th>\n",
       "      <td>0.0213</td>\n",
       "      <td>-0.0046</td>\n",
       "      <td>0.0193</td>\n",
       "      <td>-0.0066</td>\n",
       "      <td>0.3392</td>\n",
       "      <td>0.0919</td>\n",
       "    </tr>\n",
       "    <tr>\n",
       "      <th>elective_surgery</th>\n",
       "      <td>-0.0632</td>\n",
       "      <td>0.1815</td>\n",
       "      <td>0.1506</td>\n",
       "      <td>0.3069</td>\n",
       "      <td>0.1716</td>\n",
       "      <td>0.0265</td>\n",
       "    </tr>\n",
       "    <tr>\n",
       "      <th>height</th>\n",
       "      <td>0.0332</td>\n",
       "      <td>0.0189</td>\n",
       "      <td>0.0332</td>\n",
       "      <td>0.0368</td>\n",
       "      <td>0.1458</td>\n",
       "      <td>0.1668</td>\n",
       "    </tr>\n",
       "    <tr>\n",
       "      <th>pre_icu_los_days</th>\n",
       "      <td>-0.0404</td>\n",
       "      <td>-0.0124</td>\n",
       "      <td>0.0206</td>\n",
       "      <td>0.0794</td>\n",
       "      <td>0.0790</td>\n",
       "      <td>0.0354</td>\n",
       "    </tr>\n",
       "    <tr>\n",
       "      <th>...</th>\n",
       "      <td>...</td>\n",
       "      <td>...</td>\n",
       "      <td>...</td>\n",
       "      <td>...</td>\n",
       "      <td>...</td>\n",
       "      <td>...</td>\n",
       "    </tr>\n",
       "    <tr>\n",
       "      <th>genderIndex</th>\n",
       "      <td>-0.0275</td>\n",
       "      <td>-0.0255</td>\n",
       "      <td>-0.0367</td>\n",
       "      <td>-0.0253</td>\n",
       "      <td>-0.1348</td>\n",
       "      <td>-0.1773</td>\n",
       "    </tr>\n",
       "    <tr>\n",
       "      <th>icu_admit_sourceIndex</th>\n",
       "      <td>-0.0360</td>\n",
       "      <td>0.0206</td>\n",
       "      <td>0.0222</td>\n",
       "      <td>0.0966</td>\n",
       "      <td>0.1372</td>\n",
       "      <td>0.0069</td>\n",
       "    </tr>\n",
       "    <tr>\n",
       "      <th>icu_typeIndex</th>\n",
       "      <td>-0.0255</td>\n",
       "      <td>0.0948</td>\n",
       "      <td>0.0884</td>\n",
       "      <td>0.0571</td>\n",
       "      <td>0.1146</td>\n",
       "      <td>0.0670</td>\n",
       "    </tr>\n",
       "    <tr>\n",
       "      <th>apache_3j_bodysystemIndex</th>\n",
       "      <td>0.0355</td>\n",
       "      <td>0.0150</td>\n",
       "      <td>-0.0210</td>\n",
       "      <td>0.1991</td>\n",
       "      <td>-0.1563</td>\n",
       "      <td>-0.1877</td>\n",
       "    </tr>\n",
       "    <tr>\n",
       "      <th>apache_2_bodysystemIndex</th>\n",
       "      <td>0.0121</td>\n",
       "      <td>0.0666</td>\n",
       "      <td>0.0365</td>\n",
       "      <td>0.2575</td>\n",
       "      <td>-0.1110</td>\n",
       "      <td>-0.1588</td>\n",
       "    </tr>\n",
       "  </tbody>\n",
       "</table>\n",
       "<p>66 rows × 6 columns</p>\n",
       "</div>"
      ],
      "text/plain": [
       "                              PC1     PC2     PC3     PC4     PC5     PC6\n",
       "age                       -0.0439  0.0372  0.0462 -0.1526  0.1162 -0.0176\n",
       "bmi                        0.0213 -0.0046  0.0193 -0.0066  0.3392  0.0919\n",
       "elective_surgery          -0.0632  0.1815  0.1506  0.3069  0.1716  0.0265\n",
       "height                     0.0332  0.0189  0.0332  0.0368  0.1458  0.1668\n",
       "pre_icu_los_days          -0.0404 -0.0124  0.0206  0.0794  0.0790  0.0354\n",
       "...                           ...     ...     ...     ...     ...     ...\n",
       "genderIndex               -0.0275 -0.0255 -0.0367 -0.0253 -0.1348 -0.1773\n",
       "icu_admit_sourceIndex     -0.0360  0.0206  0.0222  0.0966  0.1372  0.0069\n",
       "icu_typeIndex             -0.0255  0.0948  0.0884  0.0571  0.1146  0.0670\n",
       "apache_3j_bodysystemIndex  0.0355  0.0150 -0.0210  0.1991 -0.1563 -0.1877\n",
       "apache_2_bodysystemIndex   0.0121  0.0666  0.0365  0.2575 -0.1110 -0.1588\n",
       "\n",
       "[66 rows x 6 columns]"
      ]
     },
     "execution_count": 55,
     "metadata": {},
     "output_type": "execute_result"
    }
   ],
   "source": [
    "import pandas as pd\n",
    "\n",
    "cols = df_2.drop('hospital_death').columns\n",
    "cols\n",
    "\n",
    "pcs = np.round(model.pc.toArray(),4)\n",
    "df_pc = pd.DataFrame(pcs, columns = ['PC1','PC2','PC3','PC4','PC5','PC6'], index = cols)\n",
    "df_pc"
   ]
  },
  {
   "cell_type": "code",
   "execution_count": 56,
   "metadata": {},
   "outputs": [
    {
     "data": {
      "text/plain": [
       "h1_mbp_min       0.3170\n",
       "h1_sysbp_min     0.2970\n",
       "h1_mbp_max       0.2927\n",
       "h1_diasbp_min    0.2903\n",
       "h1_sysbp_max     0.2743\n",
       "d1_mbp_min       0.2611\n",
       "h1_diasbp_max    0.2589\n",
       "d1_sysbp_min     0.2535\n",
       "d1_mbp_max       0.2404\n",
       "d1_diasbp_min    0.2401\n",
       "d1_sysbp_max     0.2325\n",
       "map_apache       0.2143\n",
       "Name: PC1, dtype: float64"
      ]
     },
     "execution_count": 56,
     "metadata": {},
     "output_type": "execute_result"
    }
   ],
   "source": [
    "pc1 = df_pc.loc[:,'PC1'].abs().sort_values(ascending=False)\n",
    "s1 = pc1[pc1 > 0.2]\n",
    "s1"
   ]
  },
  {
   "cell_type": "code",
   "execution_count": 68,
   "metadata": {},
   "outputs": [
    {
     "data": {
      "text/plain": [
       "['h1_mbp_min',\n",
       " 'h1_sysbp_min',\n",
       " 'h1_mbp_max',\n",
       " 'h1_diasbp_min',\n",
       " 'h1_sysbp_max',\n",
       " 'd1_mbp_min',\n",
       " 'h1_diasbp_max',\n",
       " 'd1_sysbp_min',\n",
       " 'd1_mbp_max',\n",
       " 'd1_diasbp_min',\n",
       " 'd1_sysbp_max',\n",
       " 'map_apache']"
      ]
     },
     "execution_count": 68,
     "metadata": {},
     "output_type": "execute_result"
    }
   ],
   "source": [
    "s1index=s1.index\n",
    "s1list = list(s1index)\n",
    "s1list"
   ]
  },
  {
   "cell_type": "code",
   "execution_count": 69,
   "metadata": {},
   "outputs": [
    {
     "data": {
      "text/plain": [
       "h1_heartrate_max                 0.3053\n",
       "d1_heartrate_max                 0.3047\n",
       "heart_rate_apache                0.2798\n",
       "h1_heartrate_min                 0.2789\n",
       "h1_resprate_max                  0.2240\n",
       "apache_4a_hospital_death_prob    0.2125\n",
       "apache_4a_icu_death_prob         0.2013\n",
       "Name: PC2, dtype: float64"
      ]
     },
     "execution_count": 69,
     "metadata": {},
     "output_type": "execute_result"
    }
   ],
   "source": [
    "pc2 = df_pc.loc[:,'PC2'].abs().sort_values(ascending=False)\n",
    "s2 = pc2[pc2 > 0.2]\n",
    "s2"
   ]
  },
  {
   "cell_type": "code",
   "execution_count": 71,
   "metadata": {},
   "outputs": [
    {
     "data": {
      "text/plain": [
       "Index(['h1_heartrate_max', 'd1_heartrate_max', 'heart_rate_apache',\n",
       "       'h1_heartrate_min', 'h1_resprate_max', 'apache_4a_hospital_death_prob',\n",
       "       'apache_4a_icu_death_prob'],\n",
       "      dtype='object')"
      ]
     },
     "execution_count": 71,
     "metadata": {},
     "output_type": "execute_result"
    }
   ],
   "source": [
    "s2index=s2.index\n",
    "s2index"
   ]
  },
  {
   "cell_type": "code",
   "execution_count": 72,
   "metadata": {},
   "outputs": [
    {
     "data": {
      "text/plain": [
       "gcs_eyes_apache                  0.3003\n",
       "gcs_motor_apache                 0.2968\n",
       "gcs_verbal_apache                0.2953\n",
       "ventilated_apache                0.2638\n",
       "intubated_apache                 0.2464\n",
       "apache_4a_icu_death_prob         0.2138\n",
       "d1_temp_min                      0.2127\n",
       "apache_4a_hospital_death_prob    0.2064\n",
       "Name: PC3, dtype: float64"
      ]
     },
     "execution_count": 72,
     "metadata": {},
     "output_type": "execute_result"
    }
   ],
   "source": [
    "pc3 = df_pc.loc[:,'PC3'].abs().sort_values(ascending=False)\n",
    "s3 = pc3[pc3 > 0.2]\n",
    "s3"
   ]
  },
  {
   "cell_type": "code",
   "execution_count": 73,
   "metadata": {},
   "outputs": [
    {
     "data": {
      "text/plain": [
       "Index(['gcs_eyes_apache', 'gcs_motor_apache', 'gcs_verbal_apache',\n",
       "       'ventilated_apache', 'intubated_apache', 'apache_4a_icu_death_prob',\n",
       "       'd1_temp_min', 'apache_4a_hospital_death_prob'],\n",
       "      dtype='object')"
      ]
     },
     "execution_count": 73,
     "metadata": {},
     "output_type": "execute_result"
    }
   ],
   "source": [
    "s3index=s3.index\n",
    "s3index"
   ]
  },
  {
   "cell_type": "code",
   "execution_count": 74,
   "metadata": {},
   "outputs": [
    {
     "data": {
      "text/plain": [
       "['apache_4a_hospital_death_prob',\n",
       " 'apache_4a_icu_death_prob',\n",
       " 'd1_diasbp_min',\n",
       " 'd1_heartrate_max',\n",
       " 'd1_mbp_max',\n",
       " 'd1_mbp_min',\n",
       " 'd1_sysbp_max',\n",
       " 'd1_sysbp_min',\n",
       " 'd1_temp_min',\n",
       " 'gcs_eyes_apache',\n",
       " 'gcs_motor_apache',\n",
       " 'gcs_verbal_apache',\n",
       " 'h1_diasbp_max',\n",
       " 'h1_diasbp_min',\n",
       " 'h1_heartrate_max',\n",
       " 'h1_heartrate_min',\n",
       " 'h1_mbp_max',\n",
       " 'h1_mbp_min',\n",
       " 'h1_resprate_max',\n",
       " 'h1_sysbp_max',\n",
       " 'h1_sysbp_min',\n",
       " 'heart_rate_apache',\n",
       " 'intubated_apache',\n",
       " 'map_apache',\n",
       " 'ventilated_apache']"
      ]
     },
     "execution_count": 74,
     "metadata": {},
     "output_type": "execute_result"
    }
   ],
   "source": [
    "#Union the series indices\n",
    "\n",
    "important_vars = s3index.union(s2index).union(s1index)\n",
    "list(important_vars)"
   ]
  },
  {
   "cell_type": "markdown",
   "metadata": {},
   "source": [
    "### Experimenting with NA Origins for Certain Columns"
   ]
  },
  {
   "cell_type": "code",
   "execution_count": 75,
   "metadata": {},
   "outputs": [],
   "source": [
    "import matplotlib.pyplot as plt\n",
    "num_nulls_df=data.withColumn('numNulls', sum(data[col].isNull().cast('int') for col in data.columns))\n",
    "# num_nulls_df.filter([data[i].isNull()==False for i in s1list]).show()\n",
    "# num_nulls_df.filter([col(i).isNull()==False for i in s1list])\n",
    "less_nulls_df = num_nulls_df.filter(col('h1_mbp_min').isNotNull())\n",
    "# less_nulls = less_nulls.filter(less_nulls.numNulls < 3)\n",
    "# less_nulls.count()\n",
    "x = range(1,11)\n",
    "y = []\n",
    "for i in range(1, 11):\n",
    "    y.append(less_nulls_df.filter(less_nulls_df.numNulls < i).count())\n",
    "# less_nulls_df = num_nulls_df.filter((num_nulls_df.numNulls < 2) and col('h1_mbp_min').isNotNull())\n",
    "# less_nulls_df.count()"
   ]
  },
  {
   "cell_type": "code",
   "execution_count": 76,
   "metadata": {},
   "outputs": [
    {
     "data": {
      "image/png": "[encoded data removed]",
      "text/plain": [
       "<Figure size 640x480 with 1 Axes>"
      ]
     },
     "metadata": {},
     "output_type": "display_data"
    }
   ],
   "source": [
    "plt.title('# of Records by Amount of Nulls Allowed per Row')\n",
    "plt.xlabel('Nulls')\n",
    "plt.ylabel('Records')\n",
    "plt.plot(x, y)\n",
    "plt.show()"
   ]
  },
  {
   "cell_type": "code",
   "execution_count": 77,
   "metadata": {},
   "outputs": [
    {
     "name": "stdout",
     "output_type": "stream",
     "text": [
      "root\n",
      " |-- age: integer (nullable = true)\n",
      " |-- bmi: double (nullable = true)\n",
      " |-- elective_surgery: integer (nullable = true)\n",
      " |-- ethnicity: string (nullable = true)\n",
      " |-- gender: string (nullable = true)\n",
      " |-- height: double (nullable = true)\n",
      " |-- icu_admit_source: string (nullable = true)\n",
      " |-- icu_type: string (nullable = true)\n",
      " |-- pre_icu_los_days: double (nullable = true)\n",
      " |-- weight: double (nullable = true)\n",
      " |-- apache_2_diagnosis: integer (nullable = true)\n",
      " |-- apache_3j_diagnosis: double (nullable = true)\n",
      " |-- apache_post_operative: integer (nullable = true)\n",
      " |-- arf_apache: integer (nullable = true)\n",
      " |-- gcs_eyes_apache: integer (nullable = true)\n",
      " |-- gcs_motor_apache: integer (nullable = true)\n",
      " |-- gcs_unable_apache: integer (nullable = true)\n",
      " |-- gcs_verbal_apache: integer (nullable = true)\n",
      " |-- heart_rate_apache: integer (nullable = true)\n",
      " |-- intubated_apache: integer (nullable = true)\n",
      " |-- map_apache: integer (nullable = true)\n",
      " |-- resprate_apache: double (nullable = true)\n",
      " |-- temp_apache: double (nullable = true)\n",
      " |-- ventilated_apache: integer (nullable = true)\n",
      " |-- d1_diasbp_max: integer (nullable = true)\n",
      " |-- d1_diasbp_min: integer (nullable = true)\n",
      " |-- d1_heartrate_max: integer (nullable = true)\n",
      " |-- d1_heartrate_min: integer (nullable = true)\n",
      " |-- d1_mbp_max: integer (nullable = true)\n",
      " |-- d1_mbp_min: integer (nullable = true)\n",
      " |-- d1_resprate_max: integer (nullable = true)\n",
      " |-- d1_resprate_min: integer (nullable = true)\n",
      " |-- d1_spo2_max: integer (nullable = true)\n",
      " |-- d1_spo2_min: integer (nullable = true)\n",
      " |-- d1_sysbp_max: integer (nullable = true)\n",
      " |-- d1_sysbp_min: integer (nullable = true)\n",
      " |-- d1_temp_max: double (nullable = true)\n",
      " |-- d1_temp_min: double (nullable = true)\n",
      " |-- h1_diasbp_max: integer (nullable = true)\n",
      " |-- h1_diasbp_min: integer (nullable = true)\n",
      " |-- h1_heartrate_max: integer (nullable = true)\n",
      " |-- h1_heartrate_min: integer (nullable = true)\n",
      " |-- h1_mbp_max: integer (nullable = true)\n",
      " |-- h1_mbp_min: integer (nullable = true)\n",
      " |-- h1_resprate_max: integer (nullable = true)\n",
      " |-- h1_resprate_min: integer (nullable = true)\n",
      " |-- h1_spo2_max: integer (nullable = true)\n",
      " |-- h1_spo2_min: integer (nullable = true)\n",
      " |-- h1_sysbp_max: integer (nullable = true)\n",
      " |-- h1_sysbp_min: integer (nullable = true)\n",
      " |-- d1_glucose_max: integer (nullable = true)\n",
      " |-- d1_glucose_min: integer (nullable = true)\n",
      " |-- apache_4a_hospital_death_prob: double (nullable = true)\n",
      " |-- apache_4a_icu_death_prob: double (nullable = true)\n",
      " |-- aids: boolean (nullable = true)\n",
      " |-- cirrhosis: boolean (nullable = true)\n",
      " |-- diabetes_mellitus: boolean (nullable = true)\n",
      " |-- hepatic_failure: boolean (nullable = true)\n",
      " |-- immunosuppression: integer (nullable = true)\n",
      " |-- leukemia: boolean (nullable = true)\n",
      " |-- lymphoma: boolean (nullable = true)\n",
      " |-- solid_tumor_with_metastasis: boolean (nullable = true)\n",
      " |-- apache_3j_bodysystem: string (nullable = true)\n",
      " |-- apache_2_bodysystem: string (nullable = true)\n",
      " |-- hospital_death: integer (nullable = true)\n",
      " |-- numNulls: integer (nullable = false)\n",
      "\n"
     ]
    }
   ],
   "source": [
    "less_nulls_df = less_nulls_df.filter(less_nulls_df.numNulls < 3)\n",
    "less_nulls_df = less_nulls_df.drop(\"d1_potassium_max\", \"d1_potassium_min\")\n",
    "less_nulls_df.printSchema()"
   ]
  },
  {
   "cell_type": "code",
   "execution_count": 78,
   "metadata": {},
   "outputs": [
    {
     "name": "stdout",
     "output_type": "stream",
     "text": [
      "+----+----+----------------+---------+------+------+----------------+--------+----------------+------+------------------+-------------------+---------------------+----------+---------------+----------------+-----------------+-----------------+-----------------+----------------+----------+---------------+-----------+-----------------+-------------+-------------+----------------+----------------+----------+----------+---------------+---------------+-----------+-----------+------------+------------+-----------+-----------+-------------+-------------+----------------+----------------+----------+----------+---------------+---------------+-----------+-----------+------------+------------+--------------+--------------+-----------------------------+------------------------+----+---------+-----------------+---------------+-----------------+--------+--------+---------------------------+--------------------+-------------------+--------------+--------+\n",
      "| age| bmi|elective_surgery|ethnicity|gender|height|icu_admit_source|icu_type|pre_icu_los_days|weight|apache_2_diagnosis|apache_3j_diagnosis|apache_post_operative|arf_apache|gcs_eyes_apache|gcs_motor_apache|gcs_unable_apache|gcs_verbal_apache|heart_rate_apache|intubated_apache|map_apache|resprate_apache|temp_apache|ventilated_apache|d1_diasbp_max|d1_diasbp_min|d1_heartrate_max|d1_heartrate_min|d1_mbp_max|d1_mbp_min|d1_resprate_max|d1_resprate_min|d1_spo2_max|d1_spo2_min|d1_sysbp_max|d1_sysbp_min|d1_temp_max|d1_temp_min|h1_diasbp_max|h1_diasbp_min|h1_heartrate_max|h1_heartrate_min|h1_mbp_max|h1_mbp_min|h1_resprate_max|h1_resprate_min|h1_spo2_max|h1_spo2_min|h1_sysbp_max|h1_sysbp_min|d1_glucose_max|d1_glucose_min|apache_4a_hospital_death_prob|apache_4a_icu_death_prob|aids|cirrhosis|diabetes_mellitus|hepatic_failure|immunosuppression|leukemia|lymphoma|solid_tumor_with_metastasis|apache_3j_bodysystem|apache_2_bodysystem|hospital_death|numNulls|\n",
      "+----+----+----------------+---------+------+------+----------------+--------+----------------+------+------------------+-------------------+---------------------+----------+---------------+----------------+-----------------+-----------------+-----------------+----------------+----------+---------------+-----------+-----------------+-------------+-------------+----------------+----------------+----------+----------+---------------+---------------+-----------+-----------+------------+------------+-----------+-----------+-------------+-------------+----------------+----------------+----------+----------+---------------+---------------+-----------+-----------+------------+------------+--------------+--------------+-----------------------------+------------------------+----+---------+-----------------+---------------+-----------------+--------+--------+---------------------------+--------------------+-------------------+--------------+--------+\n",
      "|2421|1743|               0|      727|     5|   393|              53|       0|               0|  1350|                 0|                  0|                    0|         0|              0|               0|                0|                0|                0|               0|         3|             41|        677|                0|            0|            0|               0|               0|         0|         0|              0|              0|          0|          0|           0|           0|          5|          5|            2|            2|              20|              20|         0|         0|            831|            831|        684|        684|           0|           0|           216|           216|                         5265|                    5265|   0|        0|                0|              0|                0|       0|       0|                          0|                   0|                  0|             0|       0|\n",
      "+----+----+----------------+---------+------+------+----------------+--------+----------------+------+------------------+-------------------+---------------------+----------+---------------+----------------+-----------------+-----------------+-----------------+----------------+----------+---------------+-----------+-----------------+-------------+-------------+----------------+----------------+----------+----------+---------------+---------------+-----------+-----------+------------+------------+-----------+-----------+-------------+-------------+----------------+----------------+----------+----------+---------------+---------------+-----------+-----------+------------+------------+--------------+--------------+-----------------------------+------------------------+----+---------+-----------------+---------------+-----------------+--------+--------+---------------------------+--------------------+-------------------+--------------+--------+\n",
      "\n"
     ]
    }
   ],
   "source": [
    "less_nulls_df.select([count(when(col(c).isNull(), c)).alias(c) for c in less_nulls_df.columns]).show()"
   ]
  },
  {
   "cell_type": "code",
   "execution_count": 81,
   "metadata": {},
   "outputs": [
    {
     "name": "stdout",
     "output_type": "stream",
     "text": [
      "+-----------------+-----+\n",
      "|diabetes_mellitus|count|\n",
      "+-----------------+-----+\n",
      "|             true|  839|\n",
      "|            false| 1879|\n",
      "+-----------------+-----+\n",
      "\n"
     ]
    }
   ],
   "source": [
    "less_nulls_df.filter(col('d1_potassium_max').isNull()).select(\"diabetes_mellitus\").groupBy(\"diabetes_mellitus\").count().show()"
   ]
  },
  {
   "cell_type": "code",
   "execution_count": 83,
   "metadata": {},
   "outputs": [
    {
     "name": "stdout",
     "output_type": "stream",
     "text": [
      "+-----------------+-----+\n",
      "|diabetes_mellitus|count|\n",
      "+-----------------+-----+\n",
      "|             true| 1339|\n",
      "|            false| 3926|\n",
      "+-----------------+-----+\n",
      "\n"
     ]
    }
   ],
   "source": [
    "less_nulls_df.filter(col('apache_4a_hospital_death_prob').isNull()).select(\"diabetes_mellitus\").groupBy(\"diabetes_mellitus\").count().show()"
   ]
  },
  {
   "cell_type": "code",
   "execution_count": 82,
   "metadata": {},
   "outputs": [
    {
     "data": {
      "text/plain": [
       "0.44651410324640767"
      ]
     },
     "execution_count": 82,
     "metadata": {},
     "output_type": "execute_result"
    }
   ],
   "source": [
    "# ratio of diabetes for rows with missing apache_4a_hosp_death_prob values\n",
    "839/1879"
   ]
  },
  {
   "cell_type": "code",
   "execution_count": 84,
   "metadata": {},
   "outputs": [
    {
     "data": {
      "text/plain": [
       "0.34105960264900664"
      ]
     },
     "execution_count": 84,
     "metadata": {},
     "output_type": "execute_result"
    }
   ],
   "source": [
    "# ratio of diabetes (present vs not) for rows with missing potassium values \n",
    "1339/3926"
   ]
  },
  {
   "cell_type": "code",
   "execution_count": 86,
   "metadata": {},
   "outputs": [
    {
     "name": "stdout",
     "output_type": "stream",
     "text": [
      "+--------------+-----+\n",
      "|hospital_death|count|\n",
      "+--------------+-----+\n",
      "|             1| 6399|\n",
      "|             0|69163|\n",
      "+--------------+-----+\n",
      "\n",
      "+-------+-----------------------------+\n",
      "|summary|apache_4a_hospital_death_prob|\n",
      "+-------+-----------------------------+\n",
      "|  count|                        70297|\n",
      "|   mean|          0.10361509025993966|\n",
      "| stddev|           0.2183729679172653|\n",
      "|    min|                         -1.0|\n",
      "|    max|                         0.99|\n",
      "+-------+-----------------------------+\n",
      "\n",
      "+---------------------------------------+\n",
      "|apache_4a_hospital_death_prob_quantiles|\n",
      "+---------------------------------------+\n",
      "|                           [0.02, 0.14]|\n",
      "+---------------------------------------+\n",
      "\n",
      "+-------+------------------------+\n",
      "|summary|apache_4a_icu_death_prob|\n",
      "+-------+------------------------+\n",
      "|  count|                   70297|\n",
      "|   mean|      0.0594150532740025|\n",
      "| stddev|     0.18618320271933617|\n",
      "|    min|                    -1.0|\n",
      "|    max|                    0.97|\n",
      "+-------+------------------------+\n",
      "\n",
      "+----------------------------------+\n",
      "|apache_4a_icu_death_prob_quantiles|\n",
      "+----------------------------------+\n",
      "|                      [0.01, 0.07]|\n",
      "+----------------------------------+\n",
      "\n",
      "+-------+------------------+\n",
      "|summary|     d1_diasbp_min|\n",
      "+-------+------------------+\n",
      "|  count|             75562|\n",
      "|   mean|49.793308806013606|\n",
      "| stddev|13.167974781194463|\n",
      "|    min|                13|\n",
      "|    max|                90|\n",
      "+-------+------------------+\n",
      "\n",
      "+-----------------------+\n",
      "|d1_diasbp_min_quantiles|\n",
      "+-----------------------+\n",
      "|               [41, 58]|\n",
      "+-----------------------+\n",
      "\n",
      "+-------+------------------+\n",
      "|summary|  d1_heartrate_max|\n",
      "+-------+------------------+\n",
      "|  count|             75562|\n",
      "|   mean|103.48126042190519|\n",
      "| stddev| 21.94261323005351|\n",
      "|    min|                58|\n",
      "|    max|               177|\n",
      "+-------+------------------+\n",
      "\n",
      "+--------------------------+\n",
      "|d1_heartrate_max_quantiles|\n",
      "+--------------------------+\n",
      "|                 [88, 117]|\n",
      "+--------------------------+\n",
      "\n",
      "+-------+------------------+\n",
      "|summary|        d1_mbp_max|\n",
      "+-------+------------------+\n",
      "|  count|             75562|\n",
      "|   mean|104.73701066673725|\n",
      "| stddev| 20.73867878033435|\n",
      "|    min|                60|\n",
      "|    max|               184|\n",
      "+-------+------------------+\n",
      "\n",
      "+--------------------+\n",
      "|d1_mbp_max_quantiles|\n",
      "+--------------------+\n",
      "|           [90, 116]|\n",
      "+--------------------+\n",
      "\n",
      "+-------+------------------+\n",
      "|summary|        d1_mbp_min|\n",
      "+-------+------------------+\n",
      "|  count|             75562|\n",
      "|   mean| 64.38973293454382|\n",
      "| stddev|15.481804270819968|\n",
      "|    min|                22|\n",
      "|    max|               112|\n",
      "+-------+------------------+\n",
      "\n",
      "+--------------------+\n",
      "|d1_mbp_min_quantiles|\n",
      "+--------------------+\n",
      "|            [54, 74]|\n",
      "+--------------------+\n",
      "\n",
      "+-------+------------------+\n",
      "|summary|      d1_sysbp_max|\n",
      "+-------+------------------+\n",
      "|  count|             75562|\n",
      "|   mean| 148.4830867367195|\n",
      "| stddev|25.558529981643936|\n",
      "|    min|                90|\n",
      "|    max|               232|\n",
      "+-------+------------------+\n",
      "\n",
      "+----------------------+\n",
      "|d1_sysbp_max_quantiles|\n",
      "+----------------------+\n",
      "|            [130, 164]|\n",
      "+----------------------+\n",
      "\n",
      "+-------+------------------+\n",
      "|summary|      d1_sysbp_min|\n",
      "+-------+------------------+\n",
      "|  count|             75562|\n",
      "|   mean| 96.39501336650697|\n",
      "| stddev|20.415838691778376|\n",
      "|    min|                41|\n",
      "|    max|               160|\n",
      "+-------+------------------+\n",
      "\n",
      "+----------------------+\n",
      "|d1_sysbp_min_quantiles|\n",
      "+----------------------+\n",
      "|             [83, 109]|\n",
      "+----------------------+\n",
      "\n",
      "+-------+------------------+\n",
      "|summary|       d1_temp_min|\n",
      "+-------+------------------+\n",
      "|  count|             75557|\n",
      "|   mean| 36.25829117525739|\n",
      "| stddev|0.7470083033396867|\n",
      "|    min|            31.889|\n",
      "|    max|              37.8|\n",
      "+-------+------------------+\n",
      "\n",
      "+---------------------+\n",
      "|d1_temp_min_quantiles|\n",
      "+---------------------+\n",
      "|         [36.1, 36.6]|\n",
      "+---------------------+\n",
      "\n",
      "+-------+------------------+\n",
      "|summary|   gcs_eyes_apache|\n",
      "+-------+------------------+\n",
      "|  count|             75562|\n",
      "|   mean| 3.438262618776634|\n",
      "| stddev|0.9683829042930002|\n",
      "|    min|                 1|\n",
      "|    max|                 4|\n",
      "+-------+------------------+\n",
      "\n",
      "+-------------------------+\n",
      "|gcs_eyes_apache_quantiles|\n",
      "+-------------------------+\n",
      "|                   [3, 4]|\n",
      "+-------------------------+\n",
      "\n",
      "+-------+-----------------+\n",
      "|summary| gcs_motor_apache|\n",
      "+-------+-----------------+\n",
      "|  count|            75562|\n",
      "|   mean| 5.44665307959027|\n",
      "| stddev|1.311076623092179|\n",
      "|    min|                1|\n",
      "|    max|                6|\n",
      "+-------+-----------------+\n",
      "\n",
      "+--------------------------+\n",
      "|gcs_motor_apache_quantiles|\n",
      "+--------------------------+\n",
      "|                    [6, 6]|\n",
      "+--------------------------+\n",
      "\n",
      "+-------+------------------+\n",
      "|summary| gcs_verbal_apache|\n",
      "+-------+------------------+\n",
      "|  count|             75562|\n",
      "|   mean| 3.939930123607104|\n",
      "| stddev|1.5881118564357863|\n",
      "|    min|                 1|\n",
      "|    max|                 5|\n",
      "+-------+------------------+\n",
      "\n",
      "+---------------------------+\n",
      "|gcs_verbal_apache_quantiles|\n",
      "+---------------------------+\n",
      "|                     [3, 5]|\n",
      "+---------------------------+\n",
      "\n",
      "+-------+------------------+\n",
      "|summary|     h1_diasbp_max|\n",
      "+-------+------------------+\n",
      "|  count|             75560|\n",
      "|   mean| 75.23035997882478|\n",
      "| stddev|18.435922766323724|\n",
      "|    min|                37|\n",
      "|    max|               143|\n",
      "+-------+------------------+\n",
      "\n",
      "+-----------------------+\n",
      "|h1_diasbp_max_quantiles|\n",
      "+-----------------------+\n",
      "|               [62, 86]|\n",
      "+-----------------------+\n",
      "\n",
      "+-------+------------------+\n",
      "|summary|     h1_diasbp_min|\n",
      "+-------+------------------+\n",
      "|  count|             75560|\n",
      "|   mean| 62.54174166225516|\n",
      "| stddev|16.355037945534903|\n",
      "|    min|                22|\n",
      "|    max|               113|\n",
      "+-------+------------------+\n",
      "\n",
      "+-----------------------+\n",
      "|h1_diasbp_min_quantiles|\n",
      "+-----------------------+\n",
      "|               [51, 73]|\n",
      "+-----------------------+\n",
      "\n",
      "+-------+------------------+\n",
      "|summary|  h1_heartrate_max|\n",
      "+-------+------------------+\n",
      "|  count|             75542|\n",
      "|   mean| 92.52219957109952|\n",
      "| stddev|21.805452772921196|\n",
      "|    min|                46|\n",
      "|    max|               164|\n",
      "+-------+------------------+\n",
      "\n",
      "+--------------------------+\n",
      "|h1_heartrate_max_quantiles|\n",
      "+--------------------------+\n",
      "|                 [77, 106]|\n",
      "+--------------------------+\n",
      "\n",
      "+-------+------------------+\n",
      "|summary|  h1_heartrate_min|\n",
      "+-------+------------------+\n",
      "|  count|             75542|\n",
      "|   mean| 83.94965714437002|\n",
      "| stddev|20.259463087389534|\n",
      "|    min|                36|\n",
      "|    max|               144|\n",
      "+-------+------------------+\n",
      "\n",
      "+--------------------------+\n",
      "|h1_heartrate_min_quantiles|\n",
      "+--------------------------+\n",
      "|                  [69, 97]|\n",
      "+--------------------------+\n",
      "\n",
      "+-------+------------------+\n",
      "|summary|        h1_mbp_max|\n",
      "+-------+------------------+\n",
      "|  count|             75562|\n",
      "|   mean| 91.44736772451762|\n",
      "| stddev|20.543544742837792|\n",
      "|    min|                49|\n",
      "|    max|               165|\n",
      "+-------+------------------+\n",
      "\n",
      "+--------------------+\n",
      "|h1_mbp_max_quantiles|\n",
      "+--------------------+\n",
      "|           [77, 103]|\n",
      "+--------------------+\n",
      "\n",
      "+-------+------------------+\n",
      "|summary|        h1_mbp_min|\n",
      "+-------+------------------+\n",
      "|  count|             75562|\n",
      "|   mean|  79.0741907307906|\n",
      "| stddev|19.115384329462533|\n",
      "|    min|                32|\n",
      "|    max|               138|\n",
      "+-------+------------------+\n",
      "\n",
      "+--------------------+\n",
      "|h1_mbp_min_quantiles|\n",
      "+--------------------+\n",
      "|            [66, 91]|\n",
      "+--------------------+\n",
      "\n",
      "+-------+------------------+\n",
      "|summary|   h1_resprate_max|\n",
      "+-------+------------------+\n",
      "|  count|             74731|\n",
      "|   mean|22.633191045215508|\n",
      "| stddev|7.4643100440505465|\n",
      "|    min|                10|\n",
      "|    max|                59|\n",
      "+-------+------------------+\n",
      "\n",
      "+-------------------------+\n",
      "|h1_resprate_max_quantiles|\n",
      "+-------------------------+\n",
      "|                 [18, 26]|\n",
      "+-------------------------+\n",
      "\n",
      "+-------+------------------+\n",
      "|summary|      h1_sysbp_max|\n",
      "+-------+------------------+\n",
      "|  count|             75562|\n",
      "|   mean|133.09686085598582|\n",
      "| stddev| 27.57175629668656|\n",
      "|    min|                75|\n",
      "|    max|               223|\n",
      "+-------+------------------+\n",
      "\n",
      "+----------------------+\n",
      "|h1_sysbp_max_quantiles|\n",
      "+----------------------+\n",
      "|            [113, 150]|\n",
      "+----------------------+\n",
      "\n",
      "+-------+------------------+\n",
      "|summary|      h1_sysbp_min|\n",
      "+-------+------------------+\n",
      "|  count|             75562|\n",
      "|   mean|115.94038008522803|\n",
      "| stddev|26.502320692875436|\n",
      "|    min|                53|\n",
      "|    max|               194|\n",
      "+-------+------------------+\n",
      "\n",
      "+----------------------+\n",
      "|h1_sysbp_min_quantiles|\n",
      "+----------------------+\n",
      "|             [97, 133]|\n",
      "+----------------------+\n",
      "\n",
      "+-------+------------------+\n",
      "|summary| heart_rate_apache|\n",
      "+-------+------------------+\n",
      "|  count|             75562|\n",
      "|   mean|100.19771842989863|\n",
      "| stddev|30.769917370154914|\n",
      "|    min|                30|\n",
      "|    max|               178|\n",
      "+-------+------------------+\n",
      "\n",
      "+---------------------------+\n",
      "|heart_rate_apache_quantiles|\n",
      "+---------------------------+\n",
      "|                  [87, 120]|\n",
      "+---------------------------+\n",
      "\n",
      "+-------+-------------------+\n",
      "|summary|   intubated_apache|\n",
      "+-------+-------------------+\n",
      "|  count|              75562|\n",
      "|   mean|0.16017310288240122|\n",
      "| stddev|0.36676894667924165|\n",
      "|    min|                  0|\n",
      "|    max|                  1|\n",
      "+-------+-------------------+\n",
      "\n",
      "+--------------------------+\n",
      "|intubated_apache_quantiles|\n",
      "+--------------------------+\n",
      "|                    [0, 0]|\n",
      "+--------------------------+\n",
      "\n",
      "+-------+-----------------+\n",
      "|summary|       map_apache|\n",
      "+-------+-----------------+\n",
      "|  count|            75559|\n",
      "|   mean|87.91977130454347|\n",
      "| stddev|42.51354289506531|\n",
      "|    min|               40|\n",
      "|    max|              200|\n",
      "+-------+-----------------+\n",
      "\n",
      "+--------------------+\n",
      "|map_apache_quantiles|\n",
      "+--------------------+\n",
      "|           [53, 125]|\n",
      "+--------------------+\n",
      "\n",
      "+-------+-------------------+\n",
      "|summary|  ventilated_apache|\n",
      "+-------+-------------------+\n",
      "|  count|              75562|\n",
      "|   mean|0.33911225219025437|\n",
      "| stddev|0.47341113064721646|\n",
      "|    min|                  0|\n",
      "|    max|                  1|\n",
      "+-------+-------------------+\n",
      "\n",
      "+---------------------------+\n",
      "|ventilated_apache_quantiles|\n",
      "+---------------------------+\n",
      "|                     [0, 1]|\n",
      "+---------------------------+\n",
      "\n"
     ]
    }
   ],
   "source": [
    "less_nulls_df.select(\"hospital_death\").groupBy(\"hospital_death\").count().show()\n",
    "\n",
    "for i in list(important_vars):\n",
    "    less_nulls_df.describe(i).show()\n",
    "    less_nulls_df.select(F.percentile_approx(i, [0.25, 0.75], 100000).alias(i+\"_quantiles\")).show()"
   ]
  },
  {
   "cell_type": "code",
   "execution_count": null,
   "metadata": {},
   "outputs": [],
   "source": []
  }
 ],
 "metadata": {
  "kernelspec": {
   "display_name": "DS 5110 Spark 3.1",
   "language": "python",
   "name": "ds5110_spark3.1"
  },
  "language_info": {
   "codemirror_mode": {
    "name": "ipython",
    "version": 3
   },
   "file_extension": ".py",
   "mimetype": "text/x-python",
   "name": "python",
   "nbconvert_exporter": "python",
   "pygments_lexer": "ipython3",
   "version": "3.7.10"
  }
 },
 "nbformat": 4,
 "nbformat_minor": 4
}
