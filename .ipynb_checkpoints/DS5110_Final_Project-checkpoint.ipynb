{
 "cells": [
  {
   "cell_type": "markdown",
   "metadata": {},
   "source": [
    "## DS 5110 Final Project - Hospital Mortality\n",
    "### By: Elena Tsvetskova, Brian Chae, Ryan Viti (rrv7eb)"
   ]
  },
  {
   "cell_type": "code",
   "execution_count": 1,
   "metadata": {},
   "outputs": [
    {
     "name": "stdout",
     "output_type": "stream",
     "text": [
      "+------------+----------+-----------+---+-----+----------------+---------+------+------+----------------+------+-------------+------------+----------------+------+------------------+-------------------+---------------------+----------+---------------+----------------+-----------------+-----------------+-----------------+----------------+----------+---------------+-----------+-----------------+-------------+-------------+-------------------------+-------------------------+----------------+----------------+----------+----------+----------------------+----------------------+---------------+---------------+-----------+-----------+------------+------------+------------------------+------------------------+-----------+-----------+-------------+-------------+-------------------------+-------------------------+----------------+----------------+----------+----------+----------------------+----------------------+---------------+---------------+-----------+-----------+------------+------------+------------------------+------------------------+--------------+--------------+----------------+----------------+-----------------------------+------------------------+----+---------+-----------------+---------------+-----------------+--------+--------+---------------------------+--------------------+-------------------+----+--------------+\n",
      "|encounter_id|patient_id|hospital_id|age|  bmi|elective_surgery|ethnicity|gender|height|icu_admit_source|icu_id|icu_stay_type|    icu_type|pre_icu_los_days|weight|apache_2_diagnosis|apache_3j_diagnosis|apache_post_operative|arf_apache|gcs_eyes_apache|gcs_motor_apache|gcs_unable_apache|gcs_verbal_apache|heart_rate_apache|intubated_apache|map_apache|resprate_apache|temp_apache|ventilated_apache|d1_diasbp_max|d1_diasbp_min|d1_diasbp_noninvasive_max|d1_diasbp_noninvasive_min|d1_heartrate_max|d1_heartrate_min|d1_mbp_max|d1_mbp_min|d1_mbp_noninvasive_max|d1_mbp_noninvasive_min|d1_resprate_max|d1_resprate_min|d1_spo2_max|d1_spo2_min|d1_sysbp_max|d1_sysbp_min|d1_sysbp_noninvasive_max|d1_sysbp_noninvasive_min|d1_temp_max|d1_temp_min|h1_diasbp_max|h1_diasbp_min|h1_diasbp_noninvasive_max|h1_diasbp_noninvasive_min|h1_heartrate_max|h1_heartrate_min|h1_mbp_max|h1_mbp_min|h1_mbp_noninvasive_max|h1_mbp_noninvasive_min|h1_resprate_max|h1_resprate_min|h1_spo2_max|h1_spo2_min|h1_sysbp_max|h1_sysbp_min|h1_sysbp_noninvasive_max|h1_sysbp_noninvasive_min|d1_glucose_max|d1_glucose_min|d1_potassium_max|d1_potassium_min|apache_4a_hospital_death_prob|apache_4a_icu_death_prob|aids|cirrhosis|diabetes_mellitus|hepatic_failure|immunosuppression|leukemia|lymphoma|solid_tumor_with_metastasis|apache_3j_bodysystem|apache_2_bodysystem|_c83|hospital_death|\n",
      "+------------+----------+-----------+---+-----+----------------+---------+------+------+----------------+------+-------------+------------+----------------+------+------------------+-------------------+---------------------+----------+---------------+----------------+-----------------+-----------------+-----------------+----------------+----------+---------------+-----------+-----------------+-------------+-------------+-------------------------+-------------------------+----------------+----------------+----------+----------+----------------------+----------------------+---------------+---------------+-----------+-----------+------------+------------+------------------------+------------------------+-----------+-----------+-------------+-------------+-------------------------+-------------------------+----------------+----------------+----------+----------+----------------------+----------------------+---------------+---------------+-----------+-----------+------------+------------+------------------------+------------------------+--------------+--------------+----------------+----------------+-----------------------------+------------------------+----+---------+-----------------+---------------+-----------------+--------+--------+---------------------------+--------------------+-------------------+----+--------------+\n",
      "|       66154|     25312|        118| 68|22.73|               0|Caucasian|     M| 180.3|           Floor|    92|        admit|       CTICU|     0.541666667|  73.9|               113|             502.01|                    0|         0|              3|               6|                0|                4|              118|               0|        40|           36.0|       39.3|                0|           68|           37|                       68|                       37|             119|              72|        89|        46|                    89|                    46|             34|             10|        100|         74|         131|          73|                     131|                    73.0|       39.9|       37.2|           68|           63|                       68|                       63|             119|             108|        86|        85|                    86|                    85|             26|             18|        100|         74|         131|         115|                     131|                     115|           168|           109|             4.0|             3.4|                          0.1|                    0.05|   0|        0|                1|              0|                0|       0|       0|                          0|              Sepsis|     Cardiovascular|null|             0|\n",
      "|      114252|     59342|         81| 77|27.42|               0|Caucasian|     F| 160.0|           Floor|    90|        admit|Med-Surg ICU|     0.927777778|  70.2|               108|             203.01|                    0|         0|              1|               3|                0|                1|              120|               0|        46|           33.0|       35.1|                1|           95|           31|                       95|                       31|             118|              72|       120|        38|                   120|                    38|             32|             12|        100|         70|         159|          67|                     159|                    67.0|       36.3|       35.1|           61|           48|                       61|                       48|             114|             100|        85|        57|                    85|                    57|             31|             28|         95|         70|          95|          71|                      95|                      71|           145|           128|             4.2|             3.8|                         0.47|                    0.29|   0|        0|                1|              0|                0|       0|       0|                          0|         Respiratory|        Respiratory|null|             0|\n",
      "+------------+----------+-----------+---+-----+----------------+---------+------+------+----------------+------+-------------+------------+----------------+------+------------------+-------------------+---------------------+----------+---------------+----------------+-----------------+-----------------+-----------------+----------------+----------+---------------+-----------+-----------------+-------------+-------------+-------------------------+-------------------------+----------------+----------------+----------+----------+----------------------+----------------------+---------------+---------------+-----------+-----------+------------+------------+------------------------+------------------------+-----------+-----------+-------------+-------------+-------------------------+-------------------------+----------------+----------------+----------+----------+----------------------+----------------------+---------------+---------------+-----------+-----------+------------+------------+------------------------+------------------------+--------------+--------------+----------------+----------------+-----------------------------+------------------------+----+---------+-----------------+---------------+-----------------+--------+--------+---------------------------+--------------------+-------------------+----+--------------+\n",
      "only showing top 2 rows\n",
      "\n"
     ]
    }
   ],
   "source": [
    "from pyspark.sql import SparkSession\n",
    "import pyspark.sql.functions as F\n",
    "from pyspark.sql.functions import col\n",
    "\n",
    "spark = SparkSession.builder \\\n",
    "        .master(\"local\") \\\n",
    "        .appName(\"Team 3 Final Project\") \\\n",
    "        .getOrCreate()\n",
    "\n",
    "filename = \"hospital_mortality.csv\"\n",
    "\n",
    "data = spark.read.csv(filename, inferSchema=True, header=True)\n",
    "data.show(2)"
   ]
  },
  {
   "cell_type": "code",
   "execution_count": 2,
   "metadata": {},
   "outputs": [
    {
     "name": "stdout",
     "output_type": "stream",
     "text": [
      "root\n",
      " |-- encounter_id: integer (nullable = true)\n",
      " |-- patient_id: integer (nullable = true)\n",
      " |-- hospital_id: integer (nullable = true)\n",
      " |-- age: integer (nullable = true)\n",
      " |-- bmi: double (nullable = true)\n",
      " |-- elective_surgery: integer (nullable = true)\n",
      " |-- ethnicity: string (nullable = true)\n",
      " |-- gender: string (nullable = true)\n",
      " |-- height: double (nullable = true)\n",
      " |-- icu_admit_source: string (nullable = true)\n",
      " |-- icu_id: integer (nullable = true)\n",
      " |-- icu_stay_type: string (nullable = true)\n",
      " |-- icu_type: string (nullable = true)\n",
      " |-- pre_icu_los_days: double (nullable = true)\n",
      " |-- weight: double (nullable = true)\n",
      " |-- apache_2_diagnosis: integer (nullable = true)\n",
      " |-- apache_3j_diagnosis: double (nullable = true)\n",
      " |-- apache_post_operative: integer (nullable = true)\n",
      " |-- arf_apache: integer (nullable = true)\n",
      " |-- gcs_eyes_apache: integer (nullable = true)\n",
      " |-- gcs_motor_apache: integer (nullable = true)\n",
      " |-- gcs_unable_apache: integer (nullable = true)\n",
      " |-- gcs_verbal_apache: integer (nullable = true)\n",
      " |-- heart_rate_apache: integer (nullable = true)\n",
      " |-- intubated_apache: integer (nullable = true)\n",
      " |-- map_apache: integer (nullable = true)\n",
      " |-- resprate_apache: double (nullable = true)\n",
      " |-- temp_apache: double (nullable = true)\n",
      " |-- ventilated_apache: integer (nullable = true)\n",
      " |-- d1_diasbp_max: integer (nullable = true)\n",
      " |-- d1_diasbp_min: integer (nullable = true)\n",
      " |-- d1_diasbp_noninvasive_max: integer (nullable = true)\n",
      " |-- d1_diasbp_noninvasive_min: integer (nullable = true)\n",
      " |-- d1_heartrate_max: integer (nullable = true)\n",
      " |-- d1_heartrate_min: integer (nullable = true)\n",
      " |-- d1_mbp_max: integer (nullable = true)\n",
      " |-- d1_mbp_min: integer (nullable = true)\n",
      " |-- d1_mbp_noninvasive_max: integer (nullable = true)\n",
      " |-- d1_mbp_noninvasive_min: integer (nullable = true)\n",
      " |-- d1_resprate_max: integer (nullable = true)\n",
      " |-- d1_resprate_min: integer (nullable = true)\n",
      " |-- d1_spo2_max: integer (nullable = true)\n",
      " |-- d1_spo2_min: integer (nullable = true)\n",
      " |-- d1_sysbp_max: integer (nullable = true)\n",
      " |-- d1_sysbp_min: integer (nullable = true)\n",
      " |-- d1_sysbp_noninvasive_max: integer (nullable = true)\n",
      " |-- d1_sysbp_noninvasive_min: double (nullable = true)\n",
      " |-- d1_temp_max: double (nullable = true)\n",
      " |-- d1_temp_min: double (nullable = true)\n",
      " |-- h1_diasbp_max: integer (nullable = true)\n",
      " |-- h1_diasbp_min: integer (nullable = true)\n",
      " |-- h1_diasbp_noninvasive_max: integer (nullable = true)\n",
      " |-- h1_diasbp_noninvasive_min: integer (nullable = true)\n",
      " |-- h1_heartrate_max: integer (nullable = true)\n",
      " |-- h1_heartrate_min: integer (nullable = true)\n",
      " |-- h1_mbp_max: integer (nullable = true)\n",
      " |-- h1_mbp_min: integer (nullable = true)\n",
      " |-- h1_mbp_noninvasive_max: integer (nullable = true)\n",
      " |-- h1_mbp_noninvasive_min: integer (nullable = true)\n",
      " |-- h1_resprate_max: integer (nullable = true)\n",
      " |-- h1_resprate_min: integer (nullable = true)\n",
      " |-- h1_spo2_max: integer (nullable = true)\n",
      " |-- h1_spo2_min: integer (nullable = true)\n",
      " |-- h1_sysbp_max: integer (nullable = true)\n",
      " |-- h1_sysbp_min: integer (nullable = true)\n",
      " |-- h1_sysbp_noninvasive_max: integer (nullable = true)\n",
      " |-- h1_sysbp_noninvasive_min: integer (nullable = true)\n",
      " |-- d1_glucose_max: integer (nullable = true)\n",
      " |-- d1_glucose_min: integer (nullable = true)\n",
      " |-- d1_potassium_max: double (nullable = true)\n",
      " |-- d1_potassium_min: double (nullable = true)\n",
      " |-- apache_4a_hospital_death_prob: double (nullable = true)\n",
      " |-- apache_4a_icu_death_prob: double (nullable = true)\n",
      " |-- aids: integer (nullable = true)\n",
      " |-- cirrhosis: integer (nullable = true)\n",
      " |-- diabetes_mellitus: integer (nullable = true)\n",
      " |-- hepatic_failure: integer (nullable = true)\n",
      " |-- immunosuppression: integer (nullable = true)\n",
      " |-- leukemia: integer (nullable = true)\n",
      " |-- lymphoma: integer (nullable = true)\n",
      " |-- solid_tumor_with_metastasis: integer (nullable = true)\n",
      " |-- apache_3j_bodysystem: string (nullable = true)\n",
      " |-- apache_2_bodysystem: string (nullable = true)\n",
      " |-- _c83: string (nullable = true)\n",
      " |-- hospital_death: integer (nullable = true)\n",
      "\n"
     ]
    }
   ],
   "source": [
    "data.printSchema()"
   ]
  },
  {
   "cell_type": "markdown",
   "metadata": {},
   "source": [
    "## Data Cleaning and EDA"
   ]
  },
  {
   "cell_type": "code",
   "execution_count": 3,
   "metadata": {},
   "outputs": [
    {
     "name": "stdout",
     "output_type": "stream",
     "text": [
      "root\n",
      " |-- age: integer (nullable = true)\n",
      " |-- bmi: double (nullable = true)\n",
      " |-- elective_surgery: integer (nullable = true)\n",
      " |-- ethnicity: string (nullable = true)\n",
      " |-- gender: string (nullable = true)\n",
      " |-- height: double (nullable = true)\n",
      " |-- icu_admit_source: string (nullable = true)\n",
      " |-- icu_type: string (nullable = true)\n",
      " |-- pre_icu_los_days: double (nullable = true)\n",
      " |-- weight: double (nullable = true)\n",
      " |-- apache_2_diagnosis: integer (nullable = true)\n",
      " |-- apache_3j_diagnosis: double (nullable = true)\n",
      " |-- apache_post_operative: integer (nullable = true)\n",
      " |-- arf_apache: integer (nullable = true)\n",
      " |-- gcs_eyes_apache: integer (nullable = true)\n",
      " |-- gcs_motor_apache: integer (nullable = true)\n",
      " |-- gcs_unable_apache: integer (nullable = true)\n",
      " |-- gcs_verbal_apache: integer (nullable = true)\n",
      " |-- heart_rate_apache: integer (nullable = true)\n",
      " |-- intubated_apache: integer (nullable = true)\n",
      " |-- map_apache: integer (nullable = true)\n",
      " |-- resprate_apache: double (nullable = true)\n",
      " |-- temp_apache: double (nullable = true)\n",
      " |-- ventilated_apache: integer (nullable = true)\n",
      " |-- d1_diasbp_max: integer (nullable = true)\n",
      " |-- d1_diasbp_min: integer (nullable = true)\n",
      " |-- d1_diasbp_noninvasive_max: integer (nullable = true)\n",
      " |-- d1_diasbp_noninvasive_min: integer (nullable = true)\n",
      " |-- d1_heartrate_max: integer (nullable = true)\n",
      " |-- d1_heartrate_min: integer (nullable = true)\n",
      " |-- d1_mbp_max: integer (nullable = true)\n",
      " |-- d1_mbp_min: integer (nullable = true)\n",
      " |-- d1_mbp_noninvasive_max: integer (nullable = true)\n",
      " |-- d1_mbp_noninvasive_min: integer (nullable = true)\n",
      " |-- d1_resprate_max: integer (nullable = true)\n",
      " |-- d1_resprate_min: integer (nullable = true)\n",
      " |-- d1_spo2_max: integer (nullable = true)\n",
      " |-- d1_spo2_min: integer (nullable = true)\n",
      " |-- d1_sysbp_max: integer (nullable = true)\n",
      " |-- d1_sysbp_min: integer (nullable = true)\n",
      " |-- d1_sysbp_noninvasive_max: integer (nullable = true)\n",
      " |-- d1_sysbp_noninvasive_min: double (nullable = true)\n",
      " |-- d1_temp_max: double (nullable = true)\n",
      " |-- d1_temp_min: double (nullable = true)\n",
      " |-- h1_diasbp_max: integer (nullable = true)\n",
      " |-- h1_diasbp_min: integer (nullable = true)\n",
      " |-- h1_diasbp_noninvasive_max: integer (nullable = true)\n",
      " |-- h1_diasbp_noninvasive_min: integer (nullable = true)\n",
      " |-- h1_heartrate_max: integer (nullable = true)\n",
      " |-- h1_heartrate_min: integer (nullable = true)\n",
      " |-- h1_mbp_max: integer (nullable = true)\n",
      " |-- h1_mbp_min: integer (nullable = true)\n",
      " |-- h1_mbp_noninvasive_max: integer (nullable = true)\n",
      " |-- h1_mbp_noninvasive_min: integer (nullable = true)\n",
      " |-- h1_resprate_max: integer (nullable = true)\n",
      " |-- h1_resprate_min: integer (nullable = true)\n",
      " |-- h1_spo2_max: integer (nullable = true)\n",
      " |-- h1_spo2_min: integer (nullable = true)\n",
      " |-- h1_sysbp_max: integer (nullable = true)\n",
      " |-- h1_sysbp_min: integer (nullable = true)\n",
      " |-- h1_sysbp_noninvasive_max: integer (nullable = true)\n",
      " |-- h1_sysbp_noninvasive_min: integer (nullable = true)\n",
      " |-- d1_glucose_max: integer (nullable = true)\n",
      " |-- d1_glucose_min: integer (nullable = true)\n",
      " |-- d1_potassium_max: double (nullable = true)\n",
      " |-- d1_potassium_min: double (nullable = true)\n",
      " |-- apache_4a_hospital_death_prob: double (nullable = true)\n",
      " |-- apache_4a_icu_death_prob: double (nullable = true)\n",
      " |-- aids: integer (nullable = true)\n",
      " |-- cirrhosis: integer (nullable = true)\n",
      " |-- diabetes_mellitus: integer (nullable = true)\n",
      " |-- hepatic_failure: integer (nullable = true)\n",
      " |-- immunosuppression: integer (nullable = true)\n",
      " |-- leukemia: integer (nullable = true)\n",
      " |-- lymphoma: integer (nullable = true)\n",
      " |-- solid_tumor_with_metastasis: integer (nullable = true)\n",
      " |-- apache_3j_bodysystem: string (nullable = true)\n",
      " |-- apache_2_bodysystem: string (nullable = true)\n",
      " |-- hospital_death: integer (nullable = true)\n",
      "\n"
     ]
    }
   ],
   "source": [
    "# empty columns and unique identifiers unnecessary for analysis\n",
    "\n",
    "cleaned_data = data.drop(\"_c83\", \"encounter_id\", \"patient_id\", \"hospital_id\", \"icu_id\", \"icu_stay_type\")\n",
    "cleaned_data.printSchema()"
   ]
  },
  {
   "cell_type": "code",
   "execution_count": 4,
   "metadata": {},
   "outputs": [
    {
     "name": "stdout",
     "output_type": "stream",
     "text": [
      "+----+----+----------------+---------+------+------+----------------+--------+----------------+------+------------------+-------------------+---------------------+----------+---------------+----------------+-----------------+-----------------+-----------------+----------------+----------+---------------+-----------+-----------------+-------------+-------------+-------------------------+-------------------------+----------------+----------------+----------+----------+----------------------+----------------------+---------------+---------------+-----------+-----------+------------+------------+------------------------+------------------------+-----------+-----------+-------------+-------------+-------------------------+-------------------------+----------------+----------------+----------+----------+----------------------+----------------------+---------------+---------------+-----------+-----------+------------+------------+------------------------+------------------------+--------------+--------------+----------------+----------------+-----------------------------+------------------------+----+---------+-----------------+---------------+-----------------+--------+--------+---------------------------+--------------------+-------------------+--------------+\n",
      "| age| bmi|elective_surgery|ethnicity|gender|height|icu_admit_source|icu_type|pre_icu_los_days|weight|apache_2_diagnosis|apache_3j_diagnosis|apache_post_operative|arf_apache|gcs_eyes_apache|gcs_motor_apache|gcs_unable_apache|gcs_verbal_apache|heart_rate_apache|intubated_apache|map_apache|resprate_apache|temp_apache|ventilated_apache|d1_diasbp_max|d1_diasbp_min|d1_diasbp_noninvasive_max|d1_diasbp_noninvasive_min|d1_heartrate_max|d1_heartrate_min|d1_mbp_max|d1_mbp_min|d1_mbp_noninvasive_max|d1_mbp_noninvasive_min|d1_resprate_max|d1_resprate_min|d1_spo2_max|d1_spo2_min|d1_sysbp_max|d1_sysbp_min|d1_sysbp_noninvasive_max|d1_sysbp_noninvasive_min|d1_temp_max|d1_temp_min|h1_diasbp_max|h1_diasbp_min|h1_diasbp_noninvasive_max|h1_diasbp_noninvasive_min|h1_heartrate_max|h1_heartrate_min|h1_mbp_max|h1_mbp_min|h1_mbp_noninvasive_max|h1_mbp_noninvasive_min|h1_resprate_max|h1_resprate_min|h1_spo2_max|h1_spo2_min|h1_sysbp_max|h1_sysbp_min|h1_sysbp_noninvasive_max|h1_sysbp_noninvasive_min|d1_glucose_max|d1_glucose_min|d1_potassium_max|d1_potassium_min|apache_4a_hospital_death_prob|apache_4a_icu_death_prob|aids|cirrhosis|diabetes_mellitus|hepatic_failure|immunosuppression|leukemia|lymphoma|solid_tumor_with_metastasis|apache_3j_bodysystem|apache_2_bodysystem|hospital_death|\n",
      "+----+----+----------------+---------+------+------+----------------+--------+----------------+------+------------------+-------------------+---------------------+----------+---------------+----------------+-----------------+-----------------+-----------------+----------------+----------+---------------+-----------+-----------------+-------------+-------------+-------------------------+-------------------------+----------------+----------------+----------+----------+----------------------+----------------------+---------------+---------------+-----------+-----------+------------+------------+------------------------+------------------------+-----------+-----------+-------------+-------------+-------------------------+-------------------------+----------------+----------------+----------+----------+----------------------+----------------------+---------------+---------------+-----------+-----------+------------+------------+------------------------+------------------------+--------------+--------------+----------------+----------------+-----------------------------+------------------------+----+---------+-----------------+---------------+-----------------+--------+--------+---------------------------+--------------------+-------------------+--------------+\n",
      "|4228|3429|               0|     1395|    25|  1334|             112|       0|               0|  2720|              1662|               1101|                    0|       715|           1901|            1901|             1037|             1901|              878|             715|       994|           1234|       4108|              715|          165|          165|                     1040|                     1040|             145|             145|       220|       220|                  1479|                  1479|            385|            385|        333|        333|         159|         159|                    1027|                    1027|       2324|       2324|         3619|         3619|                     7350|                     7350|            2790|            2790|      4639|      4639|                  9084|                  9084|           4357|           4357|       4185|       4185|        3611|        3611|                    7341|                    7341|          5807|          5807|            9585|            9585|                         7947|                    7947| 715|      715|              715|            715|              715|     715|     715|                        715|                1662|               1662|             0|\n",
      "+----+----+----------------+---------+------+------+----------------+--------+----------------+------+------------------+-------------------+---------------------+----------+---------------+----------------+-----------------+-----------------+-----------------+----------------+----------+---------------+-----------+-----------------+-------------+-------------+-------------------------+-------------------------+----------------+----------------+----------+----------+----------------------+----------------------+---------------+---------------+-----------+-----------+------------+------------+------------------------+------------------------+-----------+-----------+-------------+-------------+-------------------------+-------------------------+----------------+----------------+----------+----------+----------------------+----------------------+---------------+---------------+-----------+-----------+------------+------------+------------------------+------------------------+--------------+--------------+----------------+----------------+-----------------------------+------------------------+----+---------+-----------------+---------------+-----------------+--------+--------+---------------------------+--------------------+-------------------+--------------+\n",
      "\n"
     ]
    }
   ],
   "source": [
    "#Address null values in dataset\n",
    "\n",
    "from pyspark.sql.functions import col,isnan, when, count\n",
    "\n",
    "cleaned_data.select([count(when(isnan(c) | col(c).isNull(), c)).alias(c) for c in cleaned_data.columns]).show()"
   ]
  },
  {
   "cell_type": "code",
   "execution_count": 5,
   "metadata": {},
   "outputs": [
    {
     "name": "stdout",
     "output_type": "stream",
     "text": [
      "+---+---+----------------+---------+------+------+----------------+--------+----------------+------+------------------+-------------------+---------------------+----------+---------------+----------------+-----------------+-----------------+-----------------+----------------+----------+---------------+-----------+-----------------+-------------+-------------+-------------------------+-------------------------+----------------+----------------+----------+----------+----------------------+----------------------+---------------+---------------+-----------+-----------+------------+------------+------------------------+------------------------+-----------+-----------+-------------+-------------+-------------------------+-------------------------+----------------+----------------+----------+----------+----------------------+----------------------+---------------+---------------+-----------+-----------+------------+------------+------------------------+------------------------+--------------+--------------+----------------+----------------+-----------------------------+------------------------+----+---------+-----------------+---------------+-----------------+--------+--------+---------------------------+--------------------+-------------------+--------------+\n",
      "|age|bmi|elective_surgery|ethnicity|gender|height|icu_admit_source|icu_type|pre_icu_los_days|weight|apache_2_diagnosis|apache_3j_diagnosis|apache_post_operative|arf_apache|gcs_eyes_apache|gcs_motor_apache|gcs_unable_apache|gcs_verbal_apache|heart_rate_apache|intubated_apache|map_apache|resprate_apache|temp_apache|ventilated_apache|d1_diasbp_max|d1_diasbp_min|d1_diasbp_noninvasive_max|d1_diasbp_noninvasive_min|d1_heartrate_max|d1_heartrate_min|d1_mbp_max|d1_mbp_min|d1_mbp_noninvasive_max|d1_mbp_noninvasive_min|d1_resprate_max|d1_resprate_min|d1_spo2_max|d1_spo2_min|d1_sysbp_max|d1_sysbp_min|d1_sysbp_noninvasive_max|d1_sysbp_noninvasive_min|d1_temp_max|d1_temp_min|h1_diasbp_max|h1_diasbp_min|h1_diasbp_noninvasive_max|h1_diasbp_noninvasive_min|h1_heartrate_max|h1_heartrate_min|h1_mbp_max|h1_mbp_min|h1_mbp_noninvasive_max|h1_mbp_noninvasive_min|h1_resprate_max|h1_resprate_min|h1_spo2_max|h1_spo2_min|h1_sysbp_max|h1_sysbp_min|h1_sysbp_noninvasive_max|h1_sysbp_noninvasive_min|d1_glucose_max|d1_glucose_min|d1_potassium_max|d1_potassium_min|apache_4a_hospital_death_prob|apache_4a_icu_death_prob|aids|cirrhosis|diabetes_mellitus|hepatic_failure|immunosuppression|leukemia|lymphoma|solid_tumor_with_metastasis|apache_3j_bodysystem|apache_2_bodysystem|hospital_death|\n",
      "+---+---+----------------+---------+------+------+----------------+--------+----------------+------+------------------+-------------------+---------------------+----------+---------------+----------------+-----------------+-----------------+-----------------+----------------+----------+---------------+-----------+-----------------+-------------+-------------+-------------------------+-------------------------+----------------+----------------+----------+----------+----------------------+----------------------+---------------+---------------+-----------+-----------+------------+------------+------------------------+------------------------+-----------+-----------+-------------+-------------+-------------------------+-------------------------+----------------+----------------+----------+----------+----------------------+----------------------+---------------+---------------+-----------+-----------+------------+------------+------------------------+------------------------+--------------+--------------+----------------+----------------+-----------------------------+------------------------+----+---------+-----------------+---------------+-----------------+--------+--------+---------------------------+--------------------+-------------------+--------------+\n",
      "|  0|  0|               0|        0|     0|     0|               0|       0|               0|     0|                 0|                  0|                    0|         0|              0|               0|                0|                0|                0|               0|         0|              0|          0|                0|            0|            0|                        0|                        0|               0|               0|         0|         0|                     0|                     0|              0|              0|          0|          0|           0|           0|                       0|                       0|          0|          0|            0|            0|                        0|                        0|               0|               0|         0|         0|                     0|                     0|              0|              0|          0|          0|           0|           0|                       0|                       0|             0|             0|               0|               0|                            0|                       0|   0|        0|                0|              0|                0|       0|       0|                          0|                   0|                  0|             0|\n",
      "+---+---+----------------+---------+------+------+----------------+--------+----------------+------+------------------+-------------------+---------------------+----------+---------------+----------------+-----------------+-----------------+-----------------+----------------+----------+---------------+-----------+-----------------+-------------+-------------+-------------------------+-------------------------+----------------+----------------+----------+----------+----------------------+----------------------+---------------+---------------+-----------+-----------+------------+------------+------------------------+------------------------+-----------+-----------+-------------+-------------+-------------------------+-------------------------+----------------+----------------+----------+----------+----------------------+----------------------+---------------+---------------+-----------+-----------+------------+------------+------------------------+------------------------+--------------+--------------+----------------+----------------+-----------------------------+------------------------+----+---------+-----------------+---------------+-----------------+--------+--------+---------------------------+--------------------+-------------------+--------------+\n",
      "\n"
     ]
    }
   ],
   "source": [
    "#Drop NULL values\n",
    "\n",
    "cleaned_data_2 = cleaned_data.dropna()\n",
    "\n",
    "cleaned_data_2.select([count(when(isnan(c) | col(c).isNull(), c)).alias(c) for c in cleaned_data_2.columns]).show()"
   ]
  },
  {
   "cell_type": "code",
   "execution_count": 6,
   "metadata": {},
   "outputs": [
    {
     "data": {
      "text/plain": [
       "[Row(age=68, bmi=22.73, elective_surgery=0, ethnicity='Caucasian', gender='M', height=180.3, icu_admit_source='Floor', icu_type='CTICU', pre_icu_los_days=0.541666667, weight=73.9, apache_2_diagnosis=113, apache_3j_diagnosis=502.01, apache_post_operative=0, arf_apache=0, gcs_eyes_apache=3, gcs_motor_apache=6, gcs_unable_apache=0, gcs_verbal_apache=4, heart_rate_apache=118, intubated_apache=0, map_apache=40, resprate_apache=36.0, temp_apache=39.3, ventilated_apache=0, d1_diasbp_max=68, d1_diasbp_min=37, d1_diasbp_noninvasive_max=68, d1_diasbp_noninvasive_min=37, d1_heartrate_max=119, d1_heartrate_min=72, d1_mbp_max=89, d1_mbp_min=46, d1_mbp_noninvasive_max=89, d1_mbp_noninvasive_min=46, d1_resprate_max=34, d1_resprate_min=10, d1_spo2_max=100, d1_spo2_min=74, d1_sysbp_max=131, d1_sysbp_min=73, d1_sysbp_noninvasive_max=131, d1_sysbp_noninvasive_min=73.0, d1_temp_max=39.9, d1_temp_min=37.2, h1_diasbp_max=68, h1_diasbp_min=63, h1_diasbp_noninvasive_max=68, h1_diasbp_noninvasive_min=63, h1_heartrate_max=119, h1_heartrate_min=108, h1_mbp_max=86, h1_mbp_min=85, h1_mbp_noninvasive_max=86, h1_mbp_noninvasive_min=85, h1_resprate_max=26, h1_resprate_min=18, h1_spo2_max=100, h1_spo2_min=74, h1_sysbp_max=131, h1_sysbp_min=115, h1_sysbp_noninvasive_max=131, h1_sysbp_noninvasive_min=115, d1_glucose_max=168, d1_glucose_min=109, d1_potassium_max=4.0, d1_potassium_min=3.4, apache_4a_hospital_death_prob=0.1, apache_4a_icu_death_prob=0.05, aids=0, cirrhosis=0, diabetes_mellitus=1, hepatic_failure=0, immunosuppression=0, leukemia=0, lymphoma=0, solid_tumor_with_metastasis=0, apache_3j_bodysystem='Sepsis', apache_2_bodysystem='Cardiovascular', hospital_death=0, ethnicityIndex=0.0, genderIndex=0.0, icu_admit_sourceIndex=2.0, icu_typeIndex=7.0, apache_3j_bodysystemIndex=1.0, apache_2_bodysystemIndex=0.0),\n",
       " Row(age=77, bmi=27.42, elective_surgery=0, ethnicity='Caucasian', gender='F', height=160.0, icu_admit_source='Floor', icu_type='Med-Surg ICU', pre_icu_los_days=0.927777778, weight=70.2, apache_2_diagnosis=108, apache_3j_diagnosis=203.01, apache_post_operative=0, arf_apache=0, gcs_eyes_apache=1, gcs_motor_apache=3, gcs_unable_apache=0, gcs_verbal_apache=1, heart_rate_apache=120, intubated_apache=0, map_apache=46, resprate_apache=33.0, temp_apache=35.1, ventilated_apache=1, d1_diasbp_max=95, d1_diasbp_min=31, d1_diasbp_noninvasive_max=95, d1_diasbp_noninvasive_min=31, d1_heartrate_max=118, d1_heartrate_min=72, d1_mbp_max=120, d1_mbp_min=38, d1_mbp_noninvasive_max=120, d1_mbp_noninvasive_min=38, d1_resprate_max=32, d1_resprate_min=12, d1_spo2_max=100, d1_spo2_min=70, d1_sysbp_max=159, d1_sysbp_min=67, d1_sysbp_noninvasive_max=159, d1_sysbp_noninvasive_min=67.0, d1_temp_max=36.3, d1_temp_min=35.1, h1_diasbp_max=61, h1_diasbp_min=48, h1_diasbp_noninvasive_max=61, h1_diasbp_noninvasive_min=48, h1_heartrate_max=114, h1_heartrate_min=100, h1_mbp_max=85, h1_mbp_min=57, h1_mbp_noninvasive_max=85, h1_mbp_noninvasive_min=57, h1_resprate_max=31, h1_resprate_min=28, h1_spo2_max=95, h1_spo2_min=70, h1_sysbp_max=95, h1_sysbp_min=71, h1_sysbp_noninvasive_max=95, h1_sysbp_noninvasive_min=71, d1_glucose_max=145, d1_glucose_min=128, d1_potassium_max=4.2, d1_potassium_min=3.8, apache_4a_hospital_death_prob=0.47, apache_4a_icu_death_prob=0.29, aids=0, cirrhosis=0, diabetes_mellitus=1, hepatic_failure=0, immunosuppression=0, leukemia=0, lymphoma=0, solid_tumor_with_metastasis=0, apache_3j_bodysystem='Respiratory', apache_2_bodysystem='Respiratory', hospital_death=0, ethnicityIndex=0.0, genderIndex=1.0, icu_admit_sourceIndex=2.0, icu_typeIndex=0.0, apache_3j_bodysystemIndex=2.0, apache_2_bodysystemIndex=1.0)]"
      ]
     },
     "execution_count": 6,
     "metadata": {},
     "output_type": "execute_result"
    }
   ],
   "source": [
    "# load pyspark modules\n",
    "from pyspark.ml import Pipeline  \n",
    "from pyspark.ml.feature import OneHotEncoder, StringIndexer\n",
    "\n",
    "#create a list of the columns that are string typed\n",
    "categoricalColumns = [item[0] for item in cleaned_data_2.dtypes if item[1].startswith('string') ]\n",
    "\n",
    "#define a list of stages in your pipeline. The string indexer will be one stage\n",
    "stages = []\n",
    "\n",
    "#iterate through all categorical values\n",
    "for categoricalCol in categoricalColumns:\n",
    "    #create a string indexer for those categorical values and assign a new name including the word 'Index'\n",
    "    stringIndexer = StringIndexer(inputCol = categoricalCol, outputCol = categoricalCol + 'Index')\n",
    "\n",
    "    #append the string Indexer to our list of stages\n",
    "    stages += [stringIndexer]\n",
    "\n",
    "#Create the pipeline. Assign the satges list to the pipeline key word stages\n",
    "pipeline = Pipeline(stages = stages)\n",
    "#fit the pipeline to our dataframe\n",
    "pipelineModel = pipeline.fit(cleaned_data_2)\n",
    "#transform the dataframe\n",
    "df= pipelineModel.transform(cleaned_data_2)\n",
    "df.take(2)\n"
   ]
  },
  {
   "cell_type": "code",
   "execution_count": 7,
   "metadata": {},
   "outputs": [
    {
     "name": "stdout",
     "output_type": "stream",
     "text": [
      "root\n",
      " |-- age: integer (nullable = true)\n",
      " |-- bmi: double (nullable = true)\n",
      " |-- elective_surgery: integer (nullable = true)\n",
      " |-- height: double (nullable = true)\n",
      " |-- pre_icu_los_days: double (nullable = true)\n",
      " |-- weight: double (nullable = true)\n",
      " |-- apache_2_diagnosis: integer (nullable = true)\n",
      " |-- apache_3j_diagnosis: double (nullable = true)\n",
      " |-- apache_post_operative: integer (nullable = true)\n",
      " |-- arf_apache: integer (nullable = true)\n",
      " |-- gcs_eyes_apache: integer (nullable = true)\n",
      " |-- gcs_motor_apache: integer (nullable = true)\n",
      " |-- gcs_unable_apache: integer (nullable = true)\n",
      " |-- gcs_verbal_apache: integer (nullable = true)\n",
      " |-- heart_rate_apache: integer (nullable = true)\n",
      " |-- intubated_apache: integer (nullable = true)\n",
      " |-- map_apache: integer (nullable = true)\n",
      " |-- resprate_apache: double (nullable = true)\n",
      " |-- temp_apache: double (nullable = true)\n",
      " |-- ventilated_apache: integer (nullable = true)\n",
      " |-- d1_diasbp_max: integer (nullable = true)\n",
      " |-- d1_diasbp_min: integer (nullable = true)\n",
      " |-- d1_diasbp_noninvasive_max: integer (nullable = true)\n",
      " |-- d1_diasbp_noninvasive_min: integer (nullable = true)\n",
      " |-- d1_heartrate_max: integer (nullable = true)\n",
      " |-- d1_heartrate_min: integer (nullable = true)\n",
      " |-- d1_mbp_max: integer (nullable = true)\n",
      " |-- d1_mbp_min: integer (nullable = true)\n",
      " |-- d1_mbp_noninvasive_max: integer (nullable = true)\n",
      " |-- d1_mbp_noninvasive_min: integer (nullable = true)\n",
      " |-- d1_resprate_max: integer (nullable = true)\n",
      " |-- d1_resprate_min: integer (nullable = true)\n",
      " |-- d1_spo2_max: integer (nullable = true)\n",
      " |-- d1_spo2_min: integer (nullable = true)\n",
      " |-- d1_sysbp_max: integer (nullable = true)\n",
      " |-- d1_sysbp_min: integer (nullable = true)\n",
      " |-- d1_sysbp_noninvasive_max: integer (nullable = true)\n",
      " |-- d1_sysbp_noninvasive_min: double (nullable = true)\n",
      " |-- d1_temp_max: double (nullable = true)\n",
      " |-- d1_temp_min: double (nullable = true)\n",
      " |-- h1_diasbp_max: integer (nullable = true)\n",
      " |-- h1_diasbp_min: integer (nullable = true)\n",
      " |-- h1_diasbp_noninvasive_max: integer (nullable = true)\n",
      " |-- h1_diasbp_noninvasive_min: integer (nullable = true)\n",
      " |-- h1_heartrate_max: integer (nullable = true)\n",
      " |-- h1_heartrate_min: integer (nullable = true)\n",
      " |-- h1_mbp_max: integer (nullable = true)\n",
      " |-- h1_mbp_min: integer (nullable = true)\n",
      " |-- h1_mbp_noninvasive_max: integer (nullable = true)\n",
      " |-- h1_mbp_noninvasive_min: integer (nullable = true)\n",
      " |-- h1_resprate_max: integer (nullable = true)\n",
      " |-- h1_resprate_min: integer (nullable = true)\n",
      " |-- h1_spo2_max: integer (nullable = true)\n",
      " |-- h1_spo2_min: integer (nullable = true)\n",
      " |-- h1_sysbp_max: integer (nullable = true)\n",
      " |-- h1_sysbp_min: integer (nullable = true)\n",
      " |-- h1_sysbp_noninvasive_max: integer (nullable = true)\n",
      " |-- h1_sysbp_noninvasive_min: integer (nullable = true)\n",
      " |-- d1_glucose_max: integer (nullable = true)\n",
      " |-- d1_glucose_min: integer (nullable = true)\n",
      " |-- d1_potassium_max: double (nullable = true)\n",
      " |-- d1_potassium_min: double (nullable = true)\n",
      " |-- apache_4a_hospital_death_prob: double (nullable = true)\n",
      " |-- apache_4a_icu_death_prob: double (nullable = true)\n",
      " |-- aids: integer (nullable = true)\n",
      " |-- cirrhosis: integer (nullable = true)\n",
      " |-- diabetes_mellitus: integer (nullable = true)\n",
      " |-- hepatic_failure: integer (nullable = true)\n",
      " |-- immunosuppression: integer (nullable = true)\n",
      " |-- leukemia: integer (nullable = true)\n",
      " |-- lymphoma: integer (nullable = true)\n",
      " |-- solid_tumor_with_metastasis: integer (nullable = true)\n",
      " |-- hospital_death: integer (nullable = true)\n",
      " |-- ethnicityIndex: double (nullable = false)\n",
      " |-- genderIndex: double (nullable = false)\n",
      " |-- icu_admit_sourceIndex: double (nullable = false)\n",
      " |-- icu_typeIndex: double (nullable = false)\n",
      " |-- apache_3j_bodysystemIndex: double (nullable = false)\n",
      " |-- apache_2_bodysystemIndex: double (nullable = false)\n",
      "\n"
     ]
    }
   ],
   "source": [
    "df_2 = df.drop(\"ethnicity\", \"gender\", \"icu_admit_source\", \"icu_type\", \"apache_3j_bodysystem\", \"apache_2_bodysystem\")\n",
    "df_2.printSchema()"
   ]
  },
  {
   "cell_type": "code",
   "execution_count": 8,
   "metadata": {},
   "outputs": [
    {
     "data": {
      "text/plain": [
       "[Row(age=68, bmi=22.73, elective_surgery=0, height=180.3, pre_icu_los_days=0.541666667, weight=73.9, apache_2_diagnosis=113, apache_3j_diagnosis=502.01, apache_post_operative=0, arf_apache=0, gcs_eyes_apache=3, gcs_motor_apache=6, gcs_unable_apache=0, gcs_verbal_apache=4, heart_rate_apache=118, intubated_apache=0, map_apache=40, resprate_apache=36.0, temp_apache=39.3, ventilated_apache=0, d1_diasbp_max=68, d1_diasbp_min=37, d1_diasbp_noninvasive_max=68, d1_diasbp_noninvasive_min=37, d1_heartrate_max=119, d1_heartrate_min=72, d1_mbp_max=89, d1_mbp_min=46, d1_mbp_noninvasive_max=89, d1_mbp_noninvasive_min=46, d1_resprate_max=34, d1_resprate_min=10, d1_spo2_max=100, d1_spo2_min=74, d1_sysbp_max=131, d1_sysbp_min=73, d1_sysbp_noninvasive_max=131, d1_sysbp_noninvasive_min=73.0, d1_temp_max=39.9, d1_temp_min=37.2, h1_diasbp_max=68, h1_diasbp_min=63, h1_diasbp_noninvasive_max=68, h1_diasbp_noninvasive_min=63, h1_heartrate_max=119, h1_heartrate_min=108, h1_mbp_max=86, h1_mbp_min=85, h1_mbp_noninvasive_max=86, h1_mbp_noninvasive_min=85, h1_resprate_max=26, h1_resprate_min=18, h1_spo2_max=100, h1_spo2_min=74, h1_sysbp_max=131, h1_sysbp_min=115, h1_sysbp_noninvasive_max=131, h1_sysbp_noninvasive_min=115, d1_glucose_max=168, d1_glucose_min=109, d1_potassium_max=4.0, d1_potassium_min=3.4, apache_4a_hospital_death_prob=0.1, apache_4a_icu_death_prob=0.05, aids=0, cirrhosis=0, diabetes_mellitus=1, hepatic_failure=0, immunosuppression=0, leukemia=0, lymphoma=0, solid_tumor_with_metastasis=0, hospital_death=0, ethnicityIndex=0.0, genderIndex=0.0, icu_admit_sourceIndex=2.0, icu_typeIndex=7.0, apache_3j_bodysystemIndex=1.0, apache_2_bodysystemIndex=0.0, features=DenseVector([68.0, 22.73, 0.0, 180.3, 0.5417, 73.9, 113.0, 502.01, 0.0, 0.0, 3.0, 6.0, 0.0, 4.0, 118.0, 0.0, 40.0, 36.0, 39.3, 0.0, 68.0, 37.0, 68.0, 37.0, 119.0, 72.0, 89.0, 46.0, 89.0, 46.0, 34.0, 10.0, 100.0, 74.0, 131.0, 73.0, 131.0, 73.0, 39.9, 37.2, 68.0, 63.0, 68.0, 63.0, 119.0, 108.0, 86.0, 85.0, 86.0, 85.0, 26.0, 18.0, 100.0, 74.0, 131.0, 115.0, 131.0, 115.0, 168.0, 109.0, 4.0, 3.4, 0.1, 0.05, 0.0, 0.0, 1.0, 0.0, 0.0, 0.0, 0.0, 0.0, 0.0, 0.0, 2.0, 7.0, 1.0, 0.0]), scaledFeatures=DenseVector([0.3254, -0.7883, -0.4366, 0.9761, -0.1171, -0.4198, -0.8057, -0.1004, -0.4728, -0.1746, -0.4402, 0.4245, 0.0, 0.0409, 0.551, -0.4235, -1.1342, 0.6518, 3.3917, -0.7035, -1.1076, -0.9538, -1.1075, -0.9545, 0.6737, 0.0792, -0.8001, -1.1721, -0.8009, -1.1726, 0.4677, -0.5729, 0.4697, -1.7405, -0.7117, -1.1287, -0.7097, -1.1291, 3.7053, 1.2689, -0.4235, 0.0017, -0.4249, -0.0011, 1.1773, 1.1499, -0.2651, 0.2951, -0.263, 0.2958, 0.4291, 0.1125, 0.6543, -3.4054, -0.0656, -0.0338, -0.0615, -0.0315, -0.0884, -0.1295, -0.3615, -0.917, -0.0333, -0.0675, -0.0319, -0.1336, 1.803, -0.1228, -0.174, -0.0893, -0.0653, -0.151, -0.4436, -0.9158, 1.4779, 2.6148, -0.5863, -0.8554])),\n",
       " Row(age=77, bmi=27.42, elective_surgery=0, height=160.0, pre_icu_los_days=0.927777778, weight=70.2, apache_2_diagnosis=108, apache_3j_diagnosis=203.01, apache_post_operative=0, arf_apache=0, gcs_eyes_apache=1, gcs_motor_apache=3, gcs_unable_apache=0, gcs_verbal_apache=1, heart_rate_apache=120, intubated_apache=0, map_apache=46, resprate_apache=33.0, temp_apache=35.1, ventilated_apache=1, d1_diasbp_max=95, d1_diasbp_min=31, d1_diasbp_noninvasive_max=95, d1_diasbp_noninvasive_min=31, d1_heartrate_max=118, d1_heartrate_min=72, d1_mbp_max=120, d1_mbp_min=38, d1_mbp_noninvasive_max=120, d1_mbp_noninvasive_min=38, d1_resprate_max=32, d1_resprate_min=12, d1_spo2_max=100, d1_spo2_min=70, d1_sysbp_max=159, d1_sysbp_min=67, d1_sysbp_noninvasive_max=159, d1_sysbp_noninvasive_min=67.0, d1_temp_max=36.3, d1_temp_min=35.1, h1_diasbp_max=61, h1_diasbp_min=48, h1_diasbp_noninvasive_max=61, h1_diasbp_noninvasive_min=48, h1_heartrate_max=114, h1_heartrate_min=100, h1_mbp_max=85, h1_mbp_min=57, h1_mbp_noninvasive_max=85, h1_mbp_noninvasive_min=57, h1_resprate_max=31, h1_resprate_min=28, h1_spo2_max=95, h1_spo2_min=70, h1_sysbp_max=95, h1_sysbp_min=71, h1_sysbp_noninvasive_max=95, h1_sysbp_noninvasive_min=71, d1_glucose_max=145, d1_glucose_min=128, d1_potassium_max=4.2, d1_potassium_min=3.8, apache_4a_hospital_death_prob=0.47, apache_4a_icu_death_prob=0.29, aids=0, cirrhosis=0, diabetes_mellitus=1, hepatic_failure=0, immunosuppression=0, leukemia=0, lymphoma=0, solid_tumor_with_metastasis=0, hospital_death=0, ethnicityIndex=0.0, genderIndex=1.0, icu_admit_sourceIndex=2.0, icu_typeIndex=0.0, apache_3j_bodysystemIndex=2.0, apache_2_bodysystemIndex=1.0, features=DenseVector([77.0, 27.42, 0.0, 160.0, 0.9278, 70.2, 108.0, 203.01, 0.0, 0.0, 1.0, 3.0, 0.0, 1.0, 120.0, 0.0, 46.0, 33.0, 35.1, 1.0, 95.0, 31.0, 95.0, 31.0, 118.0, 72.0, 120.0, 38.0, 120.0, 38.0, 32.0, 12.0, 100.0, 70.0, 159.0, 67.0, 159.0, 67.0, 36.3, 35.1, 61.0, 48.0, 61.0, 48.0, 114.0, 100.0, 85.0, 57.0, 85.0, 57.0, 31.0, 28.0, 95.0, 70.0, 95.0, 71.0, 95.0, 71.0, 145.0, 128.0, 4.2, 3.8, 0.47, 0.29, 0.0, 0.0, 1.0, 0.0, 0.0, 0.0, 0.0, 0.0, 0.0, 1.0, 2.0, 0.0, 2.0, 1.0]), scaledFeatures=DenseVector([0.8665, -0.2246, -0.4366, -0.9102, 0.0421, -0.5671, -0.864, -0.7639, -0.4728, -0.1746, -2.4969, -1.8714, 0.0, -1.848, 0.6158, -0.4235, -0.9934, 0.4539, -1.5482, 1.4215, 0.2718, -1.4079, 0.2718, -1.4084, 0.6284, 0.0792, 0.717, -1.6883, 0.7201, -1.6895, 0.2771, -0.1679, 0.4697, -2.1612, 0.3907, -1.4247, 0.3915, -1.4251, -1.4446, -1.5734, -0.8025, -0.9106, -0.8036, -0.9124, 0.9502, 0.7586, -0.3137, -1.1617, -0.3117, -1.1617, 1.0987, 1.7656, -1.046, -4.0472, -1.3664, -1.6898, -1.3629, -1.6881, -0.3485, 0.3755, -0.0627, -0.2299, 1.6887, 1.235, -0.0319, -0.1336, 1.803, -0.1228, -0.174, -0.0893, -0.0653, -0.151, -0.4436, 1.0919, 1.4779, -0.7417, -0.1348, -0.3728])),\n",
       " Row(age=67, bmi=27.56, elective_surgery=0, height=190.5, pre_icu_los_days=0.000694444, weight=100.0, apache_2_diagnosis=301, apache_3j_diagnosis=403.01, apache_post_operative=0, arf_apache=0, gcs_eyes_apache=4, gcs_motor_apache=6, gcs_unable_apache=0, gcs_verbal_apache=5, heart_rate_apache=113, intubated_apache=0, map_apache=130, resprate_apache=35.0, temp_apache=36.6, ventilated_apache=0, d1_diasbp_max=100, d1_diasbp_min=61, d1_diasbp_noninvasive_max=100, d1_diasbp_noninvasive_min=61, d1_heartrate_max=113, d1_heartrate_min=83, d1_mbp_max=127, d1_mbp_min=80, d1_mbp_noninvasive_max=127, d1_mbp_noninvasive_min=80, d1_resprate_max=32, d1_resprate_min=10, d1_spo2_max=97, d1_spo2_min=91, d1_sysbp_max=173, d1_sysbp_min=107, d1_sysbp_noninvasive_max=173, d1_sysbp_noninvasive_min=107.0, d1_temp_max=36.8, d1_temp_min=36.6, h1_diasbp_max=89, h1_diasbp_min=89, h1_diasbp_noninvasive_max=89, h1_diasbp_noninvasive_min=89, h1_heartrate_max=83, h1_heartrate_min=83, h1_mbp_max=111, h1_mbp_min=111, h1_mbp_noninvasive_max=111, h1_mbp_noninvasive_min=111, h1_resprate_max=12, h1_resprate_min=12, h1_spo2_max=97, h1_spo2_min=97, h1_sysbp_max=143, h1_sysbp_min=143, h1_sysbp_noninvasive_max=143, h1_sysbp_noninvasive_min=143, d1_glucose_max=156, d1_glucose_min=125, d1_potassium_max=3.9, d1_potassium_min=3.7, apache_4a_hospital_death_prob=0.05, apache_4a_icu_death_prob=0.02, aids=0, cirrhosis=0, diabetes_mellitus=1, hepatic_failure=0, immunosuppression=0, leukemia=0, lymphoma=0, solid_tumor_with_metastasis=0, hospital_death=0, ethnicityIndex=0.0, genderIndex=0.0, icu_admit_sourceIndex=0.0, icu_typeIndex=0.0, apache_3j_bodysystemIndex=3.0, apache_2_bodysystemIndex=2.0, features=DenseVector([67.0, 27.56, 0.0, 190.5, 0.0007, 100.0, 301.0, 403.01, 0.0, 0.0, 4.0, 6.0, 0.0, 5.0, 113.0, 0.0, 130.0, 35.0, 36.6, 0.0, 100.0, 61.0, 100.0, 61.0, 113.0, 83.0, 127.0, 80.0, 127.0, 80.0, 32.0, 10.0, 97.0, 91.0, 173.0, 107.0, 173.0, 107.0, 36.8, 36.6, 89.0, 89.0, 89.0, 89.0, 83.0, 83.0, 111.0, 111.0, 111.0, 111.0, 12.0, 12.0, 97.0, 97.0, 143.0, 143.0, 143.0, 143.0, 156.0, 125.0, 3.9, 3.7, 0.05, 0.02, 0.0, 0.0, 1.0, 0.0, 0.0, 0.0, 0.0, 0.0, 0.0, 0.0, 0.0, 0.0, 3.0, 2.0]), scaledFeatures=DenseVector([0.2653, -0.2077, -0.4366, 1.9238, -0.3402, 0.6191, 1.3893, -0.3201, -0.4728, -0.1746, 0.5882, 0.4245, 0.0, 0.6705, 0.3891, -0.4235, 0.9779, 0.5859, 0.216, -0.7035, 0.5273, 0.8627, 0.5272, 0.8613, 0.4022, 0.7299, 1.0596, 1.0221, 1.0636, 1.0241, 0.2771, -0.5729, -1.5864, 0.0477, 0.9418, 0.5485, 0.942, 0.5479, -0.7293, 0.4568, 0.7134, 1.5831, 0.7113, 1.5786, -0.4581, -0.0729, 0.9506, 1.6479, 0.9555, 1.6493, -1.4458, -0.8793, -0.3659, 0.2852, 0.368, 1.02, 0.3722, 1.0226, -0.2241, 0.2958, -0.5109, -0.4017, -0.266, -0.2303, -0.0319, -0.1336, 1.803, -0.1228, -0.174, -0.0893, -0.0653, -0.151, -0.4436, -0.9158, -0.7066, -0.7417, 0.3168, 0.1098])),\n",
       " Row(age=72, bmi=28.25705249, elective_surgery=1, height=154.9, pre_icu_los_days=0.004861111, weight=67.8, apache_2_diagnosis=303, apache_3j_diagnosis=1304.08, apache_post_operative=1, arf_apache=0, gcs_eyes_apache=4, gcs_motor_apache=6, gcs_unable_apache=0, gcs_verbal_apache=5, heart_rate_apache=101, intubated_apache=0, map_apache=72, resprate_apache=15.0, temp_apache=36.8, ventilated_apache=0, d1_diasbp_max=72, d1_diasbp_min=53, d1_diasbp_noninvasive_max=72, d1_diasbp_noninvasive_min=53, d1_heartrate_max=101, d1_heartrate_min=67, d1_mbp_max=93, d1_mbp_min=70, d1_mbp_noninvasive_max=93, d1_mbp_noninvasive_min=70, d1_resprate_max=23, d1_resprate_min=14, d1_spo2_max=99, d1_spo2_min=92, d1_sysbp_max=145, d1_sysbp_min=95, d1_sysbp_noninvasive_max=145, d1_sysbp_noninvasive_min=95.0, d1_temp_max=37.0, d1_temp_min=36.7, h1_diasbp_max=72, h1_diasbp_min=56, h1_diasbp_noninvasive_max=72, h1_diasbp_noninvasive_min=56, h1_heartrate_max=90, h1_heartrate_min=70, h1_mbp_max=91, h1_mbp_min=87, h1_mbp_noninvasive_max=91, h1_mbp_noninvasive_min=87, h1_resprate_max=23, h1_resprate_min=14, h1_spo2_max=99, h1_spo2_min=93, h1_sysbp_max=145, h1_sysbp_min=114, h1_sysbp_noninvasive_max=145, h1_sysbp_noninvasive_min=114, d1_glucose_max=158, d1_glucose_min=133, d1_potassium_max=4.2, d1_potassium_min=4.2, apache_4a_hospital_death_prob=0.01, apache_4a_icu_death_prob=0.0, aids=0, cirrhosis=0, diabetes_mellitus=0, hepatic_failure=0, immunosuppression=1, leukemia=0, lymphoma=0, solid_tumor_with_metastasis=0, hospital_death=0, ethnicityIndex=3.0, genderIndex=1.0, icu_admit_sourceIndex=1.0, icu_typeIndex=0.0, apache_3j_bodysystemIndex=2.0, apache_2_bodysystemIndex=1.0, features=DenseVector([72.0, 28.2571, 1.0, 154.9, 0.0049, 67.8, 303.0, 1304.08, 1.0, 0.0, 4.0, 6.0, 0.0, 5.0, 101.0, 0.0, 72.0, 15.0, 36.8, 0.0, 72.0, 53.0, 72.0, 53.0, 101.0, 67.0, 93.0, 70.0, 93.0, 70.0, 23.0, 14.0, 99.0, 92.0, 145.0, 95.0, 145.0, 95.0, 37.0, 36.7, 72.0, 56.0, 72.0, 56.0, 90.0, 70.0, 91.0, 87.0, 91.0, 87.0, 23.0, 14.0, 99.0, 93.0, 145.0, 114.0, 145.0, 114.0, 158.0, 133.0, 4.2, 4.2, 0.01, 0.0, 0.0, 0.0, 0.0, 0.0, 1.0, 0.0, 0.0, 0.0, 3.0, 1.0, 1.0, 0.0, 2.0, 1.0]), scaledFeatures=DenseVector([0.5659, -0.124, 2.2906, -1.3841, -0.3385, -0.6626, 1.4127, 1.6796, 2.1149, -0.1746, 0.5882, 0.4245, 0.0, 0.6705, 0.0003, -0.4235, -0.3832, -0.7335, 0.4513, -0.7035, -0.9032, 0.2572, -0.9031, 0.2561, -0.1408, -0.2166, -0.6044, 0.3767, -0.6046, 0.378, -0.581, 0.2371, -0.2157, 0.1529, -0.1605, -0.0435, -0.1591, -0.044, -0.4432, 0.5922, -0.207, -0.424, -0.2085, -0.4264, -0.1401, -0.7088, -0.022, 0.3992, -0.0193, 0.4, 0.0273, -0.5487, 0.3142, -0.3566, 0.4403, -0.0715, 0.4445, -0.0692, -0.2015, 0.5084, -0.0627, 0.4572, -0.4521, -0.3388, -0.0319, -0.1336, -0.5546, -0.1228, 5.7455, -0.0893, -0.0653, -0.151, 2.686, 1.0919, 0.3856, -0.7417, -0.1348, -0.3728])),\n",
       " Row(age=46, bmi=25.84571744, elective_surgery=0, height=167.6, pre_icu_los_days=0.0, weight=72.6, apache_2_diagnosis=108, apache_3j_diagnosis=203.01, apache_post_operative=0, arf_apache=0, gcs_eyes_apache=1, gcs_motor_apache=4, gcs_unable_apache=0, gcs_verbal_apache=1, heart_rate_apache=114, intubated_apache=1, map_apache=113, resprate_apache=34.0, temp_apache=36.4, ventilated_apache=1, d1_diasbp_max=89, d1_diasbp_min=61, d1_diasbp_noninvasive_max=89, d1_diasbp_noninvasive_min=61, d1_heartrate_max=98, d1_heartrate_min=64, d1_mbp_max=113, d1_mbp_min=76, d1_mbp_noninvasive_max=113, d1_mbp_noninvasive_min=76, d1_resprate_max=22, d1_resprate_min=9, d1_spo2_max=100, d1_spo2_min=88, d1_sysbp_max=169, d1_sysbp_min=102, d1_sysbp_noninvasive_max=169, d1_sysbp_noninvasive_min=102.0, d1_temp_max=37.1, d1_temp_min=36.4, h1_diasbp_max=89, h1_diasbp_min=63, h1_diasbp_noninvasive_max=89, h1_diasbp_noninvasive_min=63, h1_heartrate_max=94, h1_heartrate_min=80, h1_mbp_max=104, h1_mbp_min=88, h1_mbp_noninvasive_max=104, h1_mbp_noninvasive_min=88, h1_resprate_max=21, h1_resprate_min=9, h1_spo2_max=99, h1_spo2_min=95, h1_sysbp_max=169, h1_sysbp_min=115, h1_sysbp_noninvasive_max=169, h1_sysbp_noninvasive_min=115, d1_glucose_max=143, d1_glucose_min=143, d1_potassium_max=4.9, d1_potassium_min=4.9, apache_4a_hospital_death_prob=0.11, apache_4a_icu_death_prob=0.06, aids=0, cirrhosis=0, diabetes_mellitus=0, hepatic_failure=0, immunosuppression=0, leukemia=0, lymphoma=0, solid_tumor_with_metastasis=0, hospital_death=0, ethnicityIndex=3.0, genderIndex=0.0, icu_admit_sourceIndex=0.0, icu_typeIndex=7.0, apache_3j_bodysystemIndex=2.0, apache_2_bodysystemIndex=1.0, features=DenseVector([46.0, 25.8457, 0.0, 167.6, 0.0, 72.6, 108.0, 203.01, 0.0, 0.0, 1.0, 4.0, 0.0, 1.0, 114.0, 1.0, 113.0, 34.0, 36.4, 1.0, 89.0, 61.0, 89.0, 61.0, 98.0, 64.0, 113.0, 76.0, 113.0, 76.0, 22.0, 9.0, 100.0, 88.0, 169.0, 102.0, 169.0, 102.0, 37.1, 36.4, 89.0, 63.0, 89.0, 63.0, 94.0, 80.0, 104.0, 88.0, 104.0, 88.0, 21.0, 9.0, 99.0, 95.0, 169.0, 115.0, 169.0, 115.0, 143.0, 143.0, 4.9, 4.9, 0.11, 0.06, 0.0, 0.0, 0.0, 0.0, 0.0, 0.0, 0.0, 0.0, 3.0, 0.0, 0.0, 7.0, 2.0, 1.0]), scaledFeatures=DenseVector([-0.9971, -0.4138, -0.4366, -0.204, -0.3405, -0.4715, -0.864, -0.7639, -0.4728, -0.1746, -2.4969, -1.1061, 0.0, -1.848, 0.4215, 2.3615, 0.579, 0.5199, -0.0192, 1.4215, -0.0347, 0.8627, -0.0347, 0.8613, -0.2766, -0.3941, 0.3744, 0.7639, 0.3767, 0.7656, -0.6763, -0.7754, 0.4697, -0.2678, 0.7844, 0.3018, 0.7847, 0.3013, -0.3002, 0.1861, 0.7134, 0.0017, 0.7113, -0.0011, 0.0416, -0.2197, 0.6102, 0.4512, 0.6143, 0.452, -0.2405, -1.3753, 0.3142, -0.0357, 1.3075, -0.0338, 1.3121, -0.0315, -0.3711, 0.7742, 0.9832, 1.6596, 0.0133, -0.0132, -0.0319, -0.1336, -0.5546, -0.1228, -0.174, -0.0893, -0.0653, -0.151, 2.686, -0.9158, -0.7066, 2.6148, -0.1348, -0.3728]))]"
      ]
     },
     "execution_count": 8,
     "metadata": {},
     "output_type": "execute_result"
    }
   ],
   "source": [
    "from pyspark.ml.feature import VectorAssembler, StandardScaler\n",
    "\n",
    "#feature_columns = df_2.select([c for c in df_2.columns if c not in {'hospital_death'}])\n",
    "#feature_columns.take(1)\n",
    "\n",
    "va = VectorAssembler(inputCols=[c for c in df_2.columns if c not in {'hospital_death'}], outputCol=\"features\")  \n",
    "output = va.transform(df_2)\n",
    "scaler = StandardScaler(\n",
    "    inputCol = 'features', \n",
    "    outputCol = 'scaledFeatures',\n",
    "    withMean = True,\n",
    "    withStd = True\n",
    ").fit(output)\n",
    "\n",
    "# when we transform the dataframe, the old\n",
    "# feature will still remain in it\n",
    "df_scaled = scaler.transform(output)\n",
    "df_scaled.take(5)"
   ]
  },
  {
   "cell_type": "code",
   "execution_count": 12,
   "metadata": {},
   "outputs": [],
   "source": [
    "# Subsetting data by type of data for EDA purposes\n",
    "#integer_data = data.select([data.dtypes[i][0] for i in range(len(data.dtypes)) if (data.dtypes[i][1] == 'int') and (data.select(data[i]).distinct().count() >= 10)])\n",
    "\n",
    "#for i in integer_data.columns:\n",
    "#    integer_data.describe(i).show()\n",
    "#    integer_data.select(F.percentile_approx(i, [0.25, 0.75], 100000).alias(\"quantiles\")).show()"
   ]
  },
  {
   "cell_type": "code",
   "execution_count": 10,
   "metadata": {},
   "outputs": [],
   "source": [
    "# hospital_deaths = data.select(\"hospital_death\").filter(col(\"hospital_death\")==1 | col(\"hospital_death\")).groupBy(\"hospital_death\").count()\n",
    "# hospital_deaths = hospital_deaths.withColumn('percent', )\n",
    "# hospital_deaths.show()"
   ]
  },
  {
   "cell_type": "code",
   "execution_count": null,
   "metadata": {},
   "outputs": [],
   "source": [
    "# data.hospital_deaths.show()"
   ]
  },
  {
   "cell_type": "code",
   "execution_count": null,
   "metadata": {},
   "outputs": [],
   "source": [
    "# data.select(\"hospital_death\").show()"
   ]
  },
  {
   "cell_type": "markdown",
   "metadata": {},
   "source": [
    "### Principal Component Analysis (PCA)"
   ]
  },
  {
   "cell_type": "code",
   "execution_count": 15,
   "metadata": {},
   "outputs": [
    {
     "data": {
      "text/plain": [
       "[Row(age=68, bmi=22.73, elective_surgery=0, height=180.3, pre_icu_los_days=0.541666667, weight=73.9, apache_2_diagnosis=113, apache_3j_diagnosis=502.01, apache_post_operative=0, arf_apache=0, gcs_eyes_apache=3, gcs_motor_apache=6, gcs_unable_apache=0, gcs_verbal_apache=4, heart_rate_apache=118, intubated_apache=0, map_apache=40, resprate_apache=36.0, temp_apache=39.3, ventilated_apache=0, d1_diasbp_max=68, d1_diasbp_min=37, d1_diasbp_noninvasive_max=68, d1_diasbp_noninvasive_min=37, d1_heartrate_max=119, d1_heartrate_min=72, d1_mbp_max=89, d1_mbp_min=46, d1_mbp_noninvasive_max=89, d1_mbp_noninvasive_min=46, d1_resprate_max=34, d1_resprate_min=10, d1_spo2_max=100, d1_spo2_min=74, d1_sysbp_max=131, d1_sysbp_min=73, d1_sysbp_noninvasive_max=131, d1_sysbp_noninvasive_min=73.0, d1_temp_max=39.9, d1_temp_min=37.2, h1_diasbp_max=68, h1_diasbp_min=63, h1_diasbp_noninvasive_max=68, h1_diasbp_noninvasive_min=63, h1_heartrate_max=119, h1_heartrate_min=108, h1_mbp_max=86, h1_mbp_min=85, h1_mbp_noninvasive_max=86, h1_mbp_noninvasive_min=85, h1_resprate_max=26, h1_resprate_min=18, h1_spo2_max=100, h1_spo2_min=74, h1_sysbp_max=131, h1_sysbp_min=115, h1_sysbp_noninvasive_max=131, h1_sysbp_noninvasive_min=115, d1_glucose_max=168, d1_glucose_min=109, d1_potassium_max=4.0, d1_potassium_min=3.4, apache_4a_hospital_death_prob=0.1, apache_4a_icu_death_prob=0.05, aids=0, cirrhosis=0, diabetes_mellitus=1, hepatic_failure=0, immunosuppression=0, leukemia=0, lymphoma=0, solid_tumor_with_metastasis=0, hospital_death=0, ethnicityIndex=0.0, genderIndex=0.0, icu_admit_sourceIndex=2.0, icu_typeIndex=7.0, apache_3j_bodysystemIndex=1.0, apache_2_bodysystemIndex=0.0, features=DenseVector([68.0, 22.73, 0.0, 180.3, 0.5417, 73.9, 113.0, 502.01, 0.0, 0.0, 3.0, 6.0, 0.0, 4.0, 118.0, 0.0, 40.0, 36.0, 39.3, 0.0, 68.0, 37.0, 68.0, 37.0, 119.0, 72.0, 89.0, 46.0, 89.0, 46.0, 34.0, 10.0, 100.0, 74.0, 131.0, 73.0, 131.0, 73.0, 39.9, 37.2, 68.0, 63.0, 68.0, 63.0, 119.0, 108.0, 86.0, 85.0, 86.0, 85.0, 26.0, 18.0, 100.0, 74.0, 131.0, 115.0, 131.0, 115.0, 168.0, 109.0, 4.0, 3.4, 0.1, 0.05, 0.0, 0.0, 1.0, 0.0, 0.0, 0.0, 0.0, 0.0, 0.0, 0.0, 2.0, 7.0, 1.0, 0.0]), scaledFeatures=DenseVector([0.3254, -0.7883, -0.4366, 0.9761, -0.1171, -0.4198, -0.8057, -0.1004, -0.4728, -0.1746, -0.4402, 0.4245, 0.0, 0.0409, 0.551, -0.4235, -1.1342, 0.6518, 3.3917, -0.7035, -1.1076, -0.9538, -1.1075, -0.9545, 0.6737, 0.0792, -0.8001, -1.1721, -0.8009, -1.1726, 0.4677, -0.5729, 0.4697, -1.7405, -0.7117, -1.1287, -0.7097, -1.1291, 3.7053, 1.2689, -0.4235, 0.0017, -0.4249, -0.0011, 1.1773, 1.1499, -0.2651, 0.2951, -0.263, 0.2958, 0.4291, 0.1125, 0.6543, -3.4054, -0.0656, -0.0338, -0.0615, -0.0315, -0.0884, -0.1295, -0.3615, -0.917, -0.0333, -0.0675, -0.0319, -0.1336, 1.803, -0.1228, -0.174, -0.0893, -0.0653, -0.151, -0.4436, -0.9158, 1.4779, 2.6148, -0.5863, -0.8554]), pcaFeatures=DenseVector([-2.5546, 1.3603, 2.4022, 0.5021, 1.5257, 0.784]))]"
      ]
     },
     "execution_count": 15,
     "metadata": {},
     "output_type": "execute_result"
    }
   ],
   "source": [
    "from pyspark.ml.feature import PCA\n",
    "\n",
    "# PCA using 4 components\n",
    "pca = PCA(k=6, inputCol=\"scaledFeatures\", outputCol=\"pcaFeatures\")\n",
    "model = pca.fit(df_scaled)\n",
    "\n",
    "# extract the transformed features\n",
    "result = model.transform(df_scaled)\n",
    "\n",
    "result.take(1)"
   ]
  },
  {
   "cell_type": "code",
   "execution_count": 16,
   "metadata": {},
   "outputs": [
    {
     "data": {
      "text/plain": [
       "array([17.9837,  7.9817,  5.9504,  4.8838,  4.2336,  3.3038])"
      ]
     },
     "execution_count": 16,
     "metadata": {},
     "output_type": "execute_result"
    }
   ],
   "source": [
    "import numpy as np\n",
    "\n",
    "np.round(100.00*model.explainedVariance.toArray(),4)"
   ]
  },
  {
   "cell_type": "code",
   "execution_count": 17,
   "metadata": {},
   "outputs": [
    {
     "name": "stdout",
     "output_type": "stream",
     "text": [
      "+------------------------------------------------------------------------------------------------------------------------+\n",
      "|pcaFeatures                                                                                                             |\n",
      "+------------------------------------------------------------------------------------------------------------------------+\n",
      "|[-2.554579499394124,1.3602848303745199,2.4021721006737646,0.5021345963009382,1.525709400699186,0.7840188373034194]      |\n",
      "|[-4.655509364468678,5.986217339663526,-0.4619628766304875,0.938155483548456,-1.5698352528607848,1.012697196258925]      |\n",
      "|[5.060960467843136,-0.920954487573992,0.431311206554511,0.20006160407167595,0.3643761374586197,0.38570579551493556]     |\n",
      "|[-0.43415342801358187,-2.618540374427933,-0.4442655530094939,-1.301590307397434,1.7009940581777845,0.5535308627332085]  |\n",
      "|[2.2200852195089444,1.749936082391376,-1.7506779775001988,-1.917951283642584,-2.1817924579688937,-0.2771170099932621]   |\n",
      "|[-2.3662866373859646,-1.4127199452577721,-0.5718473553843694,0.6234439133439165,0.6997909440156166,-1.7590340389788899] |\n",
      "|[3.4004536856163345,1.3366359756294206,1.288046580243604,-0.6853226523947775,-2.558232397699489,0.9249664624235893]     |\n",
      "|[-0.5469875574045365,-2.3001382710276146,-0.4669635050084606,1.8488065319475233,-1.408135800523775,-0.9208218612052534] |\n",
      "|[-7.4983443569912245,3.061283052875671,0.6197338290219566,-0.5371915355950849,-2.459856013862522,0.8837476083741848]    |\n",
      "|[6.464793369271023,-0.3624555537076663,0.09630137445482798,1.6363249111153741,0.10081582444607216,-0.44090466266077794] |\n",
      "|[6.892281045345887,-1.2823211509817551,-0.8839550772722622,-1.0266984850722238,0.11618216951368895,-0.32472098212492523]|\n",
      "|[0.13308671641572423,0.5286774944838565,-1.406686764830422,2.9021576499323336,0.7938410661494223,-0.7666688135197124]   |\n",
      "|[0.2509629150730901,-2.171096749868479,-1.6622983393307558,2.2468180579680355,-2.1495169615103076,0.16333692994512217]  |\n",
      "|[2.449798119367036,-1.4106184258206402,-2.8631826974586345,-0.34193446602204997,1.9241830615617184,1.6521920948809168]  |\n",
      "|[8.507225934321799,1.2114190287483149,2.3949828421191306,-0.7901376364280057,1.4543656680485229,-0.7155215412090035]    |\n",
      "|[10.003465316327354,1.1618758563322755,-1.5395044154766577,2.071472897134224,-0.12553630112460573,-1.8184170319516175]  |\n",
      "|[3.728131532040521,2.2039933666973175,-1.0039758163805927,-0.08654909381543122,0.1223644631929022,1.5269776466834237]   |\n",
      "|[1.6671898148179254,2.1871552789621203,-1.0243956940553123,2.6372585407537943,0.30802688402142814,1.039587221034281]    |\n",
      "|[3.007723715711685,1.886375709799448,2.6796807819318027,-0.45741422309650476,0.42590358764015657,2.169998163721714]     |\n",
      "|[-0.6380963636062725,-0.5861776892405398,-1.7757965051417677,1.8093451583166145,0.8356444668240172,-0.6989944590712814] |\n",
      "+------------------------------------------------------------------------------------------------------------------------+\n",
      "only showing top 20 rows\n",
      "\n"
     ]
    }
   ],
   "source": [
    "result_pca_features = result.select(\"pcaFeatures\")\n",
    "result_pca_features.show(truncate=False)"
   ]
  },
  {
   "cell_type": "code",
   "execution_count": 23,
   "metadata": {},
   "outputs": [
    {
     "data": {
      "text/html": [
       "<div>\n",
       "<style scoped>\n",
       "    .dataframe tbody tr th:only-of-type {\n",
       "        vertical-align: middle;\n",
       "    }\n",
       "\n",
       "    .dataframe tbody tr th {\n",
       "        vertical-align: top;\n",
       "    }\n",
       "\n",
       "    .dataframe thead th {\n",
       "        text-align: right;\n",
       "    }\n",
       "</style>\n",
       "<table border=\"1\" class=\"dataframe\">\n",
       "  <thead>\n",
       "    <tr style=\"text-align: right;\">\n",
       "      <th></th>\n",
       "      <th>PC1</th>\n",
       "      <th>PC2</th>\n",
       "      <th>PC3</th>\n",
       "      <th>PC4</th>\n",
       "      <th>PC5</th>\n",
       "      <th>PC6</th>\n",
       "    </tr>\n",
       "  </thead>\n",
       "  <tbody>\n",
       "    <tr>\n",
       "      <th>age</th>\n",
       "      <td>-0.0263</td>\n",
       "      <td>0.0135</td>\n",
       "      <td>-0.1041</td>\n",
       "      <td>0.1261</td>\n",
       "      <td>-0.0522</td>\n",
       "      <td>0.1461</td>\n",
       "    </tr>\n",
       "    <tr>\n",
       "      <th>bmi</th>\n",
       "      <td>0.0134</td>\n",
       "      <td>0.0157</td>\n",
       "      <td>-0.0243</td>\n",
       "      <td>0.0334</td>\n",
       "      <td>0.0410</td>\n",
       "      <td>0.3268</td>\n",
       "    </tr>\n",
       "    <tr>\n",
       "      <th>elective_surgery</th>\n",
       "      <td>-0.0259</td>\n",
       "      <td>-0.1082</td>\n",
       "      <td>-0.1435</td>\n",
       "      <td>-0.2757</td>\n",
       "      <td>0.2055</td>\n",
       "      <td>0.1807</td>\n",
       "    </tr>\n",
       "    <tr>\n",
       "      <th>height</th>\n",
       "      <td>0.0235</td>\n",
       "      <td>-0.0195</td>\n",
       "      <td>-0.0057</td>\n",
       "      <td>-0.0455</td>\n",
       "      <td>-0.0168</td>\n",
       "      <td>0.1150</td>\n",
       "    </tr>\n",
       "    <tr>\n",
       "      <th>pre_icu_los_days</th>\n",
       "      <td>-0.0222</td>\n",
       "      <td>0.0166</td>\n",
       "      <td>0.0072</td>\n",
       "      <td>-0.0655</td>\n",
       "      <td>0.0314</td>\n",
       "      <td>0.0976</td>\n",
       "    </tr>\n",
       "    <tr>\n",
       "      <th>...</th>\n",
       "      <td>...</td>\n",
       "      <td>...</td>\n",
       "      <td>...</td>\n",
       "      <td>...</td>\n",
       "      <td>...</td>\n",
       "      <td>...</td>\n",
       "    </tr>\n",
       "    <tr>\n",
       "      <th>genderIndex</th>\n",
       "      <td>-0.0207</td>\n",
       "      <td>0.0245</td>\n",
       "      <td>0.0101</td>\n",
       "      <td>0.0414</td>\n",
       "      <td>0.0349</td>\n",
       "      <td>-0.1132</td>\n",
       "    </tr>\n",
       "    <tr>\n",
       "      <th>icu_admit_sourceIndex</th>\n",
       "      <td>-0.0187</td>\n",
       "      <td>-0.0007</td>\n",
       "      <td>-0.0134</td>\n",
       "      <td>-0.0579</td>\n",
       "      <td>0.0804</td>\n",
       "      <td>0.1266</td>\n",
       "    </tr>\n",
       "    <tr>\n",
       "      <th>icu_typeIndex</th>\n",
       "      <td>-0.0042</td>\n",
       "      <td>-0.0414</td>\n",
       "      <td>-0.0853</td>\n",
       "      <td>-0.0368</td>\n",
       "      <td>0.0158</td>\n",
       "      <td>0.0780</td>\n",
       "    </tr>\n",
       "    <tr>\n",
       "      <th>apache_3j_bodysystemIndex</th>\n",
       "      <td>0.0175</td>\n",
       "      <td>-0.0376</td>\n",
       "      <td>0.0109</td>\n",
       "      <td>-0.1643</td>\n",
       "      <td>0.1902</td>\n",
       "      <td>-0.1252</td>\n",
       "    </tr>\n",
       "    <tr>\n",
       "      <th>apache_2_bodysystemIndex</th>\n",
       "      <td>0.0071</td>\n",
       "      <td>-0.0644</td>\n",
       "      <td>-0.0380</td>\n",
       "      <td>-0.2227</td>\n",
       "      <td>0.2098</td>\n",
       "      <td>-0.0801</td>\n",
       "    </tr>\n",
       "  </tbody>\n",
       "</table>\n",
       "<p>78 rows × 6 columns</p>\n",
       "</div>"
      ],
      "text/plain": [
       "                              PC1     PC2     PC3     PC4     PC5     PC6\n",
       "age                       -0.0263  0.0135 -0.1041  0.1261 -0.0522  0.1461\n",
       "bmi                        0.0134  0.0157 -0.0243  0.0334  0.0410  0.3268\n",
       "elective_surgery          -0.0259 -0.1082 -0.1435 -0.2757  0.2055  0.1807\n",
       "height                     0.0235 -0.0195 -0.0057 -0.0455 -0.0168  0.1150\n",
       "pre_icu_los_days          -0.0222  0.0166  0.0072 -0.0655  0.0314  0.0976\n",
       "...                           ...     ...     ...     ...     ...     ...\n",
       "genderIndex               -0.0207  0.0245  0.0101  0.0414  0.0349 -0.1132\n",
       "icu_admit_sourceIndex     -0.0187 -0.0007 -0.0134 -0.0579  0.0804  0.1266\n",
       "icu_typeIndex             -0.0042 -0.0414 -0.0853 -0.0368  0.0158  0.0780\n",
       "apache_3j_bodysystemIndex  0.0175 -0.0376  0.0109 -0.1643  0.1902 -0.1252\n",
       "apache_2_bodysystemIndex   0.0071 -0.0644 -0.0380 -0.2227  0.2098 -0.0801\n",
       "\n",
       "[78 rows x 6 columns]"
      ]
     },
     "execution_count": 23,
     "metadata": {},
     "output_type": "execute_result"
    }
   ],
   "source": [
    "import pandas as pd\n",
    "\n",
    "cols = df_2.drop('hospital_death').columns\n",
    "cols\n",
    "\n",
    "pcs = np.round(model.pc.toArray(),4)\n",
    "df_pc = pd.DataFrame(pcs, columns = ['PC1','PC2','PC3','PC4','PC5','PC6'], index = cols)\n",
    "df_pc"
   ]
  },
  {
   "cell_type": "code",
   "execution_count": 29,
   "metadata": {},
   "outputs": [
    {
     "data": {
      "text/plain": [
       "h1_mbp_noninvasive_min       0.2339\n",
       "h1_mbp_min                   0.2338\n",
       "h1_mbp_noninvasive_max       0.2274\n",
       "h1_mbp_max                   0.2271\n",
       "h1_sysbp_min                 0.2191\n",
       "h1_sysbp_noninvasive_min     0.2191\n",
       "h1_sysbp_noninvasive_max     0.2141\n",
       "h1_diasbp_noninvasive_min    0.2137\n",
       "h1_diasbp_min                0.2137\n",
       "h1_sysbp_max                 0.2136\n",
       "Name: PC1, dtype: float64"
      ]
     },
     "execution_count": 29,
     "metadata": {},
     "output_type": "execute_result"
    }
   ],
   "source": [
    "pc1 = df_pc.loc[:,'PC1'].abs().sort_values(ascending=False)\n",
    "s1 = pc1[pc1 > 0.2]\n",
    "s1"
   ]
  },
  {
   "cell_type": "code",
   "execution_count": 37,
   "metadata": {},
   "outputs": [
    {
     "data": {
      "text/plain": [
       "Index(['h1_mbp_noninvasive_min', 'h1_mbp_min', 'h1_mbp_noninvasive_max',\n",
       "       'h1_mbp_max', 'h1_sysbp_min', 'h1_sysbp_noninvasive_min',\n",
       "       'h1_sysbp_noninvasive_max', 'h1_diasbp_noninvasive_min',\n",
       "       'h1_diasbp_min', 'h1_sysbp_max'],\n",
       "      dtype='object')"
      ]
     },
     "execution_count": 37,
     "metadata": {},
     "output_type": "execute_result"
    }
   ],
   "source": [
    "s1index=s1.index\n",
    "s1index"
   ]
  },
  {
   "cell_type": "code",
   "execution_count": 31,
   "metadata": {},
   "outputs": [
    {
     "data": {
      "text/plain": [
       "d1_heartrate_max                 0.2308\n",
       "apache_4a_hospital_death_prob    0.2152\n",
       "apache_4a_icu_death_prob         0.2044\n",
       "h1_heartrate_max                 0.2035\n",
       "Name: PC2, dtype: float64"
      ]
     },
     "execution_count": 31,
     "metadata": {},
     "output_type": "execute_result"
    }
   ],
   "source": [
    "pc2 = df_pc.loc[:,'PC2'].abs().sort_values(ascending=False)\n",
    "s2 = pc2[pc2 > 0.2]\n",
    "s2"
   ]
  },
  {
   "cell_type": "code",
   "execution_count": 36,
   "metadata": {},
   "outputs": [
    {
     "data": {
      "text/plain": [
       "Index(['d1_heartrate_max', 'apache_4a_hospital_death_prob',\n",
       "       'apache_4a_icu_death_prob', 'h1_heartrate_max'],\n",
       "      dtype='object')"
      ]
     },
     "execution_count": 36,
     "metadata": {},
     "output_type": "execute_result"
    }
   ],
   "source": [
    "s2index=s2.index\n",
    "s2index"
   ]
  },
  {
   "cell_type": "code",
   "execution_count": 33,
   "metadata": {},
   "outputs": [
    {
     "data": {
      "text/plain": [
       "h1_heartrate_min     0.3320\n",
       "d1_heartrate_min     0.3039\n",
       "h1_heartrate_max     0.2887\n",
       "heart_rate_apache    0.2753\n",
       "h1_resprate_min      0.2413\n",
       "d1_heartrate_max     0.2347\n",
       "d1_resprate_min      0.2167\n",
       "Name: PC3, dtype: float64"
      ]
     },
     "execution_count": 33,
     "metadata": {},
     "output_type": "execute_result"
    }
   ],
   "source": [
    "pc3 = df_pc.loc[:,'PC3'].abs().sort_values(ascending=False)\n",
    "s3 = pc3[pc3 > 0.2]\n",
    "s3"
   ]
  },
  {
   "cell_type": "code",
   "execution_count": 38,
   "metadata": {},
   "outputs": [
    {
     "data": {
      "text/plain": [
       "Index(['h1_heartrate_min', 'd1_heartrate_min', 'h1_heartrate_max',\n",
       "       'heart_rate_apache', 'h1_resprate_min', 'd1_heartrate_max',\n",
       "       'd1_resprate_min'],\n",
       "      dtype='object')"
      ]
     },
     "execution_count": 38,
     "metadata": {},
     "output_type": "execute_result"
    }
   ],
   "source": [
    "s3index=s3.index\n",
    "s3index"
   ]
  },
  {
   "cell_type": "code",
   "execution_count": 41,
   "metadata": {},
   "outputs": [
    {
     "data": {
      "text/plain": [
       "Index(['apache_4a_hospital_death_prob', 'apache_4a_icu_death_prob',\n",
       "       'd1_heartrate_max', 'd1_heartrate_min', 'd1_resprate_min',\n",
       "       'h1_diasbp_min', 'h1_diasbp_noninvasive_min', 'h1_heartrate_max',\n",
       "       'h1_heartrate_min', 'h1_mbp_max', 'h1_mbp_min',\n",
       "       'h1_mbp_noninvasive_max', 'h1_mbp_noninvasive_min', 'h1_resprate_min',\n",
       "       'h1_sysbp_max', 'h1_sysbp_min', 'h1_sysbp_noninvasive_max',\n",
       "       'h1_sysbp_noninvasive_min', 'heart_rate_apache'],\n",
       "      dtype='object')"
      ]
     },
     "execution_count": 41,
     "metadata": {},
     "output_type": "execute_result"
    }
   ],
   "source": [
    "#Union the series indices\n",
    "\n",
    "s3index.union(s2index).union(s1index)"
   ]
  }
 ],
 "metadata": {
  "kernelspec": {
   "display_name": "Python 3",
   "language": "python",
   "name": "python3"
  },
  "language_info": {
   "codemirror_mode": {
    "name": "ipython",
    "version": 3
   },
   "file_extension": ".py",
   "mimetype": "text/x-python",
   "name": "python",
   "nbconvert_exporter": "python",
   "pygments_lexer": "ipython3",
   "version": "3.7.4"
  }
 },
 "nbformat": 4,
 "nbformat_minor": 4
}
